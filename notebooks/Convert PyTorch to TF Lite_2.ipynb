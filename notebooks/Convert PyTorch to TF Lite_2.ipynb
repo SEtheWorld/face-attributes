{
 "cells": [
  {
   "cell_type": "code",
   "execution_count": 9,
   "metadata": {},
   "outputs": [],
   "source": [
    "import torch.nn as nn\n",
    "import torch\n",
    "import timm\n",
    "import torch.nn.functional as F\n",
    "import matplotlib.pyplot as plt\n",
    "import numpy as np\n",
    "import pandas as pd\n",
    "import cv2\n",
    "import torchvision\n",
    "import albumentations as A\n",
    "from albumentations.pytorch.transforms import ToTensorV2"
   ]
  },
  {
   "cell_type": "code",
   "execution_count": 2,
   "metadata": {},
   "outputs": [],
   "source": [
    "class Net(nn.Module):\n",
    "    def __init__(self, params):\n",
    "        super(Net, self).__init__()\n",
    "    \n",
    "    def forward(self, x):\n",
    "        return x"
   ]
  },
  {
   "cell_type": "code",
   "execution_count": 28,
   "metadata": {},
   "outputs": [],
   "source": [
    "def __init__(self, params):\n",
    "    super(Net, self).__init__()\n",
    "    \n",
    "    C_in,H_in,W_in=params[\"input_shape\"] \n",
    "    self.dropout_rate=params[\"drop_rate\"] \n",
    "    self.num_fc1 = params[\"num_fc1\"]\n",
    "\n",
    "    mobilenet_v2 = torchvision.models.mobilenet_v2(pretrained=True) \n",
    "    \n",
    "    in_features = mobilenet_v2.classifier[1].in_features\n",
    "    \n",
    "    mobilenet_v2.classifier[1] = nn.Linear(in_features, self.num_fc1)\n",
    "    \n",
    "    self.backbone = nn.Sequential(\n",
    "                    mobilenet_v2,\n",
    "                    nn.BatchNorm1d(num_features=self.num_fc1),\n",
    "                    nn.ReLU()\n",
    "    )\n",
    "    \n",
    "    self.gender_head = nn.Sequential(\n",
    "                            nn.Dropout(p=self.dropout_rate),\n",
    "                            nn.Linear(self.num_fc1, 1),\n",
    "                            nn.Sigmoid()\n",
    "    )\n",
    "    \n",
    "    self.age_head = nn.Sequential(\n",
    "                    nn.Linear(self.num_fc1, 1)\n",
    "    )\n"
   ]
  },
  {
   "cell_type": "code",
   "execution_count": 29,
   "metadata": {},
   "outputs": [],
   "source": [
    "def forward(self, x):\n",
    "    x = self.backbone(x)  \n",
    "    \n",
    "    gender = self.gender_head(x)\n",
    "    age = self.age_head(x)\n",
    "    \n",
    "    return age, gender"
   ]
  },
  {
   "cell_type": "code",
   "execution_count": 34,
   "metadata": {
    "scrolled": true
   },
   "outputs": [
    {
     "name": "stdout",
     "output_type": "stream",
     "text": [
      "Let's use 4 GPUs!\n"
     ]
    }
   ],
   "source": [
    "Net.__init__= __init__\n",
    "Net.forward = forward\n",
    "\n",
    "params_model={\n",
    "        \"input_shape\": (3,224,224),\n",
    "        \"drop_rate\" : 0.2,\n",
    "        \"num_fc1\" : 512,\n",
    "    }\n",
    "\n",
    "model = Net(params_model)\n",
    "\n",
    "# def replace_nnHar_to_SiLU(model):\n",
    "#     for child_name, child in model.named_children():\n",
    "#         if isinstance(child, nn.SiLU):\n",
    "#             setattr(model, child_name, SiLU())\n",
    "#         else:\n",
    "#             replace_nnSiLU_to_SiLU(child)\n",
    "            \n",
    "# replace_nnSiLU_to_SiLU(model)\n",
    "\n",
    "if torch.cuda.device_count() > 1:\n",
    "    print(\"Let's use\", torch.cuda.device_count(), \"GPUs!\")\n",
    "    model = nn.DataParallel(model)"
   ]
  },
  {
   "cell_type": "code",
   "execution_count": 35,
   "metadata": {},
   "outputs": [
    {
     "data": {
      "text/plain": [
       "<All keys matched successfully>"
      ]
     },
     "execution_count": 35,
     "metadata": {},
     "output_type": "execute_result"
    }
   ],
   "source": [
    "checkpoint = torch.load('../models/exp_2021_01_13-15_40_32/best_checkpoints.bin')\n",
    "model.load_state_dict(checkpoint['model_state_dict'])"
   ]
  },
  {
   "cell_type": "code",
   "execution_count": 36,
   "metadata": {},
   "outputs": [],
   "source": [
    "if isinstance(model, torch.nn.DataParallel):\n",
    "        model = model.module"
   ]
  },
  {
   "cell_type": "code",
   "execution_count": 39,
   "metadata": {},
   "outputs": [],
   "source": [
    "torch.save(model.state_dict(), '../models/age_gender_mobilev2.pt')"
   ]
  },
  {
   "cell_type": "code",
   "execution_count": 13,
   "metadata": {},
   "outputs": [
    {
     "data": {
      "text/plain": [
       "Net(\n",
       "  (backbone): Sequential(\n",
       "    (0): MobileNetV2(\n",
       "      (features): Sequential(\n",
       "        (0): ConvBNReLU(\n",
       "          (0): Conv2d(3, 32, kernel_size=(3, 3), stride=(2, 2), padding=(1, 1), bias=False)\n",
       "          (1): BatchNorm2d(32, eps=1e-05, momentum=0.1, affine=True, track_running_stats=True)\n",
       "          (2): ReLU6(inplace=True)\n",
       "        )\n",
       "        (1): InvertedResidual(\n",
       "          (conv): Sequential(\n",
       "            (0): ConvBNReLU(\n",
       "              (0): Conv2d(32, 32, kernel_size=(3, 3), stride=(1, 1), padding=(1, 1), groups=32, bias=False)\n",
       "              (1): BatchNorm2d(32, eps=1e-05, momentum=0.1, affine=True, track_running_stats=True)\n",
       "              (2): ReLU6(inplace=True)\n",
       "            )\n",
       "            (1): Conv2d(32, 16, kernel_size=(1, 1), stride=(1, 1), bias=False)\n",
       "            (2): BatchNorm2d(16, eps=1e-05, momentum=0.1, affine=True, track_running_stats=True)\n",
       "          )\n",
       "        )\n",
       "        (2): InvertedResidual(\n",
       "          (conv): Sequential(\n",
       "            (0): ConvBNReLU(\n",
       "              (0): Conv2d(16, 96, kernel_size=(1, 1), stride=(1, 1), bias=False)\n",
       "              (1): BatchNorm2d(96, eps=1e-05, momentum=0.1, affine=True, track_running_stats=True)\n",
       "              (2): ReLU6(inplace=True)\n",
       "            )\n",
       "            (1): ConvBNReLU(\n",
       "              (0): Conv2d(96, 96, kernel_size=(3, 3), stride=(2, 2), padding=(1, 1), groups=96, bias=False)\n",
       "              (1): BatchNorm2d(96, eps=1e-05, momentum=0.1, affine=True, track_running_stats=True)\n",
       "              (2): ReLU6(inplace=True)\n",
       "            )\n",
       "            (2): Conv2d(96, 24, kernel_size=(1, 1), stride=(1, 1), bias=False)\n",
       "            (3): BatchNorm2d(24, eps=1e-05, momentum=0.1, affine=True, track_running_stats=True)\n",
       "          )\n",
       "        )\n",
       "        (3): InvertedResidual(\n",
       "          (conv): Sequential(\n",
       "            (0): ConvBNReLU(\n",
       "              (0): Conv2d(24, 144, kernel_size=(1, 1), stride=(1, 1), bias=False)\n",
       "              (1): BatchNorm2d(144, eps=1e-05, momentum=0.1, affine=True, track_running_stats=True)\n",
       "              (2): ReLU6(inplace=True)\n",
       "            )\n",
       "            (1): ConvBNReLU(\n",
       "              (0): Conv2d(144, 144, kernel_size=(3, 3), stride=(1, 1), padding=(1, 1), groups=144, bias=False)\n",
       "              (1): BatchNorm2d(144, eps=1e-05, momentum=0.1, affine=True, track_running_stats=True)\n",
       "              (2): ReLU6(inplace=True)\n",
       "            )\n",
       "            (2): Conv2d(144, 24, kernel_size=(1, 1), stride=(1, 1), bias=False)\n",
       "            (3): BatchNorm2d(24, eps=1e-05, momentum=0.1, affine=True, track_running_stats=True)\n",
       "          )\n",
       "        )\n",
       "        (4): InvertedResidual(\n",
       "          (conv): Sequential(\n",
       "            (0): ConvBNReLU(\n",
       "              (0): Conv2d(24, 144, kernel_size=(1, 1), stride=(1, 1), bias=False)\n",
       "              (1): BatchNorm2d(144, eps=1e-05, momentum=0.1, affine=True, track_running_stats=True)\n",
       "              (2): ReLU6(inplace=True)\n",
       "            )\n",
       "            (1): ConvBNReLU(\n",
       "              (0): Conv2d(144, 144, kernel_size=(3, 3), stride=(2, 2), padding=(1, 1), groups=144, bias=False)\n",
       "              (1): BatchNorm2d(144, eps=1e-05, momentum=0.1, affine=True, track_running_stats=True)\n",
       "              (2): ReLU6(inplace=True)\n",
       "            )\n",
       "            (2): Conv2d(144, 32, kernel_size=(1, 1), stride=(1, 1), bias=False)\n",
       "            (3): BatchNorm2d(32, eps=1e-05, momentum=0.1, affine=True, track_running_stats=True)\n",
       "          )\n",
       "        )\n",
       "        (5): InvertedResidual(\n",
       "          (conv): Sequential(\n",
       "            (0): ConvBNReLU(\n",
       "              (0): Conv2d(32, 192, kernel_size=(1, 1), stride=(1, 1), bias=False)\n",
       "              (1): BatchNorm2d(192, eps=1e-05, momentum=0.1, affine=True, track_running_stats=True)\n",
       "              (2): ReLU6(inplace=True)\n",
       "            )\n",
       "            (1): ConvBNReLU(\n",
       "              (0): Conv2d(192, 192, kernel_size=(3, 3), stride=(1, 1), padding=(1, 1), groups=192, bias=False)\n",
       "              (1): BatchNorm2d(192, eps=1e-05, momentum=0.1, affine=True, track_running_stats=True)\n",
       "              (2): ReLU6(inplace=True)\n",
       "            )\n",
       "            (2): Conv2d(192, 32, kernel_size=(1, 1), stride=(1, 1), bias=False)\n",
       "            (3): BatchNorm2d(32, eps=1e-05, momentum=0.1, affine=True, track_running_stats=True)\n",
       "          )\n",
       "        )\n",
       "        (6): InvertedResidual(\n",
       "          (conv): Sequential(\n",
       "            (0): ConvBNReLU(\n",
       "              (0): Conv2d(32, 192, kernel_size=(1, 1), stride=(1, 1), bias=False)\n",
       "              (1): BatchNorm2d(192, eps=1e-05, momentum=0.1, affine=True, track_running_stats=True)\n",
       "              (2): ReLU6(inplace=True)\n",
       "            )\n",
       "            (1): ConvBNReLU(\n",
       "              (0): Conv2d(192, 192, kernel_size=(3, 3), stride=(1, 1), padding=(1, 1), groups=192, bias=False)\n",
       "              (1): BatchNorm2d(192, eps=1e-05, momentum=0.1, affine=True, track_running_stats=True)\n",
       "              (2): ReLU6(inplace=True)\n",
       "            )\n",
       "            (2): Conv2d(192, 32, kernel_size=(1, 1), stride=(1, 1), bias=False)\n",
       "            (3): BatchNorm2d(32, eps=1e-05, momentum=0.1, affine=True, track_running_stats=True)\n",
       "          )\n",
       "        )\n",
       "        (7): InvertedResidual(\n",
       "          (conv): Sequential(\n",
       "            (0): ConvBNReLU(\n",
       "              (0): Conv2d(32, 192, kernel_size=(1, 1), stride=(1, 1), bias=False)\n",
       "              (1): BatchNorm2d(192, eps=1e-05, momentum=0.1, affine=True, track_running_stats=True)\n",
       "              (2): ReLU6(inplace=True)\n",
       "            )\n",
       "            (1): ConvBNReLU(\n",
       "              (0): Conv2d(192, 192, kernel_size=(3, 3), stride=(2, 2), padding=(1, 1), groups=192, bias=False)\n",
       "              (1): BatchNorm2d(192, eps=1e-05, momentum=0.1, affine=True, track_running_stats=True)\n",
       "              (2): ReLU6(inplace=True)\n",
       "            )\n",
       "            (2): Conv2d(192, 64, kernel_size=(1, 1), stride=(1, 1), bias=False)\n",
       "            (3): BatchNorm2d(64, eps=1e-05, momentum=0.1, affine=True, track_running_stats=True)\n",
       "          )\n",
       "        )\n",
       "        (8): InvertedResidual(\n",
       "          (conv): Sequential(\n",
       "            (0): ConvBNReLU(\n",
       "              (0): Conv2d(64, 384, kernel_size=(1, 1), stride=(1, 1), bias=False)\n",
       "              (1): BatchNorm2d(384, eps=1e-05, momentum=0.1, affine=True, track_running_stats=True)\n",
       "              (2): ReLU6(inplace=True)\n",
       "            )\n",
       "            (1): ConvBNReLU(\n",
       "              (0): Conv2d(384, 384, kernel_size=(3, 3), stride=(1, 1), padding=(1, 1), groups=384, bias=False)\n",
       "              (1): BatchNorm2d(384, eps=1e-05, momentum=0.1, affine=True, track_running_stats=True)\n",
       "              (2): ReLU6(inplace=True)\n",
       "            )\n",
       "            (2): Conv2d(384, 64, kernel_size=(1, 1), stride=(1, 1), bias=False)\n",
       "            (3): BatchNorm2d(64, eps=1e-05, momentum=0.1, affine=True, track_running_stats=True)\n",
       "          )\n",
       "        )\n",
       "        (9): InvertedResidual(\n",
       "          (conv): Sequential(\n",
       "            (0): ConvBNReLU(\n",
       "              (0): Conv2d(64, 384, kernel_size=(1, 1), stride=(1, 1), bias=False)\n",
       "              (1): BatchNorm2d(384, eps=1e-05, momentum=0.1, affine=True, track_running_stats=True)\n",
       "              (2): ReLU6(inplace=True)\n",
       "            )\n",
       "            (1): ConvBNReLU(\n",
       "              (0): Conv2d(384, 384, kernel_size=(3, 3), stride=(1, 1), padding=(1, 1), groups=384, bias=False)\n",
       "              (1): BatchNorm2d(384, eps=1e-05, momentum=0.1, affine=True, track_running_stats=True)\n",
       "              (2): ReLU6(inplace=True)\n",
       "            )\n",
       "            (2): Conv2d(384, 64, kernel_size=(1, 1), stride=(1, 1), bias=False)\n",
       "            (3): BatchNorm2d(64, eps=1e-05, momentum=0.1, affine=True, track_running_stats=True)\n",
       "          )\n",
       "        )\n",
       "        (10): InvertedResidual(\n",
       "          (conv): Sequential(\n",
       "            (0): ConvBNReLU(\n",
       "              (0): Conv2d(64, 384, kernel_size=(1, 1), stride=(1, 1), bias=False)\n",
       "              (1): BatchNorm2d(384, eps=1e-05, momentum=0.1, affine=True, track_running_stats=True)\n",
       "              (2): ReLU6(inplace=True)\n",
       "            )\n",
       "            (1): ConvBNReLU(\n",
       "              (0): Conv2d(384, 384, kernel_size=(3, 3), stride=(1, 1), padding=(1, 1), groups=384, bias=False)\n",
       "              (1): BatchNorm2d(384, eps=1e-05, momentum=0.1, affine=True, track_running_stats=True)\n",
       "              (2): ReLU6(inplace=True)\n",
       "            )\n",
       "            (2): Conv2d(384, 64, kernel_size=(1, 1), stride=(1, 1), bias=False)\n",
       "            (3): BatchNorm2d(64, eps=1e-05, momentum=0.1, affine=True, track_running_stats=True)\n",
       "          )\n",
       "        )\n",
       "        (11): InvertedResidual(\n",
       "          (conv): Sequential(\n",
       "            (0): ConvBNReLU(\n",
       "              (0): Conv2d(64, 384, kernel_size=(1, 1), stride=(1, 1), bias=False)\n",
       "              (1): BatchNorm2d(384, eps=1e-05, momentum=0.1, affine=True, track_running_stats=True)\n",
       "              (2): ReLU6(inplace=True)\n",
       "            )\n",
       "            (1): ConvBNReLU(\n",
       "              (0): Conv2d(384, 384, kernel_size=(3, 3), stride=(1, 1), padding=(1, 1), groups=384, bias=False)\n",
       "              (1): BatchNorm2d(384, eps=1e-05, momentum=0.1, affine=True, track_running_stats=True)\n",
       "              (2): ReLU6(inplace=True)\n",
       "            )\n",
       "            (2): Conv2d(384, 96, kernel_size=(1, 1), stride=(1, 1), bias=False)\n",
       "            (3): BatchNorm2d(96, eps=1e-05, momentum=0.1, affine=True, track_running_stats=True)\n",
       "          )\n",
       "        )\n",
       "        (12): InvertedResidual(\n",
       "          (conv): Sequential(\n",
       "            (0): ConvBNReLU(\n",
       "              (0): Conv2d(96, 576, kernel_size=(1, 1), stride=(1, 1), bias=False)\n",
       "              (1): BatchNorm2d(576, eps=1e-05, momentum=0.1, affine=True, track_running_stats=True)\n",
       "              (2): ReLU6(inplace=True)\n",
       "            )\n",
       "            (1): ConvBNReLU(\n",
       "              (0): Conv2d(576, 576, kernel_size=(3, 3), stride=(1, 1), padding=(1, 1), groups=576, bias=False)\n",
       "              (1): BatchNorm2d(576, eps=1e-05, momentum=0.1, affine=True, track_running_stats=True)\n",
       "              (2): ReLU6(inplace=True)\n",
       "            )\n",
       "            (2): Conv2d(576, 96, kernel_size=(1, 1), stride=(1, 1), bias=False)\n",
       "            (3): BatchNorm2d(96, eps=1e-05, momentum=0.1, affine=True, track_running_stats=True)\n",
       "          )\n",
       "        )\n",
       "        (13): InvertedResidual(\n",
       "          (conv): Sequential(\n",
       "            (0): ConvBNReLU(\n",
       "              (0): Conv2d(96, 576, kernel_size=(1, 1), stride=(1, 1), bias=False)\n",
       "              (1): BatchNorm2d(576, eps=1e-05, momentum=0.1, affine=True, track_running_stats=True)\n",
       "              (2): ReLU6(inplace=True)\n",
       "            )\n",
       "            (1): ConvBNReLU(\n",
       "              (0): Conv2d(576, 576, kernel_size=(3, 3), stride=(1, 1), padding=(1, 1), groups=576, bias=False)\n",
       "              (1): BatchNorm2d(576, eps=1e-05, momentum=0.1, affine=True, track_running_stats=True)\n",
       "              (2): ReLU6(inplace=True)\n",
       "            )\n",
       "            (2): Conv2d(576, 96, kernel_size=(1, 1), stride=(1, 1), bias=False)\n",
       "            (3): BatchNorm2d(96, eps=1e-05, momentum=0.1, affine=True, track_running_stats=True)\n",
       "          )\n",
       "        )\n",
       "        (14): InvertedResidual(\n",
       "          (conv): Sequential(\n",
       "            (0): ConvBNReLU(\n",
       "              (0): Conv2d(96, 576, kernel_size=(1, 1), stride=(1, 1), bias=False)\n",
       "              (1): BatchNorm2d(576, eps=1e-05, momentum=0.1, affine=True, track_running_stats=True)\n",
       "              (2): ReLU6(inplace=True)\n",
       "            )\n",
       "            (1): ConvBNReLU(\n",
       "              (0): Conv2d(576, 576, kernel_size=(3, 3), stride=(2, 2), padding=(1, 1), groups=576, bias=False)\n",
       "              (1): BatchNorm2d(576, eps=1e-05, momentum=0.1, affine=True, track_running_stats=True)\n",
       "              (2): ReLU6(inplace=True)\n",
       "            )\n",
       "            (2): Conv2d(576, 160, kernel_size=(1, 1), stride=(1, 1), bias=False)\n",
       "            (3): BatchNorm2d(160, eps=1e-05, momentum=0.1, affine=True, track_running_stats=True)\n",
       "          )\n",
       "        )\n",
       "        (15): InvertedResidual(\n",
       "          (conv): Sequential(\n",
       "            (0): ConvBNReLU(\n",
       "              (0): Conv2d(160, 960, kernel_size=(1, 1), stride=(1, 1), bias=False)\n",
       "              (1): BatchNorm2d(960, eps=1e-05, momentum=0.1, affine=True, track_running_stats=True)\n",
       "              (2): ReLU6(inplace=True)\n",
       "            )\n",
       "            (1): ConvBNReLU(\n",
       "              (0): Conv2d(960, 960, kernel_size=(3, 3), stride=(1, 1), padding=(1, 1), groups=960, bias=False)\n",
       "              (1): BatchNorm2d(960, eps=1e-05, momentum=0.1, affine=True, track_running_stats=True)\n",
       "              (2): ReLU6(inplace=True)\n",
       "            )\n",
       "            (2): Conv2d(960, 160, kernel_size=(1, 1), stride=(1, 1), bias=False)\n",
       "            (3): BatchNorm2d(160, eps=1e-05, momentum=0.1, affine=True, track_running_stats=True)\n",
       "          )\n",
       "        )\n",
       "        (16): InvertedResidual(\n",
       "          (conv): Sequential(\n",
       "            (0): ConvBNReLU(\n",
       "              (0): Conv2d(160, 960, kernel_size=(1, 1), stride=(1, 1), bias=False)\n",
       "              (1): BatchNorm2d(960, eps=1e-05, momentum=0.1, affine=True, track_running_stats=True)\n",
       "              (2): ReLU6(inplace=True)\n",
       "            )\n",
       "            (1): ConvBNReLU(\n",
       "              (0): Conv2d(960, 960, kernel_size=(3, 3), stride=(1, 1), padding=(1, 1), groups=960, bias=False)\n",
       "              (1): BatchNorm2d(960, eps=1e-05, momentum=0.1, affine=True, track_running_stats=True)\n",
       "              (2): ReLU6(inplace=True)\n",
       "            )\n",
       "            (2): Conv2d(960, 160, kernel_size=(1, 1), stride=(1, 1), bias=False)\n",
       "            (3): BatchNorm2d(160, eps=1e-05, momentum=0.1, affine=True, track_running_stats=True)\n",
       "          )\n",
       "        )\n",
       "        (17): InvertedResidual(\n",
       "          (conv): Sequential(\n",
       "            (0): ConvBNReLU(\n",
       "              (0): Conv2d(160, 960, kernel_size=(1, 1), stride=(1, 1), bias=False)\n",
       "              (1): BatchNorm2d(960, eps=1e-05, momentum=0.1, affine=True, track_running_stats=True)\n",
       "              (2): ReLU6(inplace=True)\n",
       "            )\n",
       "            (1): ConvBNReLU(\n",
       "              (0): Conv2d(960, 960, kernel_size=(3, 3), stride=(1, 1), padding=(1, 1), groups=960, bias=False)\n",
       "              (1): BatchNorm2d(960, eps=1e-05, momentum=0.1, affine=True, track_running_stats=True)\n",
       "              (2): ReLU6(inplace=True)\n",
       "            )\n",
       "            (2): Conv2d(960, 320, kernel_size=(1, 1), stride=(1, 1), bias=False)\n",
       "            (3): BatchNorm2d(320, eps=1e-05, momentum=0.1, affine=True, track_running_stats=True)\n",
       "          )\n",
       "        )\n",
       "        (18): ConvBNReLU(\n",
       "          (0): Conv2d(320, 1280, kernel_size=(1, 1), stride=(1, 1), bias=False)\n",
       "          (1): BatchNorm2d(1280, eps=1e-05, momentum=0.1, affine=True, track_running_stats=True)\n",
       "          (2): ReLU6(inplace=True)\n",
       "        )\n",
       "      )\n",
       "      (classifier): Sequential(\n",
       "        (0): Dropout(p=0.2, inplace=False)\n",
       "        (1): Linear(in_features=1280, out_features=512, bias=True)\n",
       "      )\n",
       "    )\n",
       "    (1): BatchNorm1d(512, eps=1e-05, momentum=0.1, affine=True, track_running_stats=True)\n",
       "    (2): ReLU()\n",
       "  )\n",
       "  (gender_head): Sequential(\n",
       "    (0): Dropout(p=0.2, inplace=False)\n",
       "    (1): Linear(in_features=512, out_features=1, bias=True)\n",
       "    (2): Sigmoid()\n",
       "  )\n",
       "  (age_head): Sequential(\n",
       "    (0): Linear(in_features=512, out_features=1, bias=True)\n",
       "  )\n",
       ")"
      ]
     },
     "execution_count": 13,
     "metadata": {},
     "output_type": "execute_result"
    }
   ],
   "source": [
    "model.eval()"
   ]
  },
  {
   "cell_type": "code",
   "execution_count": 14,
   "metadata": {},
   "outputs": [],
   "source": [
    "import torch.onnx"
   ]
  },
  {
   "cell_type": "code",
   "execution_count": 15,
   "metadata": {},
   "outputs": [],
   "source": [
    "# Input to the model\n",
    "batch_size = 1    # just a random number\n",
    "\n",
    "x = torch.randn(1, 3, 224, 224, requires_grad=True)\n",
    "torch_out = model(x)\n",
    "\n",
    "ONNX_PATH = '../models/age_gender_mobilenet_v2.onnx'\n",
    "\n",
    "# Export the model\n",
    "torch.onnx.export(\n",
    "                  model,               # model being run\n",
    "                  x,                         # model input (or a tuple for multiple inputs)\n",
    "                  f = ONNX_PATH,   # where to save the model (can be a file or file-like object)\n",
    "                  export_params=True,        # store the trained parameter weights inside the model file\n",
    "                  opset_version=12,          # the ONNX version to export the model to\n",
    "                  verbose = False,\n",
    "                  do_constant_folding=True,  # whether to execute constant folding for optimization\n",
    "                  input_names = ['input'],   # the model's input names\n",
    "                  output_names = ['output_age', 'output_gender'] # the model's output names\n",
    "                 )"
   ]
  },
  {
   "cell_type": "code",
   "execution_count": 16,
   "metadata": {},
   "outputs": [
    {
     "data": {
      "text/plain": [
       "'1.7.0'"
      ]
     },
     "execution_count": 16,
     "metadata": {},
     "output_type": "execute_result"
    }
   ],
   "source": [
    "torch.__version__"
   ]
  },
  {
   "cell_type": "code",
   "execution_count": 17,
   "metadata": {},
   "outputs": [],
   "source": [
    "import onnx\n",
    "\n",
    "onnx_model = onnx.load(\"../models/age_gender_mobilenet_v2.onnx\")\n",
    "onnx.checker.check_model(onnx_model)"
   ]
  },
  {
   "cell_type": "code",
   "execution_count": 18,
   "metadata": {},
   "outputs": [
    {
     "name": "stdout",
     "output_type": "stream",
     "text": [
      "Exported model has been tested with ONNXRuntime, and the result looks good!\n",
      "Exported model has been tested with ONNXRuntime, and the result looks good!\n"
     ]
    }
   ],
   "source": [
    "import onnxruntime\n",
    "\n",
    "ort_session = onnxruntime.InferenceSession(\"../models/age_gender_mobilenet_v2.onnx\")\n",
    "\n",
    "def to_numpy(tensor):\n",
    "    return tensor.detach().cpu().numpy() if tensor.requires_grad else tensor.cpu().numpy()\n",
    "\n",
    "# compute ONNX Runtime output prediction\n",
    "ort_inputs = {ort_session.get_inputs()[0].name: to_numpy(x)}\n",
    "ort_outs = ort_session.run(None, ort_inputs)\n",
    "\n",
    "# compare ONNX Runtime and PyTorch results\n",
    "for i, result in enumerate(torch_out):\n",
    "    np.testing.assert_allclose(to_numpy(result), ort_outs[i], rtol=1e-03, atol=1e-05)\n",
    "    print(\"Exported model has been tested with ONNXRuntime, and the result looks good!\")"
   ]
  },
  {
   "cell_type": "code",
   "execution_count": 19,
   "metadata": {},
   "outputs": [],
   "source": [
    "meanR,meanG,meanB = 0.54568475 ,0.42776844 ,0.3761094\n",
    "stdR,stdG,stdB = 0.21924357, 0.18996198, 0.17315607\n",
    "\n",
    "def get_val_transforms():\n",
    "    return A.Compose([\n",
    "        A.Resize(224, 224),\n",
    "        A.Normalize(mean=(meanR,meanG,meanB), std=(stdR,stdG,stdB)),\n",
    "        ToTensorV2(),\n",
    "    ])\n",
    "\n",
    "df = pd.read_csv(\"/home/Data/all/testing.csv\")\n",
    "img = cv2.imread(df['file_name'][500], cv2.IMREAD_COLOR)\n",
    "\n",
    "out = img.copy()\n",
    "\n",
    "img = cv2.cvtColor(img, cv2.COLOR_BGR2RGB).astype('float32')\n",
    "\n",
    "img /= 255.0\n",
    "\n",
    "img = get_val_transforms()(image = img)['image']\n",
    "\n",
    "age, gender = df['age'][0], df['gender'][0]\n",
    "\n",
    "img = torch.unsqueeze(img, 0)\n",
    "\n",
    "ort_inputs = {ort_session.get_inputs()[0].name: to_numpy(img)}\n",
    "ort_outs = ort_session.run(None, ort_inputs)\n",
    "img_out_age = ort_outs[0]\n",
    "img_out_gd = ort_outs[1]"
   ]
  },
  {
   "cell_type": "code",
   "execution_count": 20,
   "metadata": {
    "scrolled": true
   },
   "outputs": [
    {
     "data": {
      "text/plain": [
       "Text(0.5, 1.0, 'Age :21-[[28.305607]], Gender: 0-[[0.8280318]]')"
      ]
     },
     "execution_count": 20,
     "metadata": {},
     "output_type": "execute_result"
    },
    {
     "data": {
      "image/png": "[encoded data removed]",
      "text/plain": [
       "<Figure size 432x288 with 1 Axes>"
      ]
     },
     "metadata": {
      "needs_background": "light"
     },
     "output_type": "display_data"
    }
   ],
   "source": [
    "plt.imshow(out)\n",
    "plt.title(f'Age :{age}-{img_out_age}, Gender: {gender}-{img_out_gd}')"
   ]
  },
  {
   "cell_type": "code",
   "execution_count": 25,
   "metadata": {},
   "outputs": [
    {
     "name": "stderr",
     "output_type": "stream",
     "text": [
      "2021-01-13 18:15:08,700 - onnx-tf - INFO - Unknown op ConstantFill in domain `ai.onnx`.\n",
      "INFO:onnx-tf:Unknown op ConstantFill in domain `ai.onnx`.\n",
      "2021-01-13 18:15:08,703 - onnx-tf - INFO - Unknown op ImageScaler in domain `ai.onnx`.\n",
      "INFO:onnx-tf:Unknown op ImageScaler in domain `ai.onnx`.\n"
     ]
    },
    {
     "name": "stdout",
     "output_type": "stream",
     "text": [
      "inputs: ['input']\n",
      "outputs: ['output_age', 'output_gender']\n",
      "tensor_dict:\n",
      "{'559': <tf.Tensor '559:0' shape=(32, 3, 3, 3) dtype=float32>, '560': <tf.Tensor '560:0' shape=(32,) dtype=float32>, '562': <tf.Tensor '562:0' shape=(32, 1, 3, 3) dtype=float32>, '563': <tf.Tensor '563:0' shape=(32,) dtype=float32>, '565': <tf.Tensor '565:0' shape=(16, 32, 1, 1) dtype=float32>, '566': <tf.Tensor '566:0' shape=(16,) dtype=float32>, '568': <tf.Tensor '568:0' shape=(96, 16, 1, 1) dtype=float32>, '569': <tf.Tensor '569:0' shape=(96,) dtype=float32>, '571': <tf.Tensor '571:0' shape=(96, 1, 3, 3) dtype=float32>, '572': <tf.Tensor '572:0' shape=(96,) dtype=float32>, '574': <tf.Tensor '574:0' shape=(24, 96, 1, 1) dtype=float32>, '575': <tf.Tensor '575:0' shape=(24,) dtype=float32>, '577': <tf.Tensor '577:0' shape=(144, 24, 1, 1) dtype=float32>, '578': <tf.Tensor '578:0' shape=(144,) dtype=float32>, '580': <tf.Tensor '580:0' shape=(144, 1, 3, 3) dtype=float32>, '581': <tf.Tensor '581:0' shape=(144,) dtype=float32>, '583': <tf.Tensor '583:0' shape=(24, 144, 1, 1) dtype=float32>, '584': <tf.Tensor '584:0' shape=(24,) dtype=float32>, '586': <tf.Tensor '586:0' shape=(144, 24, 1, 1) dtype=float32>, '587': <tf.Tensor '587:0' shape=(144,) dtype=float32>, '589': <tf.Tensor '589:0' shape=(144, 1, 3, 3) dtype=float32>, '590': <tf.Tensor '590:0' shape=(144,) dtype=float32>, '592': <tf.Tensor '592:0' shape=(32, 144, 1, 1) dtype=float32>, '593': <tf.Tensor '593:0' shape=(32,) dtype=float32>, '595': <tf.Tensor '595:0' shape=(192, 32, 1, 1) dtype=float32>, '596': <tf.Tensor '596:0' shape=(192,) dtype=float32>, '598': <tf.Tensor '598:0' shape=(192, 1, 3, 3) dtype=float32>, '599': <tf.Tensor '599:0' shape=(192,) dtype=float32>, '601': <tf.Tensor '601:0' shape=(32, 192, 1, 1) dtype=float32>, '602': <tf.Tensor '602:0' shape=(32,) dtype=float32>, '604': <tf.Tensor '604:0' shape=(192, 32, 1, 1) dtype=float32>, '605': <tf.Tensor '605:0' shape=(192,) dtype=float32>, '607': <tf.Tensor '607:0' shape=(192, 1, 3, 3) dtype=float32>, '608': <tf.Tensor '608:0' shape=(192,) dtype=float32>, '610': <tf.Tensor '610:0' shape=(32, 192, 1, 1) dtype=float32>, '611': <tf.Tensor '611:0' shape=(32,) dtype=float32>, '613': <tf.Tensor '613:0' shape=(192, 32, 1, 1) dtype=float32>, '614': <tf.Tensor '614:0' shape=(192,) dtype=float32>, '616': <tf.Tensor '616:0' shape=(192, 1, 3, 3) dtype=float32>, '617': <tf.Tensor '617:0' shape=(192,) dtype=float32>, '619': <tf.Tensor '619:0' shape=(64, 192, 1, 1) dtype=float32>, '620': <tf.Tensor '620:0' shape=(64,) dtype=float32>, '622': <tf.Tensor '622:0' shape=(384, 64, 1, 1) dtype=float32>, '623': <tf.Tensor '623:0' shape=(384,) dtype=float32>, '625': <tf.Tensor '625:0' shape=(384, 1, 3, 3) dtype=float32>, '626': <tf.Tensor '626:0' shape=(384,) dtype=float32>, '628': <tf.Tensor '628:0' shape=(64, 384, 1, 1) dtype=float32>, '629': <tf.Tensor '629:0' shape=(64,) dtype=float32>, '631': <tf.Tensor '631:0' shape=(384, 64, 1, 1) dtype=float32>, '632': <tf.Tensor '632:0' shape=(384,) dtype=float32>, '634': <tf.Tensor '634:0' shape=(384, 1, 3, 3) dtype=float32>, '635': <tf.Tensor '635:0' shape=(384,) dtype=float32>, '637': <tf.Tensor '637:0' shape=(64, 384, 1, 1) dtype=float32>, '638': <tf.Tensor '638:0' shape=(64,) dtype=float32>, '640': <tf.Tensor '640:0' shape=(384, 64, 1, 1) dtype=float32>, '641': <tf.Tensor '641:0' shape=(384,) dtype=float32>, '643': <tf.Tensor '643:0' shape=(384, 1, 3, 3) dtype=float32>, '644': <tf.Tensor '644:0' shape=(384,) dtype=float32>, '646': <tf.Tensor '646:0' shape=(64, 384, 1, 1) dtype=float32>, '647': <tf.Tensor '647:0' shape=(64,) dtype=float32>, '649': <tf.Tensor '649:0' shape=(384, 64, 1, 1) dtype=float32>, '650': <tf.Tensor '650:0' shape=(384,) dtype=float32>, '652': <tf.Tensor '652:0' shape=(384, 1, 3, 3) dtype=float32>, '653': <tf.Tensor '653:0' shape=(384,) dtype=float32>, '655': <tf.Tensor '655:0' shape=(96, 384, 1, 1) dtype=float32>, '656': <tf.Tensor '656:0' shape=(96,) dtype=float32>, '658': <tf.Tensor '658:0' shape=(576, 96, 1, 1) dtype=float32>, '659': <tf.Tensor '659:0' shape=(576,) dtype=float32>, '661': <tf.Tensor '661:0' shape=(576, 1, 3, 3) dtype=float32>, '662': <tf.Tensor '662:0' shape=(576,) dtype=float32>, '664': <tf.Tensor '664:0' shape=(96, 576, 1, 1) dtype=float32>, '665': <tf.Tensor '665:0' shape=(96,) dtype=float32>, '667': <tf.Tensor '667:0' shape=(576, 96, 1, 1) dtype=float32>, '668': <tf.Tensor '668:0' shape=(576,) dtype=float32>, '670': <tf.Tensor '670:0' shape=(576, 1, 3, 3) dtype=float32>, '671': <tf.Tensor '671:0' shape=(576,) dtype=float32>, '673': <tf.Tensor '673:0' shape=(96, 576, 1, 1) dtype=float32>, '674': <tf.Tensor '674:0' shape=(96,) dtype=float32>, '676': <tf.Tensor '676:0' shape=(576, 96, 1, 1) dtype=float32>, '677': <tf.Tensor '677:0' shape=(576,) dtype=float32>, '679': <tf.Tensor '679:0' shape=(576, 1, 3, 3) dtype=float32>, '680': <tf.Tensor '680:0' shape=(576,) dtype=float32>, '682': <tf.Tensor '682:0' shape=(160, 576, 1, 1) dtype=float32>, '683': <tf.Tensor '683:0' shape=(160,) dtype=float32>, '685': <tf.Tensor '685:0' shape=(960, 160, 1, 1) dtype=float32>, '686': <tf.Tensor '686:0' shape=(960,) dtype=float32>, '688': <tf.Tensor '688:0' shape=(960, 1, 3, 3) dtype=float32>, '689': <tf.Tensor '689:0' shape=(960,) dtype=float32>, '691': <tf.Tensor '691:0' shape=(160, 960, 1, 1) dtype=float32>, '692': <tf.Tensor '692:0' shape=(160,) dtype=float32>, '694': <tf.Tensor '694:0' shape=(960, 160, 1, 1) dtype=float32>, '695': <tf.Tensor '695:0' shape=(960,) dtype=float32>, '697': <tf.Tensor '697:0' shape=(960, 1, 3, 3) dtype=float32>, '698': <tf.Tensor '698:0' shape=(960,) dtype=float32>, '700': <tf.Tensor '700:0' shape=(160, 960, 1, 1) dtype=float32>, '701': <tf.Tensor '701:0' shape=(160,) dtype=float32>, '703': <tf.Tensor '703:0' shape=(960, 160, 1, 1) dtype=float32>, '704': <tf.Tensor '704:0' shape=(960,) dtype=float32>, '706': <tf.Tensor '706:0' shape=(960, 1, 3, 3) dtype=float32>, '707': <tf.Tensor '707:0' shape=(960,) dtype=float32>, '709': <tf.Tensor '709:0' shape=(320, 960, 1, 1) dtype=float32>, '710': <tf.Tensor '710:0' shape=(320,) dtype=float32>, '712': <tf.Tensor '712:0' shape=(1280, 320, 1, 1) dtype=float32>, '713': <tf.Tensor '713:0' shape=(1280,) dtype=float32>, '714': <tf.Tensor '714:0' shape=(1,) dtype=int64>, 'age_head.0.bias': <tf.Tensor 'age_head.0.bias:0' shape=(1,) dtype=float32>, 'age_head.0.weight': <tf.Tensor 'age_head.0.weight:0' shape=(1, 512) dtype=float32>, 'backbone.0.classifier.1.bias': <tf.Tensor 'backbone.0.classifier.1.bias:0' shape=(512,) dtype=float32>, 'backbone.0.classifier.1.weight': <tf.Tensor 'backbone.0.classifier.1.weight:0' shape=(512, 1280) dtype=float32>, 'backbone.1.bias': <tf.Tensor 'backbone.1.bias:0' shape=(512,) dtype=float32>, 'backbone.1.running_mean': <tf.Tensor 'backbone.1.running_mean:0' shape=(512,) dtype=float32>, 'backbone.1.running_var': <tf.Tensor 'backbone.1.running_var:0' shape=(512,) dtype=float32>, 'backbone.1.weight': <tf.Tensor 'backbone.1.weight:0' shape=(512,) dtype=float32>, 'gender_head.1.bias': <tf.Tensor 'gender_head.1.bias:0' shape=(1,) dtype=float32>, 'gender_head.1.weight': <tf.Tensor 'gender_head.1.weight:0' shape=(1, 512) dtype=float32>, 'input': <tf.Tensor 'input:0' shape=(1, 3, 224, 224) dtype=float32>, '558': <tf.Tensor 'Add:0' shape=(1, 32, 112, 112) dtype=float32>, '326': <tf.Tensor 'Constant_1:0' shape=() dtype=float32>, '327': <tf.Tensor 'Constant_2:0' shape=() dtype=float32>, '328': <tf.Tensor 'clip_by_value:0' shape=(1, 32, 112, 112) dtype=float32>, '561': <tf.Tensor 'Add_1:0' shape=(1, 32, 112, 112) dtype=float32>, '331': <tf.Tensor 'Constant_5:0' shape=() dtype=float32>, '332': <tf.Tensor 'Constant_6:0' shape=() dtype=float32>, '333': <tf.Tensor 'clip_by_value_1:0' shape=(1, 32, 112, 112) dtype=float32>, '564': <tf.Tensor 'Add_2:0' shape=(1, 16, 112, 112) dtype=float32>, '567': <tf.Tensor 'Add_3:0' shape=(1, 96, 112, 112) dtype=float32>, '338': <tf.Tensor 'Constant_10:0' shape=() dtype=float32>, '339': <tf.Tensor 'Constant_11:0' shape=() dtype=float32>, '340': <tf.Tensor 'clip_by_value_2:0' shape=(1, 96, 112, 112) dtype=float32>, '570': <tf.Tensor 'Add_4:0' shape=(1, 96, 56, 56) dtype=float32>, '343': <tf.Tensor 'Constant_14:0' shape=() dtype=float32>, '344': <tf.Tensor 'Constant_15:0' shape=() dtype=float32>, '345': <tf.Tensor 'clip_by_value_3:0' shape=(1, 96, 56, 56) dtype=float32>, '573': <tf.Tensor 'Add_5:0' shape=(1, 24, 56, 56) dtype=float32>, '576': <tf.Tensor 'Add_6:0' shape=(1, 144, 56, 56) dtype=float32>, '350': <tf.Tensor 'Constant_19:0' shape=() dtype=float32>, '351': <tf.Tensor 'Constant_20:0' shape=() dtype=float32>, '352': <tf.Tensor 'clip_by_value_4:0' shape=(1, 144, 56, 56) dtype=float32>, '579': <tf.Tensor 'Add_7:0' shape=(1, 144, 56, 56) dtype=float32>, '355': <tf.Tensor 'Constant_23:0' shape=() dtype=float32>, '356': <tf.Tensor 'Constant_24:0' shape=() dtype=float32>, '357': <tf.Tensor 'clip_by_value_5:0' shape=(1, 144, 56, 56) dtype=float32>, '582': <tf.Tensor 'Add_8:0' shape=(1, 24, 56, 56) dtype=float32>, '360': <tf.Tensor 'Add_27:0' shape=(1, 24, 56, 56) dtype=float32>, '585': <tf.Tensor 'Add_9:0' shape=(1, 144, 56, 56) dtype=float32>, '363': <tf.Tensor 'Constant_29:0' shape=() dtype=float32>, '364': <tf.Tensor 'Constant_30:0' shape=() dtype=float32>, '365': <tf.Tensor 'clip_by_value_6:0' shape=(1, 144, 56, 56) dtype=float32>, '588': <tf.Tensor 'Add_10:0' shape=(1, 144, 28, 28) dtype=float32>, '368': <tf.Tensor 'Constant_33:0' shape=() dtype=float32>, '369': <tf.Tensor 'Constant_34:0' shape=() dtype=float32>, '370': <tf.Tensor 'clip_by_value_7:0' shape=(1, 144, 28, 28) dtype=float32>, '591': <tf.Tensor 'Add_11:0' shape=(1, 32, 28, 28) dtype=float32>, '594': <tf.Tensor 'Add_12:0' shape=(1, 192, 28, 28) dtype=float32>, '375': <tf.Tensor 'Constant_38:0' shape=() dtype=float32>, '376': <tf.Tensor 'Constant_39:0' shape=() dtype=float32>, '377': <tf.Tensor 'clip_by_value_8:0' shape=(1, 192, 28, 28) dtype=float32>, '597': <tf.Tensor 'Add_13:0' shape=(1, 192, 28, 28) dtype=float32>, '380': <tf.Tensor 'Constant_42:0' shape=() dtype=float32>, '381': <tf.Tensor 'Constant_43:0' shape=() dtype=float32>, '382': <tf.Tensor 'clip_by_value_9:0' shape=(1, 192, 28, 28) dtype=float32>, '600': <tf.Tensor 'Add_14:0' shape=(1, 32, 28, 28) dtype=float32>, '385': <tf.Tensor 'Add_46:0' shape=(1, 32, 28, 28) dtype=float32>, '603': <tf.Tensor 'Add_15:0' shape=(1, 192, 28, 28) dtype=float32>, '388': <tf.Tensor 'Constant_48:0' shape=() dtype=float32>, '389': <tf.Tensor 'Constant_49:0' shape=() dtype=float32>, '390': <tf.Tensor 'clip_by_value_10:0' shape=(1, 192, 28, 28) dtype=float32>, '606': <tf.Tensor 'Add_16:0' shape=(1, 192, 28, 28) dtype=float32>, '393': <tf.Tensor 'Constant_52:0' shape=() dtype=float32>, '394': <tf.Tensor 'Constant_53:0' shape=() dtype=float32>, '395': <tf.Tensor 'clip_by_value_11:0' shape=(1, 192, 28, 28) dtype=float32>, '609': <tf.Tensor 'Add_17:0' shape=(1, 32, 28, 28) dtype=float32>, '398': <tf.Tensor 'Add_56:0' shape=(1, 32, 28, 28) dtype=float32>, '612': <tf.Tensor 'Add_18:0' shape=(1, 192, 28, 28) dtype=float32>, '401': <tf.Tensor 'Constant_58:0' shape=() dtype=float32>, '402': <tf.Tensor 'Constant_59:0' shape=() dtype=float32>, '403': <tf.Tensor 'clip_by_value_12:0' shape=(1, 192, 28, 28) dtype=float32>, '615': <tf.Tensor 'Add_19:0' shape=(1, 192, 14, 14) dtype=float32>, '406': <tf.Tensor 'Constant_62:0' shape=() dtype=float32>, '407': <tf.Tensor 'Constant_63:0' shape=() dtype=float32>, '408': <tf.Tensor 'clip_by_value_13:0' shape=(1, 192, 14, 14) dtype=float32>, '618': <tf.Tensor 'Add_20:0' shape=(1, 64, 14, 14) dtype=float32>, '621': <tf.Tensor 'Add_21:0' shape=(1, 384, 14, 14) dtype=float32>, '413': <tf.Tensor 'Constant_67:0' shape=() dtype=float32>, '414': <tf.Tensor 'Constant_68:0' shape=() dtype=float32>, '415': <tf.Tensor 'clip_by_value_14:0' shape=(1, 384, 14, 14) dtype=float32>, '624': <tf.Tensor 'Add_22:0' shape=(1, 384, 14, 14) dtype=float32>, '418': <tf.Tensor 'Constant_71:0' shape=() dtype=float32>, '419': <tf.Tensor 'Constant_72:0' shape=() dtype=float32>, '420': <tf.Tensor 'clip_by_value_15:0' shape=(1, 384, 14, 14) dtype=float32>, '627': <tf.Tensor 'Add_23:0' shape=(1, 64, 14, 14) dtype=float32>, '423': <tf.Tensor 'Add_75:0' shape=(1, 64, 14, 14) dtype=float32>, '630': <tf.Tensor 'Add_24:0' shape=(1, 384, 14, 14) dtype=float32>, '426': <tf.Tensor 'Constant_77:0' shape=() dtype=float32>, '427': <tf.Tensor 'Constant_78:0' shape=() dtype=float32>, '428': <tf.Tensor 'clip_by_value_16:0' shape=(1, 384, 14, 14) dtype=float32>, '633': <tf.Tensor 'Add_25:0' shape=(1, 384, 14, 14) dtype=float32>, '431': <tf.Tensor 'Constant_81:0' shape=() dtype=float32>, '432': <tf.Tensor 'Constant_82:0' shape=() dtype=float32>, '433': <tf.Tensor 'clip_by_value_17:0' shape=(1, 384, 14, 14) dtype=float32>, '636': <tf.Tensor 'Add_26:0' shape=(1, 64, 14, 14) dtype=float32>, '436': <tf.Tensor 'Add_85:0' shape=(1, 64, 14, 14) dtype=float32>, '639': <tf.Tensor 'Add_28:0' shape=(1, 384, 14, 14) dtype=float32>, '439': <tf.Tensor 'Constant_87:0' shape=() dtype=float32>, '440': <tf.Tensor 'Constant_88:0' shape=() dtype=float32>, '441': <tf.Tensor 'clip_by_value_18:0' shape=(1, 384, 14, 14) dtype=float32>, '642': <tf.Tensor 'Add_29:0' shape=(1, 384, 14, 14) dtype=float32>, '444': <tf.Tensor 'Constant_91:0' shape=() dtype=float32>, '445': <tf.Tensor 'Constant_92:0' shape=() dtype=float32>, '446': <tf.Tensor 'clip_by_value_19:0' shape=(1, 384, 14, 14) dtype=float32>, '645': <tf.Tensor 'Add_30:0' shape=(1, 64, 14, 14) dtype=float32>, '449': <tf.Tensor 'Add_95:0' shape=(1, 64, 14, 14) dtype=float32>, '648': <tf.Tensor 'Add_31:0' shape=(1, 384, 14, 14) dtype=float32>, '452': <tf.Tensor 'Constant_97:0' shape=() dtype=float32>, '453': <tf.Tensor 'Constant_98:0' shape=() dtype=float32>, '454': <tf.Tensor 'clip_by_value_20:0' shape=(1, 384, 14, 14) dtype=float32>, '651': <tf.Tensor 'Add_32:0' shape=(1, 384, 14, 14) dtype=float32>, '457': <tf.Tensor 'Constant_101:0' shape=() dtype=float32>, '458': <tf.Tensor 'Constant_102:0' shape=() dtype=float32>, '459': <tf.Tensor 'clip_by_value_21:0' shape=(1, 384, 14, 14) dtype=float32>, '654': <tf.Tensor 'Add_33:0' shape=(1, 96, 14, 14) dtype=float32>, '657': <tf.Tensor 'Add_34:0' shape=(1, 576, 14, 14) dtype=float32>, '464': <tf.Tensor 'Constant_106:0' shape=() dtype=float32>, '465': <tf.Tensor 'Constant_107:0' shape=() dtype=float32>, '466': <tf.Tensor 'clip_by_value_22:0' shape=(1, 576, 14, 14) dtype=float32>, '660': <tf.Tensor 'Add_35:0' shape=(1, 576, 14, 14) dtype=float32>, '469': <tf.Tensor 'Constant_110:0' shape=() dtype=float32>, '470': <tf.Tensor 'Constant_111:0' shape=() dtype=float32>, '471': <tf.Tensor 'clip_by_value_23:0' shape=(1, 576, 14, 14) dtype=float32>, '663': <tf.Tensor 'Add_36:0' shape=(1, 96, 14, 14) dtype=float32>, '474': <tf.Tensor 'Add_114:0' shape=(1, 96, 14, 14) dtype=float32>, '666': <tf.Tensor 'Add_37:0' shape=(1, 576, 14, 14) dtype=float32>, '477': <tf.Tensor 'Constant_116:0' shape=() dtype=float32>, '478': <tf.Tensor 'Constant_117:0' shape=() dtype=float32>, '479': <tf.Tensor 'clip_by_value_24:0' shape=(1, 576, 14, 14) dtype=float32>, '669': <tf.Tensor 'Add_38:0' shape=(1, 576, 14, 14) dtype=float32>, '482': <tf.Tensor 'Constant_120:0' shape=() dtype=float32>, '483': <tf.Tensor 'Constant_121:0' shape=() dtype=float32>, '484': <tf.Tensor 'clip_by_value_25:0' shape=(1, 576, 14, 14) dtype=float32>, '672': <tf.Tensor 'Add_39:0' shape=(1, 96, 14, 14) dtype=float32>, '487': <tf.Tensor 'Add_124:0' shape=(1, 96, 14, 14) dtype=float32>, '675': <tf.Tensor 'Add_40:0' shape=(1, 576, 14, 14) dtype=float32>, '490': <tf.Tensor 'Constant_126:0' shape=() dtype=float32>, '491': <tf.Tensor 'Constant_127:0' shape=() dtype=float32>, '492': <tf.Tensor 'clip_by_value_26:0' shape=(1, 576, 14, 14) dtype=float32>, '678': <tf.Tensor 'Add_41:0' shape=(1, 576, 7, 7) dtype=float32>, '495': <tf.Tensor 'Constant_130:0' shape=() dtype=float32>, '496': <tf.Tensor 'Constant_131:0' shape=() dtype=float32>, '497': <tf.Tensor 'clip_by_value_27:0' shape=(1, 576, 7, 7) dtype=float32>, '681': <tf.Tensor 'Add_42:0' shape=(1, 160, 7, 7) dtype=float32>, '684': <tf.Tensor 'Add_43:0' shape=(1, 960, 7, 7) dtype=float32>, '502': <tf.Tensor 'Constant_135:0' shape=() dtype=float32>, '503': <tf.Tensor 'Constant_136:0' shape=() dtype=float32>, '504': <tf.Tensor 'clip_by_value_28:0' shape=(1, 960, 7, 7) dtype=float32>, '687': <tf.Tensor 'Add_44:0' shape=(1, 960, 7, 7) dtype=float32>, '507': <tf.Tensor 'Constant_139:0' shape=() dtype=float32>, '508': <tf.Tensor 'Constant_140:0' shape=() dtype=float32>, '509': <tf.Tensor 'clip_by_value_29:0' shape=(1, 960, 7, 7) dtype=float32>, '690': <tf.Tensor 'Add_45:0' shape=(1, 160, 7, 7) dtype=float32>, '512': <tf.Tensor 'Add_143:0' shape=(1, 160, 7, 7) dtype=float32>, '693': <tf.Tensor 'Add_47:0' shape=(1, 960, 7, 7) dtype=float32>, '515': <tf.Tensor 'Constant_145:0' shape=() dtype=float32>, '516': <tf.Tensor 'Constant_146:0' shape=() dtype=float32>, '517': <tf.Tensor 'clip_by_value_30:0' shape=(1, 960, 7, 7) dtype=float32>, '696': <tf.Tensor 'Add_48:0' shape=(1, 960, 7, 7) dtype=float32>, '520': <tf.Tensor 'Constant_149:0' shape=() dtype=float32>, '521': <tf.Tensor 'Constant_150:0' shape=() dtype=float32>, '522': <tf.Tensor 'clip_by_value_31:0' shape=(1, 960, 7, 7) dtype=float32>, '699': <tf.Tensor 'Add_49:0' shape=(1, 160, 7, 7) dtype=float32>, '525': <tf.Tensor 'Add_153:0' shape=(1, 160, 7, 7) dtype=float32>, '702': <tf.Tensor 'Add_50:0' shape=(1, 960, 7, 7) dtype=float32>, '528': <tf.Tensor 'Constant_155:0' shape=() dtype=float32>, '529': <tf.Tensor 'Constant_156:0' shape=() dtype=float32>, '530': <tf.Tensor 'clip_by_value_32:0' shape=(1, 960, 7, 7) dtype=float32>, '705': <tf.Tensor 'Add_51:0' shape=(1, 960, 7, 7) dtype=float32>, '533': <tf.Tensor 'Constant_159:0' shape=() dtype=float32>, '534': <tf.Tensor 'Constant_160:0' shape=() dtype=float32>, '535': <tf.Tensor 'clip_by_value_33:0' shape=(1, 960, 7, 7) dtype=float32>, '708': <tf.Tensor 'Add_52:0' shape=(1, 320, 7, 7) dtype=float32>, '711': <tf.Tensor 'Add_53:0' shape=(1, 1280, 7, 7) dtype=float32>, '540': <tf.Tensor 'Constant_164:0' shape=() dtype=float32>, '541': <tf.Tensor 'Constant_165:0' shape=() dtype=float32>, '542': <tf.Tensor 'clip_by_value_34:0' shape=(1, 1280, 7, 7) dtype=float32>, '543': <tf.Tensor 'Mean:0' shape=(1, 1280, 1, 1) dtype=float32>, '544': <tf.Tensor 'Shape_168:0' shape=(4,) dtype=int64>, '545': <tf.Tensor 'Constant_169:0' shape=() dtype=int64>, '546': <tf.Tensor 'Gather_170:0' shape=() dtype=int64>, '548': <tf.Tensor 'Unsqueeze_171:0' shape=(1,) dtype=int64>, '550': <tf.Tensor 'Concat_172:0' shape=(2,) dtype=int64>, '551': <tf.Tensor 'Reshape_173:0' shape=(1, 1280) dtype=float32>, '552': <tf.Tensor 'add_57:0' shape=(1, 512) dtype=float32>, '553': <tf.Tensor 'BatchNormalization_175/add_1:0' shape=(1, 512) dtype=float32>, '554': <tf.Tensor 'Relu_176:0' shape=(1, 512) dtype=float32>, '555': <tf.Tensor 'add_58:0' shape=(1, 1) dtype=float32>, 'output_gender': <tf.Tensor 'Sigmoid_178:0' shape=(1, 1) dtype=float32>, 'output_age': <tf.Tensor 'add_59:0' shape=(1, 1) dtype=float32>}\n"
     ]
    }
   ],
   "source": [
    "from onnx_tf.backend import prepare\n",
    "import onnx\n",
    "\n",
    "ONNX_PATH = '../models/age_gender_mobilenet_v2.onnx'\n",
    "\n",
    "onnx_model = onnx.load(ONNX_PATH)\n",
    "\n",
    "tf_rep = prepare(onnx_model, logging_level ='DEBUG', strict = False)\n",
    "\n",
    "# Input nodes to the model\n",
    "print('inputs:', tf_rep.inputs)\n",
    "\n",
    "# Output nodes from the model\n",
    "print('outputs:', tf_rep.outputs)\n",
    "\n",
    "# All nodes in the model\n",
    "print('tensor_dict:')\n",
    "print(tf_rep.tensor_dict)"
   ]
  },
  {
   "cell_type": "code",
   "execution_count": 22,
   "metadata": {
    "scrolled": true
   },
   "outputs": [
    {
     "name": "stdout",
     "output_type": "stream",
     "text": [
      "Age [[28.305317]], Gender [[0.8279992]] as \n"
     ]
    }
   ],
   "source": [
    "import numpy as np\n",
    "from IPython.display import display\n",
    "from PIL import Image\n",
    "\n",
    "# prepare input data\n",
    "meanR,meanG,meanB = 0.54568475 ,0.42776844 ,0.3761094\n",
    "stdR,stdG,stdB = 0.21924357, 0.18996198, 0.17315607\n",
    "\n",
    "def get_val_transforms():\n",
    "    return A.Compose([\n",
    "        A.Resize(224, 224),\n",
    "        A.Normalize(mean=(meanR,meanG,meanB), std=(stdR,stdG,stdB)),\n",
    "    ])\n",
    "\n",
    "df = pd.read_csv(\"/home/Data/all/testing.csv\")\n",
    "img = cv2.imread(df['file_name'][500], cv2.IMREAD_COLOR)\n",
    "img = cv2.cvtColor(img, cv2.COLOR_BGR2RGB).astype('float32')\n",
    "\n",
    "img /= 255.0\n",
    "\n",
    "img = get_val_transforms()(image = img)['image']\n",
    "\n",
    "output = tf_rep.run(np.transpose(np.asarray(img, dtype=np.float32)[np.newaxis ,: , :, :], (0, 3, 1, 2)))\n",
    "print('Age {}, Gender {} as '.format(output[0], output[1]))"
   ]
  },
  {
   "cell_type": "code",
   "execution_count": 26,
   "metadata": {},
   "outputs": [],
   "source": [
    "tf_rep.export_graph('../models/agegender_mobilenet_v2.pb')"
   ]
  },
  {
   "cell_type": "code",
   "execution_count": 27,
   "metadata": {},
   "outputs": [
    {
     "name": "stdout",
     "output_type": "stream",
     "text": [
      "../models/agegender_mobilenet_v2.pb -> ../models/age_gender_mixnet_v1.tflite\n"
     ]
    },
    {
     "ename": "ConverterError",
     "evalue": "<unknown>:0: error: loc(\"BatchNormalization_175/mul_1\"): 'tfl.fully_connected' op expect 2d filter, got 'tensor<1x512x1280xf32>'\n<unknown>:0: note: loc(\"BatchNormalization_175/mul_1\"): see current operation: %7397 = \"tfl.fully_connected\"(%7396, %cst_4436, %cst_4437) {fused_activation_function = \"NONE\", keep_num_dims = false, weights_format = \"DEFAULT\"} : (tensor<1x1280xf32>, tensor<1x512x1280xf32>, tensor<1x512xf32>) -> tensor<1x512xf32>\n",
     "output_type": "error",
     "traceback": [
      "\u001b[0;31m---------------------------------------------------------------------------\u001b[0m",
      "\u001b[0;31mException\u001b[0m                                 Traceback (most recent call last)",
      "\u001b[0;32m~/anaconda3/envs/age_gender/lib/python3.8/site-packages/tensorflow/lite/python/convert.py\u001b[0m in \u001b[0;36mtoco_convert_protos\u001b[0;34m(model_flags_str, toco_flags_str, input_data_str, debug_info_str, enable_mlir_converter)\u001b[0m\n\u001b[1;32m    195\u001b[0m     \u001b[0;32mtry\u001b[0m\u001b[0;34m:\u001b[0m\u001b[0;34m\u001b[0m\u001b[0;34m\u001b[0m\u001b[0m\n\u001b[0;32m--> 196\u001b[0;31m       model_str = wrap_toco.wrapped_toco_convert(model_flags_str,\n\u001b[0m\u001b[1;32m    197\u001b[0m                                                  \u001b[0mtoco_flags_str\u001b[0m\u001b[0;34m,\u001b[0m \u001b[0minput_data_str\u001b[0m\u001b[0;34m,\u001b[0m\u001b[0;34m\u001b[0m\u001b[0;34m\u001b[0m\u001b[0m\n",
      "\u001b[0;32m~/anaconda3/envs/age_gender/lib/python3.8/site-packages/tensorflow/lite/python/wrap_toco.py\u001b[0m in \u001b[0;36mwrapped_toco_convert\u001b[0;34m(model_flags_str, toco_flags_str, input_data_str, debug_info_str, enable_mlir_converter)\u001b[0m\n\u001b[1;32m     31\u001b[0m   \u001b[0;34m\"\"\"Wraps TocoConvert with lazy loader.\"\"\"\u001b[0m\u001b[0;34m\u001b[0m\u001b[0;34m\u001b[0m\u001b[0m\n\u001b[0;32m---> 32\u001b[0;31m   return _pywrap_toco_api.TocoConvert(\n\u001b[0m\u001b[1;32m     33\u001b[0m       \u001b[0mmodel_flags_str\u001b[0m\u001b[0;34m,\u001b[0m\u001b[0;34m\u001b[0m\u001b[0;34m\u001b[0m\u001b[0m\n",
      "\u001b[0;31mException\u001b[0m: <unknown>:0: error: loc(\"BatchNormalization_175/mul_1\"): 'tfl.fully_connected' op expect 2d filter, got 'tensor<1x512x1280xf32>'\n<unknown>:0: note: loc(\"BatchNormalization_175/mul_1\"): see current operation: %7397 = \"tfl.fully_connected\"(%7396, %cst_4436, %cst_4437) {fused_activation_function = \"NONE\", keep_num_dims = false, weights_format = \"DEFAULT\"} : (tensor<1x1280xf32>, tensor<1x512x1280xf32>, tensor<1x512xf32>) -> tensor<1x512xf32>\n",
      "\nDuring handling of the above exception, another exception occurred:\n",
      "\u001b[0;31mConverterError\u001b[0m                            Traceback (most recent call last)",
      "\u001b[0;32m<ipython-input-27-9c6af9116790>\u001b[0m in \u001b[0;36m<module>\u001b[0;34m\u001b[0m\n\u001b[1;32m     25\u001b[0m \u001b[0;34m\u001b[0m\u001b[0m\n\u001b[1;32m     26\u001b[0m \u001b[0;34m\u001b[0m\u001b[0m\n\u001b[0;32m---> 27\u001b[0;31m \u001b[0mtflite_quant_model\u001b[0m \u001b[0;34m=\u001b[0m \u001b[0mconverter\u001b[0m\u001b[0;34m.\u001b[0m\u001b[0mconvert\u001b[0m\u001b[0;34m(\u001b[0m\u001b[0;34m)\u001b[0m\u001b[0;34m\u001b[0m\u001b[0;34m\u001b[0m\u001b[0m\n\u001b[0m\u001b[1;32m     28\u001b[0m \u001b[0;34m\u001b[0m\u001b[0m\n\u001b[1;32m     29\u001b[0m \u001b[0;32mwith\u001b[0m \u001b[0mopen\u001b[0m\u001b[0;34m(\u001b[0m\u001b[0mTFLITE_PATH_V1\u001b[0m\u001b[0;34m,\u001b[0m \u001b[0;34m'wb'\u001b[0m\u001b[0;34m)\u001b[0m \u001b[0;32mas\u001b[0m \u001b[0mf\u001b[0m\u001b[0;34m:\u001b[0m\u001b[0;34m\u001b[0m\u001b[0;34m\u001b[0m\u001b[0m\n",
      "\u001b[0;32m~/anaconda3/envs/age_gender/lib/python3.8/site-packages/tensorflow/lite/python/lite.py\u001b[0m in \u001b[0;36mconvert\u001b[0;34m(self)\u001b[0m\n\u001b[1;32m   1968\u001b[0m         \u001b[0;32mNone\u001b[0m \u001b[0mvalue\u001b[0m \u001b[0;32mfor\u001b[0m \u001b[0mdimension\u001b[0m \u001b[0;32min\u001b[0m \u001b[0minput_tensor\u001b[0m\u001b[0;34m.\u001b[0m\u001b[0;34m\u001b[0m\u001b[0;34m\u001b[0m\u001b[0m\n\u001b[1;32m   1969\u001b[0m     \"\"\"\n\u001b[0;32m-> 1970\u001b[0;31m     \u001b[0;32mreturn\u001b[0m \u001b[0msuper\u001b[0m\u001b[0;34m(\u001b[0m\u001b[0mTFLiteConverter\u001b[0m\u001b[0;34m,\u001b[0m \u001b[0mself\u001b[0m\u001b[0;34m)\u001b[0m\u001b[0;34m.\u001b[0m\u001b[0mconvert\u001b[0m\u001b[0;34m(\u001b[0m\u001b[0;34m)\u001b[0m\u001b[0;34m\u001b[0m\u001b[0;34m\u001b[0m\u001b[0m\n\u001b[0m\u001b[1;32m   1971\u001b[0m \u001b[0;34m\u001b[0m\u001b[0m\n\u001b[1;32m   1972\u001b[0m \u001b[0;34m@\u001b[0m\u001b[0m_tf_export\u001b[0m\u001b[0;34m(\u001b[0m\u001b[0mv1\u001b[0m\u001b[0;34m=\u001b[0m\u001b[0;34m[\u001b[0m\u001b[0;34m\"lite.TocoConverter\"\u001b[0m\u001b[0;34m]\u001b[0m\u001b[0;34m)\u001b[0m\u001b[0;34m\u001b[0m\u001b[0;34m\u001b[0m\u001b[0m\n",
      "\u001b[0;32m~/anaconda3/envs/age_gender/lib/python3.8/site-packages/tensorflow/lite/python/lite.py\u001b[0m in \u001b[0;36mconvert\u001b[0;34m(self)\u001b[0m\n\u001b[1;32m   1324\u001b[0m     \u001b[0;31m# Converts model.\u001b[0m\u001b[0;34m\u001b[0m\u001b[0;34m\u001b[0m\u001b[0;34m\u001b[0m\u001b[0m\n\u001b[1;32m   1325\u001b[0m     \u001b[0;32mif\u001b[0m \u001b[0mself\u001b[0m\u001b[0;34m.\u001b[0m\u001b[0m_has_valid_tensors\u001b[0m\u001b[0;34m(\u001b[0m\u001b[0;34m)\u001b[0m\u001b[0;34m:\u001b[0m\u001b[0;34m\u001b[0m\u001b[0;34m\u001b[0m\u001b[0m\n\u001b[0;32m-> 1326\u001b[0;31m       result = _toco_convert_impl(\n\u001b[0m\u001b[1;32m   1327\u001b[0m           \u001b[0minput_data\u001b[0m\u001b[0;34m=\u001b[0m\u001b[0moptimized_graph\u001b[0m\u001b[0;34m,\u001b[0m\u001b[0;34m\u001b[0m\u001b[0;34m\u001b[0m\u001b[0m\n\u001b[1;32m   1328\u001b[0m           \u001b[0minput_tensors\u001b[0m\u001b[0;34m=\u001b[0m\u001b[0mself\u001b[0m\u001b[0;34m.\u001b[0m\u001b[0m_input_tensors\u001b[0m\u001b[0;34m,\u001b[0m\u001b[0;34m\u001b[0m\u001b[0;34m\u001b[0m\u001b[0m\n",
      "\u001b[0;32m~/anaconda3/envs/age_gender/lib/python3.8/site-packages/tensorflow/lite/python/convert.py\u001b[0m in \u001b[0;36mtoco_convert_impl\u001b[0;34m(input_data, input_tensors, output_tensors, enable_mlir_converter, *args, **kwargs)\u001b[0m\n\u001b[1;32m    567\u001b[0m       input_tensors, output_tensors, *args, **kwargs)\n\u001b[1;32m    568\u001b[0m   \u001b[0mdebug_info_str\u001b[0m \u001b[0;34m=\u001b[0m \u001b[0mdebug_info\u001b[0m\u001b[0;34m.\u001b[0m\u001b[0mSerializeToString\u001b[0m\u001b[0;34m(\u001b[0m\u001b[0;34m)\u001b[0m \u001b[0;32mif\u001b[0m \u001b[0mdebug_info\u001b[0m \u001b[0;32melse\u001b[0m \u001b[0;32mNone\u001b[0m\u001b[0;34m\u001b[0m\u001b[0;34m\u001b[0m\u001b[0m\n\u001b[0;32m--> 569\u001b[0;31m   data = toco_convert_protos(\n\u001b[0m\u001b[1;32m    570\u001b[0m       \u001b[0mmodel_flags\u001b[0m\u001b[0;34m.\u001b[0m\u001b[0mSerializeToString\u001b[0m\u001b[0;34m(\u001b[0m\u001b[0;34m)\u001b[0m\u001b[0;34m,\u001b[0m\u001b[0;34m\u001b[0m\u001b[0;34m\u001b[0m\u001b[0m\n\u001b[1;32m    571\u001b[0m       \u001b[0mtoco_flags\u001b[0m\u001b[0;34m.\u001b[0m\u001b[0mSerializeToString\u001b[0m\u001b[0;34m(\u001b[0m\u001b[0;34m)\u001b[0m\u001b[0;34m,\u001b[0m\u001b[0;34m\u001b[0m\u001b[0;34m\u001b[0m\u001b[0m\n",
      "\u001b[0;32m~/anaconda3/envs/age_gender/lib/python3.8/site-packages/tensorflow/lite/python/convert.py\u001b[0m in \u001b[0;36mtoco_convert_protos\u001b[0;34m(model_flags_str, toco_flags_str, input_data_str, debug_info_str, enable_mlir_converter)\u001b[0m\n\u001b[1;32m    200\u001b[0m       \u001b[0;32mreturn\u001b[0m \u001b[0mmodel_str\u001b[0m\u001b[0;34m\u001b[0m\u001b[0;34m\u001b[0m\u001b[0m\n\u001b[1;32m    201\u001b[0m     \u001b[0;32mexcept\u001b[0m \u001b[0mException\u001b[0m \u001b[0;32mas\u001b[0m \u001b[0me\u001b[0m\u001b[0;34m:\u001b[0m\u001b[0;34m\u001b[0m\u001b[0;34m\u001b[0m\u001b[0m\n\u001b[0;32m--> 202\u001b[0;31m       \u001b[0;32mraise\u001b[0m \u001b[0mConverterError\u001b[0m\u001b[0;34m(\u001b[0m\u001b[0mstr\u001b[0m\u001b[0;34m(\u001b[0m\u001b[0me\u001b[0m\u001b[0;34m)\u001b[0m\u001b[0;34m)\u001b[0m\u001b[0;34m\u001b[0m\u001b[0;34m\u001b[0m\u001b[0m\n\u001b[0m\u001b[1;32m    203\u001b[0m \u001b[0;34m\u001b[0m\u001b[0m\n\u001b[1;32m    204\u001b[0m   \u001b[0;32mif\u001b[0m \u001b[0mdistutils\u001b[0m\u001b[0;34m.\u001b[0m\u001b[0mspawn\u001b[0m\u001b[0;34m.\u001b[0m\u001b[0mfind_executable\u001b[0m\u001b[0;34m(\u001b[0m\u001b[0m_toco_from_proto_bin\u001b[0m\u001b[0;34m)\u001b[0m \u001b[0;32mis\u001b[0m \u001b[0;32mNone\u001b[0m\u001b[0;34m:\u001b[0m\u001b[0;34m\u001b[0m\u001b[0;34m\u001b[0m\u001b[0m\n",
      "\u001b[0;31mConverterError\u001b[0m: <unknown>:0: error: loc(\"BatchNormalization_175/mul_1\"): 'tfl.fully_connected' op expect 2d filter, got 'tensor<1x512x1280xf32>'\n<unknown>:0: note: loc(\"BatchNormalization_175/mul_1\"): see current operation: %7397 = \"tfl.fully_connected\"(%7396, %cst_4436, %cst_4437) {fused_activation_function = \"NONE\", keep_num_dims = false, weights_format = \"DEFAULT\"} : (tensor<1x1280xf32>, tensor<1x512x1280xf32>, tensor<1x512xf32>) -> tensor<1x512xf32>\n"
     ]
    }
   ],
   "source": [
    "import tensorflow as tf\n",
    "\n",
    "TFLITE_PATH_V1 = '../models/age_gender_mixnet_v1.tflite'\n",
    "\n",
    "graph_file = '../models/agegender_mobilenet_v2.pb'\n",
    "\n",
    "input_array = ['input'] # you need to change it based on your model\n",
    "output_array = ['output_age', 'output_gender'] # you need to change it based on your model\n",
    "print(\"{} -> {}\".format(graph_file, TFLITE_PATH_V1))\n",
    "\n",
    "converter = tf.compat.v1.lite.TFLiteConverter.from_frozen_graph(\n",
    "      graph_def_file=graph_file,\n",
    "      input_arrays=input_array,\n",
    "      output_arrays=output_array,\n",
    "      input_shapes={'input' : [1, 3, 224, 224]}\n",
    ")\n",
    "\n",
    "converter.optimizations = [tf.lite.Optimize.DEFAULT]\n",
    "converter.allow_custom_ops=True\n",
    "converter.experimental_new_converter =True\n",
    "\n",
    "# I had to explicitly state the ops\n",
    "converter.target_spec.supported_ops = [tf.compat.v1.lite.OpsSet.TFLITE_BUILTINS,\n",
    "                                       tf.compat.v1.lite.OpsSet.SELECT_TF_OPS]\n",
    "\n",
    "\n",
    "tflite_quant_model = converter.convert()\n",
    "\n",
    "with open(TFLITE_PATH_V1, 'wb') as f:\n",
    "    f.write(tflite_quant_model)"
   ]
  },
  {
   "cell_type": "code",
   "execution_count": null,
   "metadata": {},
   "outputs": [],
   "source": [
    "TFLITE_PATH_V2 = '../models/age_gender_mixnet_v2.tflite'\n",
    "TFLITE_PATH_V3 = '../models/age_gender_mixnet_v3.tflite'"
   ]
  }
 ],
 "metadata": {
  "kernelspec": {
   "display_name": "age_gender",
   "language": "python",
   "name": "age_gender"
  },
  "language_info": {
   "codemirror_mode": {
    "name": "ipython",
    "version": 3
   },
   "file_extension": ".py",
   "mimetype": "text/x-python",
   "name": "python",
   "nbconvert_exporter": "python",
   "pygments_lexer": "ipython3",
   "version": "3.8.2"
  }
 },
 "nbformat": 4,
 "nbformat_minor": 4
}
