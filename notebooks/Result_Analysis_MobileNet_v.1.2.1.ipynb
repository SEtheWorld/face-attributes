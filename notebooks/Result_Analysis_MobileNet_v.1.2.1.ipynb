{
 "cells": [
  {
   "cell_type": "code",
   "execution_count": 1,
   "metadata": {},
   "outputs": [],
   "source": [
    "import pandas as pd\n",
    "import matplotlib.pyplot as plt\n",
    "import cv2\n",
    "import os\n",
    "import glob\n",
    "import numpy as np\n",
    "import seaborn as sns\n",
    "import torch.nn as nn\n",
    "from torch.utils.data import DataLoader\n",
    "import torch\n",
    "import sys\n",
    "import timm\n",
    "import albumentations as A\n",
    "from albumentations.pytorch.transforms import ToTensorV2\n",
    "from tqdm.notebook import tqdm\n",
    "from pprint import pprint\n",
    "%matplotlib inline\n",
    "\n",
    "\n",
    "sys.path.insert(0, '..')\n",
    "from src.models.utils import FaceDataset"
   ]
  },
  {
   "cell_type": "code",
   "execution_count": 2,
   "metadata": {},
   "outputs": [],
   "source": [
    "meanR,meanG,meanB = 0.54568475 ,0.42776844 ,0.3761094\n",
    "stdR,stdG,stdB = 0.21924357, 0.18996198, 0.17315607\n",
    "\n",
    "def get_val_transforms():\n",
    "    return A.Compose([\n",
    "        A.Resize(224, 224),\n",
    "        A.Normalize(mean=(meanR,meanG,meanB), std=(stdR,stdG,stdB)),\n",
    "        ToTensorV2(),\n",
    "    ])"
   ]
  },
  {
   "cell_type": "code",
   "execution_count": 3,
   "metadata": {},
   "outputs": [],
   "source": [
    "class Net(nn.Module):\n",
    "    def __init__(self, params):\n",
    "        super(Net, self).__init__()\n",
    "    \n",
    "    def forward(self, x):\n",
    "        return x"
   ]
  },
  {
   "cell_type": "code",
   "execution_count": 4,
   "metadata": {},
   "outputs": [],
   "source": [
    "def __init__(self, params):\n",
    "    super(Net, self).__init__()\n",
    "    \n",
    "    C_in,H_in,W_in=params[\"input_shape\"] \n",
    "    self.dropout_rate=params[\"drop_rate\"] \n",
    "    self.num_fc1 = params[\"num_fc1\"]\n",
    "    \n",
    "    mobile_v3 = timm.create_model('mobilenetv3_large_100', pretrained=False)\n",
    "    \n",
    "    in_features = mobile_v3.classifier.in_features\n",
    "    \n",
    "    mobile_v3.classifier = nn.Linear(in_features, self.num_fc1)\n",
    "    \n",
    "    self.backbone = nn.Sequential(\n",
    "                    mobile_v3,\n",
    "                    nn.BatchNorm1d(num_features=self.num_fc1),\n",
    "                    nn.ReLU()\n",
    "    )\n",
    "    \n",
    "    self.gender_head = nn.Sequential(\n",
    "                            nn.Dropout(p=self.dropout_rate),\n",
    "                            nn.Linear(self.num_fc1, 1),\n",
    "                            nn.Sigmoid()\n",
    "    )\n",
    "    \n",
    "    self.age_head = nn.Sequential(\n",
    "                    nn.Linear(self.num_fc1, 1)\n",
    "    )"
   ]
  },
  {
   "cell_type": "code",
   "execution_count": 5,
   "metadata": {},
   "outputs": [],
   "source": [
    "def forward(self, x):\n",
    "    x = self.backbone(x)  \n",
    "    \n",
    "    gender = self.gender_head(x)\n",
    "    age = self.age_head(x)\n",
    "    \n",
    "    return age, gender"
   ]
  },
  {
   "cell_type": "code",
   "execution_count": 6,
   "metadata": {},
   "outputs": [
    {
     "name": "stdout",
     "output_type": "stream",
     "text": [
      "Let's use 4 GPUs!\n"
     ]
    }
   ],
   "source": [
    "Net.__init__= __init__\n",
    "Net.forward = forward\n",
    "\n",
    "params_model={\n",
    "        \"input_shape\": (3,224,224),\n",
    "        \"drop_rate\" : 0.2,\n",
    "        \"num_fc1\" : 512,\n",
    "    }\n",
    "\n",
    "model = Net(params_model)\n",
    "\n",
    "if torch.cuda.device_count() > 1:\n",
    "    print(\"Let's use\", torch.cuda.device_count(), \"GPUs!\")\n",
    "    model = nn.DataParallel(model)\n",
    "\n",
    "device = torch.device(\"cuda\")\n",
    "model = model.to(device)"
   ]
  },
  {
   "cell_type": "code",
   "execution_count": 7,
   "metadata": {},
   "outputs": [
    {
     "data": {
      "text/plain": [
       "<All keys matched successfully>"
      ]
     },
     "execution_count": 7,
     "metadata": {},
     "output_type": "execute_result"
    }
   ],
   "source": [
    "checkpoint = torch.load('../models/exp_2020_12_09-16_51_29/best_checkpoints.bin')\n",
    "model.load_state_dict(checkpoint['model_state_dict'], strict=False)"
   ]
  },
  {
   "cell_type": "code",
   "execution_count": 8,
   "metadata": {},
   "outputs": [],
   "source": [
    "class CustomFaceDataset(FaceDataset):\n",
    "    def __getitem__(self, idx):\n",
    "        path = self.df.iloc[idx][\"file_name\"]\n",
    "        age = self.df.iloc[idx][\"age\"].astype(np.float32)\n",
    "        gender = self.df.iloc[idx][\"gender\"].astype(np.float32)\n",
    "        \n",
    "        img = cv2.imread(path, cv2.IMREAD_COLOR)\n",
    "        img = cv2.cvtColor(img, cv2.COLOR_BGR2RGB).astype('float32')\n",
    "        img /= 255.0\n",
    "        \n",
    "        label_list = [age, gender]\n",
    "        label_tensor = torch.tensor(label_list)\n",
    "        \n",
    "        if self.transform:\n",
    "            img = self.transform(image = img)['image']\n",
    "        \n",
    "        return img, label_tensor"
   ]
  },
  {
   "cell_type": "code",
   "execution_count": 9,
   "metadata": {},
   "outputs": [],
   "source": [
    "test_ds = CustomFaceDataset(\"/home/Data/all/testing.csv\", get_val_transforms(), None)"
   ]
  },
  {
   "cell_type": "code",
   "execution_count": 10,
   "metadata": {},
   "outputs": [],
   "source": [
    "test_dl = DataLoader(test_ds, batch_size =256, num_workers = 4, shuffle=False)"
   ]
  },
  {
   "cell_type": "code",
   "execution_count": 11,
   "metadata": {},
   "outputs": [],
   "source": [
    "def test(test_dl):          \n",
    "    # evaluate the model    \n",
    "    model.eval()\n",
    "    predictions = []\n",
    "    labels = []\n",
    "    with torch.no_grad():\n",
    "        for xb, yb in tqdm(test_dl, total = len(test_dl), desc='Progress'):\n",
    "            yb=yb.to(device)\n",
    "\n",
    "            # get model output\n",
    "            b_pred = model(xb.to(device))\n",
    "            predictions.append(b_pred)\n",
    "            labels.append(yb)\n",
    "    return predictions, labels"
   ]
  },
  {
   "cell_type": "code",
   "execution_count": 12,
   "metadata": {
    "scrolled": false
   },
   "outputs": [
    {
     "data": {
      "application/vnd.jupyter.widget-view+json": {
       "model_id": "4c4eabc7f74b4227b812f8aa50312d8f",
       "version_major": 2,
       "version_minor": 0
      },
      "text/plain": [
       "HBox(children=(HTML(value='Progress'), FloatProgress(value=0.0, max=40.0), HTML(value='')))"
      ]
     },
     "metadata": {},
     "output_type": "display_data"
    },
    {
     "name": "stdout",
     "output_type": "stream",
     "text": [
      "\n"
     ]
    }
   ],
   "source": [
    "predictions, labels = test(test_dl)"
   ]
  },
  {
   "cell_type": "code",
   "execution_count": 13,
   "metadata": {},
   "outputs": [],
   "source": [
    "preds= []\n",
    "pred_gds = []\n",
    "for pred in predictions:\n",
    "    pred_a = list(pred[0].cpu().numpy().ravel().astype('int64'))\n",
    "    pred_gd = pred[1] >= 0.5\n",
    "    pred_gd = list(pred_gd.cpu().numpy().ravel().astype('uint8'))\n",
    "    preds += pred_a\n",
    "    pred_gds += pred_gd"
   ]
  },
  {
   "cell_type": "code",
   "execution_count": 14,
   "metadata": {},
   "outputs": [],
   "source": [
    "gt = []\n",
    "gt_gd = []\n",
    "for l in labels:\n",
    "    age = l[:, 0]\n",
    "    gd = l[:, 1]\n",
    "    gt += list(age.cpu().numpy().astype('int64'))\n",
    "    gt_gd += list(gd.cpu().numpy().astype('int64'))"
   ]
  },
  {
   "cell_type": "code",
   "execution_count": 15,
   "metadata": {},
   "outputs": [],
   "source": [
    "assert len(gt) == len(preds)"
   ]
  },
  {
   "cell_type": "code",
   "execution_count": 16,
   "metadata": {},
   "outputs": [],
   "source": [
    "assert len(gt_gd) == len(pred_gds)"
   ]
  },
  {
   "cell_type": "code",
   "execution_count": 18,
   "metadata": {},
   "outputs": [
    {
     "data": {
      "image/png": "[encoded data removed]",
      "text/plain": [
       "<Figure size 1440x720 with 1 Axes>"
      ]
     },
     "metadata": {
      "needs_background": "light"
     },
     "output_type": "display_data"
    }
   ],
   "source": [
    "plt.figure(figsize=(20, 10))\n",
    "\n",
    "#Prediction blue\n",
    "#Label red\n",
    "\n",
    "sns.kdeplot(preds, color = 'b' ,x = 'Age')\n",
    "sns.kdeplot(gt, color = 'r',x = 'Age')\n",
    "\n",
    "plt.show()"
   ]
  },
  {
   "cell_type": "code",
   "execution_count": 19,
   "metadata": {},
   "outputs": [],
   "source": [
    "from sklearn.metrics import accuracy_score, precision_score, recall_score"
   ]
  },
  {
   "cell_type": "code",
   "execution_count": 20,
   "metadata": {},
   "outputs": [
    {
     "name": "stdout",
     "output_type": "stream",
     "text": [
      "0.8009\n"
     ]
    }
   ],
   "source": [
    "print(accuracy_score(gt_gd, pred_gds))"
   ]
  },
  {
   "cell_type": "code",
   "execution_count": 21,
   "metadata": {},
   "outputs": [
    {
     "name": "stdout",
     "output_type": "stream",
     "text": [
      "0.8231378763866878\n"
     ]
    }
   ],
   "source": [
    "print(precision_score(gt_gd, pred_gds))"
   ]
  },
  {
   "cell_type": "code",
   "execution_count": 22,
   "metadata": {},
   "outputs": [
    {
     "name": "stdout",
     "output_type": "stream",
     "text": [
      "0.8558246828143022\n"
     ]
    }
   ],
   "source": [
    "print(recall_score(gt_gd, pred_gds))"
   ]
  },
  {
   "cell_type": "code",
   "execution_count": null,
   "metadata": {},
   "outputs": [],
   "source": []
  }
 ],
 "metadata": {
  "kernelspec": {
   "display_name": "age_gender",
   "language": "python",
   "name": "age_gender"
  },
  "language_info": {
   "codemirror_mode": {
    "name": "ipython",
    "version": 3
   },
   "file_extension": ".py",
   "mimetype": "text/x-python",
   "name": "python",
   "nbconvert_exporter": "python",
   "pygments_lexer": "ipython3",
   "version": "3.8.2"
  }
 },
 "nbformat": 4,
 "nbformat_minor": 4
}
