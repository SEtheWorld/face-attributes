{
 "cells": [
  {
   "cell_type": "markdown",
   "metadata": {},
   "source": [
    "# Test pipeline\n",
    "1. Create dataset: sequence of preporcessed examples ready to feed to neuralnet \n",
    "2. Create dataloader: define how dataset is loaded to neuralnet (batch size, order, computation optimizing ...)\n",
    "3. Create model : a bunch of matrixes math to transform input tensor to output tensor\n",
    "4. Training loop:\n",
    "    + Forward \n",
    "    + Calculate loss\n",
    "    + Backward\n",
    "    + Monitoring: \n",
    "        + Evaluate metrics\n",
    "        + Logger, back and forth\n",
    "        + Visualize"
   ]
  },
  {
   "cell_type": "markdown",
   "metadata": {},
   "source": [
    "# Import necessary packages"
   ]
  },
  {
   "cell_type": "code",
   "execution_count": 3,
   "metadata": {
    "scrolled": true
   },
   "outputs": [],
   "source": [
    "import os\n",
    "import glob\n",
    "import sys\n",
    "import random\n",
    "import cv2\n",
    "\n",
    "import matplotlib.pylab as plt\n",
    "from PIL import Image, ImageDraw\n",
    "import pandas as pd\n",
    "import torch\n",
    "import torch.nn.functional as F\n",
    "import torch.nn as nn\n",
    "from torchsummary import summary\n",
    "from torch.utils.data import Dataset\n",
    "import torchvision.transforms.functional as TF\n",
    "import wandb\n",
    "from tqdm import tqdm\n",
    "import numpy as np\n",
    "\n",
    "from sklearn.model_selection import ShuffleSplit, train_test_split\n",
    "\n",
    "\n",
    "# !pip install timm\n",
    "# !pip install albumentations==0.4.6\n",
    "\n",
    "import timm\n",
    "import albumentations as A\n",
    "from albumentations.pytorch.transforms import ToTensorV2\n",
    "\n",
    "from pprint import pprint\n",
    "\n",
    "torch.manual_seed(0)\n",
    "np.random.seed(0)\n",
    "random.seed(0)\n",
    "\n",
    "%matplotlib inline\n",
    "\n",
    "\n",
    "sys.path.insert(0, '..')\n",
    "from src.models.utils import FaceDataset\n"
   ]
  },
  {
   "cell_type": "code",
   "execution_count": 2,
   "metadata": {},
   "outputs": [
    {
     "name": "stderr",
     "output_type": "stream",
     "text": [
      "\u001b[34m\u001b[1mwandb\u001b[0m: Currently logged in as: \u001b[33mdyle_cse\u001b[0m (use `wandb login --relogin` to force relogin)\n",
      "\u001b[34m\u001b[1mwandb\u001b[0m: wandb version 0.10.12 is available!  To upgrade, please run:\n",
      "\u001b[34m\u001b[1mwandb\u001b[0m:  $ pip install wandb --upgrade\n"
     ]
    },
    {
     "data": {
      "text/html": [
       "\n",
       "                Tracking run with wandb version 0.10.11<br/>\n",
       "                Syncing run <strong style=\"color:#cdcd00\">fragrant-breeze-17</strong> to <a href=\"https://wandb.ai\" target=\"_blank\">Weights & Biases</a> <a href=\"https://docs.wandb.com/integrations/jupyter.html\" target=\"_blank\">(Documentation)</a>.<br/>\n",
       "                Project page: <a href=\"https://wandb.ai/dyle_cse/Age_Gender\" target=\"_blank\">https://wandb.ai/dyle_cse/Age_Gender</a><br/>\n",
       "                Run page: <a href=\"https://wandb.ai/dyle_cse/Age_Gender/runs/18ebzwjt\" target=\"_blank\">https://wandb.ai/dyle_cse/Age_Gender/runs/18ebzwjt</a><br/>\n",
       "                Run data is saved locally in <code>/home/anhduy/face-attributes/notebooks/wandb/run-20201209_094032-18ebzwjt</code><br/><br/>\n",
       "            "
      ],
      "text/plain": [
       "<IPython.core.display.HTML object>"
      ]
     },
     "metadata": {},
     "output_type": "display_data"
    },
    {
     "data": {
      "text/html": [
       "<h1>Run(18ebzwjt)</h1><p></p><iframe src=\"https://wandb.ai/dyle_cse/Age_Gender/runs/18ebzwjt\" style=\"border:none;width:100%;height:400px\"></iframe>"
      ],
      "text/plain": [
       "<wandb.sdk.wandb_run.Run at 0x7f3ff369fe50>"
      ]
     },
     "execution_count": 2,
     "metadata": {},
     "output_type": "execute_result"
    }
   ],
   "source": [
    "hyperparameter_defaults = dict(\n",
    "    dropout = 0.2,\n",
    "    fc1 = 512,\n",
    "    batch_size = 64,\n",
    "    learning_rate = 0.005,\n",
    "    epochs = 10,\n",
    "    weight_decay = 0.001\n",
    ")\n",
    "\n",
    "wandb.init(config=hyperparameter_defaults, project='Age_Gender')"
   ]
  },
  {
   "cell_type": "markdown",
   "metadata": {},
   "source": [
    "# Create custom dataset"
   ]
  },
  {
   "cell_type": "code",
   "execution_count": 4,
   "metadata": {},
   "outputs": [],
   "source": [
    "class CustomFaceDataset(FaceDataset):\n",
    "    def __getitem__(self, idx):\n",
    "        path = self.df.iloc[idx][\"file_name\"]\n",
    "        age = self.df.iloc[idx][\"age\"].astype(np.float32)\n",
    "        gender = self.df.iloc[idx][\"gender\"].astype(np.float32)\n",
    "        \n",
    "        img = cv2.imread(path, cv2.IMREAD_COLOR)\n",
    "        img = cv2.cvtColor(img, cv2.COLOR_BGR2RGB).astype('float32')\n",
    "        img /= 255.0\n",
    "        \n",
    "        label_list = [age, gender]\n",
    "        label_tensor = torch.tensor(label_list)\n",
    "        \n",
    "        if self.transform:\n",
    "            img = self.transform(image = img)['image']\n",
    "        \n",
    "        return img, label_tensor"
   ]
  },
  {
   "cell_type": "code",
   "execution_count": 6,
   "metadata": {},
   "outputs": [],
   "source": [
    "path2data = \"/home/Data/\"\n",
    "\n",
    "df = pd.read_csv(path2data + \"training_dataset.csv\")\n",
    "\n",
    "size = len(df)\n",
    "\n",
    "val_size = 10000\n",
    "test_size = 10000\n",
    "\n",
    "train_df, test_df = train_test_split(df, test_size=test_size/size, random_state=42)\n",
    "train_df, val_df = train_test_split(train_df, test_size=val_size/len(train_df), random_state=42)\n",
    "\n",
    "if not os.path.isdir(path2data + 'all'):\n",
    "    os.makedirs(path2data + 'all')\n",
    "    \n",
    "train_df.to_csv(path2data + \"all/training.csv\", index=False, header=True)\n",
    "val_df.to_csv(path2data + \"all/val.csv\",  index=False, header=True)\n",
    "test_df.to_csv(path2data + \"all/testing.csv\",  index=False, header=True)"
   ]
  },
  {
   "cell_type": "code",
   "execution_count": 7,
   "metadata": {
    "scrolled": true
   },
   "outputs": [
    {
     "name": "stdout",
     "output_type": "stream",
     "text": [
      "181432\n",
      "10000\n"
     ]
    }
   ],
   "source": [
    "# create data set\n",
    "path2data = \"/home/Data/\"\n",
    "\n",
    "data_transform = A.Compose([ToTensorV2(p=1.0)])\n",
    "\n",
    "train_ds = CustomFaceDataset(path2data + \"all/training.csv\", data_transform, None)\n",
    "val_ds = CustomFaceDataset(path2data + \"all/val.csv\", data_transform, None)\n",
    "\n",
    "print(len(train_ds))\n",
    "print(len(val_ds))"
   ]
  },
  {
   "cell_type": "markdown",
   "metadata": {},
   "source": [
    "# Create a transformer"
   ]
  },
  {
   "cell_type": "code",
   "execution_count": 8,
   "metadata": {},
   "outputs": [
    {
     "name": "stdout",
     "output_type": "stream",
     "text": [
      "0.54568475 0.42776844 0.3761094\n",
      "0.21924357 0.18996198 0.17315607\n"
     ]
    }
   ],
   "source": [
    "meanRGB=[np.mean(x.numpy(),axis=(1,2)) for x,_ in train_ds]\n",
    "stdRGB=[np.std(x.numpy(),axis=(1,2)) for x,_ in train_ds]\n",
    "\n",
    "meanR=np.mean([m[0] for m in meanRGB])\n",
    "meanG=np.mean([m[1] for m in meanRGB])\n",
    "meanB=np.mean([m[2] for m in meanRGB])\n",
    "\n",
    "stdR=np.mean([s[0] for s in stdRGB])\n",
    "stdG=np.mean([s[1] for s in stdRGB])\n",
    "stdB=np.mean([s[2] for s in stdRGB])\n",
    "\n",
    "print(meanR,meanG,meanB)\n",
    "print(stdR,stdG,stdB)"
   ]
  },
  {
   "cell_type": "code",
   "execution_count": 8,
   "metadata": {},
   "outputs": [],
   "source": [
    "meanR,meanG,meanB = 0.54568475 ,0.42776844 ,0.3761094\n",
    "stdR,stdG,stdB = 0.21924357, 0.18996198, 0.17315607\n",
    " \n",
    "def get_train_transforms():\n",
    "    return A.Compose([\n",
    "        A.HorizontalFlip(p=0.5),\n",
    "        A.ShiftScaleRotate(shift_limit=0.05, scale_limit=0.05, rotate_limit=15, p=0.5),\n",
    "        A.RandomBrightnessContrast(p=0.5),\n",
    "        A.Resize(224, 224),\n",
    "        A.Cutout(num_holes=4, max_h_size=4, max_w_size=4, fill_value=0, always_apply=False, p=0.5),\n",
    "        A.Normalize(mean=(meanR,meanG,meanB), std=(stdR,stdG,stdB)),\n",
    "        ToTensorV2(),\n",
    "    ])\n",
    "\n",
    "def get_val_transforms():\n",
    "    return A.Compose([\n",
    "        A.Resize(224, 224),\n",
    "        A.Normalize(mean=(meanR,meanG,meanB), std=(stdR,stdG,stdB)),\n",
    "        ToTensorV2(),\n",
    "    ])"
   ]
  },
  {
   "cell_type": "code",
   "execution_count": 9,
   "metadata": {},
   "outputs": [],
   "source": [
    "train_ds.transform = get_train_transforms()\n",
    "val_ds.transform = get_val_transforms()"
   ]
  },
  {
   "cell_type": "markdown",
   "metadata": {},
   "source": [
    "# Create Data loader"
   ]
  },
  {
   "cell_type": "code",
   "execution_count": 6,
   "metadata": {},
   "outputs": [],
   "source": [
    "import matplotlib.pyplot as plt\n",
    "def show(img,label=None):\n",
    "    npimg = img.numpy().transpose((1,2,0))\n",
    "    plt.imshow(npimg)\n",
    "    if label is not None:\n",
    "        label = label.view(-1,2)\n",
    "        for point in label:\n",
    "            x,y= point\n",
    "            plt.plot(x,y,'b+',markersize=10)"
   ]
  },
  {
   "cell_type": "code",
   "execution_count": 7,
   "metadata": {
    "collapsed": true
   },
   "outputs": [
    {
     "name": "stderr",
     "output_type": "stream",
     "text": [
      "Clipping input data to the valid range for imshow with RGB data ([0..1] for floats or [0..255] for integers).\n"
     ]
    },
    {
     "data": {
      "image/png": "[encoded data removed]",
      "text/plain": [
       "<Figure size 720x720 with 1 Axes>"
      ]
     },
     "metadata": {
      "needs_background": "light"
     },
     "output_type": "display_data"
    }
   ],
   "source": [
    "plt.figure(figsize=(10,10))\n",
    "for img,label in train_ds:\n",
    "    show(img,label)\n",
    "    break"
   ]
  },
  {
   "cell_type": "code",
   "execution_count": 8,
   "metadata": {
    "collapsed": true
   },
   "outputs": [
    {
     "name": "stderr",
     "output_type": "stream",
     "text": [
      "Clipping input data to the valid range for imshow with RGB data ([0..1] for floats or [0..255] for integers).\n"
     ]
    },
    {
     "data": {
      "image/png": "[encoded data removed]",
      "text/plain": [
       "<Figure size 720x720 with 1 Axes>"
      ]
     },
     "metadata": {
      "needs_background": "light"
     },
     "output_type": "display_data"
    }
   ],
   "source": [
    "plt.figure(figsize=(10,10))\n",
    "for img,label in val_ds:\n",
    "    show(img,label)\n",
    "    break"
   ]
  },
  {
   "cell_type": "code",
   "execution_count": 9,
   "metadata": {},
   "outputs": [],
   "source": [
    "from torch.utils.data import DataLoader\n",
    "\n",
    "train_dl = DataLoader(\n",
    "    train_ds, \n",
    "    batch_size = wandb.config.batch_size, \n",
    "    num_workers=4,\n",
    "    shuffle=True\n",
    ")\n",
    "\n",
    "val_dl = DataLoader(\n",
    "    val_ds, \n",
    "    batch_size = 256, \n",
    "    num_workers=4,\n",
    "    shuffle=False\n",
    ")"
   ]
  },
  {
   "cell_type": "code",
   "execution_count": 13,
   "metadata": {},
   "outputs": [
    {
     "name": "stdout",
     "output_type": "stream",
     "text": [
      "torch.Size([64, 3, 224, 224]) torch.float32\n",
      "torch.Size([64, 2])\n"
     ]
    }
   ],
   "source": [
    "for img_b, label_b in train_dl:\n",
    "    print(img_b.shape,img_b.dtype)\n",
    "    print(label_b.shape)\n",
    "    break"
   ]
  },
  {
   "cell_type": "code",
   "execution_count": 14,
   "metadata": {},
   "outputs": [
    {
     "name": "stdout",
     "output_type": "stream",
     "text": [
      "torch.Size([256, 2])\n"
     ]
    }
   ],
   "source": [
    "for img, label in val_dl:\n",
    "    print(label.shape)\n",
    "    break"
   ]
  },
  {
   "cell_type": "markdown",
   "metadata": {},
   "source": [
    "\n",
    "# Create Model"
   ]
  },
  {
   "cell_type": "code",
   "execution_count": 10,
   "metadata": {},
   "outputs": [],
   "source": [
    "class Net(nn.Module):\n",
    "    def __init__(self, params):\n",
    "        super(Net, self).__init__()\n",
    "    \n",
    "    def forward(self, x):\n",
    "        return x"
   ]
  },
  {
   "cell_type": "code",
   "execution_count": 11,
   "metadata": {},
   "outputs": [],
   "source": [
    "def __init__(self, params):\n",
    "    super(Net, self).__init__()\n",
    "    \n",
    "    C_in,H_in,W_in=params[\"input_shape\"] \n",
    "    self.dropout_rate=params[\"drop_rate\"] \n",
    "    self.num_fc1 = params[\"num_fc1\"]\n",
    "    self.is_freeze = params['is_freeze']\n",
    "    \n",
    "    mobile_v3 =  timm.create_model('mobilenetv3_large_100', pretrained=True)\n",
    "    \n",
    "    in_features = mobile_v3.classifier.in_features\n",
    "    \n",
    "    mobile_v3.classifier = nn.Linear(in_features, self.num_fc1)\n",
    "    \n",
    "    self.backbone = nn.Sequential(\n",
    "                    mobile_v3,\n",
    "                    nn.BatchNorm1d(num_features=self.num_fc1),\n",
    "                    nn.ReLU()\n",
    "    )\n",
    "    \n",
    "    self.gender_head = nn.Sequential(\n",
    "                            nn.Dropout(p=self.dropout_rate),\n",
    "                            nn.Linear(self.num_fc1, 1),\n",
    "                            nn.Sigmoid()\n",
    "    )\n",
    "    \n",
    "    self.age_head = nn.Sequential(\n",
    "                    nn.Linear(self.num_fc1, 1)\n",
    "    )\n",
    "    \n",
    "    if self.is_freeze:\n",
    "        for param in self.backbone.parameters():\n",
    "            param.requires_grad = False"
   ]
  },
  {
   "cell_type": "code",
   "execution_count": 12,
   "metadata": {},
   "outputs": [],
   "source": [
    "def forward(self, x):\n",
    "    x = self.backbone(x)  \n",
    "    \n",
    "    gender = self.gender_head(x)\n",
    "    age = self.age_head(x)\n",
    "    \n",
    "    return age, gender"
   ]
  },
  {
   "cell_type": "code",
   "execution_count": 13,
   "metadata": {
    "scrolled": true
   },
   "outputs": [
    {
     "name": "stdout",
     "output_type": "stream",
     "text": [
      "Let's use 4 GPUs!\n"
     ]
    },
    {
     "data": {
      "text/plain": [
       "[<wandb.wandb_torch.TorchGraph at 0x7f3ff0df1a00>]"
      ]
     },
     "execution_count": 13,
     "metadata": {},
     "output_type": "execute_result"
    }
   ],
   "source": [
    "Net.__init__= __init__\n",
    "Net.forward = forward\n",
    "\n",
    "params_model={\n",
    "        \"input_shape\": (3,224,224),\n",
    "        \"drop_rate\" : wandb.config.dropout,\n",
    "        \"num_fc1\" : wandb.config.fc1,\n",
    "        \"is_freeze\" : False\n",
    "            }\n",
    "\n",
    "model = Net(params_model)\n",
    "\n",
    "if torch.cuda.device_count() > 1:\n",
    "    print(\"Let's use\", torch.cuda.device_count(), \"GPUs!\")\n",
    "    model = nn.DataParallel(model)\n",
    "\n",
    "device = torch.device(\"cuda\")\n",
    "model = model.to(device)\n",
    "\n",
    "wandb.watch(model)"
   ]
  },
  {
   "cell_type": "markdown",
   "metadata": {},
   "source": [
    "# Create optimizer"
   ]
  },
  {
   "cell_type": "code",
   "execution_count": null,
   "metadata": {},
   "outputs": [],
   "source": [
    "from torch import optim\n",
    "from torch.optim.lr_scheduler import ReduceLROnPlateau\n",
    "\n",
    "# param_optimizer = list(model.named_parameters())\n",
    "# no_decay = ['bias', 'LayerNorm.bias', 'LayerNorm.weight']\n",
    "# optimizer_grouped_parameters = [\n",
    "#     {'params': [p for n, p in param_optimizer if not any(nd in n for nd in no_decay)], 'weight_decay': wandb.config.weight_decay},\n",
    "#     {'params': [p for n, p in param_optimizer if any(nd in n for nd in no_decay)], 'weight_decay': 0.0}\n",
    "# ] \n",
    "\n",
    "# opt = optim.Adam(optimizer_grouped_parameters, lr=wandb.config.learning_rate)\n",
    "opt = optim.Adam(model.parameters(), lr=wandb.config.learning_rate, weight_decay=wandb.config.weight_decay)\n",
    "lr_scheduler = ReduceLROnPlateau(opt, mode='min',factor=0.5, patience=2,verbose=1)"
   ]
  },
  {
   "cell_type": "markdown",
   "metadata": {},
   "source": [
    "# Create custom Performance"
   ]
  },
  {
   "cell_type": "code",
   "execution_count": 12,
   "metadata": {},
   "outputs": [],
   "source": [
    "from src.models import experiment\n",
    "from src.models.experiment import Performance\n",
    "\n",
    "class CustomPerformance(Performance):\n",
    "    def __init__(self):\n",
    "        Performance.__init__(self)\n",
    "        self.gender_loss_func = nn.BCELoss(reduction=\"sum\")\n",
    "        self.age_loss_func = nn.MSELoss(reduction=\"sum\")\n",
    "        \n",
    "    def loss_function(self, predictions, targets):\n",
    "        age, gender = predictions\n",
    "        gender_targets = targets[:, 1].unsqueeze(1)\n",
    "        age_targets = targets[:, 0].unsqueeze(1)\n",
    "        \n",
    "        loss_age = self.age_loss_func(age, age_targets)\n",
    "        \n",
    "        loss_gender = self.gender_loss_func(gender, gender_targets)\n",
    "        \n",
    "        loss = loss_age + loss_gender\n",
    "        \n",
    "        return loss, loss_age, loss_gender\n",
    "\n",
    "    def metrics_function(self, predictions, targets):\n",
    "        age, gender = predictions\n",
    "        gender_targets = targets[:, 1].unsqueeze(1)\n",
    "        age_targets = targets[:, 0].unsqueeze(1)\n",
    "        \n",
    "        gender = gender > 0.5\n",
    "        acc_gender = (gender == gender_targets).sum()\n",
    "        \n",
    "        mae_age = torch.abs(age - age_targets).sum()\n",
    "        \n",
    "        return torch.tensor([acc_gender, mae_age])\n"
   ]
  },
  {
   "cell_type": "markdown",
   "metadata": {},
   "source": [
    "# Training"
   ]
  },
  {
   "cell_type": "code",
   "execution_count": 39,
   "metadata": {},
   "outputs": [],
   "source": [
    "class AverageMeter:\n",
    "    def __init__(self):\n",
    "        self.sum = 0.0\n",
    "        self.count = 0.0\n",
    "\n",
    "    def update(self, val, n):\n",
    "        self.sum += val\n",
    "        self.count += n\n",
    "\n",
    "    def get_avg(self):\n",
    "        return self.sum / self.count\n",
    "\n",
    "\n",
    "classes = ('female', 'male')\n",
    "\n",
    "class CustomPipeline(experiment.Pipeline):\n",
    "    def _process_epoch(self, training):\n",
    "        loss_monitor = AverageMeter()\n",
    "        loss_age_monitor = AverageMeter()\n",
    "        loss_gender_monitor = AverageMeter()\n",
    "        metrics_monitor = AverageMeter()\n",
    "        if training:\n",
    "            dataset_dl = self.train_dl\n",
    "        else:\n",
    "            dataset_dl = self.val_dl\n",
    "\n",
    "        for xb, yb in tqdm(dataset_dl, total=len(dataset_dl), desc='Progress'):\n",
    "            yb=yb.to(self.params.device)\n",
    "\n",
    "            # get model output\n",
    "            predictions = self.model(xb.to(self.params.device))\n",
    "\n",
    "            # get loss per batch\n",
    "            loss, loss_age, loss_gender = self.performance.loss_function(predictions, yb)\n",
    "            \n",
    "            loss_age_monitor.update(loss_age, len(yb))\n",
    "            loss_gender_monitor.update(loss_gender, len(yb))\n",
    "            loss_monitor.update(loss, len(yb))\n",
    "\n",
    "            # get metrcis per batch\n",
    "            metrics = self.performance.metrics_function(predictions, yb)\n",
    "            metrics_monitor.update(metrics, len(yb))\n",
    "\n",
    "            if training:\n",
    "                wandb.log({'Train Loss': loss_monitor.get_avg(), 'Train loss age' : loss_age_monitor.get_avg(), 'Train loss gender' : loss_gender_monitor.get_avg(), 'Train Accuracy': metrics_monitor.get_avg()[0], 'Train MAE' : metrics_monitor.get_avg()[1]})\n",
    "                    \n",
    "            else:               \n",
    "                dataiter = iter(dataset_dl)\n",
    "                images, labels = dataiter.next()[:20]\n",
    "                images, labels = images.to(self.params.device), labels.to(self.params.device)\n",
    "                \n",
    "                outputs = self.model(images)\n",
    "               \n",
    "                _, gender_b = outputs\n",
    "                gender_b = gender_b > 0.5\n",
    "                \n",
    "                example_images = [wandb.Image(image, caption=classes[gender])\n",
    "                                  for image, gender, label in zip(images, gender_b, labels[:, 1])]\n",
    "                \n",
    "                wandb.log({'Example' : example_images, 'Val Loss': loss_monitor.get_avg(), 'Val Accuracy': metrics_monitor.get_avg()[0], 'Val MAE' : metrics_monitor.get_avg()[1]})\n",
    "            \n",
    "            # update parameters\n",
    "            if training:\n",
    "                self.params.opt.zero_grad()\n",
    "                loss.backward()\n",
    "                self.params.opt.step()  \n",
    "\n",
    "            if self.params.sanity_check:\n",
    "                break\n",
    "\n",
    "        return loss_monitor, metrics_monitor\n",
    "    \n",
    "    def test(self, test_dl):          \n",
    "        # evaluate the model    \n",
    "        loss_monitor = AverageMeter()\n",
    "        metrics_monitor = AverageMeter()\n",
    "        self.model.eval()\n",
    "\n",
    "        with torch.no_grad():\n",
    "            for xb, yb in tqdm(test_dl, total = len(test_dl), desc='Progress'):\n",
    "                yb=yb.to(self.params.device)\n",
    "\n",
    "                # get model output\n",
    "                predictions = self.model(xb.to(self.params.device))\n",
    "\n",
    "                # get loss per batch\n",
    "                loss, _, _ = self.performance.loss_function(predictions, yb)\n",
    "                loss_monitor.update(loss, len(yb))\n",
    "\n",
    "                # get metrcis per batch\n",
    "                metrics = self.performance.metrics_function(predictions, yb)\n",
    "                metrics_monitor.update(metrics, len(yb))\n",
    "\n",
    "        return loss_monitor.get_avg(), metrics_monitor.get_avg()      "
   ]
  },
  {
   "cell_type": "code",
   "execution_count": 18,
   "metadata": {},
   "outputs": [],
   "source": [
    "root_logdir = '../models'\n",
    "\n",
    "def get_run_logdir():\n",
    "    import time\n",
    "    run_id = time.strftime(\"exp_%Y_%m_%d-%H_%M_%S\")\n",
    "    if not os.path.isdir(os.path.join(root_logdir, run_id)):\n",
    "        os.makedirs(os.path.join(root_logdir, run_id))\n",
    "    return os.path.join(root_logdir, run_id)\n",
    "\n",
    "run_logdir = get_run_logdir()"
   ]
  },
  {
   "cell_type": "code",
   "execution_count": 19,
   "metadata": {
    "scrolled": true
   },
   "outputs": [
    {
     "name": "stderr",
     "output_type": "stream",
     "text": [
      "\r",
      "Progress:   0%|          | 0/2835 [00:00<?, ?it/s]"
     ]
    },
    {
     "name": "stdout",
     "output_type": "stream",
     "text": [
      "Epoch 0/9, current lr=0.005\n"
     ]
    },
    {
     "name": "stderr",
     "output_type": "stream",
     "text": [
      "Progress: 100%|██████████| 2835/2835 [07:12<00:00,  6.55it/s]\n",
      "Progress:   0%|          | 0/40 [00:00<?, ?it/s]WARNING:root:Only 108 Image will be uploaded.\n",
      "Progress:   2%|▎         | 1/40 [00:03<02:26,  3.76s/it]WARNING:root:Only 108 Image will be uploaded.\n",
      "Progress:   5%|▌         | 2/40 [00:07<02:20,  3.70s/it]WARNING:root:Only 108 Image will be uploaded.\n",
      "Progress:   8%|▊         | 3/40 [00:10<02:09,  3.50s/it]WARNING:root:Only 108 Image will be uploaded.\n",
      "Progress:  10%|█         | 4/40 [00:13<01:59,  3.33s/it]WARNING:root:Only 108 Image will be uploaded.\n",
      "Progress:  12%|█▎        | 5/40 [00:16<01:52,  3.21s/it]WARNING:root:Only 108 Image will be uploaded.\n",
      "Progress:  15%|█▌        | 6/40 [00:19<01:46,  3.12s/it]WARNING:root:Only 108 Image will be uploaded.\n",
      "Progress:  18%|█▊        | 7/40 [00:22<01:41,  3.06s/it]WARNING:root:Only 108 Image will be uploaded.\n",
      "Progress:  20%|██        | 8/40 [00:24<01:36,  3.02s/it]WARNING:root:Only 108 Image will be uploaded.\n",
      "Progress:  22%|██▎       | 9/40 [00:27<01:32,  2.99s/it]WARNING:root:Only 108 Image will be uploaded.\n",
      "Progress:  25%|██▌       | 10/40 [00:30<01:29,  2.97s/it]WARNING:root:Only 108 Image will be uploaded.\n",
      "Progress:  28%|██▊       | 11/40 [00:33<01:25,  2.95s/it]WARNING:root:Only 108 Image will be uploaded.\n",
      "Progress:  30%|███       | 12/40 [00:36<01:22,  2.94s/it]WARNING:root:Only 108 Image will be uploaded.\n",
      "Progress:  32%|███▎      | 13/40 [00:39<01:18,  2.92s/it]WARNING:root:Only 108 Image will be uploaded.\n",
      "Progress:  35%|███▌      | 14/40 [00:42<01:15,  2.92s/it]WARNING:root:Only 108 Image will be uploaded.\n",
      "Progress:  38%|███▊      | 15/40 [00:45<01:13,  2.92s/it]WARNING:root:Only 108 Image will be uploaded.\n",
      "Progress:  40%|████      | 16/40 [00:48<01:10,  2.92s/it]WARNING:root:Only 108 Image will be uploaded.\n",
      "Progress:  42%|████▎     | 17/40 [00:51<01:07,  2.92s/it]WARNING:root:Only 108 Image will be uploaded.\n",
      "Progress:  45%|████▌     | 18/40 [00:54<01:04,  2.93s/it]WARNING:root:Only 108 Image will be uploaded.\n",
      "Progress:  48%|████▊     | 19/40 [00:57<01:01,  2.92s/it]WARNING:root:Only 108 Image will be uploaded.\n",
      "Progress:  50%|█████     | 20/40 [00:59<00:57,  2.90s/it]WARNING:root:Only 108 Image will be uploaded.\n",
      "Progress:  52%|█████▎    | 21/40 [01:02<00:55,  2.90s/it]WARNING:root:Only 108 Image will be uploaded.\n",
      "Progress:  55%|█████▌    | 22/40 [01:05<00:52,  2.90s/it]WARNING:root:Only 108 Image will be uploaded.\n",
      "Progress:  57%|█████▊    | 23/40 [01:08<00:49,  2.91s/it]WARNING:root:Only 108 Image will be uploaded.\n",
      "Progress:  60%|██████    | 24/40 [01:11<00:46,  2.93s/it]WARNING:root:Only 108 Image will be uploaded.\n",
      "Progress:  62%|██████▎   | 25/40 [01:14<00:44,  2.94s/it]WARNING:root:Only 108 Image will be uploaded.\n",
      "Progress:  65%|██████▌   | 26/40 [01:17<00:40,  2.91s/it]WARNING:root:Only 108 Image will be uploaded.\n",
      "Progress:  68%|██████▊   | 27/40 [01:20<00:37,  2.90s/it]WARNING:root:Only 108 Image will be uploaded.\n",
      "Progress:  70%|███████   | 28/40 [01:23<00:37,  3.09s/it]WARNING:root:Only 108 Image will be uploaded.\n",
      "Progress:  72%|███████▎  | 29/40 [01:26<00:33,  3.02s/it]WARNING:root:Only 108 Image will be uploaded.\n",
      "Progress:  75%|███████▌  | 30/40 [01:29<00:29,  2.99s/it]WARNING:root:Only 108 Image will be uploaded.\n",
      "Progress:  78%|███████▊  | 31/40 [01:32<00:26,  2.98s/it]WARNING:root:Only 108 Image will be uploaded.\n",
      "Progress:  80%|████████  | 32/40 [01:35<00:23,  2.93s/it]WARNING:root:Only 108 Image will be uploaded.\n",
      "Progress:  82%|████████▎ | 33/40 [01:38<00:20,  2.91s/it]WARNING:root:Only 108 Image will be uploaded.\n",
      "Progress:  85%|████████▌ | 34/40 [01:41<00:17,  2.90s/it]WARNING:root:Only 108 Image will be uploaded.\n",
      "Progress:  88%|████████▊ | 35/40 [01:44<00:14,  2.90s/it]WARNING:root:Only 108 Image will be uploaded.\n",
      "Progress:  90%|█████████ | 36/40 [01:46<00:11,  2.91s/it]WARNING:root:Only 108 Image will be uploaded.\n",
      "Progress:  92%|█████████▎| 37/40 [01:49<00:08,  2.90s/it]WARNING:root:Only 108 Image will be uploaded.\n",
      "Progress:  95%|█████████▌| 38/40 [01:52<00:05,  2.93s/it]WARNING:root:Only 108 Image will be uploaded.\n",
      "Progress:  98%|█████████▊| 39/40 [01:55<00:02,  2.92s/it]WARNING:root:Only 108 Image will be uploaded.\n",
      "Progress: 100%|██████████| 40/40 [01:58<00:00,  2.97s/it]\n",
      "Progress:   0%|          | 0/2835 [00:00<?, ?it/s]"
     ]
    },
    {
     "name": "stdout",
     "output_type": "stream",
     "text": [
      "Copied best model weights!\n",
      "train loss: 84.593658, time: 7.21350\n",
      "val loss: 111.067596, time: 1.98365\n",
      "----------\n",
      "Epoch 1/9, current lr=0.005\n"
     ]
    },
    {
     "name": "stderr",
     "output_type": "stream",
     "text": [
      "Progress: 100%|██████████| 2835/2835 [07:11<00:00,  6.57it/s]\n",
      "Progress:   0%|          | 0/40 [00:00<?, ?it/s]WARNING:root:Only 108 Image will be uploaded.\n",
      "Progress:   2%|▎         | 1/40 [00:04<02:36,  4.01s/it]WARNING:root:Only 108 Image will be uploaded.\n",
      "Progress:   5%|▌         | 2/40 [00:07<02:21,  3.71s/it]WARNING:root:Only 108 Image will be uploaded.\n",
      "Progress:   8%|▊         | 3/40 [00:10<02:10,  3.52s/it]WARNING:root:Only 108 Image will be uploaded.\n",
      "Progress:  10%|█         | 4/40 [00:13<02:01,  3.38s/it]WARNING:root:Only 108 Image will be uploaded.\n",
      "Progress:  12%|█▎        | 5/40 [00:16<01:54,  3.27s/it]WARNING:root:Only 108 Image will be uploaded.\n",
      "Progress:  15%|█▌        | 6/40 [00:19<01:48,  3.20s/it]WARNING:root:Only 108 Image will be uploaded.\n",
      "Progress:  18%|█▊        | 7/40 [00:22<01:44,  3.16s/it]WARNING:root:Only 108 Image will be uploaded.\n",
      "Progress:  20%|██        | 8/40 [00:25<01:40,  3.13s/it]WARNING:root:Only 108 Image will be uploaded.\n",
      "Progress:  22%|██▎       | 9/40 [00:28<01:35,  3.10s/it]WARNING:root:Only 108 Image will be uploaded.\n",
      "Progress:  25%|██▌       | 10/40 [00:31<01:32,  3.07s/it]WARNING:root:Only 108 Image will be uploaded.\n",
      "Progress:  28%|██▊       | 11/40 [00:35<01:38,  3.38s/it]WARNING:root:Only 108 Image will be uploaded.\n",
      "Progress:  30%|███       | 12/40 [00:38<01:31,  3.28s/it]WARNING:root:Only 108 Image will be uploaded.\n",
      "Progress:  32%|███▎      | 13/40 [00:41<01:26,  3.19s/it]WARNING:root:Only 108 Image will be uploaded.\n",
      "Progress:  35%|███▌      | 14/40 [00:44<01:21,  3.15s/it]WARNING:root:Only 108 Image will be uploaded.\n",
      "Progress:  38%|███▊      | 15/40 [00:47<01:17,  3.12s/it]WARNING:root:Only 108 Image will be uploaded.\n",
      "Progress:  40%|████      | 16/40 [00:50<01:14,  3.10s/it]WARNING:root:Only 108 Image will be uploaded.\n",
      "Progress:  42%|████▎     | 17/40 [00:53<01:11,  3.10s/it]WARNING:root:Only 108 Image will be uploaded.\n",
      "Progress:  45%|████▌     | 18/40 [00:56<01:07,  3.08s/it]WARNING:root:Only 108 Image will be uploaded.\n",
      "Progress:  48%|████▊     | 19/40 [00:59<01:04,  3.08s/it]WARNING:root:Only 108 Image will be uploaded.\n",
      "Progress:  50%|█████     | 20/40 [01:02<01:01,  3.07s/it]WARNING:root:Only 108 Image will be uploaded.\n",
      "Progress:  52%|█████▎    | 21/40 [01:05<00:58,  3.06s/it]WARNING:root:Only 108 Image will be uploaded.\n",
      "Progress:  55%|█████▌    | 22/40 [01:08<00:54,  3.05s/it]WARNING:root:Only 108 Image will be uploaded.\n",
      "Progress:  57%|█████▊    | 23/40 [01:11<00:51,  3.05s/it]WARNING:root:Only 108 Image will be uploaded.\n",
      "Progress:  60%|██████    | 24/40 [01:15<00:48,  3.04s/it]WARNING:root:Only 108 Image will be uploaded.\n",
      "Progress:  62%|██████▎   | 25/40 [01:18<00:45,  3.02s/it]WARNING:root:Only 108 Image will be uploaded.\n",
      "Progress:  65%|██████▌   | 26/40 [01:21<00:42,  3.04s/it]WARNING:root:Only 108 Image will be uploaded.\n",
      "Progress:  68%|██████▊   | 27/40 [01:24<00:39,  3.03s/it]WARNING:root:Only 108 Image will be uploaded.\n",
      "Progress:  70%|███████   | 28/40 [01:27<00:36,  3.04s/it]WARNING:root:Only 108 Image will be uploaded.\n",
      "Progress:  72%|███████▎  | 29/40 [01:30<00:33,  3.04s/it]WARNING:root:Only 108 Image will be uploaded.\n",
      "Progress:  75%|███████▌  | 30/40 [01:33<00:30,  3.03s/it]WARNING:root:Only 108 Image will be uploaded.\n",
      "Progress:  78%|███████▊  | 31/40 [01:36<00:27,  3.03s/it]WARNING:root:Only 108 Image will be uploaded.\n",
      "Progress:  80%|████████  | 32/40 [01:39<00:24,  3.03s/it]WARNING:root:Only 108 Image will be uploaded.\n",
      "Progress:  82%|████████▎ | 33/40 [01:42<00:21,  3.03s/it]WARNING:root:Only 108 Image will be uploaded.\n",
      "Progress:  85%|████████▌ | 34/40 [01:45<00:18,  3.03s/it]WARNING:root:Only 108 Image will be uploaded.\n",
      "Progress:  88%|████████▊ | 35/40 [01:48<00:15,  3.02s/it]WARNING:root:Only 108 Image will be uploaded.\n",
      "Progress:  90%|█████████ | 36/40 [01:51<00:12,  3.03s/it]WARNING:root:Only 108 Image will be uploaded.\n",
      "Progress:  92%|█████████▎| 37/40 [01:54<00:09,  3.02s/it]WARNING:root:Only 108 Image will be uploaded.\n",
      "Progress:  95%|█████████▌| 38/40 [01:57<00:06,  3.02s/it]WARNING:root:Only 108 Image will be uploaded.\n",
      "Progress:  98%|█████████▊| 39/40 [02:00<00:03,  3.02s/it]WARNING:root:Only 108 Image will be uploaded.\n",
      "Progress: 100%|██████████| 40/40 [02:03<00:00,  3.09s/it]\n",
      "Progress:   0%|          | 0/2835 [00:00<?, ?it/s]"
     ]
    },
    {
     "name": "stdout",
     "output_type": "stream",
     "text": [
      "Copied best model weights!\n",
      "train loss: 64.334305, time: 7.19417\n",
      "val loss: 109.197960, time: 2.06680\n",
      "----------\n",
      "Epoch 2/9, current lr=0.005\n"
     ]
    },
    {
     "name": "stderr",
     "output_type": "stream",
     "text": [
      "Progress: 100%|██████████| 2835/2835 [07:15<00:00,  6.50it/s]\n",
      "Progress:   0%|          | 0/40 [00:00<?, ?it/s]WARNING:root:Only 108 Image will be uploaded.\n",
      "Progress:   2%|▎         | 1/40 [00:04<02:48,  4.32s/it]WARNING:root:Only 108 Image will be uploaded.\n",
      "Progress:   5%|▌         | 2/40 [00:07<02:30,  3.97s/it]WARNING:root:Only 108 Image will be uploaded.\n",
      "Progress:   8%|▊         | 3/40 [00:10<02:17,  3.73s/it]WARNING:root:Only 108 Image will be uploaded.\n",
      "Progress:  10%|█         | 4/40 [00:13<02:07,  3.55s/it]WARNING:root:Only 108 Image will be uploaded.\n",
      "Progress:  12%|█▎        | 5/40 [00:16<02:00,  3.44s/it]WARNING:root:Only 108 Image will be uploaded.\n",
      "Progress:  15%|█▌        | 6/40 [00:20<01:54,  3.36s/it]WARNING:root:Only 108 Image will be uploaded.\n",
      "Progress:  18%|█▊        | 7/40 [00:23<01:48,  3.30s/it]WARNING:root:Only 108 Image will be uploaded.\n",
      "Progress:  20%|██        | 8/40 [00:26<01:44,  3.28s/it]WARNING:root:Only 108 Image will be uploaded.\n",
      "Progress:  22%|██▎       | 9/40 [00:29<01:40,  3.24s/it]WARNING:root:Only 108 Image will be uploaded.\n",
      "Progress:  25%|██▌       | 10/40 [00:32<01:36,  3.21s/it]WARNING:root:Only 108 Image will be uploaded.\n",
      "Progress:  28%|██▊       | 11/40 [00:35<01:32,  3.20s/it]WARNING:root:Only 108 Image will be uploaded.\n",
      "Progress:  30%|███       | 12/40 [00:39<01:29,  3.18s/it]WARNING:root:Only 108 Image will be uploaded.\n",
      "Progress:  32%|███▎      | 13/40 [00:42<01:25,  3.18s/it]WARNING:root:Only 108 Image will be uploaded.\n",
      "Progress:  35%|███▌      | 14/40 [00:45<01:22,  3.16s/it]WARNING:root:Only 108 Image will be uploaded.\n",
      "Progress:  38%|███▊      | 15/40 [00:48<01:19,  3.18s/it]WARNING:root:Only 108 Image will be uploaded.\n",
      "Progress:  40%|████      | 16/40 [00:51<01:16,  3.18s/it]WARNING:root:Only 108 Image will be uploaded.\n",
      "Progress:  42%|████▎     | 17/40 [00:55<01:13,  3.18s/it]WARNING:root:Only 108 Image will be uploaded.\n",
      "Progress:  45%|████▌     | 18/40 [00:58<01:09,  3.17s/it]WARNING:root:Only 108 Image will be uploaded.\n",
      "Progress:  48%|████▊     | 19/40 [01:01<01:06,  3.17s/it]WARNING:root:Only 108 Image will be uploaded.\n",
      "Progress:  50%|█████     | 20/40 [01:04<01:03,  3.17s/it]WARNING:root:Only 108 Image will be uploaded.\n",
      "Progress:  52%|█████▎    | 21/40 [01:07<01:00,  3.17s/it]WARNING:root:Only 108 Image will be uploaded.\n",
      "Progress:  55%|█████▌    | 22/40 [01:10<00:56,  3.16s/it]WARNING:root:Only 108 Image will be uploaded.\n",
      "Progress:  57%|█████▊    | 23/40 [01:13<00:53,  3.16s/it]WARNING:root:Only 108 Image will be uploaded.\n",
      "Progress:  60%|██████    | 24/40 [01:17<00:50,  3.17s/it]WARNING:root:Only 108 Image will be uploaded.\n",
      "Progress:  62%|██████▎   | 25/40 [01:20<00:47,  3.19s/it]WARNING:root:Only 108 Image will be uploaded.\n",
      "Progress:  65%|██████▌   | 26/40 [01:23<00:44,  3.18s/it]WARNING:root:Only 108 Image will be uploaded.\n",
      "Progress:  68%|██████▊   | 27/40 [01:26<00:41,  3.19s/it]WARNING:root:Only 108 Image will be uploaded.\n",
      "Progress:  70%|███████   | 28/40 [01:29<00:38,  3.19s/it]WARNING:root:Only 108 Image will be uploaded.\n",
      "Progress:  72%|███████▎  | 29/40 [01:33<00:34,  3.18s/it]WARNING:root:Only 108 Image will be uploaded.\n",
      "Progress:  75%|███████▌  | 30/40 [01:36<00:31,  3.18s/it]WARNING:root:Only 108 Image will be uploaded.\n",
      "Progress:  78%|███████▊  | 31/40 [01:39<00:28,  3.17s/it]WARNING:root:Only 108 Image will be uploaded.\n",
      "Progress:  80%|████████  | 32/40 [01:44<00:28,  3.62s/it]WARNING:root:Only 108 Image will be uploaded.\n",
      "Progress:  82%|████████▎ | 33/40 [01:47<00:24,  3.49s/it]WARNING:root:Only 108 Image will be uploaded.\n",
      "Progress:  85%|████████▌ | 34/40 [01:50<00:20,  3.39s/it]WARNING:root:Only 108 Image will be uploaded.\n",
      "Progress:  88%|████████▊ | 35/40 [01:53<00:16,  3.32s/it]WARNING:root:Only 108 Image will be uploaded.\n",
      "Progress:  90%|█████████ | 36/40 [01:56<00:13,  3.27s/it]WARNING:root:Only 108 Image will be uploaded.\n",
      "Progress:  92%|█████████▎| 37/40 [01:59<00:09,  3.25s/it]WARNING:root:Only 108 Image will be uploaded.\n",
      "Progress:  95%|█████████▌| 38/40 [02:03<00:06,  3.22s/it]WARNING:root:Only 108 Image will be uploaded.\n",
      "Progress:  98%|█████████▊| 39/40 [02:06<00:03,  3.20s/it]WARNING:root:Only 108 Image will be uploaded.\n",
      "Progress: 100%|██████████| 40/40 [02:09<00:00,  3.24s/it]\n",
      "Progress:   0%|          | 0/2835 [00:00<?, ?it/s]"
     ]
    },
    {
     "name": "stdout",
     "output_type": "stream",
     "text": [
      "Copied best model weights!\n",
      "train loss: 56.701427, time: 7.26404\n",
      "val loss: 97.094124, time: 2.16740\n",
      "----------\n",
      "Epoch 3/9, current lr=0.005\n"
     ]
    },
    {
     "name": "stderr",
     "output_type": "stream",
     "text": [
      "Progress: 100%|██████████| 2835/2835 [07:14<00:00,  6.53it/s]\n",
      "Progress:   0%|          | 0/40 [00:00<?, ?it/s]WARNING:root:Only 108 Image will be uploaded.\n",
      "Progress:   2%|▎         | 1/40 [00:04<02:57,  4.56s/it]WARNING:root:Only 108 Image will be uploaded.\n",
      "Progress:   5%|▌         | 2/40 [00:07<02:38,  4.18s/it]WARNING:root:Only 108 Image will be uploaded.\n",
      "Progress:   8%|▊         | 3/40 [00:11<02:25,  3.93s/it]WARNING:root:Only 108 Image will be uploaded.\n",
      "Progress:  10%|█         | 4/40 [00:14<02:14,  3.74s/it]WARNING:root:Only 108 Image will be uploaded.\n",
      "Progress:  12%|█▎        | 5/40 [00:17<02:06,  3.62s/it]WARNING:root:Only 108 Image will be uploaded.\n",
      "Progress:  15%|█▌        | 6/40 [00:21<02:00,  3.53s/it]WARNING:root:Only 108 Image will be uploaded.\n",
      "Progress:  18%|█▊        | 7/40 [00:24<01:54,  3.47s/it]WARNING:root:Only 108 Image will be uploaded.\n",
      "Progress:  20%|██        | 8/40 [00:27<01:49,  3.42s/it]WARNING:root:Only 108 Image will be uploaded.\n",
      "Progress:  22%|██▎       | 9/40 [00:31<01:45,  3.40s/it]WARNING:root:Only 108 Image will be uploaded.\n",
      "Progress:  25%|██▌       | 10/40 [00:34<01:41,  3.39s/it]WARNING:root:Only 108 Image will be uploaded.\n",
      "Progress:  28%|██▊       | 11/40 [00:37<01:37,  3.36s/it]WARNING:root:Only 108 Image will be uploaded.\n",
      "Progress:  30%|███       | 12/40 [00:41<01:33,  3.35s/it]WARNING:root:Only 108 Image will be uploaded.\n",
      "Progress:  32%|███▎      | 13/40 [00:44<01:30,  3.36s/it]WARNING:root:Only 108 Image will be uploaded.\n",
      "Progress:  35%|███▌      | 14/40 [00:47<01:27,  3.35s/it]WARNING:root:Only 108 Image will be uploaded.\n",
      "Progress:  38%|███▊      | 15/40 [00:51<01:23,  3.34s/it]WARNING:root:Only 108 Image will be uploaded.\n",
      "Progress:  40%|████      | 16/40 [00:56<01:34,  3.95s/it]WARNING:root:Only 108 Image will be uploaded.\n",
      "Progress:  42%|████▎     | 17/40 [00:59<01:26,  3.76s/it]WARNING:root:Only 108 Image will be uploaded.\n",
      "Progress:  45%|████▌     | 18/40 [01:03<01:19,  3.62s/it]WARNING:root:Only 108 Image will be uploaded.\n",
      "Progress:  48%|████▊     | 19/40 [01:06<01:14,  3.54s/it]WARNING:root:Only 108 Image will be uploaded.\n",
      "Progress:  50%|█████     | 20/40 [01:09<01:09,  3.46s/it]WARNING:root:Only 108 Image will be uploaded.\n",
      "Progress:  52%|█████▎    | 21/40 [01:13<01:04,  3.41s/it]WARNING:root:Only 108 Image will be uploaded.\n",
      "Progress:  55%|█████▌    | 22/40 [01:16<01:00,  3.38s/it]WARNING:root:Only 108 Image will be uploaded.\n",
      "Progress:  57%|█████▊    | 23/40 [01:19<00:57,  3.39s/it]WARNING:root:Only 108 Image will be uploaded.\n",
      "Progress:  60%|██████    | 24/40 [01:23<00:53,  3.37s/it]WARNING:root:Only 108 Image will be uploaded.\n",
      "Progress:  62%|██████▎   | 25/40 [01:26<00:50,  3.36s/it]WARNING:root:Only 108 Image will be uploaded.\n",
      "Progress:  65%|██████▌   | 26/40 [01:29<00:47,  3.37s/it]WARNING:root:Only 108 Image will be uploaded.\n",
      "Progress:  68%|██████▊   | 27/40 [01:33<00:43,  3.36s/it]WARNING:root:Only 108 Image will be uploaded.\n",
      "Progress:  70%|███████   | 28/40 [01:36<00:40,  3.35s/it]WARNING:root:Only 108 Image will be uploaded.\n",
      "Progress:  72%|███████▎  | 29/40 [01:39<00:36,  3.34s/it]WARNING:root:Only 108 Image will be uploaded.\n",
      "Progress:  75%|███████▌  | 30/40 [01:43<00:33,  3.35s/it]WARNING:root:Only 108 Image will be uploaded.\n",
      "Progress:  78%|███████▊  | 31/40 [01:46<00:30,  3.34s/it]WARNING:root:Only 108 Image will be uploaded.\n",
      "Progress:  80%|████████  | 32/40 [01:49<00:26,  3.33s/it]WARNING:root:Only 108 Image will be uploaded.\n",
      "Progress:  82%|████████▎ | 33/40 [01:53<00:23,  3.33s/it]WARNING:root:Only 108 Image will be uploaded.\n",
      "Progress:  85%|████████▌ | 34/40 [01:56<00:20,  3.35s/it]WARNING:root:Only 108 Image will be uploaded.\n",
      "Progress:  88%|████████▊ | 35/40 [01:59<00:16,  3.35s/it]WARNING:root:Only 108 Image will be uploaded.\n",
      "Progress:  90%|█████████ | 36/40 [02:03<00:13,  3.35s/it]WARNING:root:Only 108 Image will be uploaded.\n",
      "Progress:  92%|█████████▎| 37/40 [02:06<00:10,  3.34s/it]WARNING:root:Only 108 Image will be uploaded.\n",
      "Progress:  95%|█████████▌| 38/40 [02:09<00:06,  3.33s/it]WARNING:root:Only 108 Image will be uploaded.\n",
      "Progress:  98%|█████████▊| 39/40 [02:13<00:03,  3.35s/it]WARNING:root:Only 108 Image will be uploaded.\n",
      "Progress: 100%|██████████| 40/40 [02:17<00:00,  3.43s/it]\n",
      "Progress:   0%|          | 0/2835 [00:00<?, ?it/s]"
     ]
    },
    {
     "name": "stdout",
     "output_type": "stream",
     "text": [
      "Copied best model weights!\n",
      "train loss: 52.964794, time: 7.23906\n",
      "val loss: 57.984455, time: 2.29123\n",
      "----------\n",
      "Epoch 4/9, current lr=0.005\n"
     ]
    },
    {
     "name": "stderr",
     "output_type": "stream",
     "text": [
      "Progress: 100%|██████████| 2835/2835 [07:15<00:00,  6.51it/s]\n",
      "Progress:   0%|          | 0/40 [00:00<?, ?it/s]WARNING:root:Only 108 Image will be uploaded.\n",
      "Progress:   2%|▎         | 1/40 [00:04<03:10,  4.89s/it]WARNING:root:Only 108 Image will be uploaded.\n",
      "Progress:   5%|▌         | 2/40 [00:08<02:49,  4.47s/it]WARNING:root:Only 108 Image will be uploaded.\n",
      "Progress:   8%|▊         | 3/40 [00:11<02:34,  4.17s/it]WARNING:root:Only 108 Image will be uploaded.\n",
      "Progress:  10%|█         | 4/40 [00:15<02:22,  3.96s/it]WARNING:root:Only 108 Image will be uploaded.\n",
      "Progress:  12%|█▎        | 5/40 [00:18<02:13,  3.82s/it]WARNING:root:Only 108 Image will be uploaded.\n",
      "Progress:  15%|█▌        | 6/40 [00:22<02:06,  3.73s/it]WARNING:root:Only 108 Image will be uploaded.\n",
      "Progress:  18%|█▊        | 7/40 [00:25<02:00,  3.66s/it]WARNING:root:Only 108 Image will be uploaded.\n",
      "Progress:  20%|██        | 8/40 [00:29<01:55,  3.61s/it]WARNING:root:Only 108 Image will be uploaded.\n",
      "Progress:  22%|██▎       | 9/40 [00:32<01:50,  3.57s/it]WARNING:root:Only 108 Image will be uploaded.\n",
      "Progress:  25%|██▌       | 10/40 [00:36<01:45,  3.53s/it]WARNING:root:Only 108 Image will be uploaded.\n",
      "Progress:  28%|██▊       | 11/40 [00:39<01:41,  3.50s/it]WARNING:root:Only 108 Image will be uploaded.\n",
      "Progress:  30%|███       | 12/40 [00:43<01:38,  3.51s/it]WARNING:root:Only 108 Image will be uploaded.\n",
      "Progress:  32%|███▎      | 13/40 [00:46<01:34,  3.49s/it]WARNING:root:Only 108 Image will be uploaded.\n",
      "Progress:  35%|███▌      | 14/40 [00:50<01:30,  3.49s/it]WARNING:root:Only 108 Image will be uploaded.\n",
      "Progress:  38%|███▊      | 15/40 [00:53<01:27,  3.48s/it]WARNING:root:Only 108 Image will be uploaded.\n",
      "Progress:  40%|████      | 16/40 [00:57<01:23,  3.48s/it]WARNING:root:Only 108 Image will be uploaded.\n",
      "Progress:  42%|████▎     | 17/40 [01:00<01:20,  3.49s/it]WARNING:root:Only 108 Image will be uploaded.\n",
      "Progress:  45%|████▌     | 18/40 [01:04<01:16,  3.48s/it]WARNING:root:Only 108 Image will be uploaded.\n",
      "Progress:  48%|████▊     | 19/40 [01:07<01:12,  3.47s/it]WARNING:root:Only 108 Image will be uploaded.\n",
      "Progress:  50%|█████     | 20/40 [01:10<01:09,  3.47s/it]WARNING:root:Only 108 Image will be uploaded.\n",
      "Progress:  52%|█████▎    | 21/40 [01:14<01:06,  3.48s/it]WARNING:root:Only 108 Image will be uploaded.\n",
      "Progress:  55%|█████▌    | 22/40 [01:17<01:02,  3.49s/it]WARNING:root:Only 108 Image will be uploaded.\n",
      "Progress:  57%|█████▊    | 23/40 [01:21<00:59,  3.48s/it]WARNING:root:Only 108 Image will be uploaded.\n",
      "Progress:  60%|██████    | 24/40 [01:24<00:56,  3.50s/it]WARNING:root:Only 108 Image will be uploaded.\n",
      "Progress:  62%|██████▎   | 25/40 [01:28<00:52,  3.50s/it]WARNING:root:Only 108 Image will be uploaded.\n",
      "Progress:  65%|██████▌   | 26/40 [01:31<00:49,  3.50s/it]WARNING:root:Only 108 Image will be uploaded.\n",
      "Progress:  68%|██████▊   | 27/40 [01:35<00:45,  3.50s/it]WARNING:root:Only 108 Image will be uploaded.\n",
      "Progress:  70%|███████   | 28/40 [01:39<00:42,  3.52s/it]WARNING:root:Only 108 Image will be uploaded.\n",
      "Progress:  72%|███████▎  | 29/40 [01:42<00:38,  3.51s/it]WARNING:root:Only 108 Image will be uploaded.\n",
      "Progress:  75%|███████▌  | 30/40 [01:46<00:35,  3.52s/it]WARNING:root:Only 108 Image will be uploaded.\n",
      "Progress:  78%|███████▊  | 31/40 [01:49<00:31,  3.51s/it]WARNING:root:Only 108 Image will be uploaded.\n",
      "Progress:  80%|████████  | 32/40 [01:53<00:28,  3.52s/it]WARNING:root:Only 108 Image will be uploaded.\n",
      "Progress:  82%|████████▎ | 33/40 [01:56<00:24,  3.51s/it]WARNING:root:Only 108 Image will be uploaded.\n",
      "Progress:  85%|████████▌ | 34/40 [02:00<00:21,  3.50s/it]WARNING:root:Only 108 Image will be uploaded.\n",
      "Progress:  88%|████████▊ | 35/40 [02:03<00:17,  3.50s/it]WARNING:root:Only 108 Image will be uploaded.\n",
      "Progress:  90%|█████████ | 36/40 [02:07<00:14,  3.50s/it]WARNING:root:Only 108 Image will be uploaded.\n",
      "Progress:  92%|█████████▎| 37/40 [02:10<00:10,  3.49s/it]WARNING:root:Only 108 Image will be uploaded.\n",
      "Progress:  95%|█████████▌| 38/40 [02:14<00:06,  3.49s/it]WARNING:root:Only 108 Image will be uploaded.\n",
      "Progress:  98%|█████████▊| 39/40 [02:17<00:03,  3.48s/it]WARNING:root:Only 108 Image will be uploaded.\n",
      "Progress: 100%|██████████| 40/40 [02:21<00:00,  3.53s/it]\n",
      "Progress:   0%|          | 0/2835 [00:00<?, ?it/s]"
     ]
    },
    {
     "name": "stdout",
     "output_type": "stream",
     "text": [
      "train loss: 48.454441, time: 7.26167\n",
      "val loss: 100.637207, time: 2.36394\n",
      "----------\n",
      "Epoch 5/9, current lr=0.005\n"
     ]
    },
    {
     "name": "stderr",
     "output_type": "stream",
     "text": [
      "Progress: 100%|██████████| 2835/2835 [07:16<00:00,  6.49it/s]\n",
      "Progress:   0%|          | 0/40 [00:00<?, ?it/s]WARNING:root:Only 108 Image will be uploaded.\n",
      "Progress:   2%|▎         | 1/40 [00:05<03:25,  5.27s/it]WARNING:root:Only 108 Image will be uploaded.\n",
      "Progress:   5%|▌         | 2/40 [00:09<03:02,  4.81s/it]WARNING:root:Only 108 Image will be uploaded.\n",
      "Progress:   8%|▊         | 3/40 [00:12<02:45,  4.47s/it]WARNING:root:Only 108 Image will be uploaded.\n",
      "Progress:  10%|█         | 4/40 [00:16<02:32,  4.24s/it]WARNING:root:Only 108 Image will be uploaded.\n",
      "Progress:  12%|█▎        | 5/40 [00:20<02:22,  4.08s/it]WARNING:root:Only 108 Image will be uploaded.\n",
      "Progress:  15%|█▌        | 6/40 [00:23<02:14,  3.96s/it]WARNING:root:Only 108 Image will be uploaded.\n",
      "Progress:  18%|█▊        | 7/40 [00:27<02:08,  3.89s/it]WARNING:root:Only 108 Image will be uploaded.\n",
      "Progress:  20%|██        | 8/40 [00:31<02:02,  3.84s/it]WARNING:root:Only 108 Image will be uploaded.\n",
      "Progress:  22%|██▎       | 9/40 [00:34<01:57,  3.79s/it]WARNING:root:Only 108 Image will be uploaded.\n",
      "Progress:  25%|██▌       | 10/40 [00:38<01:53,  3.78s/it]WARNING:root:Only 108 Image will be uploaded.\n",
      "Progress:  28%|██▊       | 11/40 [00:42<01:48,  3.73s/it]WARNING:root:Only 108 Image will be uploaded.\n",
      "Progress:  30%|███       | 12/40 [00:45<01:44,  3.72s/it]WARNING:root:Only 108 Image will be uploaded.\n",
      "Progress:  32%|███▎      | 13/40 [00:49<01:40,  3.71s/it]WARNING:root:Only 108 Image will be uploaded.\n",
      "Progress:  35%|███▌      | 14/40 [00:53<01:36,  3.69s/it]WARNING:root:Only 108 Image will be uploaded.\n",
      "Progress:  38%|███▊      | 15/40 [00:57<01:32,  3.70s/it]WARNING:root:Only 108 Image will be uploaded.\n",
      "Progress:  40%|████      | 16/40 [01:00<01:29,  3.72s/it]WARNING:root:Only 108 Image will be uploaded.\n",
      "Progress:  42%|████▎     | 17/40 [01:04<01:25,  3.70s/it]WARNING:root:Only 108 Image will be uploaded.\n",
      "Progress:  45%|████▌     | 18/40 [01:08<01:21,  3.72s/it]WARNING:root:Only 108 Image will be uploaded.\n",
      "Progress:  48%|████▊     | 19/40 [01:11<01:17,  3.71s/it]WARNING:root:Only 108 Image will be uploaded.\n",
      "Progress:  50%|█████     | 20/40 [01:15<01:13,  3.70s/it]WARNING:root:Only 108 Image will be uploaded.\n",
      "Progress:  52%|█████▎    | 21/40 [01:19<01:10,  3.69s/it]WARNING:root:Only 108 Image will be uploaded.\n",
      "Progress:  55%|█████▌    | 22/40 [01:22<01:06,  3.70s/it]WARNING:root:Only 108 Image will be uploaded.\n",
      "Progress:  57%|█████▊    | 23/40 [01:26<01:02,  3.70s/it]WARNING:root:Only 108 Image will be uploaded.\n",
      "Progress:  60%|██████    | 24/40 [01:30<00:59,  3.69s/it]WARNING:root:Only 108 Image will be uploaded.\n",
      "Progress:  62%|██████▎   | 25/40 [01:33<00:55,  3.69s/it]WARNING:root:Only 108 Image will be uploaded.\n",
      "Progress:  65%|██████▌   | 26/40 [01:37<00:51,  3.69s/it]WARNING:root:Only 108 Image will be uploaded.\n",
      "Progress:  68%|██████▊   | 27/40 [01:41<00:48,  3.70s/it]WARNING:root:Only 108 Image will be uploaded.\n",
      "Progress:  70%|███████   | 28/40 [01:45<00:44,  3.68s/it]WARNING:root:Only 108 Image will be uploaded.\n",
      "Progress:  72%|███████▎  | 29/40 [01:48<00:40,  3.69s/it]WARNING:root:Only 108 Image will be uploaded.\n",
      "Progress:  75%|███████▌  | 30/40 [01:52<00:36,  3.70s/it]WARNING:root:Only 108 Image will be uploaded.\n",
      "Progress:  78%|███████▊  | 31/40 [01:56<00:33,  3.69s/it]WARNING:root:Only 108 Image will be uploaded.\n",
      "Progress:  80%|████████  | 32/40 [01:59<00:29,  3.67s/it]WARNING:root:Only 108 Image will be uploaded.\n",
      "Progress:  82%|████████▎ | 33/40 [02:03<00:25,  3.66s/it]WARNING:root:Only 108 Image will be uploaded.\n",
      "Progress:  85%|████████▌ | 34/40 [02:07<00:22,  3.67s/it]WARNING:root:Only 108 Image will be uploaded.\n",
      "Progress:  88%|████████▊ | 35/40 [02:10<00:18,  3.68s/it]WARNING:root:Only 108 Image will be uploaded.\n",
      "Progress:  90%|█████████ | 36/40 [02:17<00:18,  4.54s/it]WARNING:root:Only 108 Image will be uploaded.\n",
      "Progress:  92%|█████████▎| 37/40 [02:21<00:12,  4.30s/it]WARNING:root:Only 108 Image will be uploaded.\n",
      "Progress:  95%|█████████▌| 38/40 [02:24<00:08,  4.12s/it]WARNING:root:Only 108 Image will be uploaded.\n",
      "Progress:  98%|█████████▊| 39/40 [02:28<00:03,  3.99s/it]WARNING:root:Only 108 Image will be uploaded.\n",
      "Progress: 100%|██████████| 40/40 [02:32<00:00,  3.82s/it]\n",
      "Progress:   0%|          | 0/2835 [00:00<?, ?it/s]"
     ]
    },
    {
     "name": "stdout",
     "output_type": "stream",
     "text": [
      "Copied best model weights!\n",
      "train loss: 45.804092, time: 7.27563\n",
      "val loss: 47.313427, time: 2.55291\n",
      "----------\n",
      "Epoch 6/9, current lr=0.005\n"
     ]
    },
    {
     "name": "stderr",
     "output_type": "stream",
     "text": [
      "Progress: 100%|██████████| 2835/2835 [07:15<00:00,  6.50it/s]\n",
      "Progress:   0%|          | 0/40 [00:00<?, ?it/s]WARNING:root:Only 108 Image will be uploaded.\n",
      "Progress:   2%|▎         | 1/40 [00:05<03:34,  5.49s/it]WARNING:root:Only 108 Image will be uploaded.\n",
      "Progress:   5%|▌         | 2/40 [00:09<03:10,  5.02s/it]WARNING:root:Only 108 Image will be uploaded.\n",
      "Progress:   8%|▊         | 3/40 [00:13<02:52,  4.67s/it]WARNING:root:Only 108 Image will be uploaded.\n",
      "Progress:  10%|█         | 4/40 [00:17<02:40,  4.45s/it]WARNING:root:Only 108 Image will be uploaded.\n",
      "Progress:  12%|█▎        | 5/40 [00:21<02:30,  4.30s/it]WARNING:root:Only 108 Image will be uploaded.\n",
      "Progress:  15%|█▌        | 6/40 [00:25<02:22,  4.19s/it]WARNING:root:Only 108 Image will be uploaded.\n",
      "Progress:  18%|█▊        | 7/40 [00:29<02:15,  4.11s/it]WARNING:root:Only 108 Image will be uploaded.\n",
      "Progress:  20%|██        | 8/40 [00:32<02:10,  4.07s/it]WARNING:root:Only 108 Image will be uploaded.\n",
      "Progress:  22%|██▎       | 9/40 [00:36<02:04,  4.02s/it]WARNING:root:Only 108 Image will be uploaded.\n",
      "Progress:  25%|██▌       | 10/40 [00:40<01:59,  4.00s/it]WARNING:root:Only 108 Image will be uploaded.\n",
      "Progress:  28%|██▊       | 11/40 [00:44<01:54,  3.96s/it]WARNING:root:Only 108 Image will be uploaded.\n",
      "Progress:  30%|███       | 12/40 [00:48<01:50,  3.94s/it]WARNING:root:Only 108 Image will be uploaded.\n",
      "Progress:  32%|███▎      | 13/40 [00:52<01:45,  3.92s/it]WARNING:root:Only 108 Image will be uploaded.\n",
      "Progress:  35%|███▌      | 14/40 [00:56<01:41,  3.91s/it]WARNING:root:Only 108 Image will be uploaded.\n",
      "Progress:  38%|███▊      | 15/40 [01:00<01:37,  3.91s/it]WARNING:root:Only 108 Image will be uploaded.\n",
      "Progress:  40%|████      | 16/40 [01:04<01:33,  3.90s/it]WARNING:root:Only 108 Image will be uploaded.\n",
      "Progress:  42%|████▎     | 17/40 [01:08<01:30,  3.92s/it]WARNING:root:Only 108 Image will be uploaded.\n",
      "Progress:  45%|████▌     | 18/40 [01:11<01:26,  3.91s/it]WARNING:root:Only 108 Image will be uploaded.\n",
      "Progress:  48%|████▊     | 19/40 [01:15<01:22,  3.91s/it]WARNING:root:Only 108 Image will be uploaded.\n",
      "Progress:  50%|█████     | 20/40 [01:19<01:18,  3.90s/it]WARNING:root:Only 108 Image will be uploaded.\n",
      "Progress:  52%|█████▎    | 21/40 [01:23<01:14,  3.91s/it]WARNING:root:Only 108 Image will be uploaded.\n",
      "Progress:  55%|█████▌    | 22/40 [01:27<01:10,  3.90s/it]WARNING:root:Only 108 Image will be uploaded.\n",
      "Progress:  57%|█████▊    | 23/40 [01:31<01:06,  3.90s/it]WARNING:root:Only 108 Image will be uploaded.\n",
      "Progress:  60%|██████    | 24/40 [01:35<01:02,  3.90s/it]WARNING:root:Only 108 Image will be uploaded.\n",
      "Progress:  62%|██████▎   | 25/40 [01:39<00:58,  3.90s/it]WARNING:root:Only 108 Image will be uploaded.\n",
      "Progress:  65%|██████▌   | 26/40 [01:43<00:54,  3.90s/it]WARNING:root:Only 108 Image will be uploaded.\n",
      "Progress:  68%|██████▊   | 27/40 [01:47<00:50,  3.91s/it]WARNING:root:Only 108 Image will be uploaded.\n",
      "Progress:  70%|███████   | 28/40 [01:51<00:46,  3.91s/it]WARNING:root:Only 108 Image will be uploaded.\n",
      "Progress:  72%|███████▎  | 29/40 [01:54<00:43,  3.91s/it]WARNING:root:Only 108 Image will be uploaded.\n",
      "Progress:  75%|███████▌  | 30/40 [01:58<00:39,  3.91s/it]WARNING:root:Only 108 Image will be uploaded.\n",
      "Progress:  78%|███████▊  | 31/40 [02:02<00:35,  3.89s/it]WARNING:root:Only 108 Image will be uploaded.\n",
      "Progress:  80%|████████  | 32/40 [02:06<00:31,  3.88s/it]WARNING:root:Only 108 Image will be uploaded.\n",
      "Progress:  82%|████████▎ | 33/40 [02:10<00:27,  3.88s/it]WARNING:root:Only 108 Image will be uploaded.\n",
      "Progress:  85%|████████▌ | 34/40 [02:14<00:23,  3.89s/it]WARNING:root:Only 108 Image will be uploaded.\n",
      "Progress:  88%|████████▊ | 35/40 [02:18<00:19,  3.89s/it]WARNING:root:Only 108 Image will be uploaded.\n",
      "Progress:  90%|█████████ | 36/40 [02:22<00:15,  3.89s/it]WARNING:root:Only 108 Image will be uploaded.\n",
      "Progress:  92%|█████████▎| 37/40 [02:26<00:11,  3.89s/it]WARNING:root:Only 108 Image will be uploaded.\n",
      "Progress:  95%|█████████▌| 38/40 [02:29<00:07,  3.90s/it]WARNING:root:Only 108 Image will be uploaded.\n",
      "Progress:  98%|█████████▊| 39/40 [02:33<00:03,  3.92s/it]WARNING:root:Only 108 Image will be uploaded.\n",
      "Progress: 100%|██████████| 40/40 [02:38<00:00,  3.96s/it]\n",
      "Progress:   0%|          | 0/2835 [00:00<?, ?it/s]"
     ]
    },
    {
     "name": "stdout",
     "output_type": "stream",
     "text": [
      "train loss: 43.812115, time: 7.26546\n",
      "val loss: 122.318069, time: 2.64819\n",
      "----------\n",
      "Epoch 7/9, current lr=0.005\n"
     ]
    },
    {
     "name": "stderr",
     "output_type": "stream",
     "text": [
      "Progress: 100%|██████████| 2835/2835 [07:18<00:00,  6.47it/s]\n",
      "Progress:   0%|          | 0/40 [00:00<?, ?it/s]WARNING:root:Only 108 Image will be uploaded.\n",
      "Progress:   2%|▎         | 1/40 [00:05<03:49,  5.88s/it]WARNING:root:Only 108 Image will be uploaded.\n",
      "Progress:   5%|▌         | 2/40 [00:10<03:23,  5.36s/it]WARNING:root:Only 108 Image will be uploaded.\n",
      "Progress:   8%|▊         | 3/40 [00:14<03:03,  4.96s/it]WARNING:root:Only 108 Image will be uploaded.\n",
      "Progress:  10%|█         | 4/40 [00:18<02:48,  4.69s/it]WARNING:root:Only 108 Image will be uploaded.\n",
      "Progress:  12%|█▎        | 5/40 [00:22<02:37,  4.51s/it]WARNING:root:Only 108 Image will be uploaded.\n",
      "Progress:  15%|█▌        | 6/40 [00:26<02:29,  4.40s/it]WARNING:root:Only 108 Image will be uploaded.\n",
      "Progress:  18%|█▊        | 7/40 [00:30<02:22,  4.31s/it]WARNING:root:Only 108 Image will be uploaded.\n",
      "Progress:  20%|██        | 8/40 [00:34<02:16,  4.25s/it]WARNING:root:Only 108 Image will be uploaded.\n",
      "Progress:  22%|██▎       | 9/40 [00:38<02:10,  4.20s/it]WARNING:root:Only 108 Image will be uploaded.\n",
      "Progress:  25%|██▌       | 10/40 [00:42<02:05,  4.17s/it]WARNING:root:Only 108 Image will be uploaded.\n",
      "Progress:  28%|██▊       | 11/40 [00:46<02:00,  4.15s/it]WARNING:root:Only 108 Image will be uploaded.\n",
      "Progress:  30%|███       | 12/40 [00:50<01:55,  4.14s/it]WARNING:root:Only 108 Image will be uploaded.\n",
      "Progress:  32%|███▎      | 13/40 [00:55<01:52,  4.17s/it]WARNING:root:Only 108 Image will be uploaded.\n",
      "Progress:  35%|███▌      | 14/40 [00:59<01:47,  4.13s/it]WARNING:root:Only 108 Image will be uploaded.\n",
      "Progress:  38%|███▊      | 15/40 [01:03<01:43,  4.13s/it]WARNING:root:Only 108 Image will be uploaded.\n",
      "Progress:  40%|████      | 16/40 [01:07<01:38,  4.12s/it]WARNING:root:Only 108 Image will be uploaded.\n",
      "Progress:  42%|████▎     | 17/40 [01:11<01:35,  4.14s/it]WARNING:root:Only 108 Image will be uploaded.\n",
      "Progress:  45%|████▌     | 18/40 [01:15<01:30,  4.13s/it]WARNING:root:Only 108 Image will be uploaded.\n",
      "Progress:  48%|████▊     | 19/40 [01:19<01:26,  4.12s/it]WARNING:root:Only 108 Image will be uploaded.\n",
      "Progress:  50%|█████     | 20/40 [01:23<01:22,  4.11s/it]WARNING:root:Only 108 Image will be uploaded.\n",
      "Progress:  52%|█████▎    | 21/40 [01:28<01:18,  4.13s/it]WARNING:root:Only 108 Image will be uploaded.\n",
      "Progress:  55%|█████▌    | 22/40 [01:32<01:14,  4.13s/it]WARNING:root:Only 108 Image will be uploaded.\n",
      "Progress:  57%|█████▊    | 23/40 [01:36<01:10,  4.13s/it]WARNING:root:Only 108 Image will be uploaded.\n",
      "Progress:  60%|██████    | 24/40 [01:40<01:05,  4.12s/it]WARNING:root:Only 108 Image will be uploaded.\n",
      "Progress:  62%|██████▎   | 25/40 [01:44<01:01,  4.13s/it]WARNING:root:Only 108 Image will be uploaded.\n",
      "Progress:  65%|██████▌   | 26/40 [01:48<00:57,  4.13s/it]WARNING:root:Only 108 Image will be uploaded.\n",
      "Progress:  68%|██████▊   | 27/40 [01:52<00:53,  4.13s/it]WARNING:root:Only 108 Image will be uploaded.\n",
      "Progress:  70%|███████   | 28/40 [01:57<00:49,  4.16s/it]WARNING:root:Only 108 Image will be uploaded.\n",
      "Progress:  72%|███████▎  | 29/40 [02:01<00:45,  4.15s/it]WARNING:root:Only 108 Image will be uploaded.\n",
      "Progress:  75%|███████▌  | 30/40 [02:05<00:41,  4.13s/it]WARNING:root:Only 108 Image will be uploaded.\n",
      "Progress:  78%|███████▊  | 31/40 [02:09<00:37,  4.12s/it]WARNING:root:Only 108 Image will be uploaded.\n",
      "Progress:  80%|████████  | 32/40 [02:13<00:32,  4.12s/it]WARNING:root:Only 108 Image will be uploaded.\n",
      "Progress:  82%|████████▎ | 33/40 [02:17<00:28,  4.11s/it]WARNING:root:Only 108 Image will be uploaded.\n",
      "Progress:  85%|████████▌ | 34/40 [02:21<00:24,  4.12s/it]WARNING:root:Only 108 Image will be uploaded.\n",
      "Progress:  88%|████████▊ | 35/40 [02:25<00:20,  4.09s/it]WARNING:root:Only 108 Image will be uploaded.\n",
      "Progress:  90%|█████████ | 36/40 [02:29<00:16,  4.09s/it]WARNING:root:Only 108 Image will be uploaded.\n",
      "Progress:  92%|█████████▎| 37/40 [02:34<00:12,  4.10s/it]WARNING:root:Only 108 Image will be uploaded.\n",
      "Progress:  95%|█████████▌| 38/40 [02:38<00:08,  4.11s/it]WARNING:root:Only 108 Image will be uploaded.\n",
      "Progress:  98%|█████████▊| 39/40 [02:42<00:04,  4.10s/it]WARNING:root:Only 108 Image will be uploaded.\n",
      "Progress: 100%|██████████| 40/40 [02:46<00:00,  4.17s/it]\n",
      "Progress:   0%|          | 0/2835 [00:00<?, ?it/s]"
     ]
    },
    {
     "name": "stdout",
     "output_type": "stream",
     "text": [
      "train loss: 42.596306, time: 7.30065\n",
      "val loss: 140.648941, time: 2.79178\n",
      "----------\n",
      "Epoch 8/9, current lr=0.005\n"
     ]
    },
    {
     "name": "stderr",
     "output_type": "stream",
     "text": [
      "Progress: 100%|██████████| 2835/2835 [07:15<00:00,  6.51it/s]\n",
      "Progress:   0%|          | 0/40 [00:00<?, ?it/s]WARNING:root:Only 108 Image will be uploaded.\n",
      "Progress:   2%|▎         | 1/40 [00:06<04:01,  6.18s/it]WARNING:root:Only 108 Image will be uploaded.\n",
      "Progress:   5%|▌         | 2/40 [00:10<03:33,  5.63s/it]WARNING:root:Only 108 Image will be uploaded.\n",
      "Progress:   8%|▊         | 3/40 [00:14<03:14,  5.25s/it]WARNING:root:Only 108 Image will be uploaded.\n",
      "Progress:  10%|█         | 4/40 [00:19<02:59,  4.99s/it]WARNING:root:Only 108 Image will be uploaded.\n",
      "Progress:  12%|█▎        | 5/40 [00:23<02:49,  4.84s/it]WARNING:root:Only 108 Image will be uploaded.\n",
      "Progress:  15%|█▌        | 6/40 [00:28<02:39,  4.69s/it]WARNING:root:Only 108 Image will be uploaded.\n",
      "Progress:  18%|█▊        | 7/40 [00:32<02:31,  4.60s/it]WARNING:root:Only 108 Image will be uploaded.\n",
      "Progress:  20%|██        | 8/40 [00:36<02:24,  4.52s/it]WARNING:root:Only 108 Image will be uploaded.\n",
      "Progress:  22%|██▎       | 9/40 [00:41<02:18,  4.48s/it]WARNING:root:Only 108 Image will be uploaded.\n",
      "Progress:  25%|██▌       | 10/40 [00:45<02:13,  4.44s/it]WARNING:root:Only 108 Image will be uploaded.\n",
      "Progress:  28%|██▊       | 11/40 [00:49<02:08,  4.41s/it]WARNING:root:Only 108 Image will be uploaded.\n",
      "Progress:  30%|███       | 12/40 [00:54<02:02,  4.39s/it]WARNING:root:Only 108 Image will be uploaded.\n",
      "Progress:  32%|███▎      | 13/40 [00:58<01:58,  4.38s/it]WARNING:root:Only 108 Image will be uploaded.\n",
      "Progress:  35%|███▌      | 14/40 [01:02<01:53,  4.37s/it]WARNING:root:Only 108 Image will be uploaded.\n",
      "Progress:  38%|███▊      | 15/40 [01:07<01:49,  4.37s/it]WARNING:root:Only 108 Image will be uploaded.\n",
      "Progress:  40%|████      | 16/40 [01:11<01:44,  4.37s/it]WARNING:root:Only 108 Image will be uploaded.\n",
      "Progress:  42%|████▎     | 17/40 [01:16<01:40,  4.36s/it]WARNING:root:Only 108 Image will be uploaded.\n",
      "Progress:  45%|████▌     | 18/40 [01:20<01:35,  4.36s/it]WARNING:root:Only 108 Image will be uploaded.\n",
      "Progress:  48%|████▊     | 19/40 [01:24<01:31,  4.37s/it]WARNING:root:Only 108 Image will be uploaded.\n",
      "Progress:  50%|█████     | 20/40 [01:29<01:26,  4.35s/it]WARNING:root:Only 108 Image will be uploaded.\n",
      "Progress:  52%|█████▎    | 21/40 [01:33<01:22,  4.33s/it]WARNING:root:Only 108 Image will be uploaded.\n",
      "Progress:  55%|█████▌    | 22/40 [01:37<01:17,  4.33s/it]WARNING:root:Only 108 Image will be uploaded.\n",
      "Progress:  57%|█████▊    | 23/40 [01:41<01:13,  4.32s/it]WARNING:root:Only 108 Image will be uploaded.\n",
      "Progress:  60%|██████    | 24/40 [01:46<01:09,  4.31s/it]WARNING:root:Only 108 Image will be uploaded.\n",
      "Progress:  62%|██████▎   | 25/40 [01:50<01:04,  4.31s/it]WARNING:root:Only 108 Image will be uploaded.\n",
      "Progress:  65%|██████▌   | 26/40 [01:54<01:00,  4.32s/it]WARNING:root:Only 108 Image will be uploaded.\n",
      "Progress:  68%|██████▊   | 27/40 [01:59<00:56,  4.32s/it]WARNING:root:Only 108 Image will be uploaded.\n",
      "Progress:  70%|███████   | 28/40 [02:03<00:51,  4.33s/it]WARNING:root:Only 108 Image will be uploaded.\n",
      "Progress:  72%|███████▎  | 29/40 [02:07<00:47,  4.33s/it]WARNING:root:Only 108 Image will be uploaded.\n",
      "Progress:  75%|███████▌  | 30/40 [02:12<00:43,  4.34s/it]WARNING:root:Only 108 Image will be uploaded.\n",
      "Progress:  78%|███████▊  | 31/40 [02:16<00:39,  4.35s/it]WARNING:root:Only 108 Image will be uploaded.\n",
      "Progress:  80%|████████  | 32/40 [02:21<00:34,  4.37s/it]WARNING:root:Only 108 Image will be uploaded.\n",
      "Progress:  82%|████████▎ | 33/40 [02:25<00:30,  4.34s/it]WARNING:root:Only 108 Image will be uploaded.\n",
      "Progress:  85%|████████▌ | 34/40 [02:29<00:25,  4.33s/it]WARNING:root:Only 108 Image will be uploaded.\n",
      "Progress:  88%|████████▊ | 35/40 [02:34<00:21,  4.33s/it]WARNING:root:Only 108 Image will be uploaded.\n",
      "Progress:  90%|█████████ | 36/40 [02:38<00:17,  4.34s/it]WARNING:root:Only 108 Image will be uploaded.\n",
      "Progress:  92%|█████████▎| 37/40 [02:42<00:12,  4.33s/it]WARNING:root:Only 108 Image will be uploaded.\n",
      "Progress:  95%|█████████▌| 38/40 [02:47<00:08,  4.35s/it]WARNING:root:Only 108 Image will be uploaded.\n",
      "Progress:  98%|█████████▊| 39/40 [02:51<00:04,  4.34s/it]WARNING:root:Only 108 Image will be uploaded.\n",
      "Progress: 100%|██████████| 40/40 [02:56<00:00,  4.41s/it]\n",
      "Progress:   0%|          | 0/2835 [00:00<?, ?it/s]"
     ]
    },
    {
     "name": "stdout",
     "output_type": "stream",
     "text": [
      "Epoch     9: reducing learning rate of group 0 to 2.5000e-03.\n",
      "Loading best model weights!\n",
      "train loss: 41.757664, time: 7.25595\n",
      "val loss: 108.729912, time: 2.95361\n",
      "----------\n",
      "Epoch 9/9, current lr=0.0025\n"
     ]
    },
    {
     "name": "stderr",
     "output_type": "stream",
     "text": [
      "Progress: 100%|██████████| 2835/2835 [07:21<00:00,  6.43it/s] \n",
      "Progress:   0%|          | 0/40 [00:00<?, ?it/s]WARNING:root:Only 108 Image will be uploaded.\n",
      "Progress:   2%|▎         | 1/40 [00:06<04:14,  6.52s/it]WARNING:root:Only 108 Image will be uploaded.\n",
      "Progress:   5%|▌         | 2/40 [00:11<03:46,  5.96s/it]WARNING:root:Only 108 Image will be uploaded.\n",
      "Progress:   8%|▊         | 3/40 [00:15<03:25,  5.56s/it]WARNING:root:Only 108 Image will be uploaded.\n",
      "Progress:  10%|█         | 4/40 [00:20<03:09,  5.26s/it]WARNING:root:Only 108 Image will be uploaded.\n",
      "Progress:  12%|█▎        | 5/40 [00:24<02:56,  5.04s/it]WARNING:root:Only 108 Image will be uploaded.\n",
      "Progress:  15%|█▌        | 6/40 [00:29<02:46,  4.90s/it]WARNING:root:Only 108 Image will be uploaded.\n",
      "Progress:  18%|█▊        | 7/40 [00:34<02:38,  4.80s/it]WARNING:root:Only 108 Image will be uploaded.\n",
      "Progress:  20%|██        | 8/40 [00:38<02:31,  4.74s/it]WARNING:root:Only 108 Image will be uploaded.\n",
      "Progress:  22%|██▎       | 9/40 [00:43<02:25,  4.68s/it]WARNING:root:Only 108 Image will be uploaded.\n",
      "Progress:  25%|██▌       | 10/40 [00:47<02:19,  4.66s/it]WARNING:root:Only 108 Image will be uploaded.\n",
      "Progress:  28%|██▊       | 11/40 [00:52<02:14,  4.63s/it]WARNING:root:Only 108 Image will be uploaded.\n",
      "Progress:  30%|███       | 12/40 [00:56<02:09,  4.61s/it]WARNING:root:Only 108 Image will be uploaded.\n",
      "Progress:  32%|███▎      | 13/40 [01:01<02:04,  4.59s/it]WARNING:root:Only 108 Image will be uploaded.\n",
      "Progress:  35%|███▌      | 14/40 [01:05<01:58,  4.58s/it]WARNING:root:Only 108 Image will be uploaded.\n",
      "Progress:  38%|███▊      | 15/40 [01:10<01:53,  4.55s/it]WARNING:root:Only 108 Image will be uploaded.\n",
      "Progress:  40%|████      | 16/40 [01:15<01:49,  4.56s/it]WARNING:root:Only 108 Image will be uploaded.\n",
      "Progress:  42%|████▎     | 17/40 [01:19<01:44,  4.55s/it]WARNING:root:Only 108 Image will be uploaded.\n",
      "Progress:  45%|████▌     | 18/40 [01:24<01:40,  4.55s/it]WARNING:root:Only 108 Image will be uploaded.\n",
      "Progress:  48%|████▊     | 19/40 [01:28<01:35,  4.56s/it]WARNING:root:Only 108 Image will be uploaded.\n",
      "Progress:  50%|█████     | 20/40 [01:33<01:31,  4.56s/it]WARNING:root:Only 108 Image will be uploaded.\n",
      "Progress:  52%|█████▎    | 21/40 [01:37<01:26,  4.56s/it]WARNING:root:Only 108 Image will be uploaded.\n",
      "Progress:  55%|█████▌    | 22/40 [01:42<01:21,  4.55s/it]WARNING:root:Only 108 Image will be uploaded.\n",
      "Progress:  57%|█████▊    | 23/40 [01:46<01:17,  4.55s/it]WARNING:root:Only 108 Image will be uploaded.\n",
      "Progress:  60%|██████    | 24/40 [01:51<01:12,  4.56s/it]WARNING:root:Only 108 Image will be uploaded.\n",
      "Progress:  62%|██████▎   | 25/40 [01:56<01:08,  4.55s/it]WARNING:root:Only 108 Image will be uploaded.\n",
      "Progress:  65%|██████▌   | 26/40 [02:00<01:03,  4.57s/it]WARNING:root:Only 108 Image will be uploaded.\n",
      "Progress:  68%|██████▊   | 27/40 [02:05<00:59,  4.57s/it]WARNING:root:Only 108 Image will be uploaded.\n",
      "Progress:  70%|███████   | 28/40 [02:09<00:54,  4.58s/it]WARNING:root:Only 108 Image will be uploaded.\n",
      "Progress:  72%|███████▎  | 29/40 [02:14<00:50,  4.57s/it]WARNING:root:Only 108 Image will be uploaded.\n",
      "Progress:  75%|███████▌  | 30/40 [02:19<00:45,  4.59s/it]WARNING:root:Only 108 Image will be uploaded.\n",
      "Progress:  78%|███████▊  | 31/40 [02:23<00:41,  4.61s/it]WARNING:root:Only 108 Image will be uploaded.\n",
      "Progress:  80%|████████  | 32/40 [02:28<00:36,  4.59s/it]WARNING:root:Only 108 Image will be uploaded.\n",
      "Progress:  82%|████████▎ | 33/40 [02:32<00:32,  4.59s/it]WARNING:root:Only 108 Image will be uploaded.\n",
      "Progress:  85%|████████▌ | 34/40 [02:37<00:27,  4.57s/it]WARNING:root:Only 108 Image will be uploaded.\n",
      "Progress:  88%|████████▊ | 35/40 [02:41<00:22,  4.57s/it]WARNING:root:Only 108 Image will be uploaded.\n",
      "Progress:  90%|█████████ | 36/40 [02:46<00:18,  4.56s/it]WARNING:root:Only 108 Image will be uploaded.\n",
      "Progress:  92%|█████████▎| 37/40 [02:50<00:13,  4.55s/it]WARNING:root:Only 108 Image will be uploaded.\n",
      "Progress:  95%|█████████▌| 38/40 [02:55<00:09,  4.57s/it]WARNING:root:Only 108 Image will be uploaded.\n",
      "Progress:  98%|█████████▊| 39/40 [03:00<00:04,  4.55s/it]WARNING:root:Only 108 Image will be uploaded.\n",
      "Progress: 100%|██████████| 40/40 [03:05<00:00,  4.63s/it]\n"
     ]
    },
    {
     "name": "stdout",
     "output_type": "stream",
     "text": [
      "Copied best model weights!\n",
      "train loss: 41.147617, time: 7.35193\n",
      "val loss: 45.069004, time: 3.10284\n",
      "----------\n"
     ]
    }
   ],
   "source": [
    "performance = CustomPerformance()\n",
    "\n",
    "path2models= os.path.join(run_logdir, 'best_checkpoints.bin')\n",
    "params = experiment.Prams(num_epochs=wandb.config.epochs, path2weights=path2models, device=device,optimizer=opt, lr_scheduler=lr_scheduler, sanity_check=False)\n",
    "\n",
    "pipeline = CustomPipeline(model, train_dl, val_dl, performance, params)\n",
    "model, performance = pipeline.train_val()"
   ]
  },
  {
   "cell_type": "code",
   "execution_count": 20,
   "metadata": {},
   "outputs": [],
   "source": [
    "loss_hist, metrics_history = performance.loss_history, performance.metrics_history\n",
    "train_hist = torch.stack(metrics_history[\"train\"])\n",
    "val_hist = torch.stack(metrics_history[\"val\"])"
   ]
  },
  {
   "cell_type": "code",
   "execution_count": 22,
   "metadata": {},
   "outputs": [
    {
     "data": {
      "image/png": "[encoded data removed]",
      "text/plain": [
       "<Figure size 432x288 with 1 Axes>"
      ]
     },
     "metadata": {
      "needs_background": "light"
     },
     "output_type": "display_data"
    }
   ],
   "source": [
    "# Train-Validation Progress\n",
    "\n",
    "# plot loss progress\n",
    "plt.title(\"Loss\")\n",
    "plt.plot(range(1,wandb.config.epochs+1),loss_hist[\"train\"],label=\"train\")\n",
    "plt.plot(range(1,wandb.config.epochs+1),loss_hist[\"val\"],label=\"val\")\n",
    "plt.ylabel(\"Loss\")\n",
    "plt.xlabel(\"Training Epochs\")\n",
    "plt.legend()\n",
    "plt.show()"
   ]
  },
  {
   "cell_type": "code",
   "execution_count": 23,
   "metadata": {},
   "outputs": [
    {
     "data": {
      "image/png": "[encoded data removed]",
      "text/plain": [
       "<Figure size 432x288 with 1 Axes>"
      ]
     },
     "metadata": {
      "needs_background": "light"
     },
     "output_type": "display_data"
    }
   ],
   "source": [
    "# plot accuracy progress\n",
    "plt.title(\"Gender accuracy\")\n",
    "plt.plot(range(1,wandb.config.epochs+1),train_hist[:,0], label=\"train\")\n",
    "plt.plot(range(1,wandb.config.epochs+1),val_hist[:,0],label=\"val\")\n",
    "plt.ylabel(\"Acc\")\n",
    "plt.xlabel(\"Training Epochs\")\n",
    "plt.legend()\n",
    "plt.show()"
   ]
  },
  {
   "cell_type": "code",
   "execution_count": 24,
   "metadata": {},
   "outputs": [
    {
     "data": {
      "image/png": "[encoded data removed]",
      "text/plain": [
       "<Figure size 432x288 with 1 Axes>"
      ]
     },
     "metadata": {
      "needs_background": "light"
     },
     "output_type": "display_data"
    }
   ],
   "source": [
    "# plot accuracy progress\n",
    "plt.title(\"Age MAE\")\n",
    "plt.plot(range(1,wandb.config.epochs+1),train_hist[:,1], label=\"train\")\n",
    "plt.plot(range(1,wandb.config.epochs+1),val_hist[:,1],label=\"val\")\n",
    "plt.ylabel(\"MAE\")\n",
    "plt.xlabel(\"Training Epochs\")\n",
    "plt.legend()\n",
    "plt.show()"
   ]
  },
  {
   "cell_type": "markdown",
   "metadata": {},
   "source": [
    "# Testing"
   ]
  },
  {
   "cell_type": "code",
   "execution_count": null,
   "metadata": {
    "scrolled": true
   },
   "outputs": [],
   "source": [
    "run_dir = '../models/exp_2020_12_09-09_45_03'\n",
    "\n",
    "performance = CustomPerformance()\n",
    "\n",
    "path2models= os.path.join(run_logdir, 'best_checkpoints.bin')\n",
    "params = experiment.Prams(num_epochs=wandb.config.epochs, path2weights=path2models, device=device, optimizer=opt, lr_scheduler=lr_scheduler, sanity_check=False)\n",
    "\n",
    "best_pipeline = CustomPipeline(model, train_dl, val_dl, performance, params)\n",
    "\n",
    "best_pipeline.load(path2models)\n",
    "\n",
    "best_model = best_pipeline.model"
   ]
  },
  {
   "cell_type": "code",
   "execution_count": 41,
   "metadata": {},
   "outputs": [],
   "source": [
    "test_ds = CustomFaceDataset(path2data + \"all/testing.csv\", get_val_transforms(), None)"
   ]
  },
  {
   "cell_type": "code",
   "execution_count": 42,
   "metadata": {},
   "outputs": [],
   "source": [
    "test_dl = DataLoader(test_ds, batch_size = wandb.config.batch_size, num_workers = 4, shuffle=False)"
   ]
  },
  {
   "cell_type": "code",
   "execution_count": 43,
   "metadata": {},
   "outputs": [
    {
     "name": "stderr",
     "output_type": "stream",
     "text": [
      "Progress: 100%|██████████| 157/157 [00:14<00:00, 10.69it/s]\n"
     ]
    }
   ],
   "source": [
    "loss_test, metrics_test = best_pipeline.test(test_dl)"
   ]
  },
  {
   "cell_type": "code",
   "execution_count": 44,
   "metadata": {},
   "outputs": [
    {
     "name": "stdout",
     "output_type": "stream",
     "text": [
      "tensor(0.8286)\n",
      "tensor(0.8054)\n",
      "tensor(0.8087)\n"
     ]
    }
   ],
   "source": [
    "# Gender Accuracy\n",
    "print(max(train_hist[:,0]))\n",
    "print(max(val_hist[:,0]))\n",
    "print(metrics_test[0])"
   ]
  },
  {
   "cell_type": "code",
   "execution_count": 45,
   "metadata": {},
   "outputs": [
    {
     "name": "stdout",
     "output_type": "stream",
     "text": [
      "tensor(4.7052)\n",
      "tensor(4.9351)\n",
      "tensor(4.9436)\n"
     ]
    }
   ],
   "source": [
    "# Age MAE\n",
    "print(min(train_hist[:,1]))\n",
    "print(min(val_hist[:,1]))\n",
    "print(metrics_test[1])"
   ]
  },
  {
   "cell_type": "code",
   "execution_count": 46,
   "metadata": {},
   "outputs": [
    {
     "name": "stdout",
     "output_type": "stream",
     "text": [
      "tensor(41.1476, device='cuda:0', grad_fn=<DivBackward0>)\n",
      "tensor(45.0690, device='cuda:0')\n",
      "tensor(45.3346, device='cuda:0')\n"
     ]
    }
   ],
   "source": [
    "# Loss\n",
    "print(min(loss_hist[\"train\"]))\n",
    "print(min(loss_hist[\"val\"]))\n",
    "print(loss_test)"
   ]
  },
  {
   "cell_type": "code",
   "execution_count": 49,
   "metadata": {},
   "outputs": [
    {
     "name": "stdout",
     "output_type": "stream",
     "text": [
      "----------------------------------------------------------------\n",
      "        Layer (type)               Output Shape         Param #\n",
      "================================================================\n",
      "            Conv2d-1         [-1, 16, 112, 112]             432\n",
      "            Conv2d-2         [-1, 16, 112, 112]             432\n",
      "       BatchNorm2d-3         [-1, 16, 112, 112]              32\n",
      "       HardSwishMe-4         [-1, 16, 112, 112]               0\n",
      "            Conv2d-5         [-1, 16, 112, 112]             144\n",
      "       BatchNorm2d-6         [-1, 16, 112, 112]              32\n",
      "       BatchNorm2d-7         [-1, 16, 112, 112]              32\n",
      "              ReLU-8         [-1, 16, 112, 112]               0\n",
      "            Conv2d-9         [-1, 16, 112, 112]             256\n",
      "      HardSwishMe-10         [-1, 16, 112, 112]               0\n",
      "      BatchNorm2d-11         [-1, 16, 112, 112]              32\n",
      "         Identity-12         [-1, 16, 112, 112]               0\n",
      "           Conv2d-13         [-1, 16, 112, 112]             144\n",
      "DepthwiseSeparableConv-14         [-1, 16, 112, 112]               0\n",
      "           Conv2d-15         [-1, 64, 112, 112]           1,024\n",
      "      BatchNorm2d-16         [-1, 64, 112, 112]             128\n",
      "      BatchNorm2d-17         [-1, 16, 112, 112]              32\n",
      "             ReLU-18         [-1, 64, 112, 112]               0\n",
      "           Conv2d-19           [-1, 64, 56, 56]             576\n",
      "             ReLU-20         [-1, 16, 112, 112]               0\n",
      "      BatchNorm2d-21           [-1, 64, 56, 56]             128\n",
      "             ReLU-22           [-1, 64, 56, 56]               0\n",
      "           Conv2d-23         [-1, 16, 112, 112]             256\n",
      "           Conv2d-24           [-1, 24, 56, 56]           1,536\n",
      "      BatchNorm2d-25           [-1, 24, 56, 56]              48\n",
      "      BatchNorm2d-26         [-1, 16, 112, 112]              32\n",
      " InvertedResidual-27           [-1, 24, 56, 56]               0\n",
      "         Identity-28         [-1, 16, 112, 112]               0\n",
      "           Conv2d-29           [-1, 72, 56, 56]           1,728\n",
      "DepthwiseSeparableConv-30         [-1, 16, 112, 112]               0\n",
      "      BatchNorm2d-31           [-1, 72, 56, 56]             144\n",
      "             ReLU-32           [-1, 72, 56, 56]               0\n",
      "           Conv2d-33         [-1, 64, 112, 112]           1,024\n",
      "           Conv2d-34           [-1, 72, 56, 56]             648\n",
      "      BatchNorm2d-35           [-1, 72, 56, 56]             144\n",
      "             ReLU-36           [-1, 72, 56, 56]               0\n",
      "      BatchNorm2d-37         [-1, 64, 112, 112]             128\n",
      "           Conv2d-38           [-1, 24, 56, 56]           1,728\n",
      "      BatchNorm2d-39           [-1, 24, 56, 56]              48\n",
      "             ReLU-40         [-1, 64, 112, 112]               0\n",
      " InvertedResidual-41           [-1, 24, 56, 56]               0\n",
      "           Conv2d-42           [-1, 64, 56, 56]             576\n",
      "           Conv2d-43           [-1, 72, 56, 56]           1,728\n",
      "      BatchNorm2d-44           [-1, 72, 56, 56]             144\n",
      "      BatchNorm2d-45           [-1, 64, 56, 56]             128\n",
      "             ReLU-46           [-1, 72, 56, 56]               0\n",
      "           Conv2d-47           [-1, 72, 28, 28]           1,800\n",
      "             ReLU-48           [-1, 64, 56, 56]               0\n",
      "      BatchNorm2d-49           [-1, 72, 28, 28]             144\n",
      "           Conv2d-50           [-1, 24, 56, 56]           1,536\n",
      "             ReLU-51           [-1, 72, 28, 28]               0\n",
      "      BatchNorm2d-52           [-1, 24, 56, 56]              48\n",
      "           Conv2d-53             [-1, 24, 1, 1]           1,752\n",
      " InvertedResidual-54           [-1, 24, 56, 56]               0\n",
      "             ReLU-55             [-1, 24, 1, 1]               0\n",
      "           Conv2d-56           [-1, 72, 56, 56]           1,728\n",
      "           Conv2d-57             [-1, 72, 1, 1]           1,800\n",
      "      BatchNorm2d-58           [-1, 72, 56, 56]             144\n",
      "    SqueezeExcite-59           [-1, 72, 28, 28]               0\n",
      "           Conv2d-60           [-1, 40, 28, 28]           2,880\n",
      "             ReLU-61           [-1, 72, 56, 56]               0\n",
      "           Conv2d-62           [-1, 72, 56, 56]             648\n",
      "      BatchNorm2d-63           [-1, 40, 28, 28]              80\n",
      " InvertedResidual-64           [-1, 40, 28, 28]               0\n",
      "      BatchNorm2d-65           [-1, 72, 56, 56]             144\n",
      "           Conv2d-66          [-1, 120, 28, 28]           4,800\n",
      "      BatchNorm2d-67          [-1, 120, 28, 28]             240\n",
      "             ReLU-68           [-1, 72, 56, 56]               0\n",
      "             ReLU-69          [-1, 120, 28, 28]               0\n",
      "           Conv2d-70           [-1, 24, 56, 56]           1,728\n",
      "           Conv2d-71          [-1, 120, 28, 28]           3,000\n",
      "      BatchNorm2d-72          [-1, 120, 28, 28]             240\n",
      "      BatchNorm2d-73           [-1, 24, 56, 56]              48\n",
      "             ReLU-74          [-1, 120, 28, 28]               0\n",
      " InvertedResidual-75           [-1, 24, 56, 56]               0\n",
      "           Conv2d-76             [-1, 32, 1, 1]           3,872\n",
      "             ReLU-77             [-1, 32, 1, 1]               0\n",
      "           Conv2d-78           [-1, 72, 56, 56]           1,728\n",
      "           Conv2d-79            [-1, 120, 1, 1]           3,960\n",
      "      BatchNorm2d-80           [-1, 72, 56, 56]             144\n",
      "    SqueezeExcite-81          [-1, 120, 28, 28]               0\n",
      "             ReLU-82           [-1, 72, 56, 56]               0\n",
      "           Conv2d-83           [-1, 40, 28, 28]           4,800\n",
      "           Conv2d-84           [-1, 72, 28, 28]           1,800\n",
      "      BatchNorm2d-85           [-1, 40, 28, 28]              80\n",
      " InvertedResidual-86           [-1, 40, 28, 28]               0\n",
      "      BatchNorm2d-87           [-1, 72, 28, 28]             144\n",
      "           Conv2d-88          [-1, 120, 28, 28]           4,800\n",
      "      BatchNorm2d-89          [-1, 120, 28, 28]             240\n",
      "             ReLU-90           [-1, 72, 28, 28]               0\n",
      "             ReLU-91          [-1, 120, 28, 28]               0\n",
      "           Conv2d-92          [-1, 120, 28, 28]           3,000\n",
      "           Conv2d-93             [-1, 24, 1, 1]           1,752\n",
      "      BatchNorm2d-94          [-1, 120, 28, 28]             240\n",
      "             ReLU-95             [-1, 24, 1, 1]               0\n",
      "             ReLU-96          [-1, 120, 28, 28]               0\n",
      "           Conv2d-97             [-1, 32, 1, 1]           3,872\n",
      "           Conv2d-98             [-1, 72, 1, 1]           1,800\n",
      "             ReLU-99             [-1, 32, 1, 1]               0\n",
      "          Conv2d-100            [-1, 120, 1, 1]           3,960\n",
      "   SqueezeExcite-101           [-1, 72, 28, 28]               0\n",
      "   SqueezeExcite-102          [-1, 120, 28, 28]               0\n",
      "          Conv2d-103           [-1, 40, 28, 28]           2,880\n",
      "          Conv2d-104           [-1, 40, 28, 28]           4,800\n",
      "     BatchNorm2d-105           [-1, 40, 28, 28]              80\n",
      "     BatchNorm2d-106           [-1, 40, 28, 28]              80\n",
      "InvertedResidual-107           [-1, 40, 28, 28]               0\n",
      "InvertedResidual-108           [-1, 40, 28, 28]               0\n",
      "          Conv2d-109          [-1, 240, 28, 28]           9,600\n",
      "     BatchNorm2d-110          [-1, 240, 28, 28]             480\n",
      "          Conv2d-111          [-1, 120, 28, 28]           4,800\n",
      "     HardSwishMe-112          [-1, 240, 28, 28]               0\n",
      "     BatchNorm2d-113          [-1, 120, 28, 28]             240\n",
      "          Conv2d-114          [-1, 240, 14, 14]           2,160\n",
      "     BatchNorm2d-115          [-1, 240, 14, 14]             480\n",
      "            ReLU-116          [-1, 120, 28, 28]               0\n",
      "          Conv2d-117          [-1, 120, 28, 28]           3,000\n",
      "     HardSwishMe-118          [-1, 240, 14, 14]               0\n",
      "          Conv2d-119           [-1, 80, 14, 14]          19,200\n",
      "     BatchNorm2d-120          [-1, 120, 28, 28]             240\n",
      "     BatchNorm2d-121           [-1, 80, 14, 14]             160\n",
      "InvertedResidual-122           [-1, 80, 14, 14]               0\n",
      "          Conv2d-123          [-1, 200, 14, 14]          16,000\n",
      "            ReLU-124          [-1, 120, 28, 28]               0\n",
      "     BatchNorm2d-125          [-1, 200, 14, 14]             400\n",
      "          Conv2d-126             [-1, 32, 1, 1]           3,872\n",
      "     HardSwishMe-127          [-1, 200, 14, 14]               0\n",
      "          Conv2d-128          [-1, 200, 14, 14]           1,800\n",
      "            ReLU-129             [-1, 32, 1, 1]               0\n",
      "     BatchNorm2d-130          [-1, 200, 14, 14]             400\n",
      "          Conv2d-131            [-1, 120, 1, 1]           3,960\n",
      "     HardSwishMe-132          [-1, 200, 14, 14]               0\n",
      "          Conv2d-133           [-1, 80, 14, 14]          16,000\n",
      "     BatchNorm2d-134           [-1, 80, 14, 14]             160\n",
      "InvertedResidual-135           [-1, 80, 14, 14]               0\n",
      "   SqueezeExcite-136          [-1, 120, 28, 28]               0\n",
      "          Conv2d-137          [-1, 184, 14, 14]          14,720\n",
      "          Conv2d-138           [-1, 40, 28, 28]           4,800\n",
      "     BatchNorm2d-139          [-1, 184, 14, 14]             368\n",
      "     BatchNorm2d-140           [-1, 40, 28, 28]              80\n",
      "     HardSwishMe-141          [-1, 184, 14, 14]               0\n",
      "          Conv2d-142          [-1, 184, 14, 14]           1,656\n",
      "InvertedResidual-143           [-1, 40, 28, 28]               0\n",
      "     BatchNorm2d-144          [-1, 184, 14, 14]             368\n",
      "          Conv2d-145          [-1, 120, 28, 28]           4,800\n",
      "     HardSwishMe-146          [-1, 184, 14, 14]               0\n",
      "          Conv2d-147           [-1, 80, 14, 14]          14,720\n",
      "     BatchNorm2d-148          [-1, 120, 28, 28]             240\n",
      "     BatchNorm2d-149           [-1, 80, 14, 14]             160\n",
      "InvertedResidual-150           [-1, 80, 14, 14]               0\n",
      "            ReLU-151          [-1, 120, 28, 28]               0\n",
      "          Conv2d-152          [-1, 184, 14, 14]          14,720\n",
      "          Conv2d-153          [-1, 120, 28, 28]           3,000\n",
      "     BatchNorm2d-154          [-1, 184, 14, 14]             368\n",
      "     BatchNorm2d-155          [-1, 120, 28, 28]             240\n",
      "     HardSwishMe-156          [-1, 184, 14, 14]               0\n",
      "          Conv2d-157          [-1, 184, 14, 14]           1,656\n",
      "            ReLU-158          [-1, 120, 28, 28]               0\n",
      "     BatchNorm2d-159          [-1, 184, 14, 14]             368\n",
      "     HardSwishMe-160          [-1, 184, 14, 14]               0\n",
      "          Conv2d-161             [-1, 32, 1, 1]           3,872\n",
      "          Conv2d-162           [-1, 80, 14, 14]          14,720\n",
      "     BatchNorm2d-163           [-1, 80, 14, 14]             160\n",
      "            ReLU-164             [-1, 32, 1, 1]               0\n",
      "InvertedResidual-165           [-1, 80, 14, 14]               0\n",
      "          Conv2d-166          [-1, 480, 14, 14]          38,400\n",
      "          Conv2d-167            [-1, 120, 1, 1]           3,960\n",
      "     BatchNorm2d-168          [-1, 480, 14, 14]             960\n",
      "     HardSwishMe-169          [-1, 480, 14, 14]               0\n",
      "          Conv2d-170          [-1, 480, 14, 14]           4,320\n",
      "   SqueezeExcite-171          [-1, 120, 28, 28]               0\n",
      "     BatchNorm2d-172          [-1, 480, 14, 14]             960\n",
      "          Conv2d-173           [-1, 40, 28, 28]           4,800\n",
      "     HardSwishMe-174          [-1, 480, 14, 14]               0\n",
      "     BatchNorm2d-175           [-1, 40, 28, 28]              80\n",
      "          Conv2d-176            [-1, 120, 1, 1]          57,720\n",
      "InvertedResidual-177           [-1, 40, 28, 28]               0\n",
      "            ReLU-178            [-1, 120, 1, 1]               0\n",
      "          Conv2d-179            [-1, 480, 1, 1]          58,080\n",
      "          Conv2d-180          [-1, 240, 28, 28]           9,600\n",
      "   SqueezeExcite-181          [-1, 480, 14, 14]               0\n",
      "     BatchNorm2d-182          [-1, 240, 28, 28]             480\n",
      "          Conv2d-183          [-1, 112, 14, 14]          53,760\n",
      "     BatchNorm2d-184          [-1, 112, 14, 14]             224\n",
      "InvertedResidual-185          [-1, 112, 14, 14]               0\n",
      "          Conv2d-186          [-1, 672, 14, 14]          75,264\n",
      "     BatchNorm2d-187          [-1, 672, 14, 14]           1,344\n",
      "     HardSwishMe-188          [-1, 672, 14, 14]               0\n",
      "          Conv2d-189          [-1, 672, 14, 14]           6,048\n",
      "     BatchNorm2d-190          [-1, 672, 14, 14]           1,344\n",
      "     HardSwishMe-191          [-1, 240, 28, 28]               0\n",
      "     HardSwishMe-192          [-1, 672, 14, 14]               0\n",
      "          Conv2d-193          [-1, 240, 14, 14]           2,160\n",
      "          Conv2d-194            [-1, 168, 1, 1]         113,064\n",
      "     BatchNorm2d-195          [-1, 240, 14, 14]             480\n",
      "            ReLU-196            [-1, 168, 1, 1]               0\n",
      "          Conv2d-197            [-1, 672, 1, 1]         113,568\n",
      "     HardSwishMe-198          [-1, 240, 14, 14]               0\n",
      "   SqueezeExcite-199          [-1, 672, 14, 14]               0\n",
      "          Conv2d-200           [-1, 80, 14, 14]          19,200\n",
      "          Conv2d-201          [-1, 112, 14, 14]          75,264\n",
      "     BatchNorm2d-202          [-1, 112, 14, 14]             224\n",
      "     BatchNorm2d-203           [-1, 80, 14, 14]             160\n",
      "InvertedResidual-204           [-1, 80, 14, 14]               0\n",
      "InvertedResidual-205          [-1, 112, 14, 14]               0\n",
      "          Conv2d-206          [-1, 200, 14, 14]          16,000\n",
      "          Conv2d-207          [-1, 672, 14, 14]          75,264\n",
      "     BatchNorm2d-208          [-1, 200, 14, 14]             400\n",
      "     BatchNorm2d-209          [-1, 672, 14, 14]           1,344\n",
      "     HardSwishMe-210          [-1, 672, 14, 14]               0\n",
      "          Conv2d-211            [-1, 672, 7, 7]          16,800\n",
      "     HardSwishMe-212          [-1, 200, 14, 14]               0\n",
      "          Conv2d-213          [-1, 200, 14, 14]           1,800\n",
      "     BatchNorm2d-214            [-1, 672, 7, 7]           1,344\n",
      "     BatchNorm2d-215          [-1, 200, 14, 14]             400\n",
      "     HardSwishMe-216            [-1, 672, 7, 7]               0\n",
      "          Conv2d-217            [-1, 168, 1, 1]         113,064\n",
      "            ReLU-218            [-1, 168, 1, 1]               0\n",
      "     HardSwishMe-219          [-1, 200, 14, 14]               0\n",
      "          Conv2d-220            [-1, 672, 1, 1]         113,568\n",
      "          Conv2d-221           [-1, 80, 14, 14]          16,000\n",
      "   SqueezeExcite-222            [-1, 672, 7, 7]               0\n",
      "     BatchNorm2d-223           [-1, 80, 14, 14]             160\n",
      "          Conv2d-224            [-1, 160, 7, 7]         107,520\n",
      "     BatchNorm2d-225            [-1, 160, 7, 7]             320\n",
      "InvertedResidual-226           [-1, 80, 14, 14]               0\n",
      "InvertedResidual-227            [-1, 160, 7, 7]               0\n",
      "          Conv2d-228          [-1, 184, 14, 14]          14,720\n",
      "          Conv2d-229            [-1, 960, 7, 7]         153,600\n",
      "     BatchNorm2d-230            [-1, 960, 7, 7]           1,920\n",
      "     BatchNorm2d-231          [-1, 184, 14, 14]             368\n",
      "     HardSwishMe-232            [-1, 960, 7, 7]               0\n",
      "          Conv2d-233            [-1, 960, 7, 7]          24,000\n",
      "     BatchNorm2d-234            [-1, 960, 7, 7]           1,920\n",
      "     HardSwishMe-235            [-1, 960, 7, 7]               0\n",
      "          Conv2d-236            [-1, 240, 1, 1]         230,640\n",
      "            ReLU-237            [-1, 240, 1, 1]               0\n",
      "     HardSwishMe-238          [-1, 184, 14, 14]               0\n",
      "          Conv2d-239            [-1, 960, 1, 1]         231,360\n",
      "          Conv2d-240          [-1, 184, 14, 14]           1,656\n",
      "   SqueezeExcite-241            [-1, 960, 7, 7]               0\n",
      "     BatchNorm2d-242          [-1, 184, 14, 14]             368\n",
      "          Conv2d-243            [-1, 160, 7, 7]         153,600\n",
      "     BatchNorm2d-244            [-1, 160, 7, 7]             320\n",
      "InvertedResidual-245            [-1, 160, 7, 7]               0\n",
      "     HardSwishMe-246          [-1, 184, 14, 14]               0\n",
      "          Conv2d-247            [-1, 960, 7, 7]         153,600\n",
      "          Conv2d-248           [-1, 80, 14, 14]          14,720\n",
      "     BatchNorm2d-249            [-1, 960, 7, 7]           1,920\n",
      "     BatchNorm2d-250           [-1, 80, 14, 14]             160\n",
      "     HardSwishMe-251            [-1, 960, 7, 7]               0\n",
      "          Conv2d-252            [-1, 960, 7, 7]          24,000\n",
      "InvertedResidual-253           [-1, 80, 14, 14]               0\n",
      "     BatchNorm2d-254            [-1, 960, 7, 7]           1,920\n",
      "          Conv2d-255          [-1, 184, 14, 14]          14,720\n",
      "     BatchNorm2d-256          [-1, 184, 14, 14]             368\n",
      "     HardSwishMe-257          [-1, 184, 14, 14]               0\n",
      "          Conv2d-258          [-1, 184, 14, 14]           1,656\n",
      "     HardSwishMe-259            [-1, 960, 7, 7]               0\n",
      "     BatchNorm2d-260          [-1, 184, 14, 14]             368\n",
      "     HardSwishMe-261          [-1, 184, 14, 14]               0\n",
      "          Conv2d-262           [-1, 80, 14, 14]          14,720\n",
      "          Conv2d-263            [-1, 240, 1, 1]         230,640\n",
      "     BatchNorm2d-264           [-1, 80, 14, 14]             160\n",
      "InvertedResidual-265           [-1, 80, 14, 14]               0\n",
      "          Conv2d-266          [-1, 480, 14, 14]          38,400\n",
      "            ReLU-267            [-1, 240, 1, 1]               0\n",
      "          Conv2d-268            [-1, 960, 1, 1]         231,360\n",
      "     BatchNorm2d-269          [-1, 480, 14, 14]             960\n",
      "     HardSwishMe-270          [-1, 480, 14, 14]               0\n",
      "          Conv2d-271          [-1, 480, 14, 14]           4,320\n",
      "     BatchNorm2d-272          [-1, 480, 14, 14]             960\n",
      "   SqueezeExcite-273            [-1, 960, 7, 7]               0\n",
      "          Conv2d-274            [-1, 160, 7, 7]         153,600\n",
      "     HardSwishMe-275          [-1, 480, 14, 14]               0\n",
      "          Conv2d-276            [-1, 120, 1, 1]          57,720\n",
      "            ReLU-277            [-1, 120, 1, 1]               0\n",
      "     BatchNorm2d-278            [-1, 160, 7, 7]             320\n",
      "          Conv2d-279            [-1, 480, 1, 1]          58,080\n",
      "InvertedResidual-280            [-1, 160, 7, 7]               0\n",
      "   SqueezeExcite-281          [-1, 480, 14, 14]               0\n",
      "          Conv2d-282          [-1, 112, 14, 14]          53,760\n",
      "          Conv2d-283            [-1, 960, 7, 7]         153,600\n",
      "     BatchNorm2d-284          [-1, 112, 14, 14]             224\n",
      "InvertedResidual-285          [-1, 112, 14, 14]               0\n",
      "     BatchNorm2d-286            [-1, 960, 7, 7]           1,920\n",
      "          Conv2d-287          [-1, 672, 14, 14]          75,264\n",
      "     BatchNorm2d-288          [-1, 672, 14, 14]           1,344\n",
      "     HardSwishMe-289            [-1, 960, 7, 7]               0\n",
      "       ConvBnAct-290            [-1, 960, 7, 7]               0\n",
      "     HardSwishMe-291          [-1, 672, 14, 14]               0\n",
      "AdaptiveAvgPool2d-292            [-1, 960, 1, 1]               0\n",
      "SelectAdaptivePool2d-293            [-1, 960, 1, 1]               0\n",
      "          Conv2d-294          [-1, 672, 14, 14]           6,048\n",
      "     BatchNorm2d-295          [-1, 672, 14, 14]           1,344\n",
      "          Conv2d-296           [-1, 1280, 1, 1]       1,230,080\n",
      "     HardSwishMe-297          [-1, 672, 14, 14]               0\n",
      "          Conv2d-298            [-1, 168, 1, 1]         113,064\n",
      "     HardSwishMe-299           [-1, 1280, 1, 1]               0\n",
      "            ReLU-300            [-1, 168, 1, 1]               0\n",
      "          Conv2d-301            [-1, 672, 1, 1]         113,568\n",
      "          Linear-302                  [-1, 512]         655,872\n",
      "   SqueezeExcite-303          [-1, 672, 14, 14]               0\n",
      "     MobileNetV3-304                  [-1, 512]               0\n",
      "          Conv2d-305          [-1, 112, 14, 14]          75,264\n",
      "     BatchNorm2d-306          [-1, 112, 14, 14]             224\n",
      "     BatchNorm1d-307                  [-1, 512]           1,024\n",
      "InvertedResidual-308          [-1, 112, 14, 14]               0\n",
      "          Conv2d-309          [-1, 672, 14, 14]          75,264\n",
      "            ReLU-310                  [-1, 512]               0\n",
      "     BatchNorm2d-311          [-1, 672, 14, 14]           1,344\n",
      "         Dropout-312                  [-1, 512]               0\n",
      "          Linear-313                    [-1, 1]             513\n",
      "     HardSwishMe-314          [-1, 672, 14, 14]               0\n",
      "         Sigmoid-315                    [-1, 1]               0\n",
      "          Conv2d-316            [-1, 672, 7, 7]          16,800\n",
      "     BatchNorm2d-317            [-1, 672, 7, 7]           1,344\n",
      "          Linear-318                    [-1, 1]             513\n",
      "             Net-319         [[-1, 1], [-1, 1]]               0\n",
      "     HardSwishMe-320            [-1, 672, 7, 7]               0\n",
      "          Conv2d-321            [-1, 168, 1, 1]         113,064\n",
      "            ReLU-322            [-1, 168, 1, 1]               0\n",
      "          Conv2d-323            [-1, 672, 1, 1]         113,568\n",
      "   SqueezeExcite-324            [-1, 672, 7, 7]               0\n",
      "          Conv2d-325            [-1, 160, 7, 7]         107,520\n",
      "     BatchNorm2d-326            [-1, 160, 7, 7]             320\n",
      "InvertedResidual-327            [-1, 160, 7, 7]               0\n",
      "          Conv2d-328            [-1, 960, 7, 7]         153,600\n",
      "     BatchNorm2d-329            [-1, 960, 7, 7]           1,920\n",
      "     HardSwishMe-330            [-1, 960, 7, 7]               0\n",
      "          Conv2d-331            [-1, 960, 7, 7]          24,000\n",
      "     BatchNorm2d-332            [-1, 960, 7, 7]           1,920\n",
      "     HardSwishMe-333            [-1, 960, 7, 7]               0\n",
      "          Conv2d-334            [-1, 240, 1, 1]         230,640\n"
     ]
    },
    {
     "name": "stdout",
     "output_type": "stream",
     "text": [
      "            ReLU-335            [-1, 240, 1, 1]               0\n",
      "          Conv2d-336            [-1, 960, 1, 1]         231,360\n",
      "   SqueezeExcite-337            [-1, 960, 7, 7]               0\n",
      "          Conv2d-338            [-1, 160, 7, 7]         153,600\n",
      "     BatchNorm2d-339            [-1, 160, 7, 7]             320\n",
      "InvertedResidual-340            [-1, 160, 7, 7]               0\n",
      "          Conv2d-341            [-1, 960, 7, 7]         153,600\n",
      "     BatchNorm2d-342            [-1, 960, 7, 7]           1,920\n",
      "     HardSwishMe-343            [-1, 960, 7, 7]               0\n",
      "          Conv2d-344            [-1, 960, 7, 7]          24,000\n",
      "     BatchNorm2d-345            [-1, 960, 7, 7]           1,920\n",
      "     HardSwishMe-346            [-1, 960, 7, 7]               0\n",
      "          Conv2d-347            [-1, 240, 1, 1]         230,640\n",
      "            ReLU-348            [-1, 240, 1, 1]               0\n",
      "          Conv2d-349            [-1, 960, 1, 1]         231,360\n",
      "   SqueezeExcite-350            [-1, 960, 7, 7]               0\n",
      "          Conv2d-351            [-1, 160, 7, 7]         153,600\n",
      "     BatchNorm2d-352            [-1, 160, 7, 7]             320\n",
      "InvertedResidual-353            [-1, 160, 7, 7]               0\n",
      "          Conv2d-354            [-1, 960, 7, 7]         153,600\n",
      "     BatchNorm2d-355            [-1, 960, 7, 7]           1,920\n",
      "     HardSwishMe-356            [-1, 960, 7, 7]               0\n",
      "       ConvBnAct-357            [-1, 960, 7, 7]               0\n",
      "AdaptiveAvgPool2d-358            [-1, 960, 1, 1]               0\n",
      "SelectAdaptivePool2d-359            [-1, 960, 1, 1]               0\n",
      "          Conv2d-360           [-1, 1280, 1, 1]       1,230,080\n",
      "     HardSwishMe-361           [-1, 1280, 1, 1]               0\n",
      "          Linear-362                  [-1, 512]         655,872\n",
      "     MobileNetV3-363                  [-1, 512]               0\n",
      "     BatchNorm1d-364                  [-1, 512]           1,024\n",
      "            ReLU-365                  [-1, 512]               0\n",
      "         Dropout-366                  [-1, 512]               0\n",
      "          Linear-367                    [-1, 1]             513\n",
      "         Sigmoid-368                    [-1, 1]               0\n",
      "          Linear-369                    [-1, 1]             513\n",
      "             Net-370         [[-1, 1], [-1, 1]]               0\n",
      "================================================================\n",
      "Total params: 9,719,908\n",
      "Trainable params: 9,719,908\n",
      "Non-trainable params: 0\n",
      "----------------------------------------------------------------\n",
      "Input size (MB): 0.57\n",
      "Forward/backward pass size (MB): 214.50\n",
      "Params size (MB): 37.08\n",
      "Estimated Total Size (MB): 252.16\n",
      "----------------------------------------------------------------\n"
     ]
    }
   ],
   "source": [
    "summary(model, (3, 224, 224), device = 'cuda')"
   ]
  },
  {
   "cell_type": "code",
   "execution_count": null,
   "metadata": {},
   "outputs": [],
   "source": []
  }
 ],
 "metadata": {
  "kernelspec": {
   "display_name": "age_gender",
   "language": "python",
   "name": "age_gender"
  },
  "language_info": {
   "codemirror_mode": {
    "name": "ipython",
    "version": 3
   },
   "file_extension": ".py",
   "mimetype": "text/x-python",
   "name": "python",
   "nbconvert_exporter": "python",
   "pygments_lexer": "ipython3",
   "version": "3.8.2"
  }
 },
 "nbformat": 4,
 "nbformat_minor": 4
}
