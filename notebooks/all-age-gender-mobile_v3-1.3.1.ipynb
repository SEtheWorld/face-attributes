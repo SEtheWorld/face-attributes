{
 "cells": [
  {
   "cell_type": "markdown",
   "metadata": {},
   "source": [
    "# Test pipeline\n",
    "1. Create dataset: sequence of preporcessed examples ready to feed to neuralnet \n",
    "2. Create dataloader: define how dataset is loaded to neuralnet (batch size, order, computation optimizing ...)\n",
    "3. Create model : a bunch of matrixes math to transform input tensor to output tensor\n",
    "4. Training loop:\n",
    "    + Forward \n",
    "    + Calculate loss\n",
    "    + Backward\n",
    "    + Monitoring: \n",
    "        + Evaluate metrics\n",
    "        + Logger, back and forth\n",
    "        + Visualize"
   ]
  },
  {
   "cell_type": "markdown",
   "metadata": {},
   "source": [
    "# Import necessary packages"
   ]
  },
  {
   "cell_type": "code",
   "execution_count": 1,
   "metadata": {
    "scrolled": true
   },
   "outputs": [],
   "source": [
    "import os\n",
    "import glob\n",
    "import sys\n",
    "import random\n",
    "import cv2\n",
    "\n",
    "import matplotlib.pylab as plt\n",
    "from PIL import Image, ImageDraw\n",
    "import pandas as pd\n",
    "import torch\n",
    "import torch.nn.functional as F\n",
    "import torch.nn as nn\n",
    "from torchsummary import summary\n",
    "from torch.utils.data import Dataset\n",
    "import torchvision.transforms.functional as TF\n",
    "import wandb\n",
    "from tqdm import tqdm\n",
    "import numpy as np\n",
    "\n",
    "from sklearn.model_selection import ShuffleSplit, train_test_split\n",
    "\n",
    "\n",
    "# !pip install timm\n",
    "# !pip install albumentations==0.4.6\n",
    "\n",
    "import timm\n",
    "import albumentations as A\n",
    "from albumentations.pytorch.transforms import ToTensorV2\n",
    "\n",
    "from pprint import pprint\n",
    "\n",
    "torch.manual_seed(0)\n",
    "np.random.seed(0)\n",
    "random.seed(0)\n",
    "\n",
    "%matplotlib inline\n",
    "\n",
    "\n",
    "sys.path.insert(0, '..')\n",
    "from src.models.utils import FaceDataset\n"
   ]
  },
  {
   "cell_type": "code",
   "execution_count": 2,
   "metadata": {},
   "outputs": [
    {
     "name": "stderr",
     "output_type": "stream",
     "text": [
      "\u001b[34m\u001b[1mwandb\u001b[0m: Currently logged in as: \u001b[33mdyle_cse\u001b[0m (use `wandb login --relogin` to force relogin)\n",
      "\u001b[34m\u001b[1mwandb\u001b[0m: wandb version 0.10.12 is available!  To upgrade, please run:\n",
      "\u001b[34m\u001b[1mwandb\u001b[0m:  $ pip install wandb --upgrade\n"
     ]
    },
    {
     "data": {
      "text/html": [
       "\n",
       "                Tracking run with wandb version 0.10.11<br/>\n",
       "                Syncing run <strong style=\"color:#cdcd00\">northern-monkey-34</strong> to <a href=\"https://wandb.ai\" target=\"_blank\">Weights & Biases</a> <a href=\"https://docs.wandb.com/integrations/jupyter.html\" target=\"_blank\">(Documentation)</a>.<br/>\n",
       "                Project page: <a href=\"https://wandb.ai/dyle_cse/Age_Gender\" target=\"_blank\">https://wandb.ai/dyle_cse/Age_Gender</a><br/>\n",
       "                Run page: <a href=\"https://wandb.ai/dyle_cse/Age_Gender/runs/jnprqbb1\" target=\"_blank\">https://wandb.ai/dyle_cse/Age_Gender/runs/jnprqbb1</a><br/>\n",
       "                Run data is saved locally in <code>/home/anhduy/face-attributes/notebooks/wandb/run-20201211_151856-jnprqbb1</code><br/><br/>\n",
       "            "
      ],
      "text/plain": [
       "<IPython.core.display.HTML object>"
      ]
     },
     "metadata": {},
     "output_type": "display_data"
    },
    {
     "data": {
      "text/html": [
       "<h1>Run(jnprqbb1)</h1><p></p><iframe src=\"https://wandb.ai/dyle_cse/Age_Gender/runs/jnprqbb1\" style=\"border:none;width:100%;height:400px\"></iframe>"
      ],
      "text/plain": [
       "<wandb.sdk.wandb_run.Run at 0x7fc8ee987040>"
      ]
     },
     "execution_count": 2,
     "metadata": {},
     "output_type": "execute_result"
    }
   ],
   "source": [
    "hyperparameter_defaults = dict(\n",
    "    dropout = 0.2,\n",
    "    fc1 = 512,\n",
    "    batch_size = 64,\n",
    "    learning_rate = 0.001,\n",
    "    epochs = 10,\n",
    "    weight_decay = 0.001\n",
    ")\n",
    "\n",
    "wandb.init(config=hyperparameter_defaults, project='Age_Gender', resume=True)"
   ]
  },
  {
   "cell_type": "markdown",
   "metadata": {},
   "source": [
    "# Create custom dataset"
   ]
  },
  {
   "cell_type": "code",
   "execution_count": 3,
   "metadata": {},
   "outputs": [],
   "source": [
    "class CustomFaceDataset(FaceDataset):\n",
    "    def __getitem__(self, idx):\n",
    "        path = self.df.iloc[idx][\"file_name\"]\n",
    "        age = self.df.iloc[idx][\"age\"].astype(np.float32)\n",
    "        gender = self.df.iloc[idx][\"gender\"].astype(np.float32)\n",
    "        \n",
    "        img = cv2.imread(path, cv2.IMREAD_COLOR)\n",
    "        img = cv2.cvtColor(img, cv2.COLOR_BGR2RGB).astype('float32')\n",
    "        img /= 255.0\n",
    "        \n",
    "        label_list = [age, gender]\n",
    "        label_tensor = torch.tensor(label_list)\n",
    "        \n",
    "        if self.transform:\n",
    "            img = self.transform(image = img)['image']\n",
    "        \n",
    "        return img, label_tensor"
   ]
  },
  {
   "cell_type": "code",
   "execution_count": 4,
   "metadata": {},
   "outputs": [],
   "source": [
    "path2data = \"/home/Data/\"\n",
    "\n",
    "df = pd.read_csv(path2data + \"training_dataset.csv\")\n",
    "\n",
    "size = len(df)\n",
    "\n",
    "val_size = 10000\n",
    "test_size = 10000\n",
    "\n",
    "train_df, test_df = train_test_split(df, test_size=test_size/size, random_state=42)\n",
    "train_df, val_df = train_test_split(train_df, test_size=val_size/len(train_df), random_state=42)\n",
    "\n",
    "if not os.path.isdir(path2data + 'all'):\n",
    "    os.makedirs(path2data + 'all')\n",
    "    \n",
    "train_df.to_csv(path2data + \"all/training.csv\", index=False, header=True)\n",
    "val_df.to_csv(path2data + \"all/val.csv\",  index=False, header=True)\n",
    "test_df.to_csv(path2data + \"all/testing.csv\",  index=False, header=True)"
   ]
  },
  {
   "cell_type": "code",
   "execution_count": 5,
   "metadata": {
    "scrolled": true
   },
   "outputs": [
    {
     "name": "stdout",
     "output_type": "stream",
     "text": [
      "181432\n",
      "10000\n"
     ]
    }
   ],
   "source": [
    "# create data set\n",
    "path2data = \"/home/Data/\"\n",
    "\n",
    "data_transform = A.Compose([ToTensorV2(p=1.0)])\n",
    "\n",
    "train_ds = CustomFaceDataset(path2data + \"all/training.csv\", data_transform, None)\n",
    "val_ds = CustomFaceDataset(path2data + \"all/val.csv\", data_transform, None)\n",
    "\n",
    "print(len(train_ds))\n",
    "print(len(val_ds))"
   ]
  },
  {
   "cell_type": "markdown",
   "metadata": {},
   "source": [
    "# Create a transformer"
   ]
  },
  {
   "cell_type": "code",
   "execution_count": 8,
   "metadata": {},
   "outputs": [
    {
     "name": "stdout",
     "output_type": "stream",
     "text": [
      "0.54568475 0.42776844 0.3761094\n",
      "0.21924357 0.18996198 0.17315607\n"
     ]
    }
   ],
   "source": [
    "meanRGB=[np.mean(x.numpy(),axis=(1,2)) for x,_ in train_ds]\n",
    "stdRGB=[np.std(x.numpy(),axis=(1,2)) for x,_ in train_ds]\n",
    "\n",
    "meanR=np.mean([m[0] for m in meanRGB])\n",
    "meanG=np.mean([m[1] for m in meanRGB])\n",
    "meanB=np.mean([m[2] for m in meanRGB])\n",
    "\n",
    "stdR=np.mean([s[0] for s in stdRGB])\n",
    "stdG=np.mean([s[1] for s in stdRGB])\n",
    "stdB=np.mean([s[2] for s in stdRGB])\n",
    "\n",
    "print(meanR,meanG,meanB)\n",
    "print(stdR,stdG,stdB)"
   ]
  },
  {
   "cell_type": "code",
   "execution_count": 6,
   "metadata": {},
   "outputs": [],
   "source": [
    "meanR,meanG,meanB = 0.54568475 ,0.42776844 ,0.3761094\n",
    "stdR,stdG,stdB = 0.21924357, 0.18996198, 0.17315607\n",
    " \n",
    "def get_train_transforms():\n",
    "    return A.Compose([\n",
    "        A.HorizontalFlip(p=0.5),\n",
    "        A.ShiftScaleRotate(shift_limit=0.05, scale_limit=0.05, rotate_limit=15, p=0.5),\n",
    "        A.RandomBrightnessContrast(p=0.5),\n",
    "        A.Resize(224, 224),\n",
    "        A.Cutout(num_holes=4, max_h_size=4, max_w_size=4, fill_value=0, always_apply=False, p=0.5),\n",
    "        A.Normalize(mean=(meanR,meanG,meanB), std=(stdR,stdG,stdB)),\n",
    "        ToTensorV2(),\n",
    "    ])\n",
    "\n",
    "def get_val_transforms():\n",
    "    return A.Compose([\n",
    "        A.Resize(224, 224),\n",
    "        A.Normalize(mean=(meanR,meanG,meanB), std=(stdR,stdG,stdB)),\n",
    "        ToTensorV2(),\n",
    "    ])"
   ]
  },
  {
   "cell_type": "code",
   "execution_count": 7,
   "metadata": {},
   "outputs": [],
   "source": [
    "train_ds.transform = get_train_transforms()\n",
    "val_ds.transform = get_val_transforms()"
   ]
  },
  {
   "cell_type": "markdown",
   "metadata": {},
   "source": [
    "# Create Data loader"
   ]
  },
  {
   "cell_type": "code",
   "execution_count": 6,
   "metadata": {},
   "outputs": [],
   "source": [
    "import matplotlib.pyplot as plt\n",
    "def show(img,label=None):\n",
    "    npimg = img.numpy().transpose((1,2,0))\n",
    "    plt.imshow(npimg)\n",
    "    if label is not None:\n",
    "        label = label.view(-1,2)\n",
    "        for point in label:\n",
    "            x,y= point\n",
    "            plt.plot(x,y,'b+',markersize=10)"
   ]
  },
  {
   "cell_type": "code",
   "execution_count": 7,
   "metadata": {
    "collapsed": true
   },
   "outputs": [
    {
     "name": "stderr",
     "output_type": "stream",
     "text": [
      "Clipping input data to the valid range for imshow with RGB data ([0..1] for floats or [0..255] for integers).\n"
     ]
    },
    {
     "data": {
      "image/png": "[encoded data removed]",
      "text/plain": [
       "<Figure size 720x720 with 1 Axes>"
      ]
     },
     "metadata": {
      "needs_background": "light"
     },
     "output_type": "display_data"
    }
   ],
   "source": [
    "plt.figure(figsize=(10,10))\n",
    "for img,label in train_ds:\n",
    "    show(img,label)\n",
    "    break"
   ]
  },
  {
   "cell_type": "code",
   "execution_count": 8,
   "metadata": {
    "collapsed": true
   },
   "outputs": [
    {
     "name": "stderr",
     "output_type": "stream",
     "text": [
      "Clipping input data to the valid range for imshow with RGB data ([0..1] for floats or [0..255] for integers).\n"
     ]
    },
    {
     "data": {
      "image/png": "[encoded data removed]",
      "text/plain": [
       "<Figure size 720x720 with 1 Axes>"
      ]
     },
     "metadata": {
      "needs_background": "light"
     },
     "output_type": "display_data"
    }
   ],
   "source": [
    "plt.figure(figsize=(10,10))\n",
    "for img,label in val_ds:\n",
    "    show(img,label)\n",
    "    break"
   ]
  },
  {
   "cell_type": "code",
   "execution_count": 8,
   "metadata": {},
   "outputs": [],
   "source": [
    "from torch.utils.data import DataLoader\n",
    "\n",
    "train_dl = DataLoader(\n",
    "    train_ds, \n",
    "    batch_size = wandb.config.batch_size, \n",
    "    num_workers=4,\n",
    "    shuffle=True\n",
    ")\n",
    "\n",
    "val_dl = DataLoader(\n",
    "    val_ds, \n",
    "    batch_size = 256, \n",
    "    num_workers=4,\n",
    "    shuffle=False\n",
    ")"
   ]
  },
  {
   "cell_type": "code",
   "execution_count": 13,
   "metadata": {},
   "outputs": [
    {
     "name": "stdout",
     "output_type": "stream",
     "text": [
      "torch.Size([64, 3, 224, 224]) torch.float32\n",
      "torch.Size([64, 2])\n"
     ]
    }
   ],
   "source": [
    "for img_b, label_b in train_dl:\n",
    "    print(img_b.shape,img_b.dtype)\n",
    "    print(label_b.shape)\n",
    "    break"
   ]
  },
  {
   "cell_type": "code",
   "execution_count": 14,
   "metadata": {},
   "outputs": [
    {
     "name": "stdout",
     "output_type": "stream",
     "text": [
      "torch.Size([256, 2])\n"
     ]
    }
   ],
   "source": [
    "for img, label in val_dl:\n",
    "    print(label.shape)\n",
    "    break"
   ]
  },
  {
   "cell_type": "markdown",
   "metadata": {},
   "source": [
    "\n",
    "# Create Model"
   ]
  },
  {
   "cell_type": "code",
   "execution_count": 9,
   "metadata": {},
   "outputs": [],
   "source": [
    "class Net(nn.Module):\n",
    "    def __init__(self, params):\n",
    "        super(Net, self).__init__()\n",
    "    \n",
    "    def forward(self, x):\n",
    "        return x"
   ]
  },
  {
   "cell_type": "code",
   "execution_count": 10,
   "metadata": {},
   "outputs": [],
   "source": [
    "def __init__(self, params):\n",
    "    super(Net, self).__init__()\n",
    "    \n",
    "    C_in,H_in,W_in=params[\"input_shape\"] \n",
    "    self.dropout_rate=params[\"drop_rate\"] \n",
    "    self.num_fc1 = params[\"num_fc1\"]\n",
    "    self.is_freeze = params['is_freeze']\n",
    "\n",
    "    misnet_s = timm.create_model('mixnet_s', pretrained=True)\n",
    "    \n",
    "    in_features = misnet_s.classifier.in_features\n",
    "    \n",
    "    misnet_s.classifier = nn.Linear(in_features, self.num_fc1)\n",
    "    \n",
    "    self.backbone = nn.Sequential(\n",
    "                    misnet_s,\n",
    "                    nn.BatchNorm1d(num_features=self.num_fc1),\n",
    "                    nn.ReLU()\n",
    "    )\n",
    "    \n",
    "    self.gender_head = nn.Sequential(\n",
    "                            nn.Dropout(p=self.dropout_rate),\n",
    "                            nn.Linear(self.num_fc1, 1),\n",
    "                            nn.Sigmoid()\n",
    "    )\n",
    "    \n",
    "    self.age_head = nn.Sequential(\n",
    "                    nn.Linear(self.num_fc1, 1)\n",
    "    )\n",
    "    \n",
    "    if self.is_freeze:\n",
    "        for param in self.backbone.parameters():\n",
    "            param.requires_grad = False"
   ]
  },
  {
   "cell_type": "code",
   "execution_count": 11,
   "metadata": {},
   "outputs": [],
   "source": [
    "def forward(self, x):\n",
    "    x = self.backbone(x)  \n",
    "    \n",
    "    gender = self.gender_head(x)\n",
    "    age = self.age_head(x)\n",
    "    \n",
    "    return age, gender"
   ]
  },
  {
   "cell_type": "code",
   "execution_count": 12,
   "metadata": {
    "scrolled": true
   },
   "outputs": [
    {
     "name": "stdout",
     "output_type": "stream",
     "text": [
      "Let's use 4 GPUs!\n"
     ]
    },
    {
     "ename": "RuntimeError",
     "evalue": "CUDA error: out of memory",
     "output_type": "error",
     "traceback": [
      "\u001b[0;31m---------------------------------------------------------------------------\u001b[0m",
      "\u001b[0;31mRuntimeError\u001b[0m                              Traceback (most recent call last)",
      "\u001b[0;32m<ipython-input-12-79d22d2d15c3>\u001b[0m in \u001b[0;36m<module>\u001b[0;34m\u001b[0m\n\u001b[1;32m     16\u001b[0m \u001b[0;34m\u001b[0m\u001b[0m\n\u001b[1;32m     17\u001b[0m \u001b[0mdevice\u001b[0m \u001b[0;34m=\u001b[0m \u001b[0mtorch\u001b[0m\u001b[0;34m.\u001b[0m\u001b[0mdevice\u001b[0m\u001b[0;34m(\u001b[0m\u001b[0;34m\"cuda\"\u001b[0m\u001b[0;34m)\u001b[0m\u001b[0;34m\u001b[0m\u001b[0;34m\u001b[0m\u001b[0m\n\u001b[0;32m---> 18\u001b[0;31m \u001b[0mmodel\u001b[0m \u001b[0;34m=\u001b[0m \u001b[0mmodel\u001b[0m\u001b[0;34m.\u001b[0m\u001b[0mto\u001b[0m\u001b[0;34m(\u001b[0m\u001b[0mdevice\u001b[0m\u001b[0;34m)\u001b[0m\u001b[0;34m\u001b[0m\u001b[0;34m\u001b[0m\u001b[0m\n\u001b[0m\u001b[1;32m     19\u001b[0m \u001b[0;34m\u001b[0m\u001b[0m\n\u001b[1;32m     20\u001b[0m \u001b[0mwandb\u001b[0m\u001b[0;34m.\u001b[0m\u001b[0mwatch\u001b[0m\u001b[0;34m(\u001b[0m\u001b[0mmodel\u001b[0m\u001b[0;34m)\u001b[0m\u001b[0;34m\u001b[0m\u001b[0;34m\u001b[0m\u001b[0m\n",
      "\u001b[0;32m~/anaconda3/envs/age_gender/lib/python3.8/site-packages/torch/nn/modules/module.py\u001b[0m in \u001b[0;36mto\u001b[0;34m(self, *args, **kwargs)\u001b[0m\n\u001b[1;32m    610\u001b[0m             \u001b[0;32mreturn\u001b[0m \u001b[0mt\u001b[0m\u001b[0;34m.\u001b[0m\u001b[0mto\u001b[0m\u001b[0;34m(\u001b[0m\u001b[0mdevice\u001b[0m\u001b[0;34m,\u001b[0m \u001b[0mdtype\u001b[0m \u001b[0;32mif\u001b[0m \u001b[0mt\u001b[0m\u001b[0;34m.\u001b[0m\u001b[0mis_floating_point\u001b[0m\u001b[0;34m(\u001b[0m\u001b[0;34m)\u001b[0m \u001b[0;32melse\u001b[0m \u001b[0;32mNone\u001b[0m\u001b[0;34m,\u001b[0m \u001b[0mnon_blocking\u001b[0m\u001b[0;34m)\u001b[0m\u001b[0;34m\u001b[0m\u001b[0;34m\u001b[0m\u001b[0m\n\u001b[1;32m    611\u001b[0m \u001b[0;34m\u001b[0m\u001b[0m\n\u001b[0;32m--> 612\u001b[0;31m         \u001b[0;32mreturn\u001b[0m \u001b[0mself\u001b[0m\u001b[0;34m.\u001b[0m\u001b[0m_apply\u001b[0m\u001b[0;34m(\u001b[0m\u001b[0mconvert\u001b[0m\u001b[0;34m)\u001b[0m\u001b[0;34m\u001b[0m\u001b[0;34m\u001b[0m\u001b[0m\n\u001b[0m\u001b[1;32m    613\u001b[0m \u001b[0;34m\u001b[0m\u001b[0m\n\u001b[1;32m    614\u001b[0m     def register_backward_hook(\n",
      "\u001b[0;32m~/anaconda3/envs/age_gender/lib/python3.8/site-packages/torch/nn/modules/module.py\u001b[0m in \u001b[0;36m_apply\u001b[0;34m(self, fn)\u001b[0m\n\u001b[1;32m    357\u001b[0m     \u001b[0;32mdef\u001b[0m \u001b[0m_apply\u001b[0m\u001b[0;34m(\u001b[0m\u001b[0mself\u001b[0m\u001b[0;34m,\u001b[0m \u001b[0mfn\u001b[0m\u001b[0;34m)\u001b[0m\u001b[0;34m:\u001b[0m\u001b[0;34m\u001b[0m\u001b[0;34m\u001b[0m\u001b[0m\n\u001b[1;32m    358\u001b[0m         \u001b[0;32mfor\u001b[0m \u001b[0mmodule\u001b[0m \u001b[0;32min\u001b[0m \u001b[0mself\u001b[0m\u001b[0;34m.\u001b[0m\u001b[0mchildren\u001b[0m\u001b[0;34m(\u001b[0m\u001b[0;34m)\u001b[0m\u001b[0;34m:\u001b[0m\u001b[0;34m\u001b[0m\u001b[0;34m\u001b[0m\u001b[0m\n\u001b[0;32m--> 359\u001b[0;31m             \u001b[0mmodule\u001b[0m\u001b[0;34m.\u001b[0m\u001b[0m_apply\u001b[0m\u001b[0;34m(\u001b[0m\u001b[0mfn\u001b[0m\u001b[0;34m)\u001b[0m\u001b[0;34m\u001b[0m\u001b[0;34m\u001b[0m\u001b[0m\n\u001b[0m\u001b[1;32m    360\u001b[0m \u001b[0;34m\u001b[0m\u001b[0m\n\u001b[1;32m    361\u001b[0m         \u001b[0;32mdef\u001b[0m \u001b[0mcompute_should_use_set_data\u001b[0m\u001b[0;34m(\u001b[0m\u001b[0mtensor\u001b[0m\u001b[0;34m,\u001b[0m \u001b[0mtensor_applied\u001b[0m\u001b[0;34m)\u001b[0m\u001b[0;34m:\u001b[0m\u001b[0;34m\u001b[0m\u001b[0;34m\u001b[0m\u001b[0m\n",
      "\u001b[0;32m~/anaconda3/envs/age_gender/lib/python3.8/site-packages/torch/nn/modules/module.py\u001b[0m in \u001b[0;36m_apply\u001b[0;34m(self, fn)\u001b[0m\n\u001b[1;32m    357\u001b[0m     \u001b[0;32mdef\u001b[0m \u001b[0m_apply\u001b[0m\u001b[0;34m(\u001b[0m\u001b[0mself\u001b[0m\u001b[0;34m,\u001b[0m \u001b[0mfn\u001b[0m\u001b[0;34m)\u001b[0m\u001b[0;34m:\u001b[0m\u001b[0;34m\u001b[0m\u001b[0;34m\u001b[0m\u001b[0m\n\u001b[1;32m    358\u001b[0m         \u001b[0;32mfor\u001b[0m \u001b[0mmodule\u001b[0m \u001b[0;32min\u001b[0m \u001b[0mself\u001b[0m\u001b[0;34m.\u001b[0m\u001b[0mchildren\u001b[0m\u001b[0;34m(\u001b[0m\u001b[0;34m)\u001b[0m\u001b[0;34m:\u001b[0m\u001b[0;34m\u001b[0m\u001b[0;34m\u001b[0m\u001b[0m\n\u001b[0;32m--> 359\u001b[0;31m             \u001b[0mmodule\u001b[0m\u001b[0;34m.\u001b[0m\u001b[0m_apply\u001b[0m\u001b[0;34m(\u001b[0m\u001b[0mfn\u001b[0m\u001b[0;34m)\u001b[0m\u001b[0;34m\u001b[0m\u001b[0;34m\u001b[0m\u001b[0m\n\u001b[0m\u001b[1;32m    360\u001b[0m \u001b[0;34m\u001b[0m\u001b[0m\n\u001b[1;32m    361\u001b[0m         \u001b[0;32mdef\u001b[0m \u001b[0mcompute_should_use_set_data\u001b[0m\u001b[0;34m(\u001b[0m\u001b[0mtensor\u001b[0m\u001b[0;34m,\u001b[0m \u001b[0mtensor_applied\u001b[0m\u001b[0;34m)\u001b[0m\u001b[0;34m:\u001b[0m\u001b[0;34m\u001b[0m\u001b[0;34m\u001b[0m\u001b[0m\n",
      "\u001b[0;32m~/anaconda3/envs/age_gender/lib/python3.8/site-packages/torch/nn/modules/module.py\u001b[0m in \u001b[0;36m_apply\u001b[0;34m(self, fn)\u001b[0m\n\u001b[1;32m    357\u001b[0m     \u001b[0;32mdef\u001b[0m \u001b[0m_apply\u001b[0m\u001b[0;34m(\u001b[0m\u001b[0mself\u001b[0m\u001b[0;34m,\u001b[0m \u001b[0mfn\u001b[0m\u001b[0;34m)\u001b[0m\u001b[0;34m:\u001b[0m\u001b[0;34m\u001b[0m\u001b[0;34m\u001b[0m\u001b[0m\n\u001b[1;32m    358\u001b[0m         \u001b[0;32mfor\u001b[0m \u001b[0mmodule\u001b[0m \u001b[0;32min\u001b[0m \u001b[0mself\u001b[0m\u001b[0;34m.\u001b[0m\u001b[0mchildren\u001b[0m\u001b[0;34m(\u001b[0m\u001b[0;34m)\u001b[0m\u001b[0;34m:\u001b[0m\u001b[0;34m\u001b[0m\u001b[0;34m\u001b[0m\u001b[0m\n\u001b[0;32m--> 359\u001b[0;31m             \u001b[0mmodule\u001b[0m\u001b[0;34m.\u001b[0m\u001b[0m_apply\u001b[0m\u001b[0;34m(\u001b[0m\u001b[0mfn\u001b[0m\u001b[0;34m)\u001b[0m\u001b[0;34m\u001b[0m\u001b[0;34m\u001b[0m\u001b[0m\n\u001b[0m\u001b[1;32m    360\u001b[0m \u001b[0;34m\u001b[0m\u001b[0m\n\u001b[1;32m    361\u001b[0m         \u001b[0;32mdef\u001b[0m \u001b[0mcompute_should_use_set_data\u001b[0m\u001b[0;34m(\u001b[0m\u001b[0mtensor\u001b[0m\u001b[0;34m,\u001b[0m \u001b[0mtensor_applied\u001b[0m\u001b[0;34m)\u001b[0m\u001b[0;34m:\u001b[0m\u001b[0;34m\u001b[0m\u001b[0;34m\u001b[0m\u001b[0m\n",
      "\u001b[0;32m~/anaconda3/envs/age_gender/lib/python3.8/site-packages/torch/nn/modules/module.py\u001b[0m in \u001b[0;36m_apply\u001b[0;34m(self, fn)\u001b[0m\n\u001b[1;32m    357\u001b[0m     \u001b[0;32mdef\u001b[0m \u001b[0m_apply\u001b[0m\u001b[0;34m(\u001b[0m\u001b[0mself\u001b[0m\u001b[0;34m,\u001b[0m \u001b[0mfn\u001b[0m\u001b[0;34m)\u001b[0m\u001b[0;34m:\u001b[0m\u001b[0;34m\u001b[0m\u001b[0;34m\u001b[0m\u001b[0m\n\u001b[1;32m    358\u001b[0m         \u001b[0;32mfor\u001b[0m \u001b[0mmodule\u001b[0m \u001b[0;32min\u001b[0m \u001b[0mself\u001b[0m\u001b[0;34m.\u001b[0m\u001b[0mchildren\u001b[0m\u001b[0;34m(\u001b[0m\u001b[0;34m)\u001b[0m\u001b[0;34m:\u001b[0m\u001b[0;34m\u001b[0m\u001b[0;34m\u001b[0m\u001b[0m\n\u001b[0;32m--> 359\u001b[0;31m             \u001b[0mmodule\u001b[0m\u001b[0;34m.\u001b[0m\u001b[0m_apply\u001b[0m\u001b[0;34m(\u001b[0m\u001b[0mfn\u001b[0m\u001b[0;34m)\u001b[0m\u001b[0;34m\u001b[0m\u001b[0;34m\u001b[0m\u001b[0m\n\u001b[0m\u001b[1;32m    360\u001b[0m \u001b[0;34m\u001b[0m\u001b[0m\n\u001b[1;32m    361\u001b[0m         \u001b[0;32mdef\u001b[0m \u001b[0mcompute_should_use_set_data\u001b[0m\u001b[0;34m(\u001b[0m\u001b[0mtensor\u001b[0m\u001b[0;34m,\u001b[0m \u001b[0mtensor_applied\u001b[0m\u001b[0;34m)\u001b[0m\u001b[0;34m:\u001b[0m\u001b[0;34m\u001b[0m\u001b[0;34m\u001b[0m\u001b[0m\n",
      "\u001b[0;32m~/anaconda3/envs/age_gender/lib/python3.8/site-packages/torch/nn/modules/module.py\u001b[0m in \u001b[0;36m_apply\u001b[0;34m(self, fn)\u001b[0m\n\u001b[1;32m    379\u001b[0m                 \u001b[0;31m# `with torch.no_grad():`\u001b[0m\u001b[0;34m\u001b[0m\u001b[0;34m\u001b[0m\u001b[0;34m\u001b[0m\u001b[0m\n\u001b[1;32m    380\u001b[0m                 \u001b[0;32mwith\u001b[0m \u001b[0mtorch\u001b[0m\u001b[0;34m.\u001b[0m\u001b[0mno_grad\u001b[0m\u001b[0;34m(\u001b[0m\u001b[0;34m)\u001b[0m\u001b[0;34m:\u001b[0m\u001b[0;34m\u001b[0m\u001b[0;34m\u001b[0m\u001b[0m\n\u001b[0;32m--> 381\u001b[0;31m                     \u001b[0mparam_applied\u001b[0m \u001b[0;34m=\u001b[0m \u001b[0mfn\u001b[0m\u001b[0;34m(\u001b[0m\u001b[0mparam\u001b[0m\u001b[0;34m)\u001b[0m\u001b[0;34m\u001b[0m\u001b[0;34m\u001b[0m\u001b[0m\n\u001b[0m\u001b[1;32m    382\u001b[0m                 \u001b[0mshould_use_set_data\u001b[0m \u001b[0;34m=\u001b[0m \u001b[0mcompute_should_use_set_data\u001b[0m\u001b[0;34m(\u001b[0m\u001b[0mparam\u001b[0m\u001b[0;34m,\u001b[0m \u001b[0mparam_applied\u001b[0m\u001b[0;34m)\u001b[0m\u001b[0;34m\u001b[0m\u001b[0;34m\u001b[0m\u001b[0m\n\u001b[1;32m    383\u001b[0m                 \u001b[0;32mif\u001b[0m \u001b[0mshould_use_set_data\u001b[0m\u001b[0;34m:\u001b[0m\u001b[0;34m\u001b[0m\u001b[0;34m\u001b[0m\u001b[0m\n",
      "\u001b[0;32m~/anaconda3/envs/age_gender/lib/python3.8/site-packages/torch/nn/modules/module.py\u001b[0m in \u001b[0;36mconvert\u001b[0;34m(t)\u001b[0m\n\u001b[1;32m    608\u001b[0m             \u001b[0;32mif\u001b[0m \u001b[0mconvert_to_format\u001b[0m \u001b[0;32mis\u001b[0m \u001b[0;32mnot\u001b[0m \u001b[0;32mNone\u001b[0m \u001b[0;32mand\u001b[0m \u001b[0mt\u001b[0m\u001b[0;34m.\u001b[0m\u001b[0mdim\u001b[0m\u001b[0;34m(\u001b[0m\u001b[0;34m)\u001b[0m \u001b[0;34m==\u001b[0m \u001b[0;36m4\u001b[0m\u001b[0;34m:\u001b[0m\u001b[0;34m\u001b[0m\u001b[0;34m\u001b[0m\u001b[0m\n\u001b[1;32m    609\u001b[0m                 \u001b[0;32mreturn\u001b[0m \u001b[0mt\u001b[0m\u001b[0;34m.\u001b[0m\u001b[0mto\u001b[0m\u001b[0;34m(\u001b[0m\u001b[0mdevice\u001b[0m\u001b[0;34m,\u001b[0m \u001b[0mdtype\u001b[0m \u001b[0;32mif\u001b[0m \u001b[0mt\u001b[0m\u001b[0;34m.\u001b[0m\u001b[0mis_floating_point\u001b[0m\u001b[0;34m(\u001b[0m\u001b[0;34m)\u001b[0m \u001b[0;32melse\u001b[0m \u001b[0;32mNone\u001b[0m\u001b[0;34m,\u001b[0m \u001b[0mnon_blocking\u001b[0m\u001b[0;34m,\u001b[0m \u001b[0mmemory_format\u001b[0m\u001b[0;34m=\u001b[0m\u001b[0mconvert_to_format\u001b[0m\u001b[0;34m)\u001b[0m\u001b[0;34m\u001b[0m\u001b[0;34m\u001b[0m\u001b[0m\n\u001b[0;32m--> 610\u001b[0;31m             \u001b[0;32mreturn\u001b[0m \u001b[0mt\u001b[0m\u001b[0;34m.\u001b[0m\u001b[0mto\u001b[0m\u001b[0;34m(\u001b[0m\u001b[0mdevice\u001b[0m\u001b[0;34m,\u001b[0m \u001b[0mdtype\u001b[0m \u001b[0;32mif\u001b[0m \u001b[0mt\u001b[0m\u001b[0;34m.\u001b[0m\u001b[0mis_floating_point\u001b[0m\u001b[0;34m(\u001b[0m\u001b[0;34m)\u001b[0m \u001b[0;32melse\u001b[0m \u001b[0;32mNone\u001b[0m\u001b[0;34m,\u001b[0m \u001b[0mnon_blocking\u001b[0m\u001b[0;34m)\u001b[0m\u001b[0;34m\u001b[0m\u001b[0;34m\u001b[0m\u001b[0m\n\u001b[0m\u001b[1;32m    611\u001b[0m \u001b[0;34m\u001b[0m\u001b[0m\n\u001b[1;32m    612\u001b[0m         \u001b[0;32mreturn\u001b[0m \u001b[0mself\u001b[0m\u001b[0;34m.\u001b[0m\u001b[0m_apply\u001b[0m\u001b[0;34m(\u001b[0m\u001b[0mconvert\u001b[0m\u001b[0;34m)\u001b[0m\u001b[0;34m\u001b[0m\u001b[0;34m\u001b[0m\u001b[0m\n",
      "\u001b[0;31mRuntimeError\u001b[0m: CUDA error: out of memory"
     ]
    }
   ],
   "source": [
    "Net.__init__= __init__\n",
    "Net.forward = forward\n",
    "\n",
    "params_model={\n",
    "        \"input_shape\": (3,224,224),\n",
    "        \"drop_rate\" : wandb.config.dropout,\n",
    "        \"num_fc1\" : wandb.config.fc1,\n",
    "        \"is_freeze\" : False\n",
    "            }\n",
    "\n",
    "model = Net(params_model)\n",
    "\n",
    "if torch.cuda.device_count() > 1:\n",
    "    print(\"Let's use\", torch.cuda.device_count(), \"GPUs!\")\n",
    "    model = nn.DataParallel(model)\n",
    "\n",
    "device = torch.device(\"cuda\")\n",
    "model = model.to(device)\n",
    "\n",
    "wandb.watch(model)"
   ]
  },
  {
   "cell_type": "markdown",
   "metadata": {},
   "source": [
    "# Create optimizer"
   ]
  },
  {
   "cell_type": "code",
   "execution_count": 13,
   "metadata": {},
   "outputs": [],
   "source": [
    "from torch import optim\n",
    "from torch.optim.lr_scheduler import ReduceLROnPlateau\n",
    "\n",
    "# param_optimizer = list(model.named_parameters())\n",
    "# no_decay = ['bias', 'LayerNorm.bias', 'LayerNorm.weight']\n",
    "# optimizer_grouped_parameters = [\n",
    "#     {'params': [p for n, p in param_optimizer if not any(nd in n for nd in no_decay)], 'weight_decay': wandb.config.weight_decay},\n",
    "#     {'params': [p for n, p in param_optimizer if any(nd in n for nd in no_decay)], 'weight_decay': 0.0}\n",
    "# ] \n",
    "\n",
    "# opt = optim.Adam(optimizer_grouped_parameters, lr=wandb.config.learning_rate)\n",
    "opt = optim.Adam(model.parameters(), lr=wandb.config.learning_rate, weight_decay=wandb.config.weight_decay)\n",
    "lr_scheduler = ReduceLROnPlateau(opt, mode='min',factor=0.5, patience=2,verbose=1)"
   ]
  },
  {
   "cell_type": "markdown",
   "metadata": {},
   "source": [
    "# Create custom Performance"
   ]
  },
  {
   "cell_type": "code",
   "execution_count": 14,
   "metadata": {},
   "outputs": [],
   "source": [
    "from src.models import experiment\n",
    "from src.models.experiment import Performance\n",
    "\n",
    "class CustomPerformance(Performance):\n",
    "    def __init__(self):\n",
    "        Performance.__init__(self)\n",
    "        self.gender_loss_func = nn.BCELoss(reduction=\"sum\")\n",
    "        self.age_loss_func = nn.MSELoss(reduction=\"sum\")\n",
    "        \n",
    "    def loss_function(self, predictions, targets):\n",
    "        age, gender = predictions\n",
    "        gender_targets = targets[:, 1].unsqueeze(1)\n",
    "        age_targets = targets[:, 0].unsqueeze(1)\n",
    "        \n",
    "        loss_age = self.age_loss_func(age, age_targets)\n",
    "        \n",
    "        loss_gender = self.gender_loss_func(gender, gender_targets)\n",
    "        \n",
    "        loss = loss_age + loss_gender*100\n",
    "        \n",
    "        return loss, loss_age, loss_gender\n",
    "\n",
    "    def metrics_function(self, predictions, targets):\n",
    "        age, gender = predictions\n",
    "        gender_targets = targets[:, 1].unsqueeze(1)\n",
    "        age_targets = targets[:, 0].unsqueeze(1)\n",
    "        \n",
    "        gender = gender > 0.5\n",
    "        acc_gender = (gender == gender_targets).sum()\n",
    "        \n",
    "        mae_age = torch.abs(age - age_targets).sum()\n",
    "        \n",
    "        return torch.tensor([acc_gender, mae_age])\n"
   ]
  },
  {
   "cell_type": "markdown",
   "metadata": {},
   "source": [
    "# Training"
   ]
  },
  {
   "cell_type": "code",
   "execution_count": 15,
   "metadata": {},
   "outputs": [],
   "source": [
    "class AverageMeter:\n",
    "    def __init__(self):\n",
    "        self.sum = 0.0\n",
    "        self.count = 0.0\n",
    "\n",
    "    def update(self, val, n):\n",
    "        self.sum += val\n",
    "        self.count += n\n",
    "\n",
    "    def get_avg(self):\n",
    "        return self.sum / self.count\n",
    "\n",
    "\n",
    "classes = ('female', 'male')\n",
    "\n",
    "class CustomPipeline(experiment.Pipeline):\n",
    "    def _process_epoch(self, training):\n",
    "        loss_monitor = AverageMeter()\n",
    "        loss_age_monitor = AverageMeter()\n",
    "        loss_gender_monitor = AverageMeter()\n",
    "        metrics_monitor = AverageMeter()\n",
    "        if training:\n",
    "            dataset_dl = self.train_dl\n",
    "        else:\n",
    "            dataset_dl = self.val_dl\n",
    "\n",
    "        for xb, yb in tqdm(dataset_dl, total=len(dataset_dl), desc='Progress'):\n",
    "            yb=yb.to(self.params.device)\n",
    "\n",
    "            # get model output\n",
    "            predictions = self.model(xb.to(self.params.device))\n",
    "\n",
    "            # get loss per batch\n",
    "            loss, loss_age, loss_gender = self.performance.loss_function(predictions, yb)\n",
    "            \n",
    "            loss_age_monitor.update(loss_age, len(yb))\n",
    "            loss_gender_monitor.update(loss_gender, len(yb))\n",
    "            loss_monitor.update(loss, len(yb))\n",
    "\n",
    "            # get metrcis per batch\n",
    "            metrics = self.performance.metrics_function(predictions, yb)\n",
    "            metrics_monitor.update(metrics, len(yb))\n",
    "\n",
    "            if training:\n",
    "                wandb.log({'Train Loss': loss_monitor.get_avg(), 'Train loss age' : loss_age_monitor.get_avg(), 'Train loss gender' : loss_gender_monitor.get_avg(), 'Train Accuracy': metrics_monitor.get_avg()[0], 'Train MAE' : metrics_monitor.get_avg()[1]})\n",
    "                    \n",
    "            else:               \n",
    "                dataiter = iter(dataset_dl)\n",
    "                images, labels = dataiter.next()[:20]\n",
    "                images, labels = images.to(self.params.device), labels.to(self.params.device)\n",
    "                \n",
    "                outputs = self.model(images)\n",
    "               \n",
    "                _, gender_b = outputs\n",
    "                gender_b = gender_b > 0.5\n",
    "                \n",
    "                example_images = [wandb.Image(image, caption=classes[gender])\n",
    "                                  for image, gender, label in zip(images, gender_b, labels[:, 1])]\n",
    "                \n",
    "                wandb.log({'Example' : example_images, 'Val Loss': loss_monitor.get_avg(), 'Val Accuracy': metrics_monitor.get_avg()[0], 'Val MAE' : metrics_monitor.get_avg()[1]})\n",
    "            \n",
    "            # update parameters\n",
    "            if training:\n",
    "                self.params.opt.zero_grad()\n",
    "                loss.backward()\n",
    "                self.params.opt.step()  \n",
    "\n",
    "            if self.params.sanity_check:\n",
    "                break\n",
    "\n",
    "        return loss_monitor, metrics_monitor\n",
    "    \n",
    "    def test(self, test_dl):          \n",
    "        # evaluate the model    \n",
    "        loss_monitor = AverageMeter()\n",
    "        metrics_monitor = AverageMeter()\n",
    "        self.model.eval()\n",
    "\n",
    "        with torch.no_grad():\n",
    "            for xb, yb in tqdm(test_dl, total = len(test_dl), desc='Progress'):\n",
    "                yb=yb.to(self.params.device)\n",
    "\n",
    "                # get model output\n",
    "                predictions = self.model(xb.to(self.params.device))\n",
    "\n",
    "                # get loss per batch\n",
    "                loss, _, _ = self.performance.loss_function(predictions, yb)\n",
    "                loss_monitor.update(loss, len(yb))\n",
    "\n",
    "                # get metrcis per batch\n",
    "                metrics = self.performance.metrics_function(predictions, yb)\n",
    "                metrics_monitor.update(metrics, len(yb))\n",
    "\n",
    "        return loss_monitor.get_avg(), metrics_monitor.get_avg()      "
   ]
  },
  {
   "cell_type": "code",
   "execution_count": 20,
   "metadata": {},
   "outputs": [],
   "source": [
    "root_logdir = '../models'\n",
    "\n",
    "def get_run_logdir():\n",
    "    import time\n",
    "    run_id = time.strftime(\"exp_%Y_%m_%d-%H_%M_%S\")\n",
    "    if not os.path.isdir(os.path.join(root_logdir, run_id)):\n",
    "        os.makedirs(os.path.join(root_logdir, run_id))\n",
    "    return os.path.join(root_logdir, run_id)\n",
    "\n",
    "run_logdir = get_run_logdir()"
   ]
  },
  {
   "cell_type": "code",
   "execution_count": null,
   "metadata": {
    "scrolled": false
   },
   "outputs": [
    {
     "name": "stderr",
     "output_type": "stream",
     "text": [
      "\r",
      "Progress:   0%|          | 0/2835 [00:00<?, ?it/s]"
     ]
    },
    {
     "name": "stdout",
     "output_type": "stream",
     "text": [
      "Epoch 0/9, current lr=0.005\n"
     ]
    },
    {
     "name": "stderr",
     "output_type": "stream",
     "text": [
      "Progress: 100%|██████████| 2835/2835 [09:19<00:00,  5.07it/s]\n",
      "Progress:   0%|          | 0/40 [00:00<?, ?it/s]WARNING:root:Only 108 Image will be uploaded.\n",
      "Progress:   2%|▎         | 1/40 [00:04<02:40,  4.12s/it]WARNING:root:Only 108 Image will be uploaded.\n",
      "Progress:   5%|▌         | 2/40 [00:07<02:25,  3.82s/it]WARNING:root:Only 108 Image will be uploaded.\n",
      "Progress:   8%|▊         | 3/40 [00:10<02:13,  3.61s/it]WARNING:root:Only 108 Image will be uploaded.\n",
      "Progress:  10%|█         | 4/40 [00:13<02:05,  3.47s/it]WARNING:root:Only 108 Image will be uploaded.\n",
      "Progress:  12%|█▎        | 5/40 [00:16<01:57,  3.36s/it]WARNING:root:Only 108 Image will be uploaded.\n",
      "Progress:  15%|█▌        | 6/40 [00:19<01:53,  3.35s/it]WARNING:root:Only 108 Image will be uploaded.\n",
      "Progress:  18%|█▊        | 7/40 [00:23<01:48,  3.28s/it]WARNING:root:Only 108 Image will be uploaded.\n",
      "Progress:  20%|██        | 8/40 [00:26<01:43,  3.22s/it]WARNING:root:Only 108 Image will be uploaded.\n",
      "Progress:  22%|██▎       | 9/40 [00:29<01:39,  3.20s/it]WARNING:root:Only 108 Image will be uploaded.\n",
      "Progress:  25%|██▌       | 10/40 [00:32<01:34,  3.17s/it]WARNING:root:Only 108 Image will be uploaded.\n",
      "Progress:  28%|██▊       | 11/40 [00:35<01:31,  3.15s/it]WARNING:root:Only 108 Image will be uploaded.\n",
      "Progress:  30%|███       | 12/40 [00:38<01:27,  3.14s/it]WARNING:root:Only 108 Image will be uploaded.\n",
      "Progress:  32%|███▎      | 13/40 [00:41<01:24,  3.12s/it]WARNING:root:Only 108 Image will be uploaded.\n",
      "Progress:  35%|███▌      | 14/40 [00:44<01:21,  3.13s/it]WARNING:root:Only 108 Image will be uploaded.\n",
      "Progress:  38%|███▊      | 15/40 [00:48<01:19,  3.17s/it]WARNING:root:Only 108 Image will be uploaded.\n",
      "Progress:  40%|████      | 16/40 [00:51<01:15,  3.14s/it]WARNING:root:Only 108 Image will be uploaded.\n",
      "Progress:  42%|████▎     | 17/40 [00:54<01:11,  3.13s/it]WARNING:root:Only 108 Image will be uploaded.\n",
      "Progress:  45%|████▌     | 18/40 [00:57<01:08,  3.12s/it]WARNING:root:Only 108 Image will be uploaded.\n",
      "Progress:  48%|████▊     | 19/40 [01:00<01:05,  3.13s/it]WARNING:root:Only 108 Image will be uploaded.\n",
      "Progress:  50%|█████     | 20/40 [01:03<01:02,  3.12s/it]WARNING:root:Only 108 Image will be uploaded.\n",
      "Progress:  52%|█████▎    | 21/40 [01:06<00:59,  3.11s/it]WARNING:root:Only 108 Image will be uploaded.\n",
      "Progress:  55%|█████▌    | 22/40 [01:09<00:56,  3.12s/it]WARNING:root:Only 108 Image will be uploaded.\n",
      "Progress:  57%|█████▊    | 23/40 [01:13<00:54,  3.18s/it]WARNING:root:Only 108 Image will be uploaded.\n",
      "Progress:  60%|██████    | 24/40 [01:16<00:50,  3.17s/it]WARNING:root:Only 108 Image will be uploaded.\n",
      "Progress:  62%|██████▎   | 25/40 [01:19<00:47,  3.17s/it]WARNING:root:Only 108 Image will be uploaded.\n",
      "Progress:  65%|██████▌   | 26/40 [01:22<00:44,  3.15s/it]WARNING:root:Only 108 Image will be uploaded.\n",
      "Progress:  68%|██████▊   | 27/40 [01:25<00:40,  3.14s/it]WARNING:root:Only 108 Image will be uploaded.\n",
      "Progress:  70%|███████   | 28/40 [01:28<00:37,  3.12s/it]WARNING:root:Only 108 Image will be uploaded.\n",
      "Progress:  72%|███████▎  | 29/40 [01:31<00:34,  3.11s/it]WARNING:root:Only 108 Image will be uploaded.\n",
      "Progress:  75%|███████▌  | 30/40 [01:34<00:31,  3.10s/it]WARNING:root:Only 108 Image will be uploaded.\n",
      "Progress:  78%|███████▊  | 31/40 [01:38<00:27,  3.09s/it]WARNING:root:Only 108 Image will be uploaded.\n",
      "Progress:  80%|████████  | 32/40 [01:41<00:24,  3.10s/it]WARNING:root:Only 108 Image will be uploaded.\n",
      "Progress:  82%|████████▎ | 33/40 [01:44<00:22,  3.16s/it]WARNING:root:Only 108 Image will be uploaded.\n",
      "Progress:  85%|████████▌ | 34/40 [01:47<00:18,  3.15s/it]WARNING:root:Only 108 Image will be uploaded.\n",
      "Progress:  88%|████████▊ | 35/40 [01:50<00:15,  3.12s/it]WARNING:root:Only 108 Image will be uploaded.\n",
      "Progress:  90%|█████████ | 36/40 [01:53<00:12,  3.11s/it]WARNING:root:Only 108 Image will be uploaded.\n",
      "Progress:  92%|█████████▎| 37/40 [01:56<00:09,  3.09s/it]WARNING:root:Only 108 Image will be uploaded.\n",
      "Progress:  95%|█████████▌| 38/40 [01:59<00:06,  3.08s/it]WARNING:root:Only 108 Image will be uploaded.\n",
      "Progress:  98%|█████████▊| 39/40 [02:02<00:03,  3.10s/it]WARNING:root:Only 108 Image will be uploaded.\n",
      "Progress: 100%|██████████| 40/40 [02:06<00:00,  3.16s/it]\n",
      "Progress:   0%|          | 0/2835 [00:00<?, ?it/s]"
     ]
    },
    {
     "name": "stdout",
     "output_type": "stream",
     "text": [
      "Copied best model weights!\n",
      "train loss: 87.618942, time: 9.32414\n",
      "val loss: 157.583069, time: 2.10937\n",
      "----------\n",
      "Epoch 1/9, current lr=0.005\n"
     ]
    },
    {
     "name": "stderr",
     "output_type": "stream",
     "text": [
      "Progress: 100%|██████████| 2835/2835 [09:09<00:00,  5.15it/s]\n",
      "Progress:   0%|          | 0/40 [00:00<?, ?it/s]WARNING:root:Only 108 Image will be uploaded.\n",
      "Progress:   2%|▎         | 1/40 [00:04<02:55,  4.49s/it]WARNING:root:Only 108 Image will be uploaded.\n",
      "Progress:   5%|▌         | 2/40 [00:07<02:37,  4.13s/it]WARNING:root:Only 108 Image will be uploaded.\n",
      "Progress:   8%|▊         | 3/40 [00:11<02:23,  3.89s/it]WARNING:root:Only 108 Image will be uploaded.\n",
      "Progress:  10%|█         | 4/40 [00:14<02:13,  3.72s/it]WARNING:root:Only 108 Image will be uploaded.\n",
      "Progress:  12%|█▎        | 5/40 [00:17<02:06,  3.61s/it]WARNING:root:Only 108 Image will be uploaded.\n",
      "Progress:  15%|█▌        | 6/40 [00:21<02:01,  3.58s/it]WARNING:root:Only 108 Image will be uploaded.\n",
      "Progress:  18%|█▊        | 7/40 [00:24<01:55,  3.49s/it]WARNING:root:Only 108 Image will be uploaded.\n",
      "Progress:  20%|██        | 8/40 [00:28<01:51,  3.47s/it]WARNING:root:Only 108 Image will be uploaded.\n",
      "Progress:  22%|██▎       | 9/40 [00:31<01:46,  3.44s/it]WARNING:root:Only 108 Image will be uploaded.\n",
      "Progress:  25%|██▌       | 10/40 [00:34<01:42,  3.40s/it]WARNING:root:Only 108 Image will be uploaded.\n",
      "Progress:  28%|██▊       | 11/40 [00:37<01:37,  3.37s/it]WARNING:root:Only 108 Image will be uploaded.\n",
      "Progress:  30%|███       | 12/40 [00:41<01:33,  3.35s/it]WARNING:root:Only 108 Image will be uploaded.\n",
      "Progress:  32%|███▎      | 13/40 [00:44<01:30,  3.34s/it]WARNING:root:Only 108 Image will be uploaded.\n",
      "Progress:  35%|███▌      | 14/40 [00:47<01:26,  3.33s/it]WARNING:root:Only 108 Image will be uploaded.\n",
      "Progress:  38%|███▊      | 15/40 [00:51<01:25,  3.41s/it]WARNING:root:Only 108 Image will be uploaded.\n",
      "Progress:  40%|████      | 16/40 [00:54<01:20,  3.37s/it]WARNING:root:Only 108 Image will be uploaded.\n",
      "Progress:  42%|████▎     | 17/40 [00:58<01:17,  3.37s/it]WARNING:root:Only 108 Image will be uploaded.\n",
      "Progress:  45%|████▌     | 18/40 [01:01<01:13,  3.35s/it]WARNING:root:Only 108 Image will be uploaded.\n",
      "Progress:  48%|████▊     | 19/40 [01:04<01:10,  3.35s/it]WARNING:root:Only 108 Image will be uploaded.\n",
      "Progress:  50%|█████     | 20/40 [01:08<01:06,  3.34s/it]WARNING:root:Only 108 Image will be uploaded.\n",
      "Progress:  52%|█████▎    | 21/40 [01:11<01:03,  3.35s/it]WARNING:root:Only 108 Image will be uploaded.\n",
      "Progress:  55%|█████▌    | 22/40 [01:14<01:00,  3.34s/it]WARNING:root:Only 108 Image will be uploaded.\n",
      "Progress:  57%|█████▊    | 23/40 [01:18<00:57,  3.40s/it]WARNING:root:Only 108 Image will be uploaded.\n",
      "Progress:  60%|██████    | 24/40 [01:21<00:53,  3.37s/it]WARNING:root:Only 108 Image will be uploaded.\n",
      "Progress:  62%|██████▎   | 25/40 [01:24<00:50,  3.36s/it]WARNING:root:Only 108 Image will be uploaded.\n",
      "Progress:  65%|██████▌   | 26/40 [01:28<00:46,  3.35s/it]WARNING:root:Only 108 Image will be uploaded.\n",
      "Progress:  68%|██████▊   | 27/40 [01:31<00:43,  3.34s/it]WARNING:root:Only 108 Image will be uploaded.\n",
      "Progress:  70%|███████   | 28/40 [01:34<00:40,  3.34s/it]WARNING:root:Only 108 Image will be uploaded.\n",
      "Progress:  72%|███████▎  | 29/40 [01:38<00:36,  3.33s/it]WARNING:root:Only 108 Image will be uploaded.\n",
      "Progress:  75%|███████▌  | 30/40 [01:41<00:33,  3.32s/it]WARNING:root:Only 108 Image will be uploaded.\n",
      "Progress:  78%|███████▊  | 31/40 [01:44<00:30,  3.34s/it]WARNING:root:Only 108 Image will be uploaded.\n",
      "Progress:  80%|████████  | 32/40 [01:48<00:26,  3.34s/it]WARNING:root:Only 108 Image will be uploaded.\n",
      "Progress:  82%|████████▎ | 33/40 [01:51<00:23,  3.38s/it]WARNING:root:Only 108 Image will be uploaded.\n",
      "Progress:  85%|████████▌ | 34/40 [01:55<00:20,  3.37s/it]WARNING:root:Only 108 Image will be uploaded.\n",
      "Progress:  88%|████████▊ | 35/40 [01:58<00:16,  3.36s/it]WARNING:root:Only 108 Image will be uploaded.\n",
      "Progress:  90%|█████████ | 36/40 [02:01<00:13,  3.35s/it]WARNING:root:Only 108 Image will be uploaded.\n",
      "Progress:  92%|█████████▎| 37/40 [02:05<00:10,  3.33s/it]WARNING:root:Only 108 Image will be uploaded.\n",
      "Progress:  95%|█████████▌| 38/40 [02:08<00:06,  3.33s/it]WARNING:root:Only 108 Image will be uploaded.\n",
      "Progress:  98%|█████████▊| 39/40 [02:11<00:03,  3.32s/it]WARNING:root:Only 108 Image will be uploaded.\n",
      "Progress: 100%|██████████| 40/40 [02:15<00:00,  3.38s/it]\n",
      "Progress:   0%|          | 0/2835 [00:00<?, ?it/s]"
     ]
    },
    {
     "name": "stdout",
     "output_type": "stream",
     "text": [
      "Copied best model weights!\n",
      "train loss: 63.032330, time: 9.16627\n",
      "val loss: 102.788719, time: 2.26148\n",
      "----------\n",
      "Epoch 2/9, current lr=0.005\n"
     ]
    },
    {
     "name": "stderr",
     "output_type": "stream",
     "text": [
      "Progress: 100%|██████████| 2835/2835 [09:14<00:00,  5.11it/s]\n",
      "Progress:   0%|          | 0/40 [00:00<?, ?it/s]WARNING:root:Only 108 Image will be uploaded.\n",
      "Progress:   2%|▎         | 1/40 [00:04<03:14,  4.98s/it]WARNING:root:Only 108 Image will be uploaded.\n",
      "Progress:   5%|▌         | 2/40 [00:08<02:52,  4.54s/it]WARNING:root:Only 108 Image will be uploaded.\n",
      "Progress:   8%|▊         | 3/40 [00:12<02:36,  4.24s/it]WARNING:root:Only 108 Image will be uploaded.\n",
      "Progress:  10%|█         | 4/40 [00:15<02:28,  4.11s/it]WARNING:root:Only 108 Image will be uploaded.\n",
      "Progress:  12%|█▎        | 5/40 [00:19<02:18,  3.95s/it]WARNING:root:Only 108 Image will be uploaded.\n",
      "Progress:  15%|█▌        | 6/40 [00:23<02:10,  3.84s/it]WARNING:root:Only 108 Image will be uploaded.\n",
      "Progress:  18%|█▊        | 7/40 [00:26<02:04,  3.78s/it]WARNING:root:Only 108 Image will be uploaded.\n",
      "Progress:  20%|██        | 8/40 [00:30<01:59,  3.72s/it]WARNING:root:Only 108 Image will be uploaded.\n",
      "Progress:  22%|██▎       | 9/40 [00:33<01:54,  3.68s/it]WARNING:root:Only 108 Image will be uploaded.\n",
      "Progress:  25%|██▌       | 10/40 [00:37<01:49,  3.65s/it]WARNING:root:Only 108 Image will be uploaded.\n",
      "Progress:  28%|██▊       | 11/40 [00:41<01:45,  3.65s/it]WARNING:root:Only 108 Image will be uploaded.\n",
      "Progress:  30%|███       | 12/40 [00:44<01:41,  3.62s/it]WARNING:root:Only 108 Image will be uploaded.\n",
      "Progress:  32%|███▎      | 13/40 [00:48<01:37,  3.61s/it]WARNING:root:Only 108 Image will be uploaded.\n",
      "Progress:  35%|███▌      | 14/40 [00:51<01:33,  3.59s/it]WARNING:root:Only 108 Image will be uploaded.\n",
      "Progress:  38%|███▊      | 15/40 [00:55<01:29,  3.58s/it]WARNING:root:Only 108 Image will be uploaded.\n",
      "Progress:  40%|████      | 16/40 [00:59<01:27,  3.65s/it]WARNING:root:Only 108 Image will be uploaded.\n",
      "Progress:  42%|████▎     | 17/40 [01:02<01:23,  3.63s/it]WARNING:root:Only 108 Image will be uploaded.\n",
      "Progress:  45%|████▌     | 18/40 [01:06<01:19,  3.61s/it]WARNING:root:Only 108 Image will be uploaded.\n",
      "Progress:  48%|████▊     | 19/40 [01:09<01:15,  3.59s/it]WARNING:root:Only 108 Image will be uploaded.\n",
      "Progress:  50%|█████     | 20/40 [01:13<01:11,  3.57s/it]WARNING:root:Only 108 Image will be uploaded.\n",
      "Progress:  52%|█████▎    | 21/40 [01:16<01:07,  3.58s/it]WARNING:root:Only 108 Image will be uploaded.\n",
      "Progress:  55%|█████▌    | 22/40 [01:20<01:04,  3.60s/it]WARNING:root:Only 108 Image will be uploaded.\n",
      "Progress:  57%|█████▊    | 23/40 [01:24<01:00,  3.59s/it]WARNING:root:Only 108 Image will be uploaded.\n",
      "Progress:  60%|██████    | 24/40 [01:27<00:57,  3.60s/it]WARNING:root:Only 108 Image will be uploaded.\n",
      "Progress:  62%|██████▎   | 25/40 [01:31<00:54,  3.67s/it]WARNING:root:Only 108 Image will be uploaded.\n",
      "Progress:  65%|██████▌   | 26/40 [01:35<00:51,  3.65s/it]WARNING:root:Only 108 Image will be uploaded.\n",
      "Progress:  68%|██████▊   | 27/40 [01:38<00:46,  3.61s/it]WARNING:root:Only 108 Image will be uploaded.\n",
      "Progress:  70%|███████   | 28/40 [01:42<00:43,  3.58s/it]WARNING:root:Only 108 Image will be uploaded.\n",
      "Progress:  72%|███████▎  | 29/40 [01:45<00:39,  3.57s/it]WARNING:root:Only 108 Image will be uploaded.\n",
      "Progress:  75%|███████▌  | 30/40 [01:49<00:35,  3.55s/it]WARNING:root:Only 108 Image will be uploaded.\n",
      "Progress:  78%|███████▊  | 31/40 [01:52<00:32,  3.56s/it]WARNING:root:Only 108 Image will be uploaded.\n",
      "Progress:  80%|████████  | 32/40 [01:56<00:28,  3.57s/it]WARNING:root:Only 108 Image will be uploaded.\n",
      "Progress:  82%|████████▎ | 33/40 [02:00<00:25,  3.63s/it]WARNING:root:Only 108 Image will be uploaded.\n",
      "Progress:  85%|████████▌ | 34/40 [02:03<00:21,  3.62s/it]WARNING:root:Only 108 Image will be uploaded.\n",
      "Progress:  88%|████████▊ | 35/40 [02:07<00:17,  3.60s/it]WARNING:root:Only 108 Image will be uploaded.\n",
      "Progress:  90%|█████████ | 36/40 [02:10<00:14,  3.59s/it]WARNING:root:Only 108 Image will be uploaded.\n",
      "Progress:  92%|█████████▎| 37/40 [02:14<00:10,  3.58s/it]WARNING:root:Only 108 Image will be uploaded.\n",
      "Progress:  95%|█████████▌| 38/40 [02:18<00:07,  3.58s/it]WARNING:root:Only 108 Image will be uploaded.\n",
      "Progress:  98%|█████████▊| 39/40 [02:21<00:03,  3.57s/it]WARNING:root:Only 108 Image will be uploaded.\n",
      "Progress: 100%|██████████| 40/40 [02:25<00:00,  3.64s/it]\n",
      "Progress:   0%|          | 0/2835 [00:00<?, ?it/s]"
     ]
    },
    {
     "name": "stdout",
     "output_type": "stream",
     "text": [
      "Copied best model weights!\n",
      "train loss: 55.108273, time: 9.23965\n",
      "val loss: 73.813477, time: 2.43428\n",
      "----------\n",
      "Epoch 3/9, current lr=0.005\n"
     ]
    },
    {
     "name": "stderr",
     "output_type": "stream",
     "text": [
      "Progress: 100%|██████████| 2835/2835 [09:08<00:00,  5.16it/s]\n",
      "Progress:   0%|          | 0/40 [00:00<?, ?it/s]WARNING:root:Only 108 Image will be uploaded.\n",
      "Progress:   2%|▎         | 1/40 [00:05<03:31,  5.43s/it]WARNING:root:Only 108 Image will be uploaded.\n",
      "Progress:   5%|▌         | 2/40 [00:09<03:11,  5.03s/it]WARNING:root:Only 108 Image will be uploaded.\n",
      "Progress:   8%|▊         | 3/40 [00:13<02:53,  4.69s/it]WARNING:root:Only 108 Image will be uploaded.\n",
      "Progress:  10%|█         | 4/40 [00:17<02:39,  4.43s/it]WARNING:root:Only 108 Image will be uploaded.\n",
      "Progress:  12%|█▎        | 5/40 [00:21<02:29,  4.26s/it]WARNING:root:Only 108 Image will be uploaded.\n",
      "Progress:  15%|█▌        | 6/40 [00:24<02:20,  4.14s/it]WARNING:root:Only 108 Image will be uploaded.\n",
      "Progress:  18%|█▊        | 7/40 [00:28<02:13,  4.05s/it]WARNING:root:Only 108 Image will be uploaded.\n",
      "Progress:  20%|██        | 8/40 [00:32<02:08,  4.00s/it]WARNING:root:Only 108 Image will be uploaded.\n",
      "Progress:  22%|██▎       | 9/40 [00:36<02:02,  3.96s/it]WARNING:root:Only 108 Image will be uploaded.\n",
      "Progress:  25%|██▌       | 10/40 [00:40<01:59,  4.00s/it]WARNING:root:Only 108 Image will be uploaded.\n",
      "Progress:  28%|██▊       | 11/40 [00:44<01:54,  3.96s/it]WARNING:root:Only 108 Image will be uploaded.\n",
      "Progress:  30%|███       | 12/40 [00:48<01:50,  3.94s/it]WARNING:root:Only 108 Image will be uploaded.\n",
      "Progress:  32%|███▎      | 13/40 [00:52<01:45,  3.91s/it]WARNING:root:Only 108 Image will be uploaded.\n",
      "Progress:  35%|███▌      | 14/40 [00:56<01:41,  3.89s/it]WARNING:root:Only 108 Image will be uploaded.\n",
      "Progress:  38%|███▊      | 15/40 [00:59<01:36,  3.86s/it]WARNING:root:Only 108 Image will be uploaded.\n",
      "Progress:  40%|████      | 16/40 [01:03<01:32,  3.85s/it]WARNING:root:Only 108 Image will be uploaded.\n",
      "Progress:  42%|████▎     | 17/40 [01:07<01:28,  3.86s/it]WARNING:root:Only 108 Image will be uploaded.\n",
      "Progress:  45%|████▌     | 18/40 [01:11<01:25,  3.87s/it]WARNING:root:Only 108 Image will be uploaded.\n",
      "Progress:  48%|████▊     | 19/40 [01:15<01:21,  3.88s/it]WARNING:root:Only 108 Image will be uploaded.\n",
      "Progress:  50%|█████     | 20/40 [01:19<01:18,  3.91s/it]WARNING:root:Only 108 Image will be uploaded.\n",
      "Progress:  52%|█████▎    | 21/40 [01:23<01:14,  3.90s/it]WARNING:root:Only 108 Image will be uploaded.\n",
      "Progress:  55%|█████▌    | 22/40 [01:27<01:11,  3.96s/it]WARNING:root:Only 108 Image will be uploaded.\n",
      "Progress:  57%|█████▊    | 23/40 [01:31<01:06,  3.93s/it]WARNING:root:Only 108 Image will be uploaded.\n",
      "Progress:  60%|██████    | 24/40 [01:35<01:02,  3.90s/it]WARNING:root:Only 108 Image will be uploaded.\n",
      "Progress:  62%|██████▎   | 25/40 [01:38<00:58,  3.89s/it]WARNING:root:Only 108 Image will be uploaded.\n",
      "Progress:  65%|██████▌   | 26/40 [01:42<00:54,  3.89s/it]WARNING:root:Only 108 Image will be uploaded.\n",
      "Progress:  68%|██████▊   | 27/40 [01:46<00:50,  3.88s/it]WARNING:root:Only 108 Image will be uploaded.\n",
      "Progress:  70%|███████   | 28/40 [01:50<00:46,  3.91s/it]WARNING:root:Only 108 Image will be uploaded.\n",
      "Progress:  72%|███████▎  | 29/40 [01:54<00:42,  3.89s/it]WARNING:root:Only 108 Image will be uploaded.\n",
      "Progress:  75%|███████▌  | 30/40 [01:58<00:38,  3.88s/it]WARNING:root:Only 108 Image will be uploaded.\n",
      "Progress:  78%|███████▊  | 31/40 [02:02<00:35,  3.96s/it]WARNING:root:Only 108 Image will be uploaded.\n",
      "Progress:  80%|████████  | 32/40 [02:06<00:31,  3.94s/it]WARNING:root:Only 108 Image will be uploaded.\n",
      "Progress:  82%|████████▎ | 33/40 [02:10<00:27,  3.91s/it]WARNING:root:Only 108 Image will be uploaded.\n",
      "Progress:  85%|████████▌ | 34/40 [02:14<00:23,  3.89s/it]WARNING:root:Only 108 Image will be uploaded.\n",
      "Progress:  88%|████████▊ | 35/40 [02:17<00:19,  3.88s/it]WARNING:root:Only 108 Image will be uploaded.\n",
      "Progress:  90%|█████████ | 36/40 [02:21<00:15,  3.87s/it]WARNING:root:Only 108 Image will be uploaded.\n",
      "Progress:  92%|█████████▎| 37/40 [02:25<00:11,  3.87s/it]WARNING:root:Only 108 Image will be uploaded.\n",
      "Progress:  95%|█████████▌| 38/40 [02:29<00:07,  3.88s/it]WARNING:root:Only 108 Image will be uploaded.\n",
      "Progress:  98%|█████████▊| 39/40 [02:33<00:03,  3.88s/it]WARNING:root:Only 108 Image will be uploaded.\n",
      "Progress: 100%|██████████| 40/40 [02:37<00:00,  3.95s/it]\n",
      "Progress:   0%|          | 0/2835 [00:00<?, ?it/s]"
     ]
    },
    {
     "name": "stdout",
     "output_type": "stream",
     "text": [
      "train loss: 53.014069, time: 9.14980\n",
      "val loss: 82.032158, time: 2.64233\n",
      "----------\n",
      "Epoch 4/9, current lr=0.005\n"
     ]
    },
    {
     "name": "stderr",
     "output_type": "stream",
     "text": [
      "Progress: 100%|██████████| 2835/2835 [09:11<00:00,  5.14it/s]\n",
      "Progress:   0%|          | 0/40 [00:00<?, ?it/s]WARNING:root:Only 108 Image will be uploaded.\n",
      "Progress:   2%|▎         | 1/40 [00:06<04:00,  6.17s/it]WARNING:root:Only 108 Image will be uploaded.\n",
      "Progress:   5%|▌         | 2/40 [00:10<03:31,  5.58s/it]WARNING:root:Only 108 Image will be uploaded.\n",
      "Progress:   8%|▊         | 3/40 [00:14<03:09,  5.14s/it]WARNING:root:Only 108 Image will be uploaded.\n",
      "Progress:  10%|█         | 4/40 [00:18<02:54,  4.85s/it]WARNING:root:Only 108 Image will be uploaded.\n",
      "Progress:  12%|█▎        | 5/40 [00:22<02:43,  4.66s/it]WARNING:root:Only 108 Image will be uploaded.\n",
      "Progress:  15%|█▌        | 6/40 [00:27<02:33,  4.51s/it]WARNING:root:Only 108 Image will be uploaded.\n",
      "Progress:  18%|█▊        | 7/40 [00:31<02:25,  4.40s/it]WARNING:root:Only 108 Image will be uploaded.\n",
      "Progress:  20%|██        | 8/40 [00:35<02:18,  4.33s/it]WARNING:root:Only 108 Image will be uploaded.\n",
      "Progress:  22%|██▎       | 9/40 [00:39<02:12,  4.28s/it]WARNING:root:Only 108 Image will be uploaded.\n",
      "Progress:  25%|██▌       | 10/40 [00:44<02:10,  4.35s/it]WARNING:root:Only 108 Image will be uploaded.\n",
      "Progress:  28%|██▊       | 11/40 [00:48<02:04,  4.29s/it]WARNING:root:Only 108 Image will be uploaded.\n",
      "Progress:  30%|███       | 12/40 [00:52<01:59,  4.27s/it]WARNING:root:Only 108 Image will be uploaded.\n",
      "Progress:  32%|███▎      | 13/40 [00:56<01:54,  4.23s/it]WARNING:root:Only 108 Image will be uploaded.\n",
      "Progress:  35%|███▌      | 14/40 [01:00<01:49,  4.23s/it]WARNING:root:Only 108 Image will be uploaded.\n",
      "Progress:  38%|███▊      | 15/40 [01:04<01:45,  4.20s/it]WARNING:root:Only 108 Image will be uploaded.\n",
      "Progress:  40%|████      | 16/40 [01:09<01:40,  4.18s/it]WARNING:root:Only 108 Image will be uploaded.\n",
      "Progress:  42%|████▎     | 17/40 [01:13<01:36,  4.19s/it]WARNING:root:Only 108 Image will be uploaded.\n",
      "Progress:  45%|████▌     | 18/40 [01:17<01:32,  4.20s/it]WARNING:root:Only 108 Image will be uploaded.\n",
      "Progress:  48%|████▊     | 19/40 [01:21<01:27,  4.18s/it]WARNING:root:Only 108 Image will be uploaded.\n",
      "Progress:  50%|█████     | 20/40 [01:25<01:23,  4.16s/it]WARNING:root:Only 108 Image will be uploaded.\n",
      "Progress:  52%|█████▎    | 21/40 [01:30<01:20,  4.23s/it]WARNING:root:Only 108 Image will be uploaded.\n",
      "Progress:  55%|█████▌    | 22/40 [01:34<01:15,  4.21s/it]WARNING:root:Only 108 Image will be uploaded.\n",
      "Progress:  57%|█████▊    | 23/40 [01:38<01:11,  4.19s/it]WARNING:root:Only 108 Image will be uploaded.\n",
      "Progress:  60%|██████    | 24/40 [01:42<01:06,  4.18s/it]WARNING:root:Only 108 Image will be uploaded.\n",
      "Progress:  62%|██████▎   | 25/40 [01:46<01:02,  4.18s/it]WARNING:root:Only 108 Image will be uploaded.\n",
      "Progress:  65%|██████▌   | 26/40 [01:50<00:58,  4.17s/it]WARNING:root:Only 108 Image will be uploaded.\n",
      "Progress:  68%|██████▊   | 27/40 [01:55<00:54,  4.19s/it]WARNING:root:Only 108 Image will be uploaded.\n",
      "Progress:  70%|███████   | 28/40 [01:59<00:50,  4.21s/it]WARNING:root:Only 108 Image will be uploaded.\n",
      "Progress:  72%|███████▎  | 29/40 [02:03<00:46,  4.22s/it]WARNING:root:Only 108 Image will be uploaded.\n",
      "Progress:  75%|███████▌  | 30/40 [02:07<00:41,  4.18s/it]WARNING:root:Only 108 Image will be uploaded.\n",
      "Progress:  78%|███████▊  | 31/40 [02:12<00:38,  4.28s/it]WARNING:root:Only 108 Image will be uploaded.\n",
      "Progress:  80%|████████  | 32/40 [02:16<00:33,  4.25s/it]WARNING:root:Only 108 Image will be uploaded.\n",
      "Progress:  82%|████████▎ | 33/40 [02:20<00:29,  4.24s/it]WARNING:root:Only 108 Image will be uploaded.\n",
      "Progress:  85%|████████▌ | 34/40 [02:24<00:25,  4.22s/it]WARNING:root:Only 108 Image will be uploaded.\n",
      "Progress:  88%|████████▊ | 35/40 [02:28<00:20,  4.18s/it]WARNING:root:Only 108 Image will be uploaded.\n",
      "Progress:  90%|█████████ | 36/40 [02:33<00:16,  4.17s/it]WARNING:root:Only 108 Image will be uploaded.\n",
      "Progress:  92%|█████████▎| 37/40 [02:37<00:12,  4.16s/it]WARNING:root:Only 108 Image will be uploaded.\n",
      "Progress:  95%|█████████▌| 38/40 [02:41<00:08,  4.17s/it]WARNING:root:Only 108 Image will be uploaded.\n",
      "Progress:  98%|█████████▊| 39/40 [02:45<00:04,  4.17s/it]WARNING:root:Only 108 Image will be uploaded.\n",
      "Progress: 100%|██████████| 40/40 [02:50<00:00,  4.26s/it]\n",
      "Progress:   0%|          | 0/2835 [00:00<?, ?it/s]"
     ]
    },
    {
     "name": "stdout",
     "output_type": "stream",
     "text": [
      "train loss: 48.316170, time: 9.18989\n",
      "val loss: 82.769035, time: 2.85202\n",
      "----------\n",
      "Epoch 5/9, current lr=0.005\n"
     ]
    },
    {
     "name": "stderr",
     "output_type": "stream",
     "text": [
      "Progress: 100%|██████████| 2835/2835 [09:15<00:00,  5.10it/s]\n",
      "Progress:   0%|          | 0/40 [00:00<?, ?it/s]WARNING:root:Only 108 Image will be uploaded.\n",
      "Progress:   2%|▎         | 1/40 [00:06<04:09,  6.40s/it]WARNING:root:Only 108 Image will be uploaded.\n",
      "Progress:   5%|▌         | 2/40 [00:11<03:45,  5.94s/it]WARNING:root:Only 108 Image will be uploaded.\n",
      "Progress:   8%|▊         | 3/40 [00:15<03:23,  5.50s/it]WARNING:root:Only 108 Image will be uploaded.\n",
      "Progress:  10%|█         | 4/40 [00:20<03:07,  5.20s/it]WARNING:root:Only 108 Image will be uploaded.\n",
      "Progress:  12%|█▎        | 5/40 [00:24<02:54,  5.00s/it]WARNING:root:Only 108 Image will be uploaded.\n",
      "Progress:  15%|█▌        | 6/40 [00:29<02:45,  4.86s/it]WARNING:root:Only 108 Image will be uploaded.\n",
      "Progress:  18%|█▊        | 7/40 [00:33<02:36,  4.75s/it]WARNING:root:Only 108 Image will be uploaded.\n",
      "Progress:  20%|██        | 8/40 [00:38<02:29,  4.68s/it]WARNING:root:Only 108 Image will be uploaded.\n",
      "Progress:  22%|██▎       | 9/40 [00:42<02:23,  4.63s/it]WARNING:root:Only 108 Image will be uploaded.\n",
      "Progress:  25%|██▌       | 10/40 [00:47<02:17,  4.60s/it]WARNING:root:Only 108 Image will be uploaded.\n",
      "Progress:  28%|██▊       | 11/40 [00:51<02:12,  4.55s/it]WARNING:root:Only 108 Image will be uploaded.\n",
      "Progress:  30%|███       | 12/40 [00:56<02:07,  4.54s/it]WARNING:root:Only 108 Image will be uploaded.\n",
      "Progress:  32%|███▎      | 13/40 [01:00<02:02,  4.52s/it]WARNING:root:Only 108 Image will be uploaded.\n",
      "Progress:  35%|███▌      | 14/40 [01:05<02:00,  4.63s/it]WARNING:root:Only 108 Image will be uploaded.\n",
      "Progress:  38%|███▊      | 15/40 [01:10<01:54,  4.59s/it]WARNING:root:Only 108 Image will be uploaded.\n",
      "Progress:  40%|████      | 16/40 [01:14<01:49,  4.57s/it]WARNING:root:Only 108 Image will be uploaded.\n",
      "Progress:  42%|████▎     | 17/40 [01:19<01:44,  4.54s/it]WARNING:root:Only 108 Image will be uploaded.\n",
      "Progress:  45%|████▌     | 18/40 [01:23<01:39,  4.52s/it]WARNING:root:Only 108 Image will be uploaded.\n",
      "Progress:  48%|████▊     | 19/40 [01:28<01:34,  4.52s/it]WARNING:root:Only 108 Image will be uploaded.\n",
      "Progress:  50%|█████     | 20/40 [01:32<01:30,  4.52s/it]WARNING:root:Only 108 Image will be uploaded.\n",
      "Progress:  52%|█████▎    | 21/40 [01:37<01:26,  4.55s/it]WARNING:root:Only 108 Image will be uploaded.\n",
      "Progress:  55%|█████▌    | 22/40 [01:41<01:21,  4.52s/it]WARNING:root:Only 108 Image will be uploaded.\n",
      "Progress:  57%|█████▊    | 23/40 [01:46<01:16,  4.53s/it]WARNING:root:Only 108 Image will be uploaded.\n",
      "Progress:  60%|██████    | 24/40 [01:51<01:14,  4.64s/it]WARNING:root:Only 108 Image will be uploaded.\n",
      "Progress:  62%|██████▎   | 25/40 [01:55<01:09,  4.61s/it]WARNING:root:Only 108 Image will be uploaded.\n",
      "Progress:  65%|██████▌   | 26/40 [02:00<01:03,  4.57s/it]WARNING:root:Only 108 Image will be uploaded.\n",
      "Progress:  68%|██████▊   | 27/40 [02:04<00:59,  4.55s/it]WARNING:root:Only 108 Image will be uploaded.\n",
      "Progress:  70%|███████   | 28/40 [02:09<00:55,  4.59s/it]WARNING:root:Only 108 Image will be uploaded.\n",
      "Progress:  72%|███████▎  | 29/40 [02:14<00:50,  4.62s/it]WARNING:root:Only 108 Image will be uploaded.\n",
      "Progress:  75%|███████▌  | 30/40 [02:18<00:45,  4.59s/it]WARNING:root:Only 108 Image will be uploaded.\n",
      "Progress:  78%|███████▊  | 31/40 [02:23<00:40,  4.54s/it]WARNING:root:Only 108 Image will be uploaded.\n",
      "Progress:  80%|████████  | 32/40 [02:27<00:36,  4.51s/it]WARNING:root:Only 108 Image will be uploaded.\n",
      "Progress:  82%|████████▎ | 33/40 [02:32<00:32,  4.60s/it]WARNING:root:Only 108 Image will be uploaded.\n",
      "Progress:  85%|████████▌ | 34/40 [02:36<00:27,  4.57s/it]WARNING:root:Only 108 Image will be uploaded.\n",
      "Progress:  88%|████████▊ | 35/40 [02:41<00:22,  4.54s/it]WARNING:root:Only 108 Image will be uploaded.\n",
      "Progress:  90%|█████████ | 36/40 [02:45<00:18,  4.54s/it]WARNING:root:Only 108 Image will be uploaded.\n",
      "Progress:  92%|█████████▎| 37/40 [02:50<00:13,  4.53s/it]WARNING:root:Only 108 Image will be uploaded.\n",
      "Progress:  95%|█████████▌| 38/40 [02:54<00:09,  4.52s/it]WARNING:root:Only 108 Image will be uploaded.\n",
      "Progress:  98%|█████████▊| 39/40 [02:59<00:04,  4.51s/it]WARNING:root:Only 108 Image will be uploaded.\n",
      "Progress: 100%|██████████| 40/40 [03:04<00:00,  4.61s/it]\n",
      "Progress:   0%|          | 0/2835 [00:00<?, ?it/s]"
     ]
    },
    {
     "name": "stdout",
     "output_type": "stream",
     "text": [
      "Copied best model weights!\n",
      "train loss: 43.497414, time: 9.26406\n",
      "val loss: 50.060867, time: 3.08546\n",
      "----------\n",
      "Epoch 6/9, current lr=0.005\n"
     ]
    },
    {
     "name": "stderr",
     "output_type": "stream",
     "text": [
      "Progress:  68%|██████▊   | 1933/2835 [07:38<2:31:35, 10.08s/it]"
     ]
    }
   ],
   "source": [
    "performance = CustomPerformance()\n",
    "\n",
    "path2models= os.path.join(run_logdir, 'best_checkpoints.bin')\n",
    "params = experiment.Prams(num_epochs=wandb.config.epochs, path2weights=path2models, device=device,optimizer=opt, lr_scheduler=lr_scheduler, sanity_check=False)\n",
    "\n",
    "pipeline = CustomPipeline(model, train_dl, val_dl, performance, params)\n",
    "model, performance = pipeline.train_val()"
   ]
  },
  {
   "cell_type": "markdown",
   "metadata": {},
   "source": [
    "### Continue Training"
   ]
  },
  {
   "cell_type": "code",
   "execution_count": 16,
   "metadata": {},
   "outputs": [],
   "source": [
    "performance = CustomPerformance()\n",
    "\n",
    "path2models= os.path.join(\"../models/exp_2020_12_11-09_27_13\", 'best_checkpoints.bin')\n",
    "params = experiment.Prams(num_epochs=wandb.config.epochs, path2weights=path2models, device=device,optimizer=opt, lr_scheduler=lr_scheduler, sanity_check=False)\n",
    "\n",
    "pipeline = CustomPipeline(model, train_dl, val_dl, performance, params)\n",
    "\n",
    "pipeline.load(path2models)"
   ]
  },
  {
   "cell_type": "code",
   "execution_count": 17,
   "metadata": {},
   "outputs": [
    {
     "name": "stderr",
     "output_type": "stream",
     "text": [
      "\r",
      "Progress:   0%|          | 0/2835 [00:00<?, ?it/s]"
     ]
    },
    {
     "name": "stdout",
     "output_type": "stream",
     "text": [
      "Epoch 6/9, current lr=0.005\n"
     ]
    },
    {
     "name": "stderr",
     "output_type": "stream",
     "text": [
      "Progress: 100%|██████████| 2835/2835 [09:04<00:00,  5.21it/s]\n",
      "Progress:   0%|          | 0/40 [00:00<?, ?it/s]WARNING:root:Only 108 Image will be uploaded.\n",
      "Progress:   2%|▎         | 1/40 [00:04<02:42,  4.17s/it]WARNING:root:Only 108 Image will be uploaded.\n",
      "Progress:   5%|▌         | 2/40 [00:07<02:26,  3.85s/it]WARNING:root:Only 108 Image will be uploaded.\n",
      "Progress:   8%|▊         | 3/40 [00:10<02:13,  3.62s/it]WARNING:root:Only 108 Image will be uploaded.\n",
      "Progress:  10%|█         | 4/40 [00:13<02:04,  3.46s/it]WARNING:root:Only 108 Image will be uploaded.\n",
      "Progress:  12%|█▎        | 5/40 [00:16<01:56,  3.33s/it]WARNING:root:Only 108 Image will be uploaded.\n",
      "Progress:  15%|█▌        | 6/40 [00:19<01:50,  3.26s/it]WARNING:root:Only 108 Image will be uploaded.\n",
      "Progress:  18%|█▊        | 7/40 [00:22<01:46,  3.22s/it]WARNING:root:Only 108 Image will be uploaded.\n",
      "Progress:  20%|██        | 8/40 [00:25<01:42,  3.21s/it]WARNING:root:Only 108 Image will be uploaded.\n",
      "Progress:  22%|██▎       | 9/40 [00:28<01:38,  3.18s/it]WARNING:root:Only 108 Image will be uploaded.\n",
      "Progress:  25%|██▌       | 10/40 [00:32<01:34,  3.15s/it]WARNING:root:Only 108 Image will be uploaded.\n",
      "Progress:  28%|██▊       | 11/40 [00:35<01:30,  3.14s/it]WARNING:root:Only 108 Image will be uploaded.\n",
      "Progress:  30%|███       | 12/40 [00:38<01:27,  3.12s/it]WARNING:root:Only 108 Image will be uploaded.\n",
      "Progress:  32%|███▎      | 13/40 [00:41<01:24,  3.12s/it]WARNING:root:Only 108 Image will be uploaded.\n",
      "Progress:  35%|███▌      | 14/40 [00:44<01:21,  3.15s/it]WARNING:root:Only 108 Image will be uploaded.\n",
      "Progress:  38%|███▊      | 15/40 [00:47<01:18,  3.14s/it]WARNING:root:Only 108 Image will be uploaded.\n",
      "Progress:  40%|████      | 16/40 [00:50<01:15,  3.13s/it]WARNING:root:Only 108 Image will be uploaded.\n",
      "Progress:  42%|████▎     | 17/40 [00:53<01:11,  3.09s/it]WARNING:root:Only 108 Image will be uploaded.\n",
      "Progress:  45%|████▌     | 18/40 [00:56<01:07,  3.08s/it]WARNING:root:Only 108 Image will be uploaded.\n",
      "Progress:  48%|████▊     | 19/40 [00:59<01:04,  3.07s/it]WARNING:root:Only 108 Image will be uploaded.\n",
      "Progress:  50%|█████     | 20/40 [01:03<01:01,  3.08s/it]WARNING:root:Only 108 Image will be uploaded.\n",
      "Progress:  52%|█████▎    | 21/40 [01:06<00:59,  3.12s/it]WARNING:root:Only 108 Image will be uploaded.\n",
      "Progress:  55%|█████▌    | 22/40 [01:09<00:56,  3.11s/it]WARNING:root:Only 108 Image will be uploaded.\n",
      "Progress:  57%|█████▊    | 23/40 [01:12<00:52,  3.10s/it]WARNING:root:Only 108 Image will be uploaded.\n",
      "Progress:  60%|██████    | 24/40 [01:15<00:49,  3.09s/it]WARNING:root:Only 108 Image will be uploaded.\n",
      "Progress:  62%|██████▎   | 25/40 [01:18<00:46,  3.07s/it]WARNING:root:Only 108 Image will be uploaded.\n",
      "Progress:  65%|██████▌   | 26/40 [01:21<00:42,  3.07s/it]WARNING:root:Only 108 Image will be uploaded.\n",
      "Progress:  68%|██████▊   | 27/40 [01:24<00:40,  3.08s/it]WARNING:root:Only 108 Image will be uploaded.\n",
      "Progress:  70%|███████   | 28/40 [01:27<00:37,  3.13s/it]WARNING:root:Only 108 Image will be uploaded.\n",
      "Progress:  72%|███████▎  | 29/40 [01:30<00:34,  3.10s/it]WARNING:root:Only 108 Image will be uploaded.\n",
      "Progress:  75%|███████▌  | 30/40 [01:34<00:31,  3.11s/it]WARNING:root:Only 108 Image will be uploaded.\n",
      "Progress:  78%|███████▊  | 31/40 [01:37<00:27,  3.09s/it]WARNING:root:Only 108 Image will be uploaded.\n",
      "Progress:  80%|████████  | 32/40 [01:40<00:24,  3.08s/it]WARNING:root:Only 108 Image will be uploaded.\n",
      "Progress:  82%|████████▎ | 33/40 [01:43<00:21,  3.07s/it]WARNING:root:Only 108 Image will be uploaded.\n",
      "Progress:  85%|████████▌ | 34/40 [01:46<00:18,  3.11s/it]WARNING:root:Only 108 Image will be uploaded.\n",
      "Progress:  88%|████████▊ | 35/40 [01:49<00:15,  3.10s/it]WARNING:root:Only 108 Image will be uploaded.\n",
      "Progress:  90%|█████████ | 36/40 [01:52<00:12,  3.10s/it]WARNING:root:Only 108 Image will be uploaded.\n",
      "Progress:  92%|█████████▎| 37/40 [01:55<00:09,  3.09s/it]WARNING:root:Only 108 Image will be uploaded.\n",
      "Progress:  95%|█████████▌| 38/40 [01:58<00:06,  3.08s/it]WARNING:root:Only 108 Image will be uploaded.\n",
      "Progress:  98%|█████████▊| 39/40 [02:01<00:03,  3.08s/it]WARNING:root:Only 108 Image will be uploaded.\n",
      "Progress: 100%|██████████| 40/40 [02:05<00:00,  3.13s/it]\n",
      "Progress:   0%|          | 0/2835 [00:00<?, ?it/s]"
     ]
    },
    {
     "name": "stdout",
     "output_type": "stream",
     "text": [
      "Copied best model weights!\n",
      "train loss: 40.961498, time: 9.07295\n",
      "val loss: 44.814716, time: 2.08885\n",
      "----------\n",
      "Epoch 7/9, current lr=0.005\n"
     ]
    },
    {
     "name": "stderr",
     "output_type": "stream",
     "text": [
      "Progress: 100%|██████████| 2835/2835 [09:07<00:00,  5.17it/s]\n",
      "Progress:   0%|          | 0/40 [00:00<?, ?it/s]WARNING:root:Only 108 Image will be uploaded.\n",
      "Progress:   2%|▎         | 1/40 [00:04<02:54,  4.48s/it]WARNING:root:Only 108 Image will be uploaded.\n",
      "Progress:   5%|▌         | 2/40 [00:07<02:38,  4.16s/it]WARNING:root:Only 108 Image will be uploaded.\n",
      "Progress:   8%|▊         | 3/40 [00:11<02:23,  3.88s/it]WARNING:root:Only 108 Image will be uploaded.\n",
      "Progress:  10%|█         | 4/40 [00:14<02:13,  3.70s/it]WARNING:root:Only 108 Image will be uploaded.\n",
      "Progress:  12%|█▎        | 5/40 [00:17<02:04,  3.56s/it]WARNING:root:Only 108 Image will be uploaded.\n",
      "Progress:  15%|█▌        | 6/40 [00:20<01:58,  3.49s/it]WARNING:root:Only 108 Image will be uploaded.\n",
      "Progress:  18%|█▊        | 7/40 [00:24<01:53,  3.43s/it]WARNING:root:Only 108 Image will be uploaded.\n",
      "Progress:  20%|██        | 8/40 [00:27<01:48,  3.39s/it]WARNING:root:Only 108 Image will be uploaded.\n",
      "Progress:  22%|██▎       | 9/40 [00:31<01:46,  3.44s/it]WARNING:root:Only 108 Image will be uploaded.\n",
      "Progress:  25%|██▌       | 10/40 [00:34<01:42,  3.43s/it]WARNING:root:Only 108 Image will be uploaded.\n",
      "Progress:  28%|██▊       | 11/40 [00:37<01:38,  3.39s/it]WARNING:root:Only 108 Image will be uploaded.\n",
      "Progress:  30%|███       | 12/40 [00:41<01:34,  3.39s/it]WARNING:root:Only 108 Image will be uploaded.\n",
      "Progress:  32%|███▎      | 13/40 [00:44<01:30,  3.37s/it]WARNING:root:Only 108 Image will be uploaded.\n",
      "Progress:  35%|███▌      | 14/40 [00:47<01:26,  3.34s/it]WARNING:root:Only 108 Image will be uploaded.\n",
      "Progress:  38%|███▊      | 15/40 [00:51<01:23,  3.33s/it]WARNING:root:Only 108 Image will be uploaded.\n",
      "Progress:  40%|████      | 16/40 [00:54<01:21,  3.38s/it]WARNING:root:Only 108 Image will be uploaded.\n",
      "Progress:  42%|████▎     | 17/40 [00:57<01:17,  3.35s/it]WARNING:root:Only 108 Image will be uploaded.\n",
      "Progress:  45%|████▌     | 18/40 [01:01<01:13,  3.34s/it]WARNING:root:Only 108 Image will be uploaded.\n",
      "Progress:  48%|████▊     | 19/40 [01:04<01:09,  3.32s/it]WARNING:root:Only 108 Image will be uploaded.\n",
      "Progress:  50%|█████     | 20/40 [01:07<01:06,  3.31s/it]WARNING:root:Only 108 Image will be uploaded.\n",
      "Progress:  52%|█████▎    | 21/40 [01:11<01:02,  3.31s/it]WARNING:root:Only 108 Image will be uploaded.\n",
      "Progress:  55%|█████▌    | 22/40 [01:14<00:59,  3.33s/it]WARNING:root:Only 108 Image will be uploaded.\n",
      "Progress:  57%|█████▊    | 23/40 [01:17<00:57,  3.35s/it]WARNING:root:Only 108 Image will be uploaded.\n",
      "Progress:  60%|██████    | 24/40 [01:21<00:53,  3.33s/it]WARNING:root:Only 108 Image will be uploaded.\n",
      "Progress:  62%|██████▎   | 25/40 [01:24<00:49,  3.31s/it]WARNING:root:Only 108 Image will be uploaded.\n",
      "Progress:  65%|██████▌   | 26/40 [01:27<00:46,  3.30s/it]WARNING:root:Only 108 Image will be uploaded.\n",
      "Progress:  68%|██████▊   | 27/40 [01:30<00:42,  3.30s/it]WARNING:root:Only 108 Image will be uploaded.\n",
      "Progress:  70%|███████   | 28/40 [01:34<00:39,  3.29s/it]WARNING:root:Only 108 Image will be uploaded.\n",
      "Progress:  72%|███████▎  | 29/40 [01:37<00:36,  3.29s/it]WARNING:root:Only 108 Image will be uploaded.\n",
      "Progress:  75%|███████▌  | 30/40 [01:40<00:33,  3.33s/it]WARNING:root:Only 108 Image will be uploaded.\n",
      "Progress:  78%|███████▊  | 31/40 [01:44<00:29,  3.33s/it]WARNING:root:Only 108 Image will be uploaded.\n",
      "Progress:  80%|████████  | 32/40 [01:47<00:26,  3.33s/it]WARNING:root:Only 108 Image will be uploaded.\n",
      "Progress:  82%|████████▎ | 33/40 [01:50<00:23,  3.31s/it]WARNING:root:Only 108 Image will be uploaded.\n",
      "Progress:  85%|████████▌ | 34/40 [01:54<00:19,  3.29s/it]WARNING:root:Only 108 Image will be uploaded.\n",
      "Progress:  88%|████████▊ | 35/40 [01:57<00:16,  3.31s/it]WARNING:root:Only 108 Image will be uploaded.\n",
      "Progress:  90%|█████████ | 36/40 [02:00<00:13,  3.30s/it]WARNING:root:Only 108 Image will be uploaded.\n",
      "Progress:  92%|█████████▎| 37/40 [02:04<00:10,  3.36s/it]WARNING:root:Only 108 Image will be uploaded.\n",
      "Progress:  95%|█████████▌| 38/40 [02:07<00:06,  3.33s/it]WARNING:root:Only 108 Image will be uploaded.\n",
      "Progress:  98%|█████████▊| 39/40 [02:10<00:03,  3.31s/it]WARNING:root:Only 108 Image will be uploaded.\n",
      "Progress: 100%|██████████| 40/40 [02:14<00:00,  3.36s/it]\n",
      "Progress:   0%|          | 0/2835 [00:00<?, ?it/s]"
     ]
    },
    {
     "name": "stdout",
     "output_type": "stream",
     "text": [
      "train loss: 39.211796, time: 9.13127\n",
      "val loss: 53.872791, time: 2.24500\n",
      "----------\n",
      "Epoch 8/9, current lr=0.005\n"
     ]
    },
    {
     "name": "stderr",
     "output_type": "stream",
     "text": [
      "Progress: 100%|██████████| 2835/2835 [09:10<00:00,  5.15it/s]\n",
      "Progress:   0%|          | 0/40 [00:00<?, ?it/s]WARNING:root:Only 108 Image will be uploaded.\n",
      "Progress:   2%|▎         | 1/40 [00:04<03:12,  4.93s/it]WARNING:root:Only 108 Image will be uploaded.\n",
      "Progress:   5%|▌         | 2/40 [00:08<02:52,  4.55s/it]WARNING:root:Only 108 Image will be uploaded.\n",
      "Progress:   8%|▊         | 3/40 [00:12<02:36,  4.23s/it]WARNING:root:Only 108 Image will be uploaded.\n",
      "Progress:  10%|█         | 4/40 [00:15<02:24,  4.02s/it]WARNING:root:Only 108 Image will be uploaded.\n",
      "Progress:  12%|█▎        | 5/40 [00:19<02:14,  3.85s/it]WARNING:root:Only 108 Image will be uploaded.\n",
      "Progress:  15%|█▌        | 6/40 [00:22<02:06,  3.73s/it]WARNING:root:Only 108 Image will be uploaded.\n",
      "Progress:  18%|█▊        | 7/40 [00:26<02:01,  3.67s/it]WARNING:root:Only 108 Image will be uploaded.\n",
      "Progress:  20%|██        | 8/40 [00:29<01:58,  3.70s/it]WARNING:root:Only 108 Image will be uploaded.\n",
      "Progress:  22%|██▎       | 9/40 [00:33<01:52,  3.64s/it]WARNING:root:Only 108 Image will be uploaded.\n",
      "Progress:  25%|██▌       | 10/40 [00:36<01:48,  3.60s/it]WARNING:root:Only 108 Image will be uploaded.\n",
      "Progress:  28%|██▊       | 11/40 [00:40<01:43,  3.57s/it]WARNING:root:Only 108 Image will be uploaded.\n",
      "Progress:  30%|███       | 12/40 [00:43<01:39,  3.56s/it]WARNING:root:Only 108 Image will be uploaded.\n",
      "Progress:  32%|███▎      | 13/40 [00:47<01:35,  3.55s/it]WARNING:root:Only 108 Image will be uploaded.\n",
      "Progress:  35%|███▌      | 14/40 [00:50<01:32,  3.55s/it]WARNING:root:Only 108 Image will be uploaded.\n",
      "Progress:  38%|███▊      | 15/40 [00:54<01:29,  3.58s/it]WARNING:root:Only 108 Image will be uploaded.\n",
      "Progress:  40%|████      | 16/40 [00:58<01:25,  3.55s/it]WARNING:root:Only 108 Image will be uploaded.\n",
      "Progress:  42%|████▎     | 17/40 [01:01<01:21,  3.53s/it]WARNING:root:Only 108 Image will be uploaded.\n",
      "Progress:  45%|████▌     | 18/40 [01:05<01:17,  3.53s/it]WARNING:root:Only 108 Image will be uploaded.\n",
      "Progress:  48%|████▊     | 19/40 [01:08<01:13,  3.51s/it]WARNING:root:Only 108 Image will be uploaded.\n",
      "Progress:  50%|█████     | 20/40 [01:12<01:10,  3.51s/it]WARNING:root:Only 108 Image will be uploaded.\n",
      "Progress:  52%|█████▎    | 21/40 [01:15<01:06,  3.51s/it]WARNING:root:Only 108 Image will be uploaded.\n",
      "Progress:  55%|█████▌    | 22/40 [01:19<01:04,  3.58s/it]WARNING:root:Only 108 Image will be uploaded.\n",
      "Progress:  57%|█████▊    | 23/40 [01:22<01:00,  3.56s/it]WARNING:root:Only 108 Image will be uploaded.\n",
      "Progress:  60%|██████    | 24/40 [01:26<00:56,  3.56s/it]WARNING:root:Only 108 Image will be uploaded.\n",
      "Progress:  62%|██████▎   | 25/40 [01:29<00:52,  3.53s/it]WARNING:root:Only 108 Image will be uploaded.\n",
      "Progress:  65%|██████▌   | 26/40 [01:33<00:49,  3.53s/it]WARNING:root:Only 108 Image will be uploaded.\n",
      "Progress:  68%|██████▊   | 27/40 [01:36<00:45,  3.52s/it]WARNING:root:Only 108 Image will be uploaded.\n",
      "Progress:  70%|███████   | 28/40 [01:40<00:42,  3.52s/it]WARNING:root:Only 108 Image will be uploaded.\n",
      "Progress:  72%|███████▎  | 29/40 [01:43<00:38,  3.53s/it]WARNING:root:Only 108 Image will be uploaded.\n",
      "Progress:  75%|███████▌  | 30/40 [01:47<00:35,  3.57s/it]WARNING:root:Only 108 Image will be uploaded.\n",
      "Progress:  78%|███████▊  | 31/40 [01:51<00:31,  3.55s/it]WARNING:root:Only 108 Image will be uploaded.\n",
      "Progress:  80%|████████  | 32/40 [01:54<00:28,  3.53s/it]WARNING:root:Only 108 Image will be uploaded.\n",
      "Progress:  82%|████████▎ | 33/40 [01:57<00:24,  3.50s/it]WARNING:root:Only 108 Image will be uploaded.\n",
      "Progress:  85%|████████▌ | 34/40 [02:01<00:20,  3.49s/it]WARNING:root:Only 108 Image will be uploaded.\n",
      "Progress:  88%|████████▊ | 35/40 [02:04<00:17,  3.50s/it]WARNING:root:Only 108 Image will be uploaded.\n",
      "Progress:  90%|█████████ | 36/40 [02:08<00:14,  3.51s/it]WARNING:root:Only 108 Image will be uploaded.\n",
      "Progress:  92%|█████████▎| 37/40 [02:12<00:10,  3.54s/it]WARNING:root:Only 108 Image will be uploaded.\n",
      "Progress:  95%|█████████▌| 38/40 [02:15<00:07,  3.55s/it]WARNING:root:Only 108 Image will be uploaded.\n",
      "Progress:  98%|█████████▊| 39/40 [02:19<00:03,  3.54s/it]WARNING:root:Only 108 Image will be uploaded.\n",
      "Progress: 100%|██████████| 40/40 [02:23<00:00,  3.58s/it]\n",
      "Progress:   0%|          | 0/2835 [00:00<?, ?it/s]"
     ]
    },
    {
     "name": "stdout",
     "output_type": "stream",
     "text": [
      "train loss: 38.175556, time: 9.16875\n",
      "val loss: 90.192772, time: 2.39201\n",
      "----------\n",
      "Epoch 9/9, current lr=0.005\n"
     ]
    },
    {
     "name": "stderr",
     "output_type": "stream",
     "text": [
      "Progress: 100%|██████████| 2835/2835 [09:11<00:00,  5.14it/s]\n",
      "Progress:   0%|          | 0/40 [00:00<?, ?it/s]WARNING:root:Only 108 Image will be uploaded.\n",
      "Progress:   2%|▎         | 1/40 [00:05<03:34,  5.51s/it]WARNING:root:Only 108 Image will be uploaded.\n",
      "Progress:   5%|▌         | 2/40 [00:09<03:09,  4.98s/it]WARNING:root:Only 108 Image will be uploaded.\n",
      "Progress:   8%|▊         | 3/40 [00:12<02:50,  4.61s/it]WARNING:root:Only 108 Image will be uploaded.\n",
      "Progress:  10%|█         | 4/40 [00:16<02:37,  4.37s/it]WARNING:root:Only 108 Image will be uploaded.\n",
      "Progress:  12%|█▎        | 5/40 [00:20<02:27,  4.20s/it]WARNING:root:Only 108 Image will be uploaded.\n",
      "Progress:  15%|█▌        | 6/40 [00:24<02:17,  4.05s/it]WARNING:root:Only 108 Image will be uploaded.\n",
      "Progress:  18%|█▊        | 7/40 [00:28<02:11,  3.99s/it]WARNING:root:Only 108 Image will be uploaded.\n",
      "Progress:  20%|██        | 8/40 [00:31<02:05,  3.92s/it]WARNING:root:Only 108 Image will be uploaded.\n",
      "Progress:  22%|██▎       | 9/40 [00:35<02:02,  3.94s/it]WARNING:root:Only 108 Image will be uploaded.\n",
      "Progress:  25%|██▌       | 10/40 [00:39<01:57,  3.90s/it]WARNING:root:Only 108 Image will be uploaded.\n",
      "Progress:  28%|██▊       | 11/40 [00:43<01:52,  3.88s/it]WARNING:root:Only 108 Image will be uploaded.\n",
      "Progress:  30%|███       | 12/40 [00:47<01:47,  3.84s/it]WARNING:root:Only 108 Image will be uploaded.\n",
      "Progress:  32%|███▎      | 13/40 [00:51<01:43,  3.83s/it]WARNING:root:Only 108 Image will be uploaded.\n",
      "Progress:  35%|███▌      | 14/40 [00:54<01:39,  3.82s/it]WARNING:root:Only 108 Image will be uploaded.\n",
      "Progress:  38%|███▊      | 15/40 [00:58<01:35,  3.81s/it]WARNING:root:Only 108 Image will be uploaded.\n",
      "Progress:  40%|████      | 16/40 [01:02<01:33,  3.89s/it]WARNING:root:Only 108 Image will be uploaded.\n",
      "Progress:  42%|████▎     | 17/40 [01:06<01:28,  3.84s/it]WARNING:root:Only 108 Image will be uploaded.\n",
      "Progress:  45%|████▌     | 18/40 [01:10<01:24,  3.83s/it]WARNING:root:Only 108 Image will be uploaded.\n",
      "Progress:  48%|████▊     | 19/40 [01:14<01:19,  3.81s/it]WARNING:root:Only 108 Image will be uploaded.\n",
      "Progress:  50%|█████     | 20/40 [01:17<01:15,  3.77s/it]WARNING:root:Only 108 Image will be uploaded.\n",
      "Progress:  52%|█████▎    | 21/40 [01:21<01:11,  3.78s/it]WARNING:root:Only 108 Image will be uploaded.\n",
      "Progress:  55%|█████▌    | 22/40 [01:25<01:07,  3.77s/it]WARNING:root:Only 108 Image will be uploaded.\n",
      "Progress:  57%|█████▊    | 23/40 [01:29<01:04,  3.78s/it]WARNING:root:Only 108 Image will be uploaded.\n",
      "Progress:  60%|██████    | 24/40 [01:32<01:00,  3.78s/it]WARNING:root:Only 108 Image will be uploaded.\n",
      "Progress:  62%|██████▎   | 25/40 [01:36<00:57,  3.85s/it]WARNING:root:Only 108 Image will be uploaded.\n",
      "Progress:  65%|██████▌   | 26/40 [01:40<00:53,  3.82s/it]WARNING:root:Only 108 Image will be uploaded.\n",
      "Progress:  68%|██████▊   | 27/40 [01:44<00:49,  3.78s/it]WARNING:root:Only 108 Image will be uploaded.\n",
      "Progress:  70%|███████   | 28/40 [01:48<00:45,  3.77s/it]WARNING:root:Only 108 Image will be uploaded.\n",
      "Progress:  72%|███████▎  | 29/40 [01:51<00:41,  3.77s/it]WARNING:root:Only 108 Image will be uploaded.\n",
      "Progress:  75%|███████▌  | 30/40 [01:55<00:37,  3.77s/it]WARNING:root:Only 108 Image will be uploaded.\n",
      "Progress:  78%|███████▊  | 31/40 [01:59<00:33,  3.77s/it]WARNING:root:Only 108 Image will be uploaded.\n",
      "Progress:  80%|████████  | 32/40 [02:03<00:30,  3.77s/it]WARNING:root:Only 108 Image will be uploaded.\n",
      "Progress:  82%|████████▎ | 33/40 [02:07<00:26,  3.83s/it]WARNING:root:Only 108 Image will be uploaded.\n",
      "Progress:  85%|████████▌ | 34/40 [02:10<00:22,  3.82s/it]WARNING:root:Only 108 Image will be uploaded.\n",
      "Progress:  88%|████████▊ | 35/40 [02:14<00:19,  3.81s/it]WARNING:root:Only 108 Image will be uploaded.\n",
      "Progress:  90%|█████████ | 36/40 [02:18<00:15,  3.80s/it]WARNING:root:Only 108 Image will be uploaded.\n",
      "Progress:  92%|█████████▎| 37/40 [02:22<00:11,  3.80s/it]WARNING:root:Only 108 Image will be uploaded.\n",
      "Progress:  95%|█████████▌| 38/40 [02:26<00:07,  3.80s/it]WARNING:root:Only 108 Image will be uploaded.\n",
      "Progress:  98%|█████████▊| 39/40 [02:30<00:03,  3.85s/it]WARNING:root:Only 108 Image will be uploaded.\n",
      "Progress: 100%|██████████| 40/40 [02:34<00:00,  3.86s/it]\n"
     ]
    },
    {
     "name": "stdout",
     "output_type": "stream",
     "text": [
      "Copied best model weights!\n",
      "train loss: 37.124100, time: 9.19962\n",
      "val loss: 42.998741, time: 2.58163\n",
      "----------\n"
     ]
    }
   ],
   "source": [
    "model, performance = pipeline.train_val()"
   ]
  },
  {
   "cell_type": "code",
   "execution_count": 18,
   "metadata": {},
   "outputs": [],
   "source": [
    "loss_hist, metrics_history = performance.loss_history, performance.metrics_history\n",
    "train_hist = torch.stack(metrics_history[\"train\"])\n",
    "val_hist = torch.stack(metrics_history[\"val\"])"
   ]
  },
  {
   "cell_type": "code",
   "execution_count": 20,
   "metadata": {},
   "outputs": [
    {
     "data": {
      "image/png": "[encoded data removed]",
      "text/plain": [
       "<Figure size 432x288 with 1 Axes>"
      ]
     },
     "metadata": {
      "needs_background": "light"
     },
     "output_type": "display_data"
    }
   ],
   "source": [
    "# Train-Validation Progress\n",
    "\n",
    "# plot loss progress\n",
    "plt.title(\"Loss\")\n",
    "plt.plot(range(1,5),loss_hist[\"train\"],label=\"train\")\n",
    "plt.plot(range(1,5),loss_hist[\"val\"],label=\"val\")\n",
    "plt.ylabel(\"Loss\")\n",
    "plt.xlabel(\"Training Epochs\")\n",
    "plt.legend()\n",
    "plt.show()"
   ]
  },
  {
   "cell_type": "code",
   "execution_count": 21,
   "metadata": {},
   "outputs": [
    {
     "data": {
      "image/png": "[encoded data removed]",
      "text/plain": [
       "<Figure size 432x288 with 1 Axes>"
      ]
     },
     "metadata": {
      "needs_background": "light"
     },
     "output_type": "display_data"
    }
   ],
   "source": [
    "# plot accuracy progress\n",
    "plt.title(\"Gender accuracy\")\n",
    "plt.plot(range(1,5),train_hist[:,0], label=\"train\")\n",
    "plt.plot(range(1,5),val_hist[:,0],label=\"val\")\n",
    "plt.ylabel(\"Acc\")\n",
    "plt.xlabel(\"Training Epochs\")\n",
    "plt.legend()\n",
    "plt.show()"
   ]
  },
  {
   "cell_type": "code",
   "execution_count": 22,
   "metadata": {},
   "outputs": [
    {
     "data": {
      "image/png": "[encoded data removed]",
      "text/plain": [
       "<Figure size 432x288 with 1 Axes>"
      ]
     },
     "metadata": {
      "needs_background": "light"
     },
     "output_type": "display_data"
    }
   ],
   "source": [
    "# plot accuracy progress\n",
    "plt.title(\"Age MAE\")\n",
    "plt.plot(range(1,5),train_hist[:,1], label=\"train\")\n",
    "plt.plot(range(1,5),val_hist[:,1],label=\"val\")\n",
    "plt.ylabel(\"MAE\")\n",
    "plt.xlabel(\"Training Epochs\")\n",
    "plt.legend()\n",
    "plt.show()"
   ]
  },
  {
   "cell_type": "markdown",
   "metadata": {},
   "source": [
    "# Testing"
   ]
  },
  {
   "cell_type": "code",
   "execution_count": 24,
   "metadata": {
    "scrolled": true
   },
   "outputs": [],
   "source": [
    "run_dir = \"../models/exp_2020_12_11-09_27_13\"\n",
    "\n",
    "performance = CustomPerformance()\n",
    "\n",
    "path2models= os.path.join(run_dir, 'best_checkpoints.bin')\n",
    "params = experiment.Prams(num_epochs=wandb.config.epochs, path2weights=path2models, device=device, optimizer=opt, lr_scheduler=lr_scheduler, sanity_check=False)\n",
    "\n",
    "best_pipeline = CustomPipeline(model, train_dl, val_dl, performance, params)\n",
    "\n",
    "best_pipeline.load(path2models)\n",
    "\n",
    "best_model = best_pipeline.model"
   ]
  },
  {
   "cell_type": "code",
   "execution_count": 25,
   "metadata": {},
   "outputs": [],
   "source": [
    "test_ds = CustomFaceDataset(path2data + \"all/testing.csv\", get_val_transforms(), None)"
   ]
  },
  {
   "cell_type": "code",
   "execution_count": 26,
   "metadata": {},
   "outputs": [],
   "source": [
    "test_dl = DataLoader(test_ds, batch_size = 256, num_workers = 4, shuffle=False)"
   ]
  },
  {
   "cell_type": "code",
   "execution_count": 27,
   "metadata": {},
   "outputs": [
    {
     "name": "stderr",
     "output_type": "stream",
     "text": [
      "Progress: 100%|██████████| 40/40 [00:07<00:00,  5.09it/s]\n"
     ]
    }
   ],
   "source": [
    "loss_test, metrics_test = best_pipeline.test(test_dl)"
   ]
  },
  {
   "cell_type": "code",
   "execution_count": 28,
   "metadata": {},
   "outputs": [
    {
     "name": "stdout",
     "output_type": "stream",
     "text": [
      "tensor(0.8382)\n",
      "tensor(0.8292)\n",
      "tensor(0.8044)\n"
     ]
    }
   ],
   "source": [
    "# Gender Accuracy\n",
    "print(max(train_hist[:,0]))\n",
    "print(max(val_hist[:,0]))\n",
    "print(metrics_test[0])"
   ]
  },
  {
   "cell_type": "code",
   "execution_count": 29,
   "metadata": {},
   "outputs": [
    {
     "name": "stdout",
     "output_type": "stream",
     "text": [
      "tensor(4.4672)\n",
      "tensor(4.7495)\n",
      "tensor(4.7315)\n"
     ]
    }
   ],
   "source": [
    "# Age MAE\n",
    "print(min(train_hist[:,1]))\n",
    "print(min(val_hist[:,1]))\n",
    "print(metrics_test[1])"
   ]
  },
  {
   "cell_type": "code",
   "execution_count": 30,
   "metadata": {},
   "outputs": [
    {
     "name": "stdout",
     "output_type": "stream",
     "text": [
      "tensor(37.1241, device='cuda:0', grad_fn=<DivBackward0>)\n",
      "tensor(42.9987, device='cuda:0')\n",
      "tensor(42.7166, device='cuda:0')\n"
     ]
    }
   ],
   "source": [
    "# Loss\n",
    "print(min(loss_hist[\"train\"]))\n",
    "print(min(loss_hist[\"val\"]))\n",
    "print(loss_test)"
   ]
  },
  {
   "cell_type": "code",
   "execution_count": 31,
   "metadata": {},
   "outputs": [
    {
     "name": "stdout",
     "output_type": "stream",
     "text": [
      "----------------------------------------------------------------\n",
      "        Layer (type)               Output Shape         Param #\n",
      "================================================================\n",
      "            Conv2d-1         [-1, 16, 112, 112]             432\n",
      "            Conv2d-2         [-1, 16, 112, 112]             432\n",
      "       BatchNorm2d-3         [-1, 16, 112, 112]              32\n",
      "              ReLU-4         [-1, 16, 112, 112]               0\n",
      "       BatchNorm2d-5         [-1, 16, 112, 112]              32\n",
      "            Conv2d-6         [-1, 16, 112, 112]             144\n",
      "       BatchNorm2d-7         [-1, 16, 112, 112]              32\n",
      "              ReLU-8         [-1, 16, 112, 112]               0\n",
      "              ReLU-9         [-1, 16, 112, 112]               0\n",
      "           Conv2d-10         [-1, 16, 112, 112]             144\n",
      "           Conv2d-11         [-1, 16, 112, 112]             256\n",
      "      BatchNorm2d-12         [-1, 16, 112, 112]              32\n",
      "      BatchNorm2d-13         [-1, 16, 112, 112]              32\n",
      "             ReLU-14         [-1, 16, 112, 112]               0\n",
      "         Identity-15         [-1, 16, 112, 112]               0\n",
      "           Conv2d-16         [-1, 16, 112, 112]             256\n",
      "DepthwiseSeparableConv-17         [-1, 16, 112, 112]               0\n",
      "      BatchNorm2d-18         [-1, 16, 112, 112]              32\n",
      "           Conv2d-19         [-1, 48, 112, 112]             384\n",
      "         Identity-20         [-1, 16, 112, 112]               0\n",
      "DepthwiseSeparableConv-21         [-1, 16, 112, 112]               0\n",
      "           Conv2d-22         [-1, 48, 112, 112]             384\n",
      "      MixedConv2d-23         [-1, 96, 112, 112]               0\n",
      "           Conv2d-24         [-1, 48, 112, 112]             384\n",
      "      BatchNorm2d-25         [-1, 96, 112, 112]             192\n",
      "           Conv2d-26         [-1, 48, 112, 112]             384\n",
      "             ReLU-27         [-1, 96, 112, 112]               0\n",
      "      MixedConv2d-28         [-1, 96, 112, 112]               0\n",
      "           Conv2d-29           [-1, 96, 56, 56]             864\n",
      "      BatchNorm2d-30         [-1, 96, 112, 112]             192\n",
      "      BatchNorm2d-31           [-1, 96, 56, 56]             192\n",
      "             ReLU-32         [-1, 96, 112, 112]               0\n",
      "           Conv2d-33           [-1, 96, 56, 56]             864\n",
      "             ReLU-34           [-1, 96, 56, 56]               0\n",
      "      BatchNorm2d-35           [-1, 96, 56, 56]             192\n",
      "           Conv2d-36           [-1, 12, 56, 56]             576\n",
      "             ReLU-37           [-1, 96, 56, 56]               0\n",
      "           Conv2d-38           [-1, 12, 56, 56]             576\n",
      "      MixedConv2d-39           [-1, 24, 56, 56]               0\n",
      "           Conv2d-40           [-1, 12, 56, 56]             576\n",
      "      BatchNorm2d-41           [-1, 24, 56, 56]              48\n",
      "           Conv2d-42           [-1, 12, 56, 56]             576\n",
      " InvertedResidual-43           [-1, 24, 56, 56]               0\n",
      "      MixedConv2d-44           [-1, 24, 56, 56]               0\n",
      "           Conv2d-45           [-1, 36, 56, 56]             432\n",
      "      BatchNorm2d-46           [-1, 24, 56, 56]              48\n",
      " InvertedResidual-47           [-1, 24, 56, 56]               0\n",
      "           Conv2d-48           [-1, 36, 56, 56]             432\n",
      "      MixedConv2d-49           [-1, 72, 56, 56]               0\n",
      "           Conv2d-50           [-1, 36, 56, 56]             432\n",
      "      BatchNorm2d-51           [-1, 72, 56, 56]             144\n",
      "           Conv2d-52           [-1, 36, 56, 56]             432\n",
      "             ReLU-53           [-1, 72, 56, 56]               0\n",
      "      MixedConv2d-54           [-1, 72, 56, 56]               0\n",
      "           Conv2d-55           [-1, 72, 56, 56]             648\n",
      "      BatchNorm2d-56           [-1, 72, 56, 56]             144\n",
      "      BatchNorm2d-57           [-1, 72, 56, 56]             144\n",
      "             ReLU-58           [-1, 72, 56, 56]               0\n",
      "           Conv2d-59           [-1, 72, 56, 56]             648\n",
      "             ReLU-60           [-1, 72, 56, 56]               0\n",
      "      BatchNorm2d-61           [-1, 72, 56, 56]             144\n",
      "           Conv2d-62           [-1, 12, 56, 56]             432\n",
      "             ReLU-63           [-1, 72, 56, 56]               0\n",
      "           Conv2d-64           [-1, 12, 56, 56]             432\n",
      "      MixedConv2d-65           [-1, 24, 56, 56]               0\n",
      "           Conv2d-66           [-1, 12, 56, 56]             432\n",
      "      BatchNorm2d-67           [-1, 24, 56, 56]              48\n",
      "           Conv2d-68           [-1, 12, 56, 56]             432\n",
      " InvertedResidual-69           [-1, 24, 56, 56]               0\n",
      "      MixedConv2d-70           [-1, 24, 56, 56]               0\n",
      "           Conv2d-71          [-1, 144, 56, 56]           3,456\n",
      "      BatchNorm2d-72           [-1, 24, 56, 56]              48\n",
      " InvertedResidual-73           [-1, 24, 56, 56]               0\n",
      "      BatchNorm2d-74          [-1, 144, 56, 56]             288\n",
      "           Conv2d-75          [-1, 144, 56, 56]           3,456\n",
      "             SiLU-76          [-1, 144, 56, 56]               0\n",
      "      BatchNorm2d-77          [-1, 144, 56, 56]             288\n",
      "           Conv2d-78           [-1, 48, 28, 28]             432\n",
      "             SiLU-79          [-1, 144, 56, 56]               0\n",
      "           Conv2d-80           [-1, 48, 28, 28]           1,200\n",
      "           Conv2d-81           [-1, 48, 28, 28]             432\n",
      "           Conv2d-82           [-1, 48, 28, 28]           2,352\n",
      "           Conv2d-83           [-1, 48, 28, 28]           1,200\n",
      "      MixedConv2d-84          [-1, 144, 28, 28]               0\n",
      "      BatchNorm2d-85          [-1, 144, 28, 28]             288\n",
      "           Conv2d-86           [-1, 48, 28, 28]           2,352\n",
      "      MixedConv2d-87          [-1, 144, 28, 28]               0\n",
      "             SiLU-88          [-1, 144, 28, 28]               0\n",
      "      BatchNorm2d-89          [-1, 144, 28, 28]             288\n",
      "             SiLU-90          [-1, 144, 28, 28]               0\n",
      "           Conv2d-91             [-1, 12, 1, 1]           1,740\n",
      "           Conv2d-92             [-1, 12, 1, 1]           1,740\n",
      "             SiLU-93             [-1, 12, 1, 1]               0\n",
      "             SiLU-94             [-1, 12, 1, 1]               0\n",
      "           Conv2d-95            [-1, 144, 1, 1]           1,872\n",
      "           Conv2d-96            [-1, 144, 1, 1]           1,872\n",
      "    SqueezeExcite-97          [-1, 144, 28, 28]               0\n",
      "    SqueezeExcite-98          [-1, 144, 28, 28]               0\n",
      "           Conv2d-99           [-1, 40, 28, 28]           5,760\n",
      "          Conv2d-100           [-1, 40, 28, 28]           5,760\n",
      "     BatchNorm2d-101           [-1, 40, 28, 28]              80\n",
      "     BatchNorm2d-102           [-1, 40, 28, 28]              80\n",
      "InvertedResidual-103           [-1, 40, 28, 28]               0\n",
      "InvertedResidual-104           [-1, 40, 28, 28]               0\n",
      "          Conv2d-105          [-1, 120, 28, 28]           2,400\n",
      "          Conv2d-106          [-1, 120, 28, 28]           2,400\n",
      "          Conv2d-107          [-1, 120, 28, 28]           2,400\n",
      "          Conv2d-108          [-1, 120, 28, 28]           2,400\n",
      "     MixedConv2d-109          [-1, 240, 28, 28]               0\n",
      "     MixedConv2d-110          [-1, 240, 28, 28]               0\n",
      "     BatchNorm2d-111          [-1, 240, 28, 28]             480\n",
      "     BatchNorm2d-112          [-1, 240, 28, 28]             480\n",
      "            SiLU-113          [-1, 240, 28, 28]               0\n",
      "            SiLU-114          [-1, 240, 28, 28]               0\n",
      "          Conv2d-115          [-1, 120, 28, 28]           1,080\n",
      "          Conv2d-116          [-1, 120, 28, 28]           1,080\n",
      "          Conv2d-117          [-1, 120, 28, 28]           3,000\n",
      "          Conv2d-118          [-1, 120, 28, 28]           3,000\n",
      "     MixedConv2d-119          [-1, 240, 28, 28]               0\n",
      "     MixedConv2d-120          [-1, 240, 28, 28]               0\n",
      "     BatchNorm2d-121          [-1, 240, 28, 28]             480\n",
      "     BatchNorm2d-122          [-1, 240, 28, 28]             480\n",
      "            SiLU-123          [-1, 240, 28, 28]               0\n",
      "            SiLU-124          [-1, 240, 28, 28]               0\n",
      "          Conv2d-125             [-1, 20, 1, 1]           4,820\n",
      "          Conv2d-126             [-1, 20, 1, 1]           4,820\n",
      "            SiLU-127             [-1, 20, 1, 1]               0\n",
      "            SiLU-128             [-1, 20, 1, 1]               0\n",
      "          Conv2d-129            [-1, 240, 1, 1]           5,040\n",
      "          Conv2d-130            [-1, 240, 1, 1]           5,040\n",
      "   SqueezeExcite-131          [-1, 240, 28, 28]               0\n",
      "   SqueezeExcite-132          [-1, 240, 28, 28]               0\n",
      "          Conv2d-133           [-1, 20, 28, 28]           2,400\n",
      "          Conv2d-134           [-1, 20, 28, 28]           2,400\n",
      "          Conv2d-135           [-1, 20, 28, 28]           2,400\n",
      "          Conv2d-136           [-1, 20, 28, 28]           2,400\n",
      "     MixedConv2d-137           [-1, 40, 28, 28]               0\n",
      "     MixedConv2d-138           [-1, 40, 28, 28]               0\n",
      "     BatchNorm2d-139           [-1, 40, 28, 28]              80\n",
      "     BatchNorm2d-140           [-1, 40, 28, 28]              80\n",
      "InvertedResidual-141           [-1, 40, 28, 28]               0\n",
      "InvertedResidual-142           [-1, 40, 28, 28]               0\n",
      "          Conv2d-143          [-1, 120, 28, 28]           2,400\n",
      "          Conv2d-144          [-1, 120, 28, 28]           2,400\n",
      "          Conv2d-145          [-1, 120, 28, 28]           2,400\n",
      "     MixedConv2d-146          [-1, 240, 28, 28]               0\n",
      "     BatchNorm2d-147          [-1, 240, 28, 28]             480\n",
      "            SiLU-148          [-1, 240, 28, 28]               0\n",
      "          Conv2d-149          [-1, 120, 28, 28]           1,080\n",
      "          Conv2d-150          [-1, 120, 28, 28]           2,400\n",
      "          Conv2d-151          [-1, 120, 28, 28]           3,000\n",
      "     MixedConv2d-152          [-1, 240, 28, 28]               0\n",
      "     MixedConv2d-153          [-1, 240, 28, 28]               0\n",
      "     BatchNorm2d-154          [-1, 240, 28, 28]             480\n",
      "     BatchNorm2d-155          [-1, 240, 28, 28]             480\n",
      "            SiLU-156          [-1, 240, 28, 28]               0\n",
      "          Conv2d-157             [-1, 20, 1, 1]           4,820\n",
      "            SiLU-158          [-1, 240, 28, 28]               0\n",
      "            SiLU-159             [-1, 20, 1, 1]               0\n",
      "          Conv2d-160            [-1, 240, 1, 1]           5,040\n",
      "          Conv2d-161          [-1, 120, 28, 28]           1,080\n",
      "   SqueezeExcite-162          [-1, 240, 28, 28]               0\n",
      "          Conv2d-163           [-1, 20, 28, 28]           2,400\n",
      "          Conv2d-164          [-1, 120, 28, 28]           3,000\n",
      "          Conv2d-165           [-1, 20, 28, 28]           2,400\n",
      "     MixedConv2d-166           [-1, 40, 28, 28]               0\n",
      "     MixedConv2d-167          [-1, 240, 28, 28]               0\n",
      "     BatchNorm2d-168           [-1, 40, 28, 28]              80\n",
      "InvertedResidual-169           [-1, 40, 28, 28]               0\n",
      "     BatchNorm2d-170          [-1, 240, 28, 28]             480\n",
      "          Conv2d-171          [-1, 120, 28, 28]           2,400\n",
      "          Conv2d-172          [-1, 120, 28, 28]           2,400\n",
      "            SiLU-173          [-1, 240, 28, 28]               0\n",
      "     MixedConv2d-174          [-1, 240, 28, 28]               0\n",
      "     BatchNorm2d-175          [-1, 240, 28, 28]             480\n",
      "            SiLU-176          [-1, 240, 28, 28]               0\n",
      "          Conv2d-177          [-1, 120, 28, 28]           1,080\n",
      "          Conv2d-178             [-1, 20, 1, 1]           4,820\n",
      "          Conv2d-179          [-1, 120, 28, 28]           3,000\n",
      "     MixedConv2d-180          [-1, 240, 28, 28]               0\n",
      "     BatchNorm2d-181          [-1, 240, 28, 28]             480\n",
      "            SiLU-182             [-1, 20, 1, 1]               0\n",
      "            SiLU-183          [-1, 240, 28, 28]               0\n",
      "          Conv2d-184             [-1, 20, 1, 1]           4,820\n",
      "          Conv2d-185            [-1, 240, 1, 1]           5,040\n",
      "            SiLU-186             [-1, 20, 1, 1]               0\n",
      "          Conv2d-187            [-1, 240, 1, 1]           5,040\n",
      "   SqueezeExcite-188          [-1, 240, 28, 28]               0\n",
      "   SqueezeExcite-189          [-1, 240, 28, 28]               0\n",
      "          Conv2d-190           [-1, 20, 28, 28]           2,400\n",
      "          Conv2d-191           [-1, 20, 28, 28]           2,400\n",
      "          Conv2d-192           [-1, 20, 28, 28]           2,400\n",
      "     MixedConv2d-193           [-1, 40, 28, 28]               0\n",
      "     BatchNorm2d-194           [-1, 40, 28, 28]              80\n",
      "InvertedResidual-195           [-1, 40, 28, 28]               0\n",
      "          Conv2d-196           [-1, 20, 28, 28]           2,400\n",
      "          Conv2d-197          [-1, 240, 28, 28]           9,600\n",
      "     BatchNorm2d-198          [-1, 240, 28, 28]             480\n",
      "     MixedConv2d-199           [-1, 40, 28, 28]               0\n",
      "            SiLU-200          [-1, 240, 28, 28]               0\n",
      "          Conv2d-201           [-1, 80, 14, 14]             720\n",
      "     BatchNorm2d-202           [-1, 40, 28, 28]              80\n",
      "          Conv2d-203           [-1, 80, 14, 14]           2,000\n",
      "InvertedResidual-204           [-1, 40, 28, 28]               0\n",
      "          Conv2d-205           [-1, 80, 14, 14]           3,920\n",
      "     MixedConv2d-206          [-1, 240, 14, 14]               0\n",
      "     BatchNorm2d-207          [-1, 240, 14, 14]             480\n",
      "          Conv2d-208          [-1, 120, 28, 28]           2,400\n",
      "            SiLU-209          [-1, 240, 14, 14]               0\n",
      "          Conv2d-210          [-1, 120, 28, 28]           2,400\n",
      "          Conv2d-211             [-1, 10, 1, 1]           2,410\n",
      "            SiLU-212             [-1, 10, 1, 1]               0\n",
      "     MixedConv2d-213          [-1, 240, 28, 28]               0\n",
      "          Conv2d-214            [-1, 240, 1, 1]           2,640\n",
      "   SqueezeExcite-215          [-1, 240, 14, 14]               0\n",
      "     BatchNorm2d-216          [-1, 240, 28, 28]             480\n",
      "          Conv2d-217           [-1, 40, 14, 14]           4,800\n",
      "          Conv2d-218           [-1, 40, 14, 14]           4,800\n",
      "            SiLU-219          [-1, 240, 28, 28]               0\n",
      "     MixedConv2d-220           [-1, 80, 14, 14]               0\n",
      "     BatchNorm2d-221           [-1, 80, 14, 14]             160\n",
      "InvertedResidual-222           [-1, 80, 14, 14]               0\n",
      "          Conv2d-223          [-1, 120, 28, 28]           1,080\n",
      "          Conv2d-224          [-1, 480, 14, 14]          38,400\n",
      "     BatchNorm2d-225          [-1, 480, 14, 14]             960\n",
      "          Conv2d-226          [-1, 120, 28, 28]           3,000\n",
      "            SiLU-227          [-1, 480, 14, 14]               0\n",
      "          Conv2d-228          [-1, 240, 14, 14]           2,160\n",
      "     MixedConv2d-229          [-1, 240, 28, 28]               0\n",
      "          Conv2d-230          [-1, 240, 14, 14]           6,000\n",
      "     MixedConv2d-231          [-1, 480, 14, 14]               0\n",
      "     BatchNorm2d-232          [-1, 240, 28, 28]             480\n",
      "     BatchNorm2d-233          [-1, 480, 14, 14]             960\n",
      "            SiLU-234          [-1, 480, 14, 14]               0\n",
      "            SiLU-235          [-1, 240, 28, 28]               0\n",
      "          Conv2d-236             [-1, 20, 1, 1]           9,620\n",
      "            SiLU-237             [-1, 20, 1, 1]               0\n",
      "          Conv2d-238            [-1, 480, 1, 1]          10,080\n",
      "          Conv2d-239             [-1, 20, 1, 1]           4,820\n",
      "   SqueezeExcite-240          [-1, 480, 14, 14]               0\n",
      "          Conv2d-241           [-1, 40, 14, 14]           9,600\n",
      "            SiLU-242             [-1, 20, 1, 1]               0\n",
      "          Conv2d-243           [-1, 40, 14, 14]           9,600\n",
      "     MixedConv2d-244           [-1, 80, 14, 14]               0\n",
      "     BatchNorm2d-245           [-1, 80, 14, 14]             160\n",
      "          Conv2d-246            [-1, 240, 1, 1]           5,040\n",
      "InvertedResidual-247           [-1, 80, 14, 14]               0\n",
      "          Conv2d-248          [-1, 480, 14, 14]          38,400\n",
      "     BatchNorm2d-249          [-1, 480, 14, 14]             960\n",
      "            SiLU-250          [-1, 480, 14, 14]               0\n",
      "   SqueezeExcite-251          [-1, 240, 28, 28]               0\n",
      "          Conv2d-252          [-1, 240, 14, 14]           2,160\n",
      "          Conv2d-253          [-1, 240, 14, 14]           6,000\n",
      "     MixedConv2d-254          [-1, 480, 14, 14]               0\n",
      "          Conv2d-255           [-1, 20, 28, 28]           2,400\n",
      "     BatchNorm2d-256          [-1, 480, 14, 14]             960\n",
      "            SiLU-257          [-1, 480, 14, 14]               0\n",
      "          Conv2d-258           [-1, 20, 28, 28]           2,400\n",
      "          Conv2d-259             [-1, 20, 1, 1]           9,620\n",
      "            SiLU-260             [-1, 20, 1, 1]               0\n",
      "     MixedConv2d-261           [-1, 40, 28, 28]               0\n",
      "          Conv2d-262            [-1, 480, 1, 1]          10,080\n",
      "   SqueezeExcite-263          [-1, 480, 14, 14]               0\n",
      "     BatchNorm2d-264           [-1, 40, 28, 28]              80\n",
      "          Conv2d-265           [-1, 40, 14, 14]           9,600\n",
      "          Conv2d-266           [-1, 40, 14, 14]           9,600\n",
      "InvertedResidual-267           [-1, 40, 28, 28]               0\n",
      "     MixedConv2d-268           [-1, 80, 14, 14]               0\n",
      "          Conv2d-269          [-1, 240, 28, 28]           9,600\n",
      "     BatchNorm2d-270           [-1, 80, 14, 14]             160\n",
      "InvertedResidual-271           [-1, 80, 14, 14]               0\n",
      "     BatchNorm2d-272          [-1, 240, 28, 28]             480\n",
      "          Conv2d-273          [-1, 240, 14, 14]           9,600\n",
      "          Conv2d-274          [-1, 240, 14, 14]           9,600\n",
      "     MixedConv2d-275          [-1, 480, 14, 14]               0\n",
      "            SiLU-276          [-1, 240, 28, 28]               0\n",
      "     BatchNorm2d-277          [-1, 480, 14, 14]             960\n",
      "          Conv2d-278           [-1, 80, 14, 14]             720\n",
      "            SiLU-279          [-1, 480, 14, 14]               0\n",
      "          Conv2d-280          [-1, 160, 14, 14]           1,440\n",
      "          Conv2d-281           [-1, 80, 14, 14]           2,000\n",
      "          Conv2d-282          [-1, 160, 14, 14]           4,000\n",
      "          Conv2d-283          [-1, 160, 14, 14]           7,840\n",
      "          Conv2d-284           [-1, 80, 14, 14]           3,920\n",
      "     MixedConv2d-285          [-1, 480, 14, 14]               0\n",
      "     BatchNorm2d-286          [-1, 480, 14, 14]             960\n",
      "     MixedConv2d-287          [-1, 240, 14, 14]               0\n",
      "            SiLU-288          [-1, 480, 14, 14]               0\n",
      "     BatchNorm2d-289          [-1, 240, 14, 14]             480\n",
      "          Conv2d-290             [-1, 40, 1, 1]          19,240\n",
      "            SiLU-291             [-1, 40, 1, 1]               0\n",
      "            SiLU-292          [-1, 240, 14, 14]               0\n",
      "          Conv2d-293            [-1, 480, 1, 1]          19,680\n",
      "   SqueezeExcite-294          [-1, 480, 14, 14]               0\n",
      "          Conv2d-295             [-1, 10, 1, 1]           2,410\n",
      "          Conv2d-296           [-1, 60, 14, 14]          14,400\n",
      "          Conv2d-297           [-1, 60, 14, 14]          14,400\n",
      "     MixedConv2d-298          [-1, 120, 14, 14]               0\n",
      "            SiLU-299             [-1, 10, 1, 1]               0\n",
      "     BatchNorm2d-300          [-1, 120, 14, 14]             240\n",
      "InvertedResidual-301          [-1, 120, 14, 14]               0\n",
      "          Conv2d-302          [-1, 180, 14, 14]          10,800\n",
      "          Conv2d-303            [-1, 240, 1, 1]           2,640\n",
      "          Conv2d-304          [-1, 180, 14, 14]          10,800\n",
      "     MixedConv2d-305          [-1, 360, 14, 14]               0\n",
      "   SqueezeExcite-306          [-1, 240, 14, 14]               0\n",
      "          Conv2d-307           [-1, 40, 14, 14]           4,800\n",
      "     BatchNorm2d-308          [-1, 360, 14, 14]             720\n",
      "          Conv2d-309           [-1, 40, 14, 14]           4,800\n",
      "            SiLU-310          [-1, 360, 14, 14]               0\n",
      "     MixedConv2d-311           [-1, 80, 14, 14]               0\n",
      "          Conv2d-312           [-1, 90, 14, 14]             810\n",
      "          Conv2d-313           [-1, 90, 14, 14]           2,250\n",
      "     BatchNorm2d-314           [-1, 80, 14, 14]             160\n",
      "          Conv2d-315           [-1, 90, 14, 14]           4,410\n",
      "InvertedResidual-316           [-1, 80, 14, 14]               0\n",
      "          Conv2d-317           [-1, 90, 14, 14]           7,290\n",
      "     MixedConv2d-318          [-1, 360, 14, 14]               0\n",
      "          Conv2d-319          [-1, 480, 14, 14]          38,400\n",
      "     BatchNorm2d-320          [-1, 360, 14, 14]             720\n",
      "            SiLU-321          [-1, 360, 14, 14]               0\n",
      "     BatchNorm2d-322          [-1, 480, 14, 14]             960\n",
      "          Conv2d-323             [-1, 60, 1, 1]          21,660\n",
      "            SiLU-324          [-1, 480, 14, 14]               0\n",
      "            SiLU-325             [-1, 60, 1, 1]               0\n",
      "          Conv2d-326            [-1, 360, 1, 1]          21,960\n",
      "          Conv2d-327          [-1, 240, 14, 14]           2,160\n",
      "   SqueezeExcite-328          [-1, 360, 14, 14]               0\n",
      "          Conv2d-329          [-1, 240, 14, 14]           6,000\n",
      "          Conv2d-330           [-1, 60, 14, 14]          10,800\n",
      "          Conv2d-331           [-1, 60, 14, 14]          10,800\n",
      "     MixedConv2d-332          [-1, 480, 14, 14]               0\n",
      "     MixedConv2d-333          [-1, 120, 14, 14]               0\n",
      "     BatchNorm2d-334          [-1, 480, 14, 14]             960\n",
      "     BatchNorm2d-335          [-1, 120, 14, 14]             240\n",
      "InvertedResidual-336          [-1, 120, 14, 14]               0\n",
      "          Conv2d-337          [-1, 180, 14, 14]          10,800\n",
      "            SiLU-338          [-1, 480, 14, 14]               0\n",
      "          Conv2d-339          [-1, 180, 14, 14]          10,800\n",
      "     MixedConv2d-340          [-1, 360, 14, 14]               0\n",
      "          Conv2d-341             [-1, 20, 1, 1]           9,620\n",
      "     BatchNorm2d-342          [-1, 360, 14, 14]             720\n",
      "            SiLU-343             [-1, 20, 1, 1]               0\n",
      "            SiLU-344          [-1, 360, 14, 14]               0\n",
      "          Conv2d-345            [-1, 480, 1, 1]          10,080\n",
      "          Conv2d-346           [-1, 90, 14, 14]             810\n",
      "          Conv2d-347           [-1, 90, 14, 14]           2,250\n",
      "          Conv2d-348           [-1, 90, 14, 14]           4,410\n",
      "   SqueezeExcite-349          [-1, 480, 14, 14]               0\n",
      "          Conv2d-350           [-1, 90, 14, 14]           7,290\n",
      "     MixedConv2d-351          [-1, 360, 14, 14]               0\n",
      "          Conv2d-352           [-1, 40, 14, 14]           9,600\n",
      "     BatchNorm2d-353          [-1, 360, 14, 14]             720\n",
      "            SiLU-354          [-1, 360, 14, 14]               0\n",
      "          Conv2d-355           [-1, 40, 14, 14]           9,600\n",
      "          Conv2d-356             [-1, 60, 1, 1]          21,660\n",
      "     MixedConv2d-357           [-1, 80, 14, 14]               0\n",
      "     BatchNorm2d-358           [-1, 80, 14, 14]             160\n",
      "            SiLU-359             [-1, 60, 1, 1]               0\n",
      "          Conv2d-360            [-1, 360, 1, 1]          21,960\n",
      "InvertedResidual-361           [-1, 80, 14, 14]               0\n",
      "   SqueezeExcite-362          [-1, 360, 14, 14]               0\n",
      "          Conv2d-363          [-1, 480, 14, 14]          38,400\n",
      "          Conv2d-364           [-1, 60, 14, 14]          10,800\n",
      "     BatchNorm2d-365          [-1, 480, 14, 14]             960\n",
      "          Conv2d-366           [-1, 60, 14, 14]          10,800\n",
      "     MixedConv2d-367          [-1, 120, 14, 14]               0\n",
      "            SiLU-368          [-1, 480, 14, 14]               0\n",
      "     BatchNorm2d-369          [-1, 120, 14, 14]             240\n",
      "InvertedResidual-370          [-1, 120, 14, 14]               0\n",
      "          Conv2d-371          [-1, 240, 14, 14]           2,160\n",
      "          Conv2d-372          [-1, 240, 14, 14]           6,000\n",
      "          Conv2d-373          [-1, 720, 14, 14]          86,400\n",
      "     MixedConv2d-374          [-1, 480, 14, 14]               0\n",
      "     BatchNorm2d-375          [-1, 480, 14, 14]             960\n",
      "     BatchNorm2d-376          [-1, 720, 14, 14]           1,440\n",
      "            SiLU-377          [-1, 720, 14, 14]               0\n",
      "            SiLU-378          [-1, 480, 14, 14]               0\n",
      "          Conv2d-379            [-1, 144, 7, 7]           1,296\n",
      "          Conv2d-380            [-1, 144, 7, 7]           3,600\n",
      "          Conv2d-381            [-1, 144, 7, 7]           7,056\n",
      "          Conv2d-382             [-1, 20, 1, 1]           9,620\n",
      "          Conv2d-383            [-1, 144, 7, 7]          11,664\n",
      "          Conv2d-384            [-1, 144, 7, 7]          17,424\n",
      "     MixedConv2d-385            [-1, 720, 7, 7]               0\n",
      "            SiLU-386             [-1, 20, 1, 1]               0\n",
      "     BatchNorm2d-387            [-1, 720, 7, 7]           1,440\n",
      "            SiLU-388            [-1, 720, 7, 7]               0\n",
      "          Conv2d-389            [-1, 480, 1, 1]          10,080\n",
      "          Conv2d-390             [-1, 60, 1, 1]          43,260\n",
      "            SiLU-391             [-1, 60, 1, 1]               0\n",
      "   SqueezeExcite-392          [-1, 480, 14, 14]               0\n",
      "          Conv2d-393            [-1, 720, 1, 1]          43,920\n",
      "   SqueezeExcite-394            [-1, 720, 7, 7]               0\n",
      "          Conv2d-395           [-1, 40, 14, 14]           9,600\n",
      "          Conv2d-396            [-1, 200, 7, 7]         144,000\n",
      "     BatchNorm2d-397            [-1, 200, 7, 7]             400\n",
      "          Conv2d-398           [-1, 40, 14, 14]           9,600\n",
      "InvertedResidual-399            [-1, 200, 7, 7]               0\n",
      "     MixedConv2d-400           [-1, 80, 14, 14]               0\n",
      "          Conv2d-401           [-1, 1200, 7, 7]         240,000\n",
      "     BatchNorm2d-402           [-1, 80, 14, 14]             160\n",
      "     BatchNorm2d-403           [-1, 1200, 7, 7]           2,400\n",
      "InvertedResidual-404           [-1, 80, 14, 14]               0\n",
      "          Conv2d-405          [-1, 240, 14, 14]           9,600\n",
      "            SiLU-406           [-1, 1200, 7, 7]               0\n",
      "          Conv2d-407          [-1, 240, 14, 14]           9,600\n",
      "          Conv2d-408            [-1, 300, 7, 7]           2,700\n",
      "     MixedConv2d-409          [-1, 480, 14, 14]               0\n",
      "          Conv2d-410            [-1, 300, 7, 7]           7,500\n",
      "     BatchNorm2d-411          [-1, 480, 14, 14]             960\n",
      "          Conv2d-412            [-1, 300, 7, 7]          14,700\n"
     ]
    },
    {
     "name": "stdout",
     "output_type": "stream",
     "text": [
      "          Conv2d-413            [-1, 300, 7, 7]          24,300\n",
      "            SiLU-414          [-1, 480, 14, 14]               0\n",
      "     MixedConv2d-415           [-1, 1200, 7, 7]               0\n",
      "          Conv2d-416          [-1, 160, 14, 14]           1,440\n",
      "     BatchNorm2d-417           [-1, 1200, 7, 7]           2,400\n",
      "          Conv2d-418          [-1, 160, 14, 14]           4,000\n",
      "            SiLU-419           [-1, 1200, 7, 7]               0\n",
      "          Conv2d-420          [-1, 160, 14, 14]           7,840\n",
      "          Conv2d-421            [-1, 100, 1, 1]         120,100\n",
      "     MixedConv2d-422          [-1, 480, 14, 14]               0\n",
      "     BatchNorm2d-423          [-1, 480, 14, 14]             960\n",
      "            SiLU-424            [-1, 100, 1, 1]               0\n",
      "          Conv2d-425           [-1, 1200, 1, 1]         121,200\n",
      "            SiLU-426          [-1, 480, 14, 14]               0\n",
      "   SqueezeExcite-427           [-1, 1200, 7, 7]               0\n",
      "          Conv2d-428             [-1, 40, 1, 1]          19,240\n",
      "          Conv2d-429            [-1, 100, 7, 7]          60,000\n",
      "          Conv2d-430            [-1, 100, 7, 7]          60,000\n",
      "            SiLU-431             [-1, 40, 1, 1]               0\n",
      "     MixedConv2d-432            [-1, 200, 7, 7]               0\n",
      "     BatchNorm2d-433            [-1, 200, 7, 7]             400\n",
      "          Conv2d-434            [-1, 480, 1, 1]          19,680\n",
      "InvertedResidual-435            [-1, 200, 7, 7]               0\n",
      "   SqueezeExcite-436          [-1, 480, 14, 14]               0\n",
      "          Conv2d-437           [-1, 1200, 7, 7]         240,000\n",
      "     BatchNorm2d-438           [-1, 1200, 7, 7]           2,400\n",
      "          Conv2d-439           [-1, 60, 14, 14]          14,400\n",
      "            SiLU-440           [-1, 1200, 7, 7]               0\n",
      "          Conv2d-441           [-1, 60, 14, 14]          14,400\n",
      "          Conv2d-442            [-1, 300, 7, 7]           2,700\n",
      "     MixedConv2d-443          [-1, 120, 14, 14]               0\n",
      "          Conv2d-444            [-1, 300, 7, 7]           7,500\n",
      "     BatchNorm2d-445          [-1, 120, 14, 14]             240\n",
      "          Conv2d-446            [-1, 300, 7, 7]          14,700\n",
      "InvertedResidual-447          [-1, 120, 14, 14]               0\n",
      "          Conv2d-448            [-1, 300, 7, 7]          24,300\n",
      "          Conv2d-449          [-1, 180, 14, 14]          10,800\n",
      "          Conv2d-450          [-1, 180, 14, 14]          10,800\n",
      "     MixedConv2d-451           [-1, 1200, 7, 7]               0\n",
      "     MixedConv2d-452          [-1, 360, 14, 14]               0\n",
      "     BatchNorm2d-453           [-1, 1200, 7, 7]           2,400\n",
      "     BatchNorm2d-454          [-1, 360, 14, 14]             720\n",
      "            SiLU-455           [-1, 1200, 7, 7]               0\n",
      "          Conv2d-456            [-1, 100, 1, 1]         120,100\n",
      "            SiLU-457          [-1, 360, 14, 14]               0\n",
      "          Conv2d-458           [-1, 90, 14, 14]             810\n",
      "            SiLU-459            [-1, 100, 1, 1]               0\n",
      "          Conv2d-460           [-1, 90, 14, 14]           2,250\n",
      "          Conv2d-461           [-1, 1200, 1, 1]         121,200\n",
      "          Conv2d-462           [-1, 90, 14, 14]           4,410\n",
      "   SqueezeExcite-463           [-1, 1200, 7, 7]               0\n",
      "          Conv2d-464            [-1, 100, 7, 7]          60,000\n",
      "          Conv2d-465           [-1, 90, 14, 14]           7,290\n",
      "          Conv2d-466            [-1, 100, 7, 7]          60,000\n",
      "     MixedConv2d-467          [-1, 360, 14, 14]               0\n",
      "     MixedConv2d-468            [-1, 200, 7, 7]               0\n",
      "     BatchNorm2d-469          [-1, 360, 14, 14]             720\n",
      "     BatchNorm2d-470            [-1, 200, 7, 7]             400\n",
      "InvertedResidual-471            [-1, 200, 7, 7]               0\n",
      "          Conv2d-472           [-1, 1536, 7, 7]         307,200\n",
      "     BatchNorm2d-473           [-1, 1536, 7, 7]           3,072\n",
      "            SiLU-474          [-1, 360, 14, 14]               0\n",
      "            ReLU-475           [-1, 1536, 7, 7]               0\n",
      "AdaptiveAvgPool2d-476           [-1, 1536, 1, 1]               0\n",
      "SelectAdaptivePool2d-477                 [-1, 1536]               0\n",
      "          Linear-478                  [-1, 512]         786,944\n",
      "    EfficientNet-479                  [-1, 512]               0\n",
      "          Conv2d-480             [-1, 60, 1, 1]          21,660\n",
      "     BatchNorm1d-481                  [-1, 512]           1,024\n",
      "            ReLU-482                  [-1, 512]               0\n",
      "         Dropout-483                  [-1, 512]               0\n",
      "          Linear-484                    [-1, 1]             513\n",
      "         Sigmoid-485                    [-1, 1]               0\n",
      "            SiLU-486             [-1, 60, 1, 1]               0\n",
      "          Linear-487                    [-1, 1]             513\n",
      "             Net-488         [[-1, 1], [-1, 1]]               0\n",
      "          Conv2d-489            [-1, 360, 1, 1]          21,960\n",
      "   SqueezeExcite-490          [-1, 360, 14, 14]               0\n",
      "          Conv2d-491           [-1, 60, 14, 14]          10,800\n",
      "          Conv2d-492           [-1, 60, 14, 14]          10,800\n",
      "     MixedConv2d-493          [-1, 120, 14, 14]               0\n",
      "     BatchNorm2d-494          [-1, 120, 14, 14]             240\n",
      "InvertedResidual-495          [-1, 120, 14, 14]               0\n",
      "          Conv2d-496          [-1, 180, 14, 14]          10,800\n",
      "          Conv2d-497          [-1, 180, 14, 14]          10,800\n",
      "     MixedConv2d-498          [-1, 360, 14, 14]               0\n",
      "     BatchNorm2d-499          [-1, 360, 14, 14]             720\n",
      "            SiLU-500          [-1, 360, 14, 14]               0\n",
      "          Conv2d-501           [-1, 90, 14, 14]             810\n",
      "          Conv2d-502           [-1, 90, 14, 14]           2,250\n",
      "          Conv2d-503           [-1, 90, 14, 14]           4,410\n",
      "          Conv2d-504           [-1, 90, 14, 14]           7,290\n",
      "     MixedConv2d-505          [-1, 360, 14, 14]               0\n",
      "     BatchNorm2d-506          [-1, 360, 14, 14]             720\n",
      "            SiLU-507          [-1, 360, 14, 14]               0\n",
      "          Conv2d-508             [-1, 60, 1, 1]          21,660\n",
      "            SiLU-509             [-1, 60, 1, 1]               0\n",
      "          Conv2d-510            [-1, 360, 1, 1]          21,960\n",
      "   SqueezeExcite-511          [-1, 360, 14, 14]               0\n",
      "          Conv2d-512           [-1, 60, 14, 14]          10,800\n",
      "          Conv2d-513           [-1, 60, 14, 14]          10,800\n",
      "     MixedConv2d-514          [-1, 120, 14, 14]               0\n",
      "     BatchNorm2d-515          [-1, 120, 14, 14]             240\n",
      "InvertedResidual-516          [-1, 120, 14, 14]               0\n",
      "          Conv2d-517          [-1, 720, 14, 14]          86,400\n",
      "     BatchNorm2d-518          [-1, 720, 14, 14]           1,440\n",
      "            SiLU-519          [-1, 720, 14, 14]               0\n",
      "          Conv2d-520            [-1, 144, 7, 7]           1,296\n",
      "          Conv2d-521            [-1, 144, 7, 7]           3,600\n",
      "          Conv2d-522            [-1, 144, 7, 7]           7,056\n",
      "          Conv2d-523            [-1, 144, 7, 7]          11,664\n",
      "          Conv2d-524            [-1, 144, 7, 7]          17,424\n",
      "     MixedConv2d-525            [-1, 720, 7, 7]               0\n",
      "     BatchNorm2d-526            [-1, 720, 7, 7]           1,440\n",
      "            SiLU-527            [-1, 720, 7, 7]               0\n",
      "          Conv2d-528             [-1, 60, 1, 1]          43,260\n",
      "            SiLU-529             [-1, 60, 1, 1]               0\n",
      "          Conv2d-530            [-1, 720, 1, 1]          43,920\n",
      "   SqueezeExcite-531            [-1, 720, 7, 7]               0\n",
      "          Conv2d-532            [-1, 200, 7, 7]         144,000\n",
      "     BatchNorm2d-533            [-1, 200, 7, 7]             400\n",
      "InvertedResidual-534            [-1, 200, 7, 7]               0\n",
      "          Conv2d-535           [-1, 1200, 7, 7]         240,000\n",
      "     BatchNorm2d-536           [-1, 1200, 7, 7]           2,400\n",
      "            SiLU-537           [-1, 1200, 7, 7]               0\n",
      "          Conv2d-538            [-1, 300, 7, 7]           2,700\n",
      "          Conv2d-539            [-1, 300, 7, 7]           7,500\n",
      "          Conv2d-540            [-1, 300, 7, 7]          14,700\n",
      "          Conv2d-541            [-1, 300, 7, 7]          24,300\n",
      "     MixedConv2d-542           [-1, 1200, 7, 7]               0\n",
      "     BatchNorm2d-543           [-1, 1200, 7, 7]           2,400\n",
      "            SiLU-544           [-1, 1200, 7, 7]               0\n",
      "          Conv2d-545            [-1, 100, 1, 1]         120,100\n",
      "            SiLU-546            [-1, 100, 1, 1]               0\n",
      "          Conv2d-547           [-1, 1200, 1, 1]         121,200\n",
      "   SqueezeExcite-548           [-1, 1200, 7, 7]               0\n",
      "          Conv2d-549            [-1, 100, 7, 7]          60,000\n",
      "          Conv2d-550            [-1, 100, 7, 7]          60,000\n",
      "     MixedConv2d-551            [-1, 200, 7, 7]               0\n",
      "     BatchNorm2d-552            [-1, 200, 7, 7]             400\n",
      "InvertedResidual-553            [-1, 200, 7, 7]               0\n",
      "          Conv2d-554           [-1, 1200, 7, 7]         240,000\n",
      "     BatchNorm2d-555           [-1, 1200, 7, 7]           2,400\n",
      "            SiLU-556           [-1, 1200, 7, 7]               0\n",
      "          Conv2d-557            [-1, 300, 7, 7]           2,700\n",
      "          Conv2d-558            [-1, 300, 7, 7]           7,500\n",
      "          Conv2d-559            [-1, 300, 7, 7]          14,700\n",
      "          Conv2d-560            [-1, 300, 7, 7]          24,300\n",
      "     MixedConv2d-561           [-1, 1200, 7, 7]               0\n",
      "     BatchNorm2d-562           [-1, 1200, 7, 7]           2,400\n",
      "            SiLU-563           [-1, 1200, 7, 7]               0\n",
      "          Conv2d-564            [-1, 100, 1, 1]         120,100\n",
      "            SiLU-565            [-1, 100, 1, 1]               0\n",
      "          Conv2d-566           [-1, 1200, 1, 1]         121,200\n",
      "   SqueezeExcite-567           [-1, 1200, 7, 7]               0\n",
      "          Conv2d-568            [-1, 100, 7, 7]          60,000\n",
      "          Conv2d-569            [-1, 100, 7, 7]          60,000\n",
      "     MixedConv2d-570            [-1, 200, 7, 7]               0\n",
      "     BatchNorm2d-571            [-1, 200, 7, 7]             400\n",
      "InvertedResidual-572            [-1, 200, 7, 7]               0\n",
      "          Conv2d-573           [-1, 1536, 7, 7]         307,200\n",
      "     BatchNorm2d-574           [-1, 1536, 7, 7]           3,072\n",
      "            ReLU-575           [-1, 1536, 7, 7]               0\n",
      "AdaptiveAvgPool2d-576           [-1, 1536, 1, 1]               0\n",
      "SelectAdaptivePool2d-577                 [-1, 1536]               0\n",
      "          Linear-578                  [-1, 512]         786,944\n",
      "    EfficientNet-579                  [-1, 512]               0\n",
      "     BatchNorm1d-580                  [-1, 512]           1,024\n",
      "            ReLU-581                  [-1, 512]               0\n",
      "         Dropout-582                  [-1, 512]               0\n",
      "          Linear-583                    [-1, 1]             513\n",
      "         Sigmoid-584                    [-1, 1]               0\n",
      "          Linear-585                    [-1, 1]             513\n",
      "             Net-586         [[-1, 1], [-1, 1]]               0\n",
      "================================================================\n",
      "Total params: 6,773,200\n",
      "Trainable params: 6,773,200\n",
      "Non-trainable params: 0\n",
      "----------------------------------------------------------------\n",
      "Input size (MB): 0.57\n",
      "Forward/backward pass size (MB): 368.64\n",
      "Params size (MB): 25.84\n",
      "Estimated Total Size (MB): 395.05\n",
      "----------------------------------------------------------------\n"
     ]
    }
   ],
   "source": [
    "summary(model, (3, 224, 224), device = 'cuda')"
   ]
  },
  {
   "cell_type": "code",
   "execution_count": null,
   "metadata": {},
   "outputs": [],
   "source": []
  }
 ],
 "metadata": {
  "kernelspec": {
   "display_name": "age_gender",
   "language": "python",
   "name": "age_gender"
  },
  "language_info": {
   "codemirror_mode": {
    "name": "ipython",
    "version": 3
   },
   "file_extension": ".py",
   "mimetype": "text/x-python",
   "name": "python",
   "nbconvert_exporter": "python",
   "pygments_lexer": "ipython3",
   "version": "3.8.2"
  }
 },
 "nbformat": 4,
 "nbformat_minor": 4
}
