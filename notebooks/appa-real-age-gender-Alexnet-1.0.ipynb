{
 "cells": [
  {
   "cell_type": "markdown",
   "metadata": {},
   "source": [
    "# Import necessary packages"
   ]
  },
  {
   "cell_type": "code",
   "execution_count": 1,
   "metadata": {},
   "outputs": [],
   "source": [
    "\n",
    "import os\n",
    "import glob\n",
    "import sys\n",
    "import random\n",
    "\n",
    "import matplotlib.pylab as plt\n",
    "from PIL import Image, ImageDraw\n",
    "\n",
    "import torch\n",
    "import torch.nn.functional as F\n",
    "import torch.nn as nn\n",
    "from torch.utils.data import Dataset, DataLoader\n",
    "import torchvision.transforms.functional as TF\n",
    "from torchvision import datasets, models, transforms\n",
    "from torch import optim\n",
    "from torch.optim.lr_scheduler import ReduceLROnPlateau\n",
    "\n",
    "import numpy as np\n",
    "\n",
    "from sklearn.model_selection import ShuffleSplit\n",
    "\n",
    "torch.manual_seed(0)\n",
    "np.random.seed(0)\n",
    "random.seed(0)\n",
    "\n",
    "%matplotlib inline\n",
    "\n",
    "sys.path.insert(0, '..')\n",
    "from src.models.utils import FaceDataset, initialize_backbone, get_list_backbones\n",
    "from src.models import experiment\n",
    "from src.models.experiment import Performance\n"
   ]
  },
  {
   "cell_type": "code",
   "execution_count": 2,
   "metadata": {},
   "outputs": [],
   "source": [
    "import matplotlib.pyplot as plt\n",
    "def show(img,label=None):\n",
    "    npimg = img.numpy().transpose((1,2,0))\n",
    "    plt.imshow(npimg)\n",
    "    if label is not None:\n",
    "        label = label.view(-1,2)\n",
    "        for point in label:\n",
    "            x,y= point\n",
    "            plt.plot(x,y,'b+',markersize=10)"
   ]
  },
  {
   "cell_type": "code",
   "execution_count": 3,
   "metadata": {},
   "outputs": [],
   "source": [
    "class Net(nn.Module):\n",
    "    def __init__(self, params_model):\n",
    "        super(Net, self).__init__()\n",
    "        \n",
    "        # Loading backbone architecture\n",
    "        self.backbone = params_model[\"backbone\"]\n",
    "        num_features = params_model[\"num_features\"]  \n",
    "        \n",
    "        self.share_head = nn.Sequential(            \n",
    "            nn.Dropout(p=0.5),\n",
    "            nn.Linear(num_features, 400),\n",
    "            nn.ReLU(inplace=True),\n",
    "            \n",
    "            nn.Dropout(p=0.5),\n",
    "            nn.Linear(400, 200),\n",
    "            nn.ReLU(inplace=True),\n",
    "        )\n",
    "      \n",
    "        # Plug our heads\n",
    "        self.gender_head = nn.Sequential(\n",
    "        nn.Linear(200, 1),\n",
    "        )\n",
    "        \n",
    "        self.age_head = nn.Sequential(\n",
    "        nn.Linear(200, 1),\n",
    "        )\n",
    "        \n",
    "        return None\n",
    "\n",
    "    def forward(self, x):\n",
    "        \n",
    "        f = self.backbone(x)\n",
    "        f = f.view(f.size(0), -1)\n",
    "        \n",
    "        f = self.share_head(f)\n",
    "\n",
    "        gender = torch.sigmoid(self.gender_head(f))\n",
    "        age = self.age_head(f)\n",
    "        \n",
    "        return age, gender"
   ]
  },
  {
   "cell_type": "code",
   "execution_count": 4,
   "metadata": {},
   "outputs": [],
   "source": [
    "def get_transformer(target_size):\n",
    "    data_transforms = {\n",
    "        'train': transforms.Compose([\n",
    "            transforms.Resize(target_size,interpolation=Image.NEAREST),\n",
    "            transforms.RandomHorizontalFlip(),\n",
    "            transforms.ToTensor(),\n",
    "            transforms.Normalize([0.485, 0.456, 0.406], [0.229, 0.224, 0.225])\n",
    "        ]),\n",
    "        'val': transforms.Compose([\n",
    "            transforms.Resize(target_size,interpolation=Image.NEAREST),\n",
    "            transforms.ToTensor(),\n",
    "            transforms.Normalize([0.485, 0.456, 0.406], [0.229, 0.224, 0.225])\n",
    "        ]),\n",
    "    }\n",
    "    \n",
    "    def train_transformer(image, label, params=None):\n",
    "        image = data_transforms[\"train\"](image)\n",
    "        return image, label\n",
    "    \n",
    "    def val_transformer(image, label, params=None):\n",
    "        image = data_transforms[\"val\"](image)\n",
    "        return image, label\n",
    "        \n",
    "    return train_transformer, val_transformer\n",
    "\n",
    "\n",
    "def get_data_loader(params_dl):\n",
    "    input_size = params_dl[\"input_size\"]\n",
    "    path2data = params_dl[\"path2data\"]\n",
    "    train_batch_size = params_dl[\"train_batch_size\"]\n",
    "    val_batch_size = params_dl[\"val_batch_size\"]\n",
    "    \n",
    "    # create data transformer\n",
    "    target_size = (input_size, input_size)    \n",
    "    train_transformer, val_transformer = get_transformer(target_size)\n",
    "\n",
    "    # create data set\n",
    "    train_ds = FaceDataset(path2data + \"train.csv\", train_transformer)\n",
    "    val_ds = FaceDataset(path2data + \"valid.csv\", val_transformer)\n",
    "    test_ds = FaceDataset(path2data + \"test.csv\", val_transformer)\n",
    "    \n",
    "    train_dl = DataLoader(train_ds, batch_size = train_batch_size, shuffle=True)\n",
    "    val_dl = DataLoader(val_ds, batch_size = val_batch_size, shuffle=False)\n",
    "    test_dl = DataLoader(test_ds, batch_size = val_batch_size, shuffle=False)\n",
    "    \n",
    "    return train_dl, val_dl, test_dl\n",
    "\n"
   ]
  },
  {
   "cell_type": "code",
   "execution_count": 5,
   "metadata": {},
   "outputs": [],
   "source": [
    "class CustomPerformance(Performance):\n",
    "    def __init__(self):\n",
    "        Performance.__init__(self)\n",
    "        self.gender_loss_func = nn.BCELoss(reduction=\"sum\")\n",
    "        self.age_loss_func = nn.MSELoss(reduction=\"sum\")\n",
    "        \n",
    "    def loss_function(self, predictions, targets):\n",
    "        age, gender = predictions\n",
    "        gender_targets = targets[:, 1].unsqueeze(1)\n",
    "        age_targets = targets[:, 0].unsqueeze(1)\n",
    "        \n",
    "        loss_age = self.age_loss_func(age, age_targets)\n",
    "        \n",
    "        loss_gender = self.gender_loss_func(gender, gender_targets)\n",
    "        \n",
    "        loss = loss_age + 50*loss_gender\n",
    "        \n",
    "        return loss\n",
    "\n",
    "    def metrics_function(self, predictions, targets):\n",
    "        age, gender = predictions\n",
    "        gender_targets = targets[:, 1].unsqueeze(1)\n",
    "        age_targets = targets[:, 0].unsqueeze(1)\n",
    "        \n",
    "        gender = gender > 0.5\n",
    "        acc_gender = (gender == gender_targets).sum()\n",
    "        \n",
    "        mae_age = torch.abs(age - age_targets).sum()\n",
    "        \n",
    "        return torch.tensor([acc_gender, mae_age])"
   ]
  },
  {
   "cell_type": "markdown",
   "metadata": {},
   "source": [
    "# Alexnet_backbone Investigation"
   ]
  },
  {
   "cell_type": "code",
   "execution_count": 6,
   "metadata": {},
   "outputs": [
    {
     "data": {
      "text/plain": [
       "['Mobilenet_v2',\n",
       " 'Restnet18',\n",
       " 'Alexnet',\n",
       " 'VGG11_bn',\n",
       " 'Squeezenet1_0',\n",
       " 'Densenet121']"
      ]
     },
     "execution_count": 6,
     "metadata": {},
     "output_type": "execute_result"
    }
   ],
   "source": [
    "get_list_backbones()\n"
   ]
  },
  {
   "cell_type": "code",
   "execution_count": 7,
   "metadata": {
    "scrolled": true
   },
   "outputs": [],
   "source": [
    "# get backbone \n",
    "backbone, input_size, num_features = initialize_backbone(backbone_name=\"Alexnet\", feature_extract=False, \n",
    "                                             use_pretrained=True)\n",
    "params_model={\n",
    "        \"backbone\": backbone,\n",
    "        \"num_features\": num_features,  \n",
    "            }\n",
    "\n",
    "# create model\n",
    "model = Net(params_model)\n",
    "device = torch.device(\"cuda\")\n",
    "model = nn.DataParallel(model)\n",
    "model = model.to(device)\n",
    "\n",
    "# create dataloaders\n",
    "path2data = \"/home/Data/appa-real/processed/\"\n",
    "params_dl = {\n",
    "    \"input_size\" : input_size,\n",
    "    \"path2data\" : path2data,\n",
    "    \"train_batch_size\" : 128,\n",
    "    \"val_batch_size\" : 256\n",
    "}\n",
    "train_dl, val_dl, test_dl = get_data_loader(params_dl)"
   ]
  },
  {
   "cell_type": "code",
   "execution_count": 8,
   "metadata": {},
   "outputs": [
    {
     "name": "stdout",
     "output_type": "stream",
     "text": [
      "torch.Size([128, 3, 224, 224]) torch.float32\n",
      "torch.Size([128, 2])\n",
      "torch.Size([256, 3, 224, 224]) torch.float32\n",
      "torch.Size([256, 2])\n",
      "torch.Size([256, 3, 224, 224]) torch.float32\n",
      "torch.Size([256, 2])\n"
     ]
    }
   ],
   "source": [
    "for img_b, label_b in train_dl:\n",
    "    print(img_b.shape,img_b.dtype)\n",
    "    print(label_b.shape)\n",
    "    break\n",
    "    \n",
    "for img_b, label_b in val_dl:\n",
    "    print(img_b.shape,img_b.dtype)\n",
    "    print(label_b.shape)\n",
    "    break\n",
    "\n",
    "for img_b, label_b in test_dl:\n",
    "    print(img_b.shape,img_b.dtype)\n",
    "    print(label_b.shape)\n",
    "    break"
   ]
  },
  {
   "cell_type": "code",
   "execution_count": 9,
   "metadata": {},
   "outputs": [
    {
     "name": "stdout",
     "output_type": "stream",
     "text": [
      "Epoch 0/39, current lr=0.0001\n",
      "Copied best model weights!\n",
      "train loss: 709.931152\n",
      "val loss: 375.504822\n",
      "Training epoch complete in 0m 49s\n",
      "----------\n",
      "Epoch 1/39, current lr=0.0001\n",
      "Copied best model weights!\n",
      "train loss: 309.147736\n",
      "val loss: 262.546478\n",
      "Training epoch complete in 0m 40s\n",
      "----------\n",
      "Epoch 2/39, current lr=0.0001\n",
      "Copied best model weights!\n",
      "train loss: 261.719452\n",
      "val loss: 240.559982\n",
      "Training epoch complete in 0m 40s\n",
      "----------\n",
      "Epoch 3/39, current lr=0.0001\n",
      "Copied best model weights!\n",
      "train loss: 223.755356\n",
      "val loss: 196.552521\n",
      "Training epoch complete in 0m 41s\n",
      "----------\n",
      "Epoch 4/39, current lr=0.0001\n",
      "Copied best model weights!\n",
      "train loss: 185.503922\n",
      "val loss: 164.598526\n",
      "Training epoch complete in 0m 43s\n",
      "----------\n",
      "Epoch 5/39, current lr=0.0001\n",
      "train loss: 166.221664\n",
      "val loss: 188.782913\n",
      "Training epoch complete in 0m 59s\n",
      "----------\n",
      "Epoch 6/39, current lr=0.0001\n",
      "Copied best model weights!\n",
      "train loss: 152.791687\n",
      "val loss: 148.044556\n",
      "Training epoch complete in 0m 51s\n",
      "----------\n",
      "Epoch 7/39, current lr=0.0001\n",
      "Copied best model weights!\n",
      "train loss: 154.955627\n",
      "val loss: 144.044037\n",
      "Training epoch complete in 0m 52s\n",
      "----------\n",
      "Epoch 8/39, current lr=0.0001\n",
      "Copied best model weights!\n",
      "train loss: 137.251266\n",
      "val loss: 137.659164\n",
      "Training epoch complete in 0m 46s\n",
      "----------\n",
      "Epoch 9/39, current lr=0.0001\n",
      "Copied best model weights!\n",
      "train loss: 136.925446\n",
      "val loss: 134.609985\n",
      "Training epoch complete in 0m 46s\n",
      "----------\n",
      "Epoch 10/39, current lr=0.0001\n",
      "train loss: 126.078300\n",
      "val loss: 171.227570\n",
      "Training epoch complete in 0m 41s\n",
      "----------\n",
      "Epoch 11/39, current lr=0.0001\n",
      "Copied best model weights!\n",
      "train loss: 118.218628\n",
      "val loss: 127.708031\n",
      "Training epoch complete in 0m 41s\n",
      "----------\n",
      "Epoch 12/39, current lr=0.0001\n",
      "train loss: 117.671471\n",
      "val loss: 130.334045\n",
      "Training epoch complete in 0m 39s\n",
      "----------\n",
      "Epoch 13/39, current lr=0.0001\n",
      "Copied best model weights!\n",
      "train loss: 109.152153\n",
      "val loss: 123.045563\n",
      "Training epoch complete in 0m 41s\n",
      "----------\n",
      "Epoch 14/39, current lr=0.0001\n",
      "train loss: 105.817238\n",
      "val loss: 163.815079\n",
      "Training epoch complete in 0m 44s\n",
      "----------\n",
      "Epoch 15/39, current lr=0.0001\n",
      "train loss: 103.442055\n",
      "val loss: 123.951424\n",
      "Training epoch complete in 0m 37s\n",
      "----------\n",
      "Epoch 16/39, current lr=0.0001\n",
      "Copied best model weights!\n",
      "train loss: 96.838028\n",
      "val loss: 117.833122\n",
      "Training epoch complete in 0m 33s\n",
      "----------\n",
      "Epoch 17/39, current lr=0.0001\n",
      "train loss: 104.781693\n",
      "val loss: 147.985703\n",
      "Training epoch complete in 0m 32s\n",
      "----------\n",
      "Epoch 18/39, current lr=0.0001\n",
      "train loss: 94.877693\n",
      "val loss: 129.998444\n",
      "Training epoch complete in 0m 37s\n",
      "----------\n",
      "Epoch 19/39, current lr=0.0001\n",
      "Copied best model weights!\n",
      "train loss: 83.019279\n",
      "val loss: 111.697021\n",
      "Training epoch complete in 0m 33s\n",
      "----------\n",
      "Epoch 20/39, current lr=0.0001\n",
      "Copied best model weights!\n",
      "train loss: 86.401527\n",
      "val loss: 107.423416\n",
      "Training epoch complete in 0m 49s\n",
      "----------\n",
      "Epoch 21/39, current lr=0.0001\n",
      "train loss: 81.625198\n",
      "val loss: 118.999039\n",
      "Training epoch complete in 0m 46s\n",
      "----------\n",
      "Epoch 22/39, current lr=0.0001\n",
      "train loss: 76.827927\n",
      "val loss: 118.814034\n",
      "Training epoch complete in 0m 48s\n",
      "----------\n",
      "Epoch 23/39, current lr=0.0001\n",
      "train loss: 75.633347\n",
      "val loss: 115.846710\n",
      "Training epoch complete in 0m 39s\n",
      "----------\n",
      "Epoch 24/39, current lr=0.0001\n",
      "train loss: 72.505913\n",
      "val loss: 109.060684\n",
      "Training epoch complete in 0m 34s\n",
      "----------\n",
      "Epoch 25/39, current lr=0.0001\n",
      "train loss: 69.627228\n",
      "val loss: 139.014603\n",
      "Training epoch complete in 0m 35s\n",
      "----------\n",
      "Epoch 26/39, current lr=0.0001\n",
      "train loss: 74.881119\n",
      "val loss: 109.600883\n",
      "Training epoch complete in 0m 34s\n",
      "----------\n",
      "Epoch 27/39, current lr=0.0001\n",
      "Copied best model weights!\n",
      "train loss: 72.698952\n",
      "val loss: 102.302155\n",
      "Training epoch complete in 0m 34s\n",
      "----------\n",
      "Epoch 28/39, current lr=0.0001\n",
      "train loss: 66.510124\n",
      "val loss: 103.841263\n",
      "Training epoch complete in 0m 35s\n",
      "----------\n",
      "Epoch 29/39, current lr=0.0001\n",
      "train loss: 60.899578\n",
      "val loss: 117.118896\n",
      "Training epoch complete in 0m 35s\n",
      "----------\n",
      "Epoch 30/39, current lr=0.0001\n",
      "train loss: 60.204506\n",
      "val loss: 112.674728\n",
      "Training epoch complete in 0m 33s\n",
      "----------\n",
      "Epoch 31/39, current lr=0.0001\n",
      "train loss: 55.214058\n",
      "val loss: 108.994751\n",
      "Training epoch complete in 0m 35s\n",
      "----------\n",
      "Epoch 32/39, current lr=0.0001\n",
      "train loss: 54.094105\n",
      "val loss: 113.852982\n",
      "Training epoch complete in 0m 39s\n",
      "----------\n",
      "Epoch 33/39, current lr=0.0001\n",
      "train loss: 60.436890\n",
      "val loss: 103.393196\n",
      "Training epoch complete in 0m 40s\n",
      "----------\n",
      "Epoch 34/39, current lr=0.0001\n",
      "train loss: 51.630367\n",
      "val loss: 114.132759\n",
      "Training epoch complete in 0m 45s\n",
      "----------\n",
      "Epoch 35/39, current lr=0.0001\n",
      "Copied best model weights!\n",
      "train loss: 49.067482\n",
      "val loss: 101.182030\n",
      "Training epoch complete in 0m 55s\n",
      "----------\n",
      "Epoch 36/39, current lr=0.0001\n",
      "train loss: 51.219250\n",
      "val loss: 101.794189\n",
      "Training epoch complete in 0m 51s\n",
      "----------\n",
      "Epoch 37/39, current lr=0.0001\n",
      "Copied best model weights!\n",
      "train loss: 46.434338\n",
      "val loss: 98.005470\n",
      "Training epoch complete in 0m 52s\n",
      "----------\n",
      "Epoch 38/39, current lr=0.0001\n",
      "train loss: 47.476231\n",
      "val loss: 123.530479\n",
      "Training epoch complete in 0m 51s\n",
      "----------\n",
      "Epoch 39/39, current lr=0.0001\n",
      "train loss: 45.035545\n",
      "val loss: 102.140907\n",
      "Training epoch complete in 0m 43s\n",
      "----------\n"
     ]
    }
   ],
   "source": [
    "opt = optim.Adam(model.parameters(), lr=1e-4)\n",
    "lr_scheduler = ReduceLROnPlateau(opt, mode='min',factor=0.5, patience=10,verbose=1)\n",
    "\n",
    "performance = CustomPerformance()\n",
    "num_epochs = 40\n",
    "path2models= \"../models/weights.pt\"\n",
    "params = experiment.Prams(num_epochs=num_epochs, path2weights=path2models, device=device,optimizer=opt, lr_scheduler=lr_scheduler, sanity_check=False)\n",
    "\n",
    "pipeline = experiment.Pipeline(model, train_dl, val_dl, performance, params)\n",
    "model, performance = pipeline.train_val()"
   ]
  },
  {
   "cell_type": "code",
   "execution_count": 10,
   "metadata": {},
   "outputs": [],
   "source": [
    "loss_hist, metrics_history = performance.loss_history, performance.metrics_history\n",
    "train_hist = torch.stack(metrics_history[\"train\"])\n",
    "val_hist = torch.stack(metrics_history[\"val\"])"
   ]
  },
  {
   "cell_type": "code",
   "execution_count": 11,
   "metadata": {},
   "outputs": [
    {
     "data": {
      "image/png": "[encoded data removed]",
      "text/plain": [
       "<Figure size 432x288 with 1 Axes>"
      ]
     },
     "metadata": {
      "needs_background": "light"
     },
     "output_type": "display_data"
    }
   ],
   "source": [
    "# Train-Validation Progress\n",
    "\n",
    "# plot loss progress\n",
    "plt.title(\"Loss\")\n",
    "plt.plot(range(1,num_epochs+1),loss_hist[\"train\"],label=\"train\")\n",
    "plt.plot(range(1,num_epochs+1),loss_hist[\"val\"],label=\"val\")\n",
    "plt.ylabel(\"Loss\")\n",
    "plt.xlabel(\"Training Epochs\")\n",
    "plt.legend()\n",
    "plt.show()"
   ]
  },
  {
   "cell_type": "code",
   "execution_count": 12,
   "metadata": {},
   "outputs": [
    {
     "data": {
      "image/png": "[encoded data removed]",
      "text/plain": [
       "<Figure size 432x288 with 1 Axes>"
      ]
     },
     "metadata": {
      "needs_background": "light"
     },
     "output_type": "display_data"
    }
   ],
   "source": [
    "# plot accuracy progress\n",
    "plt.title(\"Gender accuracy\")\n",
    "plt.plot(range(1,num_epochs+1),train_hist[:,0], label=\"train\")\n",
    "plt.plot(range(1,num_epochs+1),val_hist[:,0],label=\"val\")\n",
    "plt.ylabel(\"Acc\")\n",
    "plt.xlabel(\"Training Epochs\")\n",
    "plt.legend()\n",
    "plt.show()"
   ]
  },
  {
   "cell_type": "code",
   "execution_count": 13,
   "metadata": {},
   "outputs": [
    {
     "data": {
      "image/png": "[encoded data removed]",
      "text/plain": [
       "<Figure size 432x288 with 1 Axes>"
      ]
     },
     "metadata": {
      "needs_background": "light"
     },
     "output_type": "display_data"
    }
   ],
   "source": [
    "# plot accuracy progress\n",
    "plt.title(\"Age MAE\")\n",
    "plt.plot(range(1,num_epochs+1),train_hist[:,1], label=\"train\")\n",
    "plt.plot(range(1,num_epochs+1),val_hist[:,1],label=\"val\")\n",
    "plt.ylabel(\"MAE\")\n",
    "plt.xlabel(\"Training Epochs\")\n",
    "plt.legend()\n",
    "plt.show()"
   ]
  },
  {
   "cell_type": "code",
   "execution_count": 14,
   "metadata": {},
   "outputs": [],
   "source": [
    "loss_test, metrics_test = pipeline.test(test_dl)"
   ]
  },
  {
   "cell_type": "code",
   "execution_count": 15,
   "metadata": {},
   "outputs": [
    {
     "name": "stdout",
     "output_type": "stream",
     "text": [
      "tensor(0.9024)\n",
      "tensor(0.8747)\n",
      "tensor(0.8316)\n"
     ]
    }
   ],
   "source": [
    "# Gender Accuracy\n",
    "print(max(train_hist[:,0]))\n",
    "print(max(val_hist[:,0]))\n",
    "print(metrics_test[0])"
   ]
  },
  {
   "cell_type": "code",
   "execution_count": 16,
   "metadata": {},
   "outputs": [
    {
     "name": "stdout",
     "output_type": "stream",
     "text": [
      "tensor(4.4089)\n",
      "tensor(6.5981)\n",
      "tensor(8.1235)\n"
     ]
    }
   ],
   "source": [
    "# Age MAE\n",
    "print(min(train_hist[:,1]))\n",
    "print(min(val_hist[:,1]))\n",
    "print(metrics_test[1])"
   ]
  },
  {
   "cell_type": "code",
   "execution_count": 17,
   "metadata": {},
   "outputs": [
    {
     "name": "stdout",
     "output_type": "stream",
     "text": [
      "tensor(45.0355, device='cuda:0', grad_fn=<DivBackward0>)\n",
      "tensor(98.0055, device='cuda:0')\n",
      "tensor(141.4940, device='cuda:0')\n"
     ]
    }
   ],
   "source": [
    "# Loss\n",
    "print(min(loss_hist[\"train\"]))\n",
    "print(min(loss_hist[\"val\"]))\n",
    "print(loss_test)"
   ]
  }
 ],
 "metadata": {
  "kernelspec": {
   "display_name": "Python 3",
   "language": "python",
   "name": "python3"
  },
  "language_info": {
   "codemirror_mode": {
    "name": "ipython",
    "version": 3
   },
   "file_extension": ".py",
   "mimetype": "text/x-python",
   "name": "python",
   "nbconvert_exporter": "python",
   "pygments_lexer": "ipython3",
   "version": "3.8.5"
  }
 },
 "nbformat": 4,
 "nbformat_minor": 4
}
