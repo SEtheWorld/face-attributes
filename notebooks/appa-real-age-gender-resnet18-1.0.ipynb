{
 "cells": [
  {
   "cell_type": "markdown",
   "metadata": {},
   "source": [
    "# Import necessary packages"
   ]
  },
  {
   "cell_type": "code",
   "execution_count": 1,
   "metadata": {},
   "outputs": [],
   "source": [
    "\n",
    "import os\n",
    "import glob\n",
    "import sys\n",
    "import random\n",
    "\n",
    "import matplotlib.pylab as plt\n",
    "from PIL import Image, ImageDraw\n",
    "\n",
    "import torch\n",
    "import torch.nn.functional as F\n",
    "import torch.nn as nn\n",
    "from torch.utils.data import Dataset, DataLoader\n",
    "import torchvision.transforms.functional as TF\n",
    "from torchvision import datasets, models, transforms\n",
    "from torch import optim\n",
    "from torch.optim.lr_scheduler import ReduceLROnPlateau\n",
    "\n",
    "import numpy as np\n",
    "\n",
    "from sklearn.model_selection import ShuffleSplit\n",
    "\n",
    "torch.manual_seed(0)\n",
    "np.random.seed(0)\n",
    "random.seed(0)\n",
    "\n",
    "%matplotlib inline\n",
    "\n",
    "sys.path.insert(0, '..')\n",
    "from src.models.utils import FaceDataset, initialize_backbone, get_list_backbones\n",
    "from src.models import experiment\n",
    "from src.models.experiment import Performance\n"
   ]
  },
  {
   "cell_type": "code",
   "execution_count": 2,
   "metadata": {},
   "outputs": [],
   "source": [
    "import matplotlib.pyplot as plt\n",
    "def show(img,label=None):\n",
    "    npimg = img.numpy().transpose((1,2,0))\n",
    "    plt.imshow(npimg)\n",
    "    if label is not None:\n",
    "        label = label.view(-1,2)\n",
    "        for point in label:\n",
    "            x,y= point\n",
    "            plt.plot(x,y,'b+',markersize=10)"
   ]
  },
  {
   "cell_type": "code",
   "execution_count": 3,
   "metadata": {},
   "outputs": [],
   "source": [
    "class Net(nn.Module):\n",
    "    def __init__(self, params_model):\n",
    "        super(Net, self).__init__()\n",
    "        \n",
    "        # Loading backbone architecture\n",
    "        self.backbone = params_model[\"backbone\"]  \n",
    "        num_features = params_model[\"num_features\"]  \n",
    "        \n",
    "        # Plug our heads\n",
    "        self.gender_head = nn.Sequential(\n",
    "        nn.Dropout(p=0.5),\n",
    "        nn.Linear(num_features, 1)\n",
    "        )\n",
    "        \n",
    "        self.age_head = nn.Sequential(\n",
    "        nn.Dropout(p=0.5),\n",
    "        nn.Linear(num_features, 1)\n",
    "        )\n",
    "        \n",
    "        return None\n",
    "\n",
    "    def forward(self, x):\n",
    "        f = self.backbone(x)\n",
    "        f = f.view(f.size(0), -1)\n",
    "        gender = torch.sigmoid(self.gender_head(f))\n",
    "        age = self.age_head(f)\n",
    "        return age, gender"
   ]
  },
  {
   "cell_type": "code",
   "execution_count": 4,
   "metadata": {},
   "outputs": [],
   "source": [
    "def get_transformer(target_size):\n",
    "    data_transforms = {\n",
    "        'train': transforms.Compose([\n",
    "            transforms.Resize(target_size,interpolation=Image.NEAREST),\n",
    "            transforms.RandomHorizontalFlip(),\n",
    "            transforms.ToTensor(),\n",
    "            transforms.Normalize([0.485, 0.456, 0.406], [0.229, 0.224, 0.225])\n",
    "        ]),\n",
    "        'val': transforms.Compose([\n",
    "            transforms.Resize(target_size,interpolation=Image.NEAREST),\n",
    "            transforms.ToTensor(),\n",
    "            transforms.Normalize([0.485, 0.456, 0.406], [0.229, 0.224, 0.225])\n",
    "        ]),\n",
    "    }\n",
    "    \n",
    "    def train_transformer(image, label, params=None):\n",
    "        image = data_transforms[\"train\"](image)\n",
    "        return image, label\n",
    "    \n",
    "    def val_transformer(image, label, params=None):\n",
    "        image = data_transforms[\"val\"](image)\n",
    "        return image, label\n",
    "        \n",
    "    return train_transformer, val_transformer\n",
    "\n",
    "\n",
    "def get_data_loader(params_dl):\n",
    "    input_size = params_dl[\"input_size\"]\n",
    "    path2data = params_dl[\"path2data\"]\n",
    "    train_batch_size = params_dl[\"train_batch_size\"]\n",
    "    val_batch_size = params_dl[\"val_batch_size\"]\n",
    "    \n",
    "    # create data transformer\n",
    "    target_size = (input_size, input_size)    \n",
    "    train_transformer, val_transformer = get_transformer(target_size)\n",
    "\n",
    "    # create data set\n",
    "    train_ds = FaceDataset(path2data + \"train.csv\", train_transformer)\n",
    "    val_ds = FaceDataset(path2data + \"valid.csv\", val_transformer)\n",
    "    test_ds = FaceDataset(path2data + \"test.csv\", val_transformer)\n",
    "    \n",
    "    train_dl = DataLoader(train_ds, batch_size = train_batch_size, shuffle=True)\n",
    "    val_dl = DataLoader(val_ds, batch_size = val_batch_size, shuffle=False)\n",
    "    test_dl = DataLoader(test_ds, batch_size = val_batch_size, shuffle=False)\n",
    "    \n",
    "    return train_dl, val_dl, test_dl\n",
    "\n"
   ]
  },
  {
   "cell_type": "code",
   "execution_count": 5,
   "metadata": {},
   "outputs": [],
   "source": [
    "class CustomPerformance(Performance):\n",
    "    def __init__(self):\n",
    "        Performance.__init__(self)\n",
    "        self.gender_loss_func = nn.BCELoss(reduction=\"sum\")\n",
    "        self.age_loss_func = nn.MSELoss(reduction=\"sum\")\n",
    "        \n",
    "    def loss_function(self, predictions, targets):\n",
    "        age, gender = predictions\n",
    "        gender_targets = targets[:, 1].unsqueeze(1)\n",
    "        age_targets = targets[:, 0].unsqueeze(1)\n",
    "        \n",
    "        loss_age = self.age_loss_func(age, age_targets)\n",
    "        \n",
    "        loss_gender = self.gender_loss_func(gender, gender_targets)\n",
    "        \n",
    "        loss = loss_age + 50*loss_gender\n",
    "        \n",
    "        return loss\n",
    "\n",
    "    def metrics_function(self, predictions, targets):\n",
    "        age, gender = predictions\n",
    "        gender_targets = targets[:, 1].unsqueeze(1)\n",
    "        age_targets = targets[:, 0].unsqueeze(1)\n",
    "        \n",
    "        gender = gender > 0.5\n",
    "        acc_gender = (gender == gender_targets).sum()\n",
    "        \n",
    "        mae_age = torch.abs(age - age_targets).sum()\n",
    "        \n",
    "        return torch.tensor([acc_gender, mae_age])"
   ]
  },
  {
   "cell_type": "markdown",
   "metadata": {},
   "source": [
    "# Resnet18 Investigation"
   ]
  },
  {
   "cell_type": "code",
   "execution_count": 6,
   "metadata": {},
   "outputs": [
    {
     "data": {
      "text/plain": [
       "['Mobilenet_v2',\n",
       " 'Restnet18',\n",
       " 'Alexnet',\n",
       " 'VGG11_bn',\n",
       " 'Squeezenet1_0',\n",
       " 'Densenet121']"
      ]
     },
     "execution_count": 6,
     "metadata": {},
     "output_type": "execute_result"
    }
   ],
   "source": [
    "get_list_backbones()\n"
   ]
  },
  {
   "cell_type": "code",
   "execution_count": 7,
   "metadata": {
    "scrolled": true
   },
   "outputs": [],
   "source": [
    "# get backbone \n",
    "backbone, input_size, num_features = initialize_backbone(backbone_name=\"Resnet18\", feature_extract=False, \n",
    "                                             use_pretrained=True)\n",
    "params_model={\n",
    "        \"backbone\": backbone,\n",
    "        \"num_features\": num_features,  \n",
    "            }\n",
    "\n",
    "# create model\n",
    "model = Net(params_model)\n",
    "device = torch.device(\"cuda\")\n",
    "model = nn.DataParallel(model)\n",
    "model = model.to(device)\n",
    "\n",
    "# create dataloaders\n",
    "path2data = \"/home/Data/appa-real/processed/\"\n",
    "params_dl = {\n",
    "    \"input_size\" : input_size,\n",
    "    \"path2data\" : path2data,\n",
    "    \"train_batch_size\" : 128,\n",
    "    \"val_batch_size\" : 256\n",
    "}\n",
    "train_dl, val_dl, test_dl = get_data_loader(params_dl)"
   ]
  },
  {
   "cell_type": "code",
   "execution_count": 8,
   "metadata": {},
   "outputs": [
    {
     "name": "stdout",
     "output_type": "stream",
     "text": [
      "torch.Size([128, 3, 224, 224]) torch.float32\n",
      "torch.Size([128, 2])\n",
      "torch.Size([256, 3, 224, 224]) torch.float32\n",
      "torch.Size([256, 2])\n",
      "torch.Size([256, 3, 224, 224]) torch.float32\n",
      "torch.Size([256, 2])\n"
     ]
    }
   ],
   "source": [
    "for img_b, label_b in train_dl:\n",
    "    print(img_b.shape,img_b.dtype)\n",
    "    print(label_b.shape)\n",
    "    break\n",
    "    \n",
    "for img_b, label_b in val_dl:\n",
    "    print(img_b.shape,img_b.dtype)\n",
    "    print(label_b.shape)\n",
    "    break\n",
    "\n",
    "for img_b, label_b in test_dl:\n",
    "    print(img_b.shape,img_b.dtype)\n",
    "    print(label_b.shape)\n",
    "    break"
   ]
  },
  {
   "cell_type": "code",
   "execution_count": 9,
   "metadata": {},
   "outputs": [
    {
     "name": "stdout",
     "output_type": "stream",
     "text": [
      "Epoch 0/29, current lr=0.0001\n",
      "Copied best model weights!\n",
      "train loss: 1085.843262\n",
      "val loss: 1151.917847\n",
      "Training epoch complete in 0m 27s\n",
      "----------\n",
      "Epoch 1/29, current lr=0.0001\n",
      "Copied best model weights!\n",
      "train loss: 854.416565\n",
      "val loss: 664.174438\n",
      "Training epoch complete in 0m 22s\n",
      "----------\n",
      "Epoch 2/29, current lr=0.0001\n",
      "train loss: 699.456116\n",
      "val loss: 794.654480\n",
      "Training epoch complete in 0m 22s\n",
      "----------\n",
      "Epoch 3/29, current lr=0.0001\n",
      "Copied best model weights!\n",
      "train loss: 599.080933\n",
      "val loss: 641.710938\n",
      "Training epoch complete in 0m 22s\n",
      "----------\n",
      "Epoch 4/29, current lr=0.0001\n",
      "Copied best model weights!\n",
      "train loss: 515.432068\n",
      "val loss: 529.885559\n",
      "Training epoch complete in 0m 22s\n",
      "----------\n",
      "Epoch 5/29, current lr=0.0001\n",
      "Copied best model weights!\n",
      "train loss: 448.518768\n",
      "val loss: 478.336945\n",
      "Training epoch complete in 0m 22s\n",
      "----------\n",
      "Epoch 6/29, current lr=0.0001\n",
      "Copied best model weights!\n",
      "train loss: 386.053131\n",
      "val loss: 371.327667\n",
      "Training epoch complete in 0m 22s\n",
      "----------\n",
      "Epoch 7/29, current lr=0.0001\n",
      "Copied best model weights!\n",
      "train loss: 330.643524\n",
      "val loss: 322.218292\n",
      "Training epoch complete in 0m 22s\n",
      "----------\n",
      "Epoch 8/29, current lr=0.0001\n",
      "Copied best model weights!\n",
      "train loss: 285.687073\n",
      "val loss: 253.728790\n",
      "Training epoch complete in 0m 22s\n",
      "----------\n",
      "Epoch 9/29, current lr=0.0001\n",
      "train loss: 239.145782\n",
      "val loss: 319.731476\n",
      "Training epoch complete in 0m 22s\n",
      "----------\n",
      "Epoch 10/29, current lr=0.0001\n",
      "Copied best model weights!\n",
      "train loss: 207.035980\n",
      "val loss: 217.666061\n",
      "Training epoch complete in 0m 23s\n",
      "----------\n",
      "Epoch 11/29, current lr=0.0001\n",
      "Copied best model weights!\n",
      "train loss: 172.079056\n",
      "val loss: 183.374207\n",
      "Training epoch complete in 0m 22s\n",
      "----------\n",
      "Epoch 12/29, current lr=0.0001\n",
      "train loss: 145.707245\n",
      "val loss: 197.050888\n",
      "Training epoch complete in 0m 22s\n",
      "----------\n",
      "Epoch 13/29, current lr=0.0001\n",
      "train loss: 119.639847\n",
      "val loss: 216.408371\n",
      "Training epoch complete in 0m 22s\n",
      "----------\n",
      "Epoch 14/29, current lr=0.0001\n",
      "train loss: 99.170799\n",
      "val loss: 237.926025\n",
      "Training epoch complete in 0m 22s\n",
      "----------\n",
      "Epoch 15/29, current lr=0.0001\n",
      "Copied best model weights!\n",
      "train loss: 82.330292\n",
      "val loss: 110.023727\n",
      "Training epoch complete in 0m 22s\n",
      "----------\n",
      "Epoch 16/29, current lr=0.0001\n",
      "train loss: 68.361328\n",
      "val loss: 136.620850\n",
      "Training epoch complete in 0m 22s\n",
      "----------\n",
      "Epoch 17/29, current lr=0.0001\n",
      "Copied best model weights!\n",
      "train loss: 56.487293\n",
      "val loss: 95.694458\n",
      "Training epoch complete in 0m 22s\n",
      "----------\n",
      "Epoch 18/29, current lr=0.0001\n",
      "Copied best model weights!\n",
      "train loss: 46.850754\n",
      "val loss: 76.808586\n",
      "Training epoch complete in 0m 44s\n",
      "----------\n",
      "Epoch 19/29, current lr=0.0001\n",
      "train loss: 39.814259\n",
      "val loss: 86.871384\n",
      "Training epoch complete in 0m 34s\n",
      "----------\n",
      "Epoch 20/29, current lr=0.0001\n",
      "train loss: 33.768085\n",
      "val loss: 77.870697\n",
      "Training epoch complete in 0m 34s\n",
      "----------\n",
      "Epoch 21/29, current lr=0.0001\n",
      "train loss: 27.529118\n",
      "val loss: 81.214203\n",
      "Training epoch complete in 0m 35s\n",
      "----------\n",
      "Epoch 22/29, current lr=0.0001\n",
      "Copied best model weights!\n",
      "train loss: 24.627867\n",
      "val loss: 62.930763\n",
      "Training epoch complete in 0m 35s\n",
      "----------\n",
      "Epoch 23/29, current lr=0.0001\n",
      "train loss: 21.391129\n",
      "val loss: 68.521622\n",
      "Training epoch complete in 0m 35s\n",
      "----------\n",
      "Epoch 24/29, current lr=0.0001\n",
      "train loss: 19.397943\n",
      "val loss: 93.266197\n",
      "Training epoch complete in 0m 34s\n",
      "----------\n",
      "Epoch 25/29, current lr=0.0001\n",
      "train loss: 18.063486\n",
      "val loss: 81.466927\n",
      "Training epoch complete in 0m 35s\n",
      "----------\n",
      "Epoch 26/29, current lr=0.0001\n",
      "train loss: 18.467157\n",
      "val loss: 68.372452\n",
      "Training epoch complete in 0m 36s\n",
      "----------\n",
      "Epoch 27/29, current lr=0.0001\n",
      "train loss: 17.650166\n",
      "val loss: 65.049896\n",
      "Training epoch complete in 0m 34s\n",
      "----------\n",
      "Epoch 28/29, current lr=0.0001\n",
      "train loss: 15.246313\n",
      "val loss: 67.941933\n",
      "Training epoch complete in 0m 35s\n",
      "----------\n",
      "Epoch 29/29, current lr=0.0001\n",
      "train loss: 15.180288\n",
      "val loss: 66.702385\n",
      "Training epoch complete in 0m 34s\n",
      "----------\n"
     ]
    }
   ],
   "source": [
    "opt = optim.Adam(model.parameters(), lr=1e-4)\n",
    "lr_scheduler = ReduceLROnPlateau(opt, mode='min',factor=0.5, patience=10,verbose=1)\n",
    "\n",
    "performance = CustomPerformance()\n",
    "num_epochs = 30\n",
    "path2models= \"../models/weights.pt\"\n",
    "params = experiment.Prams(num_epochs=num_epochs, path2weights=path2models, device=device,optimizer=opt, lr_scheduler=lr_scheduler, sanity_check=False)\n",
    "\n",
    "pipeline = experiment.Pipeline(model, train_dl, val_dl, performance, params)\n",
    "model, performance = pipeline.train_val()"
   ]
  },
  {
   "cell_type": "code",
   "execution_count": 10,
   "metadata": {},
   "outputs": [],
   "source": [
    "loss_hist, metrics_history = performance.loss_history, performance.metrics_history\n",
    "train_hist = torch.stack(metrics_history[\"train\"])\n",
    "val_hist = torch.stack(metrics_history[\"val\"])"
   ]
  },
  {
   "cell_type": "code",
   "execution_count": 11,
   "metadata": {},
   "outputs": [
    {
     "data": {
      "image/png": "[encoded data removed]",
      "text/plain": [
       "<Figure size 432x288 with 1 Axes>"
      ]
     },
     "metadata": {
      "needs_background": "light"
     },
     "output_type": "display_data"
    }
   ],
   "source": [
    "# Train-Validation Progress\n",
    "\n",
    "# plot loss progress\n",
    "plt.title(\"Loss\")\n",
    "plt.plot(range(1,num_epochs+1),loss_hist[\"train\"],label=\"train\")\n",
    "plt.plot(range(1,num_epochs+1),loss_hist[\"val\"],label=\"val\")\n",
    "plt.ylabel(\"Loss\")\n",
    "plt.xlabel(\"Training Epochs\")\n",
    "plt.legend()\n",
    "plt.show()"
   ]
  },
  {
   "cell_type": "code",
   "execution_count": 12,
   "metadata": {},
   "outputs": [
    {
     "data": {
      "image/png": "[encoded data removed]",
      "text/plain": [
       "<Figure size 432x288 with 1 Axes>"
      ]
     },
     "metadata": {
      "needs_background": "light"
     },
     "output_type": "display_data"
    }
   ],
   "source": [
    "# plot accuracy progress\n",
    "plt.title(\"Gender accuracy\")\n",
    "plt.plot(range(1,num_epochs+1),train_hist[:,0], label=\"train\")\n",
    "plt.plot(range(1,num_epochs+1),val_hist[:,0],label=\"val\")\n",
    "plt.ylabel(\"Acc\")\n",
    "plt.xlabel(\"Training Epochs\")\n",
    "plt.legend()\n",
    "plt.show()"
   ]
  },
  {
   "cell_type": "code",
   "execution_count": 13,
   "metadata": {},
   "outputs": [
    {
     "data": {
      "image/png": "[encoded data removed]",
      "text/plain": [
       "<Figure size 432x288 with 1 Axes>"
      ]
     },
     "metadata": {
      "needs_background": "light"
     },
     "output_type": "display_data"
    }
   ],
   "source": [
    "# plot accuracy progress\n",
    "plt.title(\"Age MAE\")\n",
    "plt.plot(range(1,num_epochs+1),train_hist[:,1], label=\"train\")\n",
    "plt.plot(range(1,num_epochs+1),val_hist[:,1],label=\"val\")\n",
    "plt.ylabel(\"MAE\")\n",
    "plt.xlabel(\"Training Epochs\")\n",
    "plt.legend()\n",
    "plt.show()"
   ]
  },
  {
   "cell_type": "code",
   "execution_count": 14,
   "metadata": {},
   "outputs": [],
   "source": [
    "loss_test, metrics_test = pipeline.test(test_dl)"
   ]
  },
  {
   "cell_type": "code",
   "execution_count": 15,
   "metadata": {},
   "outputs": [
    {
     "name": "stdout",
     "output_type": "stream",
     "text": [
      "tensor(0.9972)\n",
      "tensor(0.9247)\n",
      "tensor(0.9095)\n"
     ]
    }
   ],
   "source": [
    "# Gender Accuracy\n",
    "print(max(train_hist[:,0]))\n",
    "print(max(val_hist[:,0]))\n",
    "print(metrics_test[0])"
   ]
  },
  {
   "cell_type": "code",
   "execution_count": 16,
   "metadata": {},
   "outputs": [
    {
     "name": "stdout",
     "output_type": "stream",
     "text": [
      "tensor(2.9508)\n",
      "tensor(4.8732)\n",
      "tensor(5.9504)\n"
     ]
    }
   ],
   "source": [
    "# Age MAE\n",
    "print(min(train_hist[:,1]))\n",
    "print(min(val_hist[:,1]))\n",
    "print(metrics_test[1])"
   ]
  },
  {
   "cell_type": "code",
   "execution_count": 17,
   "metadata": {},
   "outputs": [
    {
     "name": "stdout",
     "output_type": "stream",
     "text": [
      "tensor(15.1803, device='cuda:0', grad_fn=<DivBackward0>)\n",
      "tensor(62.9308, device='cuda:0')\n",
      "tensor(81.8075, device='cuda:0')\n"
     ]
    }
   ],
   "source": [
    "# Loss\n",
    "print(min(loss_hist[\"train\"]))\n",
    "print(min(loss_hist[\"val\"]))\n",
    "print(loss_test)"
   ]
  }
 ],
 "metadata": {
  "kernelspec": {
   "display_name": "Python 3",
   "language": "python",
   "name": "python3"
  },
  "language_info": {
   "codemirror_mode": {
    "name": "ipython",
    "version": 3
   },
   "file_extension": ".py",
   "mimetype": "text/x-python",
   "name": "python",
   "nbconvert_exporter": "python",
   "pygments_lexer": "ipython3",
   "version": "3.8.5"
  }
 },
 "nbformat": 4,
 "nbformat_minor": 4
}
